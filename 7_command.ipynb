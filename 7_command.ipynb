{
 "cells": [
  {
   "cell_type": "code",
   "execution_count": 1,
   "metadata": {
    "collapsed": false
   },
   "outputs": [
    {
     "name": "stdout",
     "output_type": "stream",
     "text": [
      "Installed plantuml_magics.py. To use it, type:\n",
      "  %load_ext plantuml_magics\n"
     ]
    },
    {
     "name": "stderr",
     "output_type": "stream",
     "text": [
      "C:\\Anaconda\\lib\\site-packages\\IPython\\core\\magics\\extension.py:47: UserWarning: %install_ext` is deprecated, please distribute your extension(s)as a python packages.\n",
      "  \"as a python packages.\", UserWarning)\n"
     ]
    }
   ],
   "source": [
    "%install_ext https://raw.githubusercontent.com/sberke/ipython-plantuml/master/plantuml_magics.py"
   ]
  },
  {
   "cell_type": "code",
   "execution_count": 2,
   "metadata": {
    "collapsed": true
   },
   "outputs": [],
   "source": [
    "\n",
    "%load_ext plantuml_magics\n"
   ]
  },
  {
   "cell_type": "code",
   "execution_count": 3,
   "metadata": {
    "collapsed": false
   },
   "outputs": [
    {
     "data": {
      "text/plain": [
       "['.\\\\plantuml.jar']"
      ]
     },
     "execution_count": 3,
     "metadata": {},
     "output_type": "execute_result"
    }
   ],
   "source": [
    "import glob\n",
    "glob.glob(r'./*.jar')"
   ]
  },
  {
   "cell_type": "code",
   "execution_count": 15,
   "metadata": {
    "collapsed": false
   },
   "outputs": [
    {
     "data": {
      "image/svg+xml": [
       "<svg height=\"218px\" style=\"width:349px;height:218px;\" version=\"1.1\" viewBox=\"0 0 349 218\" width=\"349px\" xmlns=\"http://www.w3.org/2000/svg\" xmlns:xlink=\"http://www.w3.org/1999/xlink\"><defs><filter height=\"300%\" id=\"f1\" width=\"300%\" x=\"-1\" y=\"-1\"><feGaussianBlur result=\"blurOut\" stdDeviation=\"2.0\"/><feColorMatrix in=\"blurOut\" result=\"blurOut2\" type=\"matrix\" values=\"0 0 0 0 0 0 0 0 0 0 0 0 0 0 0 0 0 0 .4 0\"/><feOffset dx=\"4.0\" dy=\"4.0\" in=\"blurOut2\" result=\"blurOut3\"/><feBlend in=\"SourceGraphic\" in2=\"blurOut3\" mode=\"normal\"/></filter></defs><g><rect fill=\"#FEFECE\" filter=\"url(#f1)\" height=\"78.2178\" style=\"stroke: #A80036; stroke-width: 1.5;\" width=\"96\" x=\"244\" y=\"8\"/><ellipse cx=\"261.25\" cy=\"24\" fill=\"#B4A7E5\" rx=\"11\" ry=\"11\" style=\"stroke: #A80036; stroke-width: 1.0;\"/><path d=\"M258.9531,18.125 L258.9531,29.75 Q258.9531,30 259.1094,30.1563 Q259.25,30.2969 260.4688,30.2969 Q260.6719,30.2969 260.8125,30.1719 Q260.9844,30.0156 260.9844,29.75 L260.9844,18.0781 Q260.9844,17.8125 260.8125,17.6719 Q260.5938,17.4531 259.4688,17.5313 Q259.25,17.5313 259.1094,17.6875 Q258.9531,17.8438 258.9531,18.125 Z \"/><text fill=\"#000000\" font-family=\"sans-serif\" font-size=\"12\" font-style=\"italic\" lengthAdjust=\"spacingAndGlyphs\" textLength=\"59\" x=\"275.75\" y=\"29.6045\">Command</text><line style=\"stroke: #A80036; stroke-width: 1.5;\" x1=\"245\" x2=\"339\" y1=\"40\" y2=\"40\"/><line style=\"stroke: #A80036; stroke-width: 1.5;\" x1=\"245\" x2=\"339\" y1=\"48\" y2=\"48\"/><ellipse cx=\"255\" cy=\"61.0544\" fill=\"#84BE84\" rx=\"3\" ry=\"3\" style=\"stroke: #038048; stroke-width: 1.0;\"/><text fill=\"#000000\" font-family=\"sans-serif\" font-size=\"11\" lengthAdjust=\"spacingAndGlyphs\" textLength=\"70\" x=\"264\" y=\"64.6919\">execute():void</text><ellipse cx=\"255\" cy=\"76.1633\" fill=\"#84BE84\" rx=\"3\" ry=\"3\" style=\"stroke: #038048; stroke-width: 1.0;\"/><text fill=\"#000000\" font-family=\"sans-serif\" font-size=\"11\" lengthAdjust=\"spacingAndGlyphs\" textLength=\"55\" x=\"264\" y=\"79.8008\">undo():void</text><rect fill=\"#FEFECE\" filter=\"url(#f1)\" height=\"48\" style=\"stroke: #A80036; stroke-width: 1.5;\" width=\"141\" x=\"194.5\" y=\"153.5\"/><ellipse cx=\"209.5\" cy=\"169.5\" fill=\"#ADD1B2\" rx=\"11\" ry=\"11\" style=\"stroke: #A80036; stroke-width: 1.0;\"/><path d=\"M209.0625,163.0156 Q206.3281,163.0156 205.25,164.6406 Q204.1094,166.3594 204.1094,169.2813 Q204.1094,172.5781 205.2656,174.2813 Q206.25,175.7813 208.8594,175.7813 Q210.4375,175.7813 211.3125,174.9531 Q212.2969,174 212.4375,171.875 Q212.4375,171.5781 212.2656,171.4063 Q212.1406,171.25 211.9219,171.2344 Q210.7031,171.2344 210.5469,171.3594 Q210.375,171.5156 210.375,171.7813 Q210.3438,173.2656 209.6875,174.0781 Q209.0781,174.875 209,174.875 Q207.6719,174.875 206.8906,173.2813 Q206.1406,171.7344 206.1406,169.25 Q206.1406,166.625 207.0781,165.1719 Q207.9063,163.9219 209.1875,163.9219 Q209.1875,163.9219 209.5313,164.5469 Q210.1563,165.2188 210.2969,166.375 Q210.4063,166.9531 211.875,166.7344 Q212.4063,166.6563 212.375,166.2344 Q212.2031,164.7969 211.4844,163.9844 Q210.625,163.0156 209.0625,163.0156 Z \"/><text fill=\"#000000\" font-family=\"sans-serif\" font-size=\"12\" lengthAdjust=\"spacingAndGlyphs\" textLength=\"109\" x=\"223.5\" y=\"175.1045\">ConcreteCommand</text><line style=\"stroke: #A80036; stroke-width: 1.5;\" x1=\"195.5\" x2=\"334.5\" y1=\"185.5\" y2=\"185.5\"/><line style=\"stroke: #A80036; stroke-width: 1.5;\" x1=\"195.5\" x2=\"334.5\" y1=\"193.5\" y2=\"193.5\"/><rect fill=\"#FEFECE\" filter=\"url(#f1)\" height=\"63.1089\" style=\"stroke: #A80036; stroke-width: 1.5;\" width=\"80\" x=\"25\" y=\"146\"/><ellipse cx=\"40\" cy=\"162\" fill=\"#ADD1B2\" rx=\"11\" ry=\"11\" style=\"stroke: #A80036; stroke-width: 1.0;\"/><path d=\"M39.5625,155.5156 Q36.8281,155.5156 35.75,157.1406 Q34.6094,158.8594 34.6094,161.7813 Q34.6094,165.0781 35.7656,166.7813 Q36.75,168.2813 39.3594,168.2813 Q40.9375,168.2813 41.8125,167.4531 Q42.7969,166.5 42.9375,164.375 Q42.9375,164.0781 42.7656,163.9063 Q42.6406,163.75 42.4219,163.7344 Q41.2031,163.7344 41.0469,163.8594 Q40.875,164.0156 40.875,164.2813 Q40.8438,165.7656 40.1875,166.5781 Q39.5781,167.375 39.5,167.375 Q38.1719,167.375 37.3906,165.7813 Q36.6406,164.2344 36.6406,161.75 Q36.6406,159.125 37.5781,157.6719 Q38.4063,156.4219 39.6875,156.4219 Q39.6875,156.4219 40.0313,157.0469 Q40.6563,157.7188 40.7969,158.875 Q40.9063,159.4531 42.375,159.2344 Q42.9063,159.1563 42.875,158.7344 Q42.7031,157.2969 41.9844,156.4844 Q41.125,155.5156 39.5625,155.5156 Z \"/><text fill=\"#000000\" font-family=\"sans-serif\" font-size=\"12\" lengthAdjust=\"spacingAndGlyphs\" textLength=\"48\" x=\"54\" y=\"167.6045\">Receiver</text><line style=\"stroke: #A80036; stroke-width: 1.5;\" x1=\"26\" x2=\"104\" y1=\"178\" y2=\"178\"/><line style=\"stroke: #A80036; stroke-width: 1.5;\" x1=\"26\" x2=\"104\" y1=\"186\" y2=\"186\"/><ellipse cx=\"36\" cy=\"199.0544\" fill=\"#84BE84\" rx=\"3\" ry=\"3\" style=\"stroke: #038048; stroke-width: 1.0;\"/><text fill=\"#000000\" font-family=\"sans-serif\" font-size=\"11\" lengthAdjust=\"spacingAndGlyphs\" textLength=\"37\" x=\"45\" y=\"202.6919\">action()</text><rect fill=\"#FEFECE\" filter=\"url(#f1)\" height=\"48\" style=\"stroke: #A80036; stroke-width: 1.5;\" width=\"64\" x=\"6\" y=\"23\"/><ellipse cx=\"21\" cy=\"39\" fill=\"#ADD1B2\" rx=\"11\" ry=\"11\" style=\"stroke: #A80036; stroke-width: 1.0;\"/><path d=\"M20.5625,32.5156 Q17.8281,32.5156 16.75,34.1406 Q15.6094,35.8594 15.6094,38.7813 Q15.6094,42.0781 16.7656,43.7813 Q17.75,45.2813 20.3594,45.2813 Q21.9375,45.2813 22.8125,44.4531 Q23.7969,43.5 23.9375,41.375 Q23.9375,41.0781 23.7656,40.9063 Q23.6406,40.75 23.4219,40.7344 Q22.2031,40.7344 22.0469,40.8594 Q21.875,41.0156 21.875,41.2813 Q21.8438,42.7656 21.1875,43.5781 Q20.5781,44.375 20.5,44.375 Q19.1719,44.375 18.3906,42.7813 Q17.6406,41.2344 17.6406,38.75 Q17.6406,36.125 18.5781,34.6719 Q19.4063,33.4219 20.6875,33.4219 Q20.6875,33.4219 21.0313,34.0469 Q21.6563,34.7188 21.7969,35.875 Q21.9063,36.4531 23.375,36.2344 Q23.9063,36.1563 23.875,35.7344 Q23.7031,34.2969 22.9844,33.4844 Q22.125,32.5156 20.5625,32.5156 Z \"/><text fill=\"#000000\" font-family=\"sans-serif\" font-size=\"12\" lengthAdjust=\"spacingAndGlyphs\" textLength=\"32\" x=\"35\" y=\"44.6045\">Client</text><line style=\"stroke: #A80036; stroke-width: 1.5;\" x1=\"7\" x2=\"69\" y1=\"55\" y2=\"55\"/><line style=\"stroke: #A80036; stroke-width: 1.5;\" x1=\"7\" x2=\"69\" y1=\"63\" y2=\"63\"/><rect fill=\"#FEFECE\" filter=\"url(#f1)\" height=\"78.2178\" style=\"stroke: #A80036; stroke-width: 1.5;\" width=\"104\" x=\"105\" y=\"8\"/><ellipse cx=\"134.85\" cy=\"24\" fill=\"#ADD1B2\" rx=\"11\" ry=\"11\" style=\"stroke: #A80036; stroke-width: 1.0;\"/><path d=\"M134.4125,17.5156 Q131.6781,17.5156 130.6,19.1406 Q129.4594,20.8594 129.4594,23.7813 Q129.4594,27.0781 130.6156,28.7813 Q131.6,30.2813 134.2094,30.2813 Q135.7875,30.2813 136.6625,29.4531 Q137.6469,28.5 137.7875,26.375 Q137.7875,26.0781 137.6156,25.9063 Q137.4906,25.75 137.2719,25.7344 Q136.0531,25.7344 135.8969,25.8594 Q135.725,26.0156 135.725,26.2813 Q135.6938,27.7656 135.0375,28.5781 Q134.4281,29.375 134.35,29.375 Q133.0219,29.375 132.2406,27.7813 Q131.4906,26.2344 131.4906,23.75 Q131.4906,21.125 132.4281,19.6719 Q133.2563,18.4219 134.5375,18.4219 Q134.5375,18.4219 134.8813,19.0469 Q135.5063,19.7188 135.6469,20.875 Q135.7563,21.4531 137.225,21.2344 Q137.7563,21.1563 137.725,20.7344 Q137.5531,19.2969 136.8344,18.4844 Q135.975,17.5156 134.4125,17.5156 Z \"/><text fill=\"#000000\" font-family=\"sans-serif\" font-size=\"12\" lengthAdjust=\"spacingAndGlyphs\" textLength=\"39\" x=\"152.15\" y=\"29.6045\">Invoker</text><line style=\"stroke: #A80036; stroke-width: 1.5;\" x1=\"106\" x2=\"208\" y1=\"40\" y2=\"40\"/><line style=\"stroke: #A80036; stroke-width: 1.5;\" x1=\"106\" x2=\"208\" y1=\"48\" y2=\"48\"/><ellipse cx=\"116\" cy=\"61.0544\" fill=\"#84BE84\" rx=\"3\" ry=\"3\" style=\"stroke: #038048; stroke-width: 1.0;\"/><text fill=\"#000000\" font-family=\"sans-serif\" font-size=\"11\" lengthAdjust=\"spacingAndGlyphs\" textLength=\"70\" x=\"125\" y=\"64.6919\">setCommand()</text><ellipse cx=\"116\" cy=\"76.1633\" fill=\"#84BE84\" rx=\"3\" ry=\"3\" style=\"stroke: #038048; stroke-width: 1.0;\"/><text fill=\"#000000\" font-family=\"sans-serif\" font-size=\"11\" lengthAdjust=\"spacingAndGlyphs\" textLength=\"78\" x=\"125\" y=\"79.8008\">buttonPressed()</text><path d=\"M279.821,105.963 C276.316,122.6436 272.691,139.8945 269.904,153.1609 \" fill=\"none\" style=\"stroke: #A80036; stroke-width: 1.0; stroke-dasharray: 7.0,7.0;\"/><polygon fill=\"none\" points=\"273.009,104.34,283.972,86.206,286.71,107.218,273.009,104.34\" style=\"stroke: #A80036; stroke-width: 1.0;\"/><path d=\"M110.464,177.5 C138.468,177.5 166.473,177.5 194.478,177.5 \" fill=\"none\" style=\"stroke: #A80036; stroke-width: 1.0;\"/><polygon fill=\"#A80036\" points=\"105.2344,177.5,114.2344,181.5,110.2344,177.5,114.2344,173.5,105.2344,177.5\" style=\"stroke: #A80036; stroke-width: 1.0;\"/><path d=\"M42.8895,71.27 C46.9584,90.635 52.8183,118.5242 57.4833,140.7261 \" fill=\"none\" style=\"stroke: #A80036; stroke-width: 1.0;\"/><polygon fill=\"#A80036\" points=\"58.5199,145.6598,60.5835,136.0296,57.4916,140.7667,52.7545,137.6748,58.5199,145.6598\" style=\"stroke: #A80036; stroke-width: 1.0;\"/><path d=\"M70.0742,47 C79.9054,47 89.7365,47 99.5677,47 \" fill=\"none\" style=\"stroke: #A80036; stroke-width: 1.0;\"/><polygon fill=\"#A80036\" points=\"104.7087,47,95.7087,43,99.7087,47,95.7087,51,104.7087,47\" style=\"stroke: #A80036; stroke-width: 1.0;\"/><path d=\"M209.207,47 C219.03,47 228.853,47 238.675,47 \" fill=\"none\" style=\"stroke: #A80036; stroke-width: 1.0;\"/><polygon fill=\"#A80036\" points=\"243.812,47,234.812,43,238.812,47,234.812,51,243.812,47\" style=\"stroke: #A80036; stroke-width: 1.0;\"/></g></svg>"
      ],
      "text/plain": [
       "<IPython.core.display.SVG object>"
      ]
     },
     "execution_count": 15,
     "metadata": {},
     "output_type": "execute_result"
    }
   ],
   "source": [
    "%%plantuml\n",
    "@startuml\n",
    "Interface Command{\n",
    "    +execute():void\n",
    "    +undo():void\n",
    "    }\n",
    "class ConcreteCommand\n",
    "class Receiver{\n",
    "    +action()\n",
    "}\n",
    "class Client\n",
    "class Invoker{\n",
    "    +setCommand()\n",
    "    +buttonPressed()\n",
    "}\n",
    "Command <|.. ConcreteCommand\n",
    "ConcreteCommand -left-> Receiver\n",
    "Client --> Receiver\n",
    "Client -right-> Invoker\n",
    "Invoker -right->Command\n",
    "\n",
    "@enduml"
   ]
  },
  {
   "cell_type": "code",
   "execution_count": 6,
   "metadata": {
    "collapsed": false
   },
   "outputs": [
    {
     "data": {
      "image/svg+xml": [
       "<svg height=\"321px\" style=\"width:465px;height:321px;\" version=\"1.1\" viewBox=\"0 0 465 321\" width=\"465px\" xmlns=\"http://www.w3.org/2000/svg\" xmlns:xlink=\"http://www.w3.org/1999/xlink\"><defs><filter height=\"300%\" id=\"f1\" width=\"300%\" x=\"-1\" y=\"-1\"><feGaussianBlur result=\"blurOut\" stdDeviation=\"2.0\"/><feColorMatrix in=\"blurOut\" result=\"blurOut2\" type=\"matrix\" values=\"0 0 0 0 0 0 0 0 0 0 0 0 0 0 0 0 0 0 .4 0\"/><feOffset dx=\"4.0\" dy=\"4.0\" in=\"blurOut2\" result=\"blurOut3\"/><feBlend in=\"SourceGraphic\" in2=\"blurOut3\" mode=\"normal\"/></filter></defs><g><line style=\"stroke: #A80036; stroke-width: 1.0;\" x1=\"35\" x2=\"35\" y1=\"41.2295\" y2=\"210.5093\"/><line style=\"stroke: #A80036; stroke-width: 1.0; stroke-dasharray: 1.0,4.0;\" x1=\"35\" x2=\"35\" y1=\"210.5093\" y2=\"238.5093\"/><line style=\"stroke: #A80036; stroke-width: 1.0;\" x1=\"35\" x2=\"35\" y1=\"238.5093\" y2=\"280.3652\"/><line style=\"stroke: #A80036; stroke-width: 1.0;\" x1=\"181.5\" x2=\"181.5\" y1=\"41.2295\" y2=\"210.5093\"/><line style=\"stroke: #A80036; stroke-width: 1.0; stroke-dasharray: 1.0,4.0;\" x1=\"181.5\" x2=\"181.5\" y1=\"210.5093\" y2=\"238.5093\"/><line style=\"stroke: #A80036; stroke-width: 1.0;\" x1=\"181.5\" x2=\"181.5\" y1=\"238.5093\" y2=\"280.3652\"/><line style=\"stroke: #A80036; stroke-width: 1.0;\" x1=\"293.5\" x2=\"293.5\" y1=\"41.2295\" y2=\"210.5093\"/><line style=\"stroke: #A80036; stroke-width: 1.0; stroke-dasharray: 1.0,4.0;\" x1=\"293.5\" x2=\"293.5\" y1=\"210.5093\" y2=\"238.5093\"/><line style=\"stroke: #A80036; stroke-width: 1.0;\" x1=\"293.5\" x2=\"293.5\" y1=\"238.5093\" y2=\"280.3652\"/><line style=\"stroke: #A80036; stroke-width: 1.0;\" x1=\"394.5\" x2=\"394.5\" y1=\"41.2295\" y2=\"210.5093\"/><line style=\"stroke: #A80036; stroke-width: 1.0; stroke-dasharray: 1.0,4.0;\" x1=\"394.5\" x2=\"394.5\" y1=\"210.5093\" y2=\"238.5093\"/><line style=\"stroke: #A80036; stroke-width: 1.0;\" x1=\"394.5\" x2=\"394.5\" y1=\"238.5093\" y2=\"280.3652\"/><rect fill=\"#FEFECE\" filter=\"url(#f1)\" height=\"33.2295\" style=\"stroke: #A80036; stroke-width: 1.5;\" width=\"50\" x=\"8\" y=\"3\"/><text fill=\"#000000\" font-family=\"sans-serif\" font-size=\"14\" lengthAdjust=\"spacingAndGlyphs\" textLength=\"36\" x=\"15\" y=\"26.1533\">Client</text><rect fill=\"#FEFECE\" filter=\"url(#f1)\" height=\"33.2295\" style=\"stroke: #A80036; stroke-width: 1.5;\" width=\"50\" x=\"8\" y=\"279.3652\"/><text fill=\"#000000\" font-family=\"sans-serif\" font-size=\"14\" lengthAdjust=\"spacingAndGlyphs\" textLength=\"36\" x=\"15\" y=\"302.5186\">Client</text><rect fill=\"#FEFECE\" filter=\"url(#f1)\" height=\"33.2295\" style=\"stroke: #A80036; stroke-width: 1.5;\" width=\"151\" x=\"104.5\" y=\"3\"/><text fill=\"#000000\" font-family=\"sans-serif\" font-size=\"14\" lengthAdjust=\"spacingAndGlyphs\" textLength=\"137\" x=\"111.5\" y=\"26.1533\">SimpleRemoteControl</text><rect fill=\"#FEFECE\" filter=\"url(#f1)\" height=\"33.2295\" style=\"stroke: #A80036; stroke-width: 1.5;\" width=\"151\" x=\"104.5\" y=\"279.3652\"/><text fill=\"#000000\" font-family=\"sans-serif\" font-size=\"14\" lengthAdjust=\"spacingAndGlyphs\" textLength=\"137\" x=\"111.5\" y=\"302.5186\">SimpleRemoteControl</text><rect fill=\"#FEFECE\" filter=\"url(#f1)\" height=\"33.2295\" style=\"stroke: #A80036; stroke-width: 1.5;\" width=\"45\" x=\"269.5\" y=\"3\"/><text fill=\"#000000\" font-family=\"sans-serif\" font-size=\"14\" lengthAdjust=\"spacingAndGlyphs\" textLength=\"31\" x=\"276.5\" y=\"26.1533\">Light</text><rect fill=\"#FEFECE\" filter=\"url(#f1)\" height=\"33.2295\" style=\"stroke: #A80036; stroke-width: 1.5;\" width=\"45\" x=\"269.5\" y=\"279.3652\"/><text fill=\"#000000\" font-family=\"sans-serif\" font-size=\"14\" lengthAdjust=\"spacingAndGlyphs\" textLength=\"31\" x=\"276.5\" y=\"302.5186\">Light</text><rect fill=\"#FEFECE\" filter=\"url(#f1)\" height=\"33.2295\" style=\"stroke: #A80036; stroke-width: 1.5;\" width=\"128\" x=\"328.5\" y=\"3\"/><text fill=\"#000000\" font-family=\"sans-serif\" font-size=\"14\" lengthAdjust=\"spacingAndGlyphs\" textLength=\"114\" x=\"335.5\" y=\"26.1533\">LightOnCommand</text><rect fill=\"#FEFECE\" filter=\"url(#f1)\" height=\"33.2295\" style=\"stroke: #A80036; stroke-width: 1.5;\" width=\"128\" x=\"328.5\" y=\"279.3652\"/><text fill=\"#000000\" font-family=\"sans-serif\" font-size=\"14\" lengthAdjust=\"spacingAndGlyphs\" textLength=\"114\" x=\"335.5\" y=\"302.5186\">LightOnCommand</text><polygon fill=\"#A80036\" points=\"170,70.2295,180,74.2295,170,78.2295,174,74.2295\" style=\"stroke: #A80036; stroke-width: 1.0;\"/><line style=\"stroke: #A80036; stroke-width: 1.0;\" x1=\"35\" x2=\"176\" y1=\"74.2295\" y2=\"74.2295\"/><text fill=\"#000000\" font-family=\"sans-serif\" font-size=\"13\" lengthAdjust=\"spacingAndGlyphs\" textLength=\"87\" x=\"42\" y=\"70.229\">remote = new()</text><polygon fill=\"#A80036\" points=\"282,102.0854,292,106.0854,282,110.0854,286,106.0854\" style=\"stroke: #A80036; stroke-width: 1.0;\"/><line style=\"stroke: #A80036; stroke-width: 1.0;\" x1=\"35\" x2=\"288\" y1=\"106.0854\" y2=\"106.0854\"/><text fill=\"#000000\" font-family=\"sans-serif\" font-size=\"13\" lengthAdjust=\"spacingAndGlyphs\" textLength=\"71\" x=\"42\" y=\"102.085\">light = new()</text><polygon fill=\"#A80036\" points=\"382.5,133.9414,392.5,137.9414,382.5,141.9414,386.5,137.9414\" style=\"stroke: #A80036; stroke-width: 1.0;\"/><line style=\"stroke: #A80036; stroke-width: 1.0;\" x1=\"35\" x2=\"388.5\" y1=\"137.9414\" y2=\"137.9414\"/><text fill=\"#000000\" font-family=\"sans-serif\" font-size=\"13\" lengthAdjust=\"spacingAndGlyphs\" textLength=\"55\" x=\"42\" y=\"133.9409\">new(light)</text><polygon fill=\"#A80036\" points=\"170,165.7974,180,169.7974,170,173.7974,174,169.7974\" style=\"stroke: #A80036; stroke-width: 1.0;\"/><line style=\"stroke: #A80036; stroke-width: 1.0;\" x1=\"35\" x2=\"176\" y1=\"169.7974\" y2=\"169.7974\"/><text fill=\"#000000\" font-family=\"sans-serif\" font-size=\"13\" lengthAdjust=\"spacingAndGlyphs\" textLength=\"123\" x=\"42\" y=\"165.7969\">setCommand(lighton)</text><polygon fill=\"#A80036\" points=\"170,197.6533,180,201.6533,170,205.6533,174,201.6533\" style=\"stroke: #A80036; stroke-width: 1.0;\"/><line style=\"stroke: #A80036; stroke-width: 1.0;\" x1=\"35\" x2=\"176\" y1=\"201.6533\" y2=\"201.6533\"/><text fill=\"#000000\" font-family=\"sans-serif\" font-size=\"13\" lengthAdjust=\"spacingAndGlyphs\" textLength=\"119\" x=\"42\" y=\"197.6528\">buttomWasPushed()</text><polygon fill=\"#A80036\" points=\"282,257.5093,292,261.5093,282,265.5093,286,261.5093\" style=\"stroke: #A80036; stroke-width: 1.0;\"/><line style=\"stroke: #A80036; stroke-width: 1.0;\" x1=\"35\" x2=\"288\" y1=\"261.5093\" y2=\"261.5093\"/><text fill=\"#000000\" font-family=\"sans-serif\" font-size=\"13\" lengthAdjust=\"spacingAndGlyphs\" textLength=\"22\" x=\"42\" y=\"257.5088\">on()</text></g></svg>"
      ],
      "text/plain": [
       "<IPython.core.display.SVG object>"
      ]
     },
     "execution_count": 6,
     "metadata": {},
     "output_type": "execute_result"
    }
   ],
   "source": [
    "%%plantuml\n",
    "@startuml\n",
    "Client -> SimpleRemoteControl:remote = new()\n",
    "Client -> Light: light = new()\n",
    "Client -> LightOnCommand: new(light)\n",
    "Client -> SimpleRemoteControl:setCommand(lighton)\n",
    "Client -> SimpleRemoteControl:buttomWasPushed()\n",
    "...\n",
    "Client -> Light:on()\n",
    "    @enduml"
   ]
  },
  {
   "cell_type": "code",
   "execution_count": 26,
   "metadata": {
    "collapsed": false
   },
   "outputs": [
    {
     "data": {
      "image/svg+xml": [
       "<svg height=\"263px\" style=\"width:677px;height:263px;\" version=\"1.1\" viewBox=\"0 0 677 263\" width=\"677px\" xmlns=\"http://www.w3.org/2000/svg\" xmlns:xlink=\"http://www.w3.org/1999/xlink\"><defs><filter height=\"300%\" id=\"f1\" width=\"300%\" x=\"-1\" y=\"-1\"><feGaussianBlur result=\"blurOut\" stdDeviation=\"2.0\"/><feColorMatrix in=\"blurOut\" result=\"blurOut2\" type=\"matrix\" values=\"0 0 0 0 0 0 0 0 0 0 0 0 0 0 0 0 0 0 .4 0\"/><feOffset dx=\"4.0\" dy=\"4.0\" in=\"blurOut2\" result=\"blurOut3\"/><feBlend in=\"SourceGraphic\" in2=\"blurOut3\" mode=\"normal\"/></filter></defs><g><rect fill=\"#FEFECE\" filter=\"url(#f1)\" height=\"63.1089\" style=\"stroke: #A80036; stroke-width: 1.5;\" width=\"96\" x=\"430\" y=\"23\"/><ellipse cx=\"447.25\" cy=\"39\" fill=\"#B4A7E5\" rx=\"11\" ry=\"11\" style=\"stroke: #A80036; stroke-width: 1.0;\"/><path d=\"M444.9531,33.125 L444.9531,44.75 Q444.9531,45 445.1094,45.1563 Q445.25,45.2969 446.4688,45.2969 Q446.6719,45.2969 446.8125,45.1719 Q446.9844,45.0156 446.9844,44.75 L446.9844,33.0781 Q446.9844,32.8125 446.8125,32.6719 Q446.5938,32.4531 445.4688,32.5313 Q445.25,32.5313 445.1094,32.6875 Q444.9531,32.8438 444.9531,33.125 Z \"/><text fill=\"#000000\" font-family=\"sans-serif\" font-size=\"12\" font-style=\"italic\" lengthAdjust=\"spacingAndGlyphs\" textLength=\"59\" x=\"461.75\" y=\"44.6045\">Command</text><line style=\"stroke: #A80036; stroke-width: 1.5;\" x1=\"431\" x2=\"525\" y1=\"55\" y2=\"55\"/><line style=\"stroke: #A80036; stroke-width: 1.5;\" x1=\"431\" x2=\"525\" y1=\"63\" y2=\"63\"/><ellipse cx=\"441\" cy=\"76.0544\" fill=\"#84BE84\" rx=\"3\" ry=\"3\" style=\"stroke: #038048; stroke-width: 1.0;\"/><text fill=\"#000000\" font-family=\"sans-serif\" font-size=\"11\" lengthAdjust=\"spacingAndGlyphs\" textLength=\"70\" x=\"450\" y=\"79.6919\">execute():void</text><rect fill=\"#FEFECE\" filter=\"url(#f1)\" height=\"93.3267\" style=\"stroke: #A80036; stroke-width: 1.5;\" width=\"211\" x=\"339.5\" y=\"161\"/><ellipse cx=\"364.4\" cy=\"177\" fill=\"#ADD1B2\" rx=\"11\" ry=\"11\" style=\"stroke: #A80036; stroke-width: 1.0;\"/><path d=\"M363.9625,170.5156 Q361.2281,170.5156 360.15,172.1406 Q359.0094,173.8594 359.0094,176.7813 Q359.0094,180.0781 360.1656,181.7813 Q361.15,183.2813 363.7594,183.2813 Q365.3375,183.2813 366.2125,182.4531 Q367.1969,181.5 367.3375,179.375 Q367.3375,179.0781 367.1656,178.9063 Q367.0406,178.75 366.8219,178.7344 Q365.6031,178.7344 365.4469,178.8594 Q365.275,179.0156 365.275,179.2813 Q365.2438,180.7656 364.5875,181.5781 Q363.9781,182.375 363.9,182.375 Q362.5719,182.375 361.7906,180.7813 Q361.0406,179.2344 361.0406,176.75 Q361.0406,174.125 361.9781,172.6719 Q362.8063,171.4219 364.0875,171.4219 Q364.0875,171.4219 364.4313,172.0469 Q365.0563,172.7188 365.1969,173.875 Q365.3063,174.4531 366.775,174.2344 Q367.3063,174.1563 367.275,173.7344 Q367.1031,172.2969 366.3844,171.4844 Q365.525,170.5156 363.9625,170.5156 Z \"/><text fill=\"#000000\" font-family=\"sans-serif\" font-size=\"12\" lengthAdjust=\"spacingAndGlyphs\" textLength=\"157\" x=\"380.6\" y=\"182.6045\">GarageDoorOpenCommand</text><line style=\"stroke: #A80036; stroke-width: 1.5;\" x1=\"340.5\" x2=\"549.5\" y1=\"193\" y2=\"193\"/><rect fill=\"none\" height=\"6\" style=\"stroke: #C82930; stroke-width: 1.0;\" width=\"6\" x=\"347.5\" y=\"203.0544\"/><text fill=\"#000000\" font-family=\"sans-serif\" font-size=\"11\" lengthAdjust=\"spacingAndGlyphs\" textLength=\"48\" x=\"359.5\" y=\"209.6919\">door:Door</text><line style=\"stroke: #A80036; stroke-width: 1.5;\" x1=\"340.5\" x2=\"549.5\" y1=\"216.1089\" y2=\"216.1089\"/><ellipse cx=\"350.5\" cy=\"229.1633\" fill=\"#84BE84\" rx=\"3\" ry=\"3\" style=\"stroke: #038048; stroke-width: 1.0;\"/><text fill=\"#000000\" font-family=\"sans-serif\" font-size=\"11\" lengthAdjust=\"spacingAndGlyphs\" textLength=\"185\" x=\"359.5\" y=\"232.8008\">GarageDoorOpenCommand(door):void</text><ellipse cx=\"350.5\" cy=\"244.2722\" fill=\"#84BE84\" rx=\"3\" ry=\"3\" style=\"stroke: #038048; stroke-width: 1.0;\"/><text fill=\"#000000\" font-family=\"sans-serif\" font-size=\"11\" lengthAdjust=\"spacingAndGlyphs\" textLength=\"70\" x=\"359.5\" y=\"247.9097\">execute():void</text><rect fill=\"#FEFECE\" filter=\"url(#f1)\" height=\"78.2178\" style=\"stroke: #A80036; stroke-width: 1.5;\" width=\"83\" x=\"585.5\" y=\"168.5\"/><ellipse cx=\"611.3\" cy=\"184.5\" fill=\"#ADD1B2\" rx=\"11\" ry=\"11\" style=\"stroke: #A80036; stroke-width: 1.0;\"/><path d=\"M610.8625,178.0156 Q608.1281,178.0156 607.05,179.6406 Q605.9094,181.3594 605.9094,184.2813 Q605.9094,187.5781 607.0656,189.2813 Q608.05,190.7813 610.6594,190.7813 Q612.2375,190.7813 613.1125,189.9531 Q614.0969,189 614.2375,186.875 Q614.2375,186.5781 614.0656,186.4063 Q613.9406,186.25 613.7219,186.2344 Q612.5031,186.2344 612.3469,186.3594 Q612.175,186.5156 612.175,186.7813 Q612.1438,188.2656 611.4875,189.0781 Q610.8781,189.875 610.8,189.875 Q609.4719,189.875 608.6906,188.2813 Q607.9406,186.7344 607.9406,184.25 Q607.9406,181.625 608.8781,180.1719 Q609.7063,178.9219 610.9875,178.9219 Q610.9875,178.9219 611.3313,179.5469 Q611.9563,180.2188 612.0969,181.375 Q612.2063,181.9531 613.675,181.7344 Q614.2063,181.6563 614.175,181.2344 Q614.0031,179.7969 613.2844,178.9844 Q612.425,178.0156 610.8625,178.0156 Z \"/><text fill=\"#000000\" font-family=\"sans-serif\" font-size=\"12\" lengthAdjust=\"spacingAndGlyphs\" textLength=\"27\" x=\"627.7\" y=\"190.1045\">Door</text><line style=\"stroke: #A80036; stroke-width: 1.5;\" x1=\"586.5\" x2=\"667.5\" y1=\"200.5\" y2=\"200.5\"/><line style=\"stroke: #A80036; stroke-width: 1.5;\" x1=\"586.5\" x2=\"667.5\" y1=\"208.5\" y2=\"208.5\"/><ellipse cx=\"596.5\" cy=\"221.5544\" fill=\"#84BE84\" rx=\"3\" ry=\"3\" style=\"stroke: #038048; stroke-width: 1.0;\"/><text fill=\"#000000\" font-family=\"sans-serif\" font-size=\"11\" lengthAdjust=\"spacingAndGlyphs\" textLength=\"55\" x=\"605.5\" y=\"225.1919\">open():void</text><ellipse cx=\"596.5\" cy=\"236.6633\" fill=\"#84BE84\" rx=\"3\" ry=\"3\" style=\"stroke: #038048; stroke-width: 1.0;\"/><text fill=\"#000000\" font-family=\"sans-serif\" font-size=\"11\" lengthAdjust=\"spacingAndGlyphs\" textLength=\"57\" x=\"605.5\" y=\"240.3008\">close():void</text><rect fill=\"#FEFECE\" filter=\"url(#f1)\" height=\"93.3267\" style=\"stroke: #A80036; stroke-width: 1.5;\" width=\"160\" x=\"6\" y=\"161\"/><ellipse cx=\"32.7\" cy=\"177\" fill=\"#ADD1B2\" rx=\"11\" ry=\"11\" style=\"stroke: #A80036; stroke-width: 1.0;\"/><path d=\"M32.2625,170.5156 Q29.5281,170.5156 28.45,172.1406 Q27.3094,173.8594 27.3094,176.7813 Q27.3094,180.0781 28.4656,181.7813 Q29.45,183.2813 32.0594,183.2813 Q33.6375,183.2813 34.5125,182.4531 Q35.4969,181.5 35.6375,179.375 Q35.6375,179.0781 35.4656,178.9063 Q35.3406,178.75 35.1219,178.7344 Q33.9031,178.7344 33.7469,178.8594 Q33.575,179.0156 33.575,179.2813 Q33.5438,180.7656 32.8875,181.5781 Q32.2781,182.375 32.2,182.375 Q30.8719,182.375 30.0906,180.7813 Q29.3406,179.2344 29.3406,176.75 Q29.3406,174.125 30.2781,172.6719 Q31.1063,171.4219 32.3875,171.4219 Q32.3875,171.4219 32.7313,172.0469 Q33.3563,172.7188 33.4969,173.875 Q33.6063,174.4531 35.075,174.2344 Q35.6063,174.1563 35.575,173.7344 Q35.4031,172.2969 34.6844,171.4844 Q33.825,170.5156 32.2625,170.5156 Z \"/><text fill=\"#000000\" font-family=\"sans-serif\" font-size=\"12\" lengthAdjust=\"spacingAndGlyphs\" textLength=\"102\" x=\"49.3\" y=\"182.6045\">LightOnCommand</text><line style=\"stroke: #A80036; stroke-width: 1.5;\" x1=\"7\" x2=\"165\" y1=\"193\" y2=\"193\"/><rect fill=\"none\" height=\"6\" style=\"stroke: #C82930; stroke-width: 1.0;\" width=\"6\" x=\"14\" y=\"203.0544\"/><text fill=\"#000000\" font-family=\"sans-serif\" font-size=\"11\" lengthAdjust=\"spacingAndGlyphs\" textLength=\"45\" x=\"26\" y=\"209.6919\">light:Light</text><line style=\"stroke: #A80036; stroke-width: 1.5;\" x1=\"7\" x2=\"165\" y1=\"216.1089\" y2=\"216.1089\"/><ellipse cx=\"17\" cy=\"229.1633\" fill=\"#84BE84\" rx=\"3\" ry=\"3\" style=\"stroke: #038048; stroke-width: 1.0;\"/><text fill=\"#000000\" font-family=\"sans-serif\" font-size=\"11\" lengthAdjust=\"spacingAndGlyphs\" textLength=\"134\" x=\"26\" y=\"232.8008\">LightOnCommand(light):void</text><ellipse cx=\"17\" cy=\"244.2722\" fill=\"#84BE84\" rx=\"3\" ry=\"3\" style=\"stroke: #038048; stroke-width: 1.0;\"/><text fill=\"#000000\" font-family=\"sans-serif\" font-size=\"11\" lengthAdjust=\"spacingAndGlyphs\" textLength=\"70\" x=\"26\" y=\"247.9097\">execute():void</text><rect fill=\"#FEFECE\" filter=\"url(#f1)\" height=\"78.2178\" style=\"stroke: #A80036; stroke-width: 1.5;\" width=\"71\" x=\"201.5\" y=\"168.5\"/><ellipse cx=\"221.9\" cy=\"184.5\" fill=\"#ADD1B2\" rx=\"11\" ry=\"11\" style=\"stroke: #A80036; stroke-width: 1.0;\"/><path d=\"M221.4625,178.0156 Q218.7281,178.0156 217.65,179.6406 Q216.5094,181.3594 216.5094,184.2813 Q216.5094,187.5781 217.6656,189.2813 Q218.65,190.7813 221.2594,190.7813 Q222.8375,190.7813 223.7125,189.9531 Q224.6969,189 224.8375,186.875 Q224.8375,186.5781 224.6656,186.4063 Q224.5406,186.25 224.3219,186.2344 Q223.1031,186.2344 222.9469,186.3594 Q222.775,186.5156 222.775,186.7813 Q222.7438,188.2656 222.0875,189.0781 Q221.4781,189.875 221.4,189.875 Q220.0719,189.875 219.2906,188.2813 Q218.5406,186.7344 218.5406,184.25 Q218.5406,181.625 219.4781,180.1719 Q220.3063,178.9219 221.5875,178.9219 Q221.5875,178.9219 221.9313,179.5469 Q222.5563,180.2188 222.6969,181.375 Q222.8063,181.9531 224.275,181.7344 Q224.8063,181.6563 224.775,181.2344 Q224.6031,179.7969 223.8844,178.9844 Q223.025,178.0156 221.4625,178.0156 Z \"/><text fill=\"#000000\" font-family=\"sans-serif\" font-size=\"12\" lengthAdjust=\"spacingAndGlyphs\" textLength=\"27\" x=\"237.1\" y=\"190.1045\">Light</text><line style=\"stroke: #A80036; stroke-width: 1.5;\" x1=\"202.5\" x2=\"271.5\" y1=\"200.5\" y2=\"200.5\"/><line style=\"stroke: #A80036; stroke-width: 1.5;\" x1=\"202.5\" x2=\"271.5\" y1=\"208.5\" y2=\"208.5\"/><ellipse cx=\"212.5\" cy=\"221.5544\" fill=\"#84BE84\" rx=\"3\" ry=\"3\" style=\"stroke: #038048; stroke-width: 1.0;\"/><text fill=\"#000000\" font-family=\"sans-serif\" font-size=\"11\" lengthAdjust=\"spacingAndGlyphs\" textLength=\"43\" x=\"221.5\" y=\"225.1919\">on():void</text><ellipse cx=\"212.5\" cy=\"236.6633\" fill=\"#84BE84\" rx=\"3\" ry=\"3\" style=\"stroke: #038048; stroke-width: 1.0;\"/><text fill=\"#000000\" font-family=\"sans-serif\" font-size=\"11\" lengthAdjust=\"spacingAndGlyphs\" textLength=\"45\" x=\"221.5\" y=\"240.3008\">off():void</text><rect fill=\"#FEFECE\" filter=\"url(#f1)\" height=\"93.3267\" style=\"stroke: #A80036; stroke-width: 1.5;\" width=\"155\" x=\"239.5\" y=\"8\"/><ellipse cx=\"254.5\" cy=\"24\" fill=\"#ADD1B2\" rx=\"11\" ry=\"11\" style=\"stroke: #A80036; stroke-width: 1.0;\"/><path d=\"M254.0625,17.5156 Q251.3281,17.5156 250.25,19.1406 Q249.1094,20.8594 249.1094,23.7813 Q249.1094,27.0781 250.2656,28.7813 Q251.25,30.2813 253.8594,30.2813 Q255.4375,30.2813 256.3125,29.4531 Q257.2969,28.5 257.4375,26.375 Q257.4375,26.0781 257.2656,25.9063 Q257.1406,25.75 256.9219,25.7344 Q255.7031,25.7344 255.5469,25.8594 Q255.375,26.0156 255.375,26.2813 Q255.3438,27.7656 254.6875,28.5781 Q254.0781,29.375 254,29.375 Q252.6719,29.375 251.8906,27.7813 Q251.1406,26.2344 251.1406,23.75 Q251.1406,21.125 252.0781,19.6719 Q252.9063,18.4219 254.1875,18.4219 Q254.1875,18.4219 254.5313,19.0469 Q255.1563,19.7188 255.2969,20.875 Q255.4063,21.4531 256.875,21.2344 Q257.4063,21.1563 257.375,20.7344 Q257.2031,19.2969 256.4844,18.4844 Q255.625,17.5156 254.0625,17.5156 Z \"/><text fill=\"#000000\" font-family=\"sans-serif\" font-size=\"12\" lengthAdjust=\"spacingAndGlyphs\" textLength=\"123\" x=\"268.5\" y=\"29.6045\">SimpleRemoteControl</text><line style=\"stroke: #A80036; stroke-width: 1.5;\" x1=\"240.5\" x2=\"393.5\" y1=\"40\" y2=\"40\"/><text fill=\"#000000\" font-family=\"sans-serif\" font-size=\"11\" lengthAdjust=\"spacingAndGlyphs\" textLength=\"67\" x=\"245.5\" y=\"56.6919\">slot:Command</text><line style=\"stroke: #A80036; stroke-width: 1.5;\" x1=\"240.5\" x2=\"393.5\" y1=\"63.1089\" y2=\"63.1089\"/><ellipse cx=\"250.5\" cy=\"76.1633\" fill=\"#84BE84\" rx=\"3\" ry=\"3\" style=\"stroke: #038048; stroke-width: 1.0;\"/><text fill=\"#000000\" font-family=\"sans-serif\" font-size=\"11\" lengthAdjust=\"spacingAndGlyphs\" textLength=\"116\" x=\"259.5\" y=\"79.8008\">setCommand(command)</text><ellipse cx=\"250.5\" cy=\"91.2722\" fill=\"#84BE84\" rx=\"3\" ry=\"3\" style=\"stroke: #038048; stroke-width: 1.0;\"/><text fill=\"#000000\" font-family=\"sans-serif\" font-size=\"11\" lengthAdjust=\"spacingAndGlyphs\" textLength=\"100\" x=\"259.5\" y=\"94.9097\">buttonWasPressed()</text><rect fill=\"#FEFECE\" filter=\"url(#f1)\" height=\"48\" style=\"stroke: #A80036; stroke-width: 1.5;\" width=\"64\" x=\"140\" y=\"30.5\"/><ellipse cx=\"155\" cy=\"46.5\" fill=\"#ADD1B2\" rx=\"11\" ry=\"11\" style=\"stroke: #A80036; stroke-width: 1.0;\"/><path d=\"M154.5625,40.0156 Q151.8281,40.0156 150.75,41.6406 Q149.6094,43.3594 149.6094,46.2813 Q149.6094,49.5781 150.7656,51.2813 Q151.75,52.7813 154.3594,52.7813 Q155.9375,52.7813 156.8125,51.9531 Q157.7969,51 157.9375,48.875 Q157.9375,48.5781 157.7656,48.4063 Q157.6406,48.25 157.4219,48.2344 Q156.2031,48.2344 156.0469,48.3594 Q155.875,48.5156 155.875,48.7813 Q155.8438,50.2656 155.1875,51.0781 Q154.5781,51.875 154.5,51.875 Q153.1719,51.875 152.3906,50.2813 Q151.6406,48.7344 151.6406,46.25 Q151.6406,43.625 152.5781,42.1719 Q153.4063,40.9219 154.6875,40.9219 Q154.6875,40.9219 155.0313,41.5469 Q155.6563,42.2188 155.7969,43.375 Q155.9063,43.9531 157.375,43.7344 Q157.9063,43.6563 157.875,43.2344 Q157.7031,41.7969 156.9844,40.9844 Q156.125,40.0156 154.5625,40.0156 Z \"/><text fill=\"#000000\" font-family=\"sans-serif\" font-size=\"12\" lengthAdjust=\"spacingAndGlyphs\" textLength=\"32\" x=\"169\" y=\"52.1045\">Client</text><line style=\"stroke: #A80036; stroke-width: 1.5;\" x1=\"141\" x2=\"203\" y1=\"62.5\" y2=\"62.5\"/><line style=\"stroke: #A80036; stroke-width: 1.5;\" x1=\"141\" x2=\"203\" y1=\"70.5\" y2=\"70.5\"/><path d=\"M420.72,96.651 C417.82,98.205 414.905,99.666 412,101 C316.775,144.724 282.574,125.464 184,161 C178.088,163.1311 172.046,165.4836 166.008,167.9631 \" fill=\"none\" style=\"stroke: #A80036; stroke-width: 1.0; stroke-dasharray: 7.0,7.0;\"/><polygon fill=\"none\" points=\"417.373,90.496,438.126,86.217,424.572,102.504,417.373,90.496\" style=\"stroke: #A80036; stroke-width: 1.0;\"/><path d=\"M467.031,105.692 C463.143,123.484 458.791,143.397 454.989,160.7949 \" fill=\"none\" style=\"stroke: #A80036; stroke-width: 1.0; stroke-dasharray: 7.0,7.0;\"/><polygon fill=\"none\" points=\"460.213,104.101,471.322,86.057,473.89,107.091,460.213,104.101\" style=\"stroke: #A80036; stroke-width: 1.0;\"/><path d=\"M166.219,207.5 C176.186,207.5 186.153,207.5 196.121,207.5 \" fill=\"none\" style=\"stroke: #A80036; stroke-width: 1.0;\"/><polygon fill=\"#A80036\" points=\"201.333,207.5,192.333,203.5,196.333,207.5,192.333,211.5,201.333,207.5\" style=\"stroke: #A80036; stroke-width: 1.0;\"/><path d=\"M550.574,207.5 C560.404,207.5 570.234,207.5 580.064,207.5 \" fill=\"none\" style=\"stroke: #A80036; stroke-width: 1.0;\"/><polygon fill=\"#A80036\" points=\"585.205,207.5,576.205,203.5,580.205,207.5,576.205,211.5,585.205,207.5\" style=\"stroke: #A80036; stroke-width: 1.0;\"/><path d=\"M394.67,54.5 C404.649,54.5 414.628,54.5 424.606,54.5 \" fill=\"none\" style=\"stroke: #A80036; stroke-width: 1.0;\"/><polygon fill=\"#A80036\" points=\"429.825,54.5,420.825,50.5,424.825,54.5,420.825,58.5,429.825,54.5\" style=\"stroke: #A80036; stroke-width: 1.0;\"/><path d=\"M204.002,54.5 C214.025,54.5 224.049,54.5 234.072,54.5 \" fill=\"none\" style=\"stroke: #A80036; stroke-width: 1.0;\"/><polygon fill=\"#A80036\" points=\"239.314,54.5,230.314,50.5,234.314,54.5,230.314,58.5,239.314,54.5\" style=\"stroke: #A80036; stroke-width: 1.0;\"/><path d=\"M182.014,78.763 C191.709,101.286 206.641,135.973 218.499,163.5201 \" fill=\"none\" style=\"stroke: #A80036; stroke-width: 1.0;\"/><polygon fill=\"#A80036\" points=\"220.524,168.2255,220.6397,158.3773,218.5471,163.6329,213.2915,161.5403,220.524,168.2255\" style=\"stroke: #A80036; stroke-width: 1.0;\"/><path d=\"M192.353,78.9 C200.728,87.121 211.036,95.636 222,101 C362.194,169.5892 425.132,98.171 568,161 C572.44,162.9527 576.846,165.3096 581.131,167.9105 \" fill=\"none\" style=\"stroke: #A80036; stroke-width: 1.0;\"/><polygon fill=\"#A80036\" points=\"585.374,170.5867,579.8954,162.4022,581.1449,167.9194,575.6277,169.1688,585.374,170.5867\" style=\"stroke: #A80036; stroke-width: 1.0;\"/></g></svg>"
      ],
      "text/plain": [
       "<IPython.core.display.SVG object>"
      ]
     },
     "execution_count": 26,
     "metadata": {},
     "output_type": "execute_result"
    }
   ],
   "source": [
    "%%plantuml\n",
    "@startuml\n",
    "Interface Command{\n",
    "    +execute():void\n",
    "}\n",
    "class GarageDoorOpenCommand{\n",
    "    -door:Door\n",
    "    +GarageDoorOpenCommand(door):void\n",
    "    +execute():void\n",
    "}\n",
    "class Door{\n",
    "    +open():void\n",
    "    +close():void\n",
    "}\n",
    "class LightOnCommand{\n",
    "    -light:Light\n",
    "    +LightOnCommand(light):void\n",
    "    +execute():void\n",
    "}\n",
    "class Light{\n",
    "    +on():void\n",
    "    +off():void\n",
    "}\n",
    "class SimpleRemoteControl{\n",
    "    slot:Command\n",
    "    +setCommand(command)\n",
    "    +buttonWasPressed()\n",
    "}\n",
    "Command <|.. LightOnCommand\n",
    "Command <|..GarageDoorOpenCommand\n",
    "LightOnCommand -right-> Light\n",
    "GarageDoorOpenCommand -right-> Door\n",
    "SimpleRemoteControl -right-> Command\n",
    "Client -right-> SimpleRemoteControl\n",
    "Client --> Light\n",
    "Client --> Door\n",
    "@enduml"
   ]
  },
  {
   "cell_type": "code",
   "execution_count": 41,
   "metadata": {
    "collapsed": false
   },
   "outputs": [
    {
     "data": {
      "image/svg+xml": [
       "<svg height=\"369px\" style=\"width:608px;height:369px;\" version=\"1.1\" viewBox=\"0 0 608 369\" width=\"608px\" xmlns=\"http://www.w3.org/2000/svg\" xmlns:xlink=\"http://www.w3.org/1999/xlink\"><defs><filter height=\"300%\" id=\"f1\" width=\"300%\" x=\"-1\" y=\"-1\"><feGaussianBlur result=\"blurOut\" stdDeviation=\"2.0\"/><feColorMatrix in=\"blurOut\" result=\"blurOut2\" type=\"matrix\" values=\"0 0 0 0 0 0 0 0 0 0 0 0 0 0 0 0 0 0 .4 0\"/><feOffset dx=\"4.0\" dy=\"4.0\" in=\"blurOut2\" result=\"blurOut3\"/><feBlend in=\"SourceGraphic\" in2=\"blurOut3\" mode=\"normal\"/></filter></defs><g><rect fill=\"#FEFECE\" filter=\"url(#f1)\" height=\"78.2178\" style=\"stroke: #A80036; stroke-width: 1.5;\" width=\"96\" x=\"370\" y=\"38.5\"/><ellipse cx=\"387.25\" cy=\"54.5\" fill=\"#B4A7E5\" rx=\"11\" ry=\"11\" style=\"stroke: #A80036; stroke-width: 1.0;\"/><path d=\"M384.9531,48.625 L384.9531,60.25 Q384.9531,60.5 385.1094,60.6563 Q385.25,60.7969 386.4688,60.7969 Q386.6719,60.7969 386.8125,60.6719 Q386.9844,60.5156 386.9844,60.25 L386.9844,48.5781 Q386.9844,48.3125 386.8125,48.1719 Q386.5938,47.9531 385.4688,48.0313 Q385.25,48.0313 385.1094,48.1875 Q384.9531,48.3438 384.9531,48.625 Z \"/><text fill=\"#000000\" font-family=\"sans-serif\" font-size=\"12\" font-style=\"italic\" lengthAdjust=\"spacingAndGlyphs\" textLength=\"59\" x=\"401.75\" y=\"60.1045\">Command</text><line style=\"stroke: #A80036; stroke-width: 1.5;\" x1=\"371\" x2=\"465\" y1=\"70.5\" y2=\"70.5\"/><line style=\"stroke: #A80036; stroke-width: 1.5;\" x1=\"371\" x2=\"465\" y1=\"78.5\" y2=\"78.5\"/><ellipse cx=\"381\" cy=\"91.5544\" fill=\"#84BE84\" rx=\"3\" ry=\"3\" style=\"stroke: #038048; stroke-width: 1.0;\"/><text fill=\"#000000\" font-family=\"sans-serif\" font-size=\"11\" lengthAdjust=\"spacingAndGlyphs\" textLength=\"70\" x=\"390\" y=\"95.1919\">execute():void</text><ellipse cx=\"381\" cy=\"106.6633\" fill=\"#84BE84\" rx=\"3\" ry=\"3\" style=\"stroke: #038048; stroke-width: 1.0;\"/><text fill=\"#000000\" font-family=\"sans-serif\" font-size=\"11\" lengthAdjust=\"spacingAndGlyphs\" textLength=\"55\" x=\"390\" y=\"110.3008\">undo():void</text><rect fill=\"#FEFECE\" filter=\"url(#f1)\" height=\"108.4355\" style=\"stroke: #A80036; stroke-width: 1.5;\" width=\"141\" x=\"316.5\" y=\"230\"/><ellipse cx=\"334.65\" cy=\"246\" fill=\"#ADD1B2\" rx=\"11\" ry=\"11\" style=\"stroke: #A80036; stroke-width: 1.0;\"/><path d=\"M334.2125,239.5156 Q331.4781,239.5156 330.4,241.1406 Q329.2594,242.8594 329.2594,245.7813 Q329.2594,249.0781 330.4156,250.7813 Q331.4,252.2813 334.0094,252.2813 Q335.5875,252.2813 336.4625,251.4531 Q337.4469,250.5 337.5875,248.375 Q337.5875,248.0781 337.4156,247.9063 Q337.2906,247.75 337.0719,247.7344 Q335.8531,247.7344 335.6969,247.8594 Q335.525,248.0156 335.525,248.2813 Q335.4938,249.7656 334.8375,250.5781 Q334.2281,251.375 334.15,251.375 Q332.8219,251.375 332.0406,249.7813 Q331.2906,248.2344 331.2906,245.75 Q331.2906,243.125 332.2281,241.6719 Q333.0563,240.4219 334.3375,240.4219 Q334.3375,240.4219 334.6813,241.0469 Q335.3063,241.7188 335.4469,242.875 Q335.5563,243.4531 337.025,243.2344 Q337.5563,243.1563 337.525,242.7344 Q337.3531,241.2969 336.6344,240.4844 Q335.775,239.5156 334.2125,239.5156 Z \"/><text fill=\"#000000\" font-family=\"sans-serif\" font-size=\"12\" lengthAdjust=\"spacingAndGlyphs\" textLength=\"102\" x=\"349.35\" y=\"251.6045\">LightOnCommand</text><line style=\"stroke: #A80036; stroke-width: 1.5;\" x1=\"317.5\" x2=\"456.5\" y1=\"262\" y2=\"262\"/><rect fill=\"none\" height=\"6\" style=\"stroke: #C82930; stroke-width: 1.0;\" width=\"6\" x=\"324.5\" y=\"272.0544\"/><text fill=\"#000000\" font-family=\"sans-serif\" font-size=\"11\" lengthAdjust=\"spacingAndGlyphs\" textLength=\"45\" x=\"336.5\" y=\"278.6919\">light:Light</text><line style=\"stroke: #A80036; stroke-width: 1.5;\" x1=\"317.5\" x2=\"456.5\" y1=\"285.1089\" y2=\"285.1089\"/><ellipse cx=\"327.5\" cy=\"298.1633\" fill=\"#84BE84\" rx=\"3\" ry=\"3\" style=\"stroke: #038048; stroke-width: 1.0;\"/><text fill=\"#000000\" font-family=\"sans-serif\" font-size=\"11\" lengthAdjust=\"spacingAndGlyphs\" textLength=\"115\" x=\"336.5\" y=\"301.8008\">LightOnCommand(Light)</text><ellipse cx=\"327.5\" cy=\"313.2722\" fill=\"#84BE84\" rx=\"3\" ry=\"3\" style=\"stroke: #038048; stroke-width: 1.0;\"/><text fill=\"#000000\" font-family=\"sans-serif\" font-size=\"11\" lengthAdjust=\"spacingAndGlyphs\" textLength=\"70\" x=\"336.5\" y=\"316.9097\">execute():void</text><ellipse cx=\"327.5\" cy=\"328.3811\" fill=\"#84BE84\" rx=\"3\" ry=\"3\" style=\"stroke: #038048; stroke-width: 1.0;\"/><text fill=\"#000000\" font-family=\"sans-serif\" font-size=\"11\" lengthAdjust=\"spacingAndGlyphs\" textLength=\"55\" x=\"336.5\" y=\"332.0186\">undo():void</text><rect fill=\"#FEFECE\" filter=\"url(#f1)\" height=\"48\" style=\"stroke: #A80036; stroke-width: 1.5;\" width=\"133\" x=\"148.5\" y=\"260\"/><ellipse cx=\"163.5\" cy=\"276\" fill=\"#ADD1B2\" rx=\"11\" ry=\"11\" style=\"stroke: #A80036; stroke-width: 1.0;\"/><path d=\"M163.0625,269.5156 Q160.3281,269.5156 159.25,271.1406 Q158.1094,272.8594 158.1094,275.7813 Q158.1094,279.0781 159.2656,280.7813 Q160.25,282.2813 162.8594,282.2813 Q164.4375,282.2813 165.3125,281.4531 Q166.2969,280.5 166.4375,278.375 Q166.4375,278.0781 166.2656,277.9063 Q166.1406,277.75 165.9219,277.7344 Q164.7031,277.7344 164.5469,277.8594 Q164.375,278.0156 164.375,278.2813 Q164.3438,279.7656 163.6875,280.5781 Q163.0781,281.375 163,281.375 Q161.6719,281.375 160.8906,279.7813 Q160.1406,278.2344 160.1406,275.75 Q160.1406,273.125 161.0781,271.6719 Q161.9063,270.4219 163.1875,270.4219 Q163.1875,270.4219 163.5313,271.0469 Q164.1563,271.7188 164.2969,272.875 Q164.4063,273.4531 165.875,273.2344 Q166.4063,273.1563 166.375,272.7344 Q166.2031,271.2969 165.4844,270.4844 Q164.625,269.5156 163.0625,269.5156 Z \"/><text fill=\"#000000\" font-family=\"sans-serif\" font-size=\"12\" lengthAdjust=\"spacingAndGlyphs\" textLength=\"101\" x=\"177.5\" y=\"281.6045\">LightOffCommand</text><line style=\"stroke: #A80036; stroke-width: 1.5;\" x1=\"149.5\" x2=\"280.5\" y1=\"292\" y2=\"292\"/><line style=\"stroke: #A80036; stroke-width: 1.5;\" x1=\"149.5\" x2=\"280.5\" y1=\"300\" y2=\"300\"/><rect fill=\"#FEFECE\" filter=\"url(#f1)\" height=\"153.7622\" style=\"stroke: #A80036; stroke-width: 1.5;\" width=\"89\" x=\"24.5\" y=\"207\"/><ellipse cx=\"53\" cy=\"223\" fill=\"#ADD1B2\" rx=\"11\" ry=\"11\" style=\"stroke: #A80036; stroke-width: 1.0;\"/><path d=\"M52.5625,216.5156 Q49.8281,216.5156 48.75,218.1406 Q47.6094,219.8594 47.6094,222.7813 Q47.6094,226.0781 48.7656,227.7813 Q49.75,229.2813 52.3594,229.2813 Q53.9375,229.2813 54.8125,228.4531 Q55.7969,227.5 55.9375,225.375 Q55.9375,225.0781 55.7656,224.9063 Q55.6406,224.75 55.4219,224.7344 Q54.2031,224.7344 54.0469,224.8594 Q53.875,225.0156 53.875,225.2813 Q53.8438,226.7656 53.1875,227.5781 Q52.5781,228.375 52.5,228.375 Q51.1719,228.375 50.3906,226.7813 Q49.6406,225.2344 49.6406,222.75 Q49.6406,220.125 50.5781,218.6719 Q51.4063,217.4219 52.6875,217.4219 Q52.6875,217.4219 53.0313,218.0469 Q53.6563,218.7188 53.7969,219.875 Q53.9063,220.4531 55.375,220.2344 Q55.9063,220.1563 55.875,219.7344 Q55.7031,218.2969 54.9844,217.4844 Q54.125,216.5156 52.5625,216.5156 Z \"/><text fill=\"#000000\" font-family=\"sans-serif\" font-size=\"12\" lengthAdjust=\"spacingAndGlyphs\" textLength=\"27\" x=\"70\" y=\"228.6045\">Light</text><line style=\"stroke: #A80036; stroke-width: 1.5;\" x1=\"25.5\" x2=\"112.5\" y1=\"239\" y2=\"239\"/><text fill=\"#000000\" font-family=\"sans-serif\" font-size=\"11\" lengthAdjust=\"spacingAndGlyphs\" textLength=\"36\" x=\"30.5\" y=\"255.6919\">level:int</text><text fill=\"#000000\" font-family=\"sans-serif\" font-size=\"11\" lengthAdjust=\"spacingAndGlyphs\" textLength=\"68\" x=\"30.5\" y=\"270.8008\">location:String</text><line style=\"stroke: #A80036; stroke-width: 1.5;\" x1=\"25.5\" x2=\"112.5\" y1=\"277.2178\" y2=\"277.2178\"/><ellipse cx=\"35.5\" cy=\"290.2722\" fill=\"#84BE84\" rx=\"3\" ry=\"3\" style=\"stroke: #038048; stroke-width: 1.0;\"/><text fill=\"#000000\" font-family=\"sans-serif\" font-size=\"11\" lengthAdjust=\"spacingAndGlyphs\" textLength=\"59\" x=\"44.5\" y=\"293.9097\">Light(String)</text><ellipse cx=\"35.5\" cy=\"305.3811\" fill=\"#84BE84\" rx=\"3\" ry=\"3\" style=\"stroke: #038048; stroke-width: 1.0;\"/><text fill=\"#000000\" font-family=\"sans-serif\" font-size=\"11\" lengthAdjust=\"spacingAndGlyphs\" textLength=\"43\" x=\"44.5\" y=\"309.0186\">on():void</text><ellipse cx=\"35.5\" cy=\"320.49\" fill=\"#84BE84\" rx=\"3\" ry=\"3\" style=\"stroke: #038048; stroke-width: 1.0;\"/><text fill=\"#000000\" font-family=\"sans-serif\" font-size=\"11\" lengthAdjust=\"spacingAndGlyphs\" textLength=\"45\" x=\"44.5\" y=\"324.1274\">off():void</text><ellipse cx=\"35.5\" cy=\"335.5989\" fill=\"#84BE84\" rx=\"3\" ry=\"3\" style=\"stroke: #038048; stroke-width: 1.0;\"/><text fill=\"#000000\" font-family=\"sans-serif\" font-size=\"11\" lengthAdjust=\"spacingAndGlyphs\" textLength=\"58\" x=\"44.5\" y=\"339.2363\">dim(int):void</text><ellipse cx=\"35.5\" cy=\"350.7078\" fill=\"#84BE84\" rx=\"3\" ry=\"3\" style=\"stroke: #038048; stroke-width: 1.0;\"/><text fill=\"#000000\" font-family=\"sans-serif\" font-size=\"11\" lengthAdjust=\"spacingAndGlyphs\" textLength=\"63\" x=\"44.5\" y=\"354.3452\">getLevel():int</text><rect fill=\"#FEFECE\" filter=\"url(#f1)\" height=\"48\" style=\"stroke: #A80036; stroke-width: 1.5;\" width=\"107\" x=\"492.5\" y=\"260\"/><ellipse cx=\"507.5\" cy=\"276\" fill=\"#ADD1B2\" rx=\"11\" ry=\"11\" style=\"stroke: #A80036; stroke-width: 1.0;\"/><path d=\"M507.0625,269.5156 Q504.3281,269.5156 503.25,271.1406 Q502.1094,272.8594 502.1094,275.7813 Q502.1094,279.0781 503.2656,280.7813 Q504.25,282.2813 506.8594,282.2813 Q508.4375,282.2813 509.3125,281.4531 Q510.2969,280.5 510.4375,278.375 Q510.4375,278.0781 510.2656,277.9063 Q510.1406,277.75 509.9219,277.7344 Q508.7031,277.7344 508.5469,277.8594 Q508.375,278.0156 508.375,278.2813 Q508.3438,279.7656 507.6875,280.5781 Q507.0781,281.375 507,281.375 Q505.6719,281.375 504.8906,279.7813 Q504.1406,278.2344 504.1406,275.75 Q504.1406,273.125 505.0781,271.6719 Q505.9063,270.4219 507.1875,270.4219 Q507.1875,270.4219 507.5313,271.0469 Q508.1563,271.7188 508.2969,272.875 Q508.4063,273.4531 509.875,273.2344 Q510.4063,273.1563 510.375,272.7344 Q510.2031,271.2969 509.4844,270.4844 Q508.625,269.5156 507.0625,269.5156 Z \"/><text fill=\"#000000\" font-family=\"sans-serif\" font-size=\"12\" lengthAdjust=\"spacingAndGlyphs\" textLength=\"75\" x=\"521.5\" y=\"281.6045\">NoCommand</text><line style=\"stroke: #A80036; stroke-width: 1.5;\" x1=\"493.5\" x2=\"598.5\" y1=\"292\" y2=\"292\"/><line style=\"stroke: #A80036; stroke-width: 1.5;\" x1=\"493.5\" x2=\"598.5\" y1=\"300\" y2=\"300\"/><rect fill=\"#FEFECE\" filter=\"url(#f1)\" height=\"138.6533\" style=\"stroke: #A80036; stroke-width: 1.5;\" width=\"230\" x=\"105\" y=\"8\"/><ellipse cx=\"147\" cy=\"24\" fill=\"#ADD1B2\" rx=\"11\" ry=\"11\" style=\"stroke: #A80036; stroke-width: 1.0;\"/><path d=\"M146.5625,17.5156 Q143.8281,17.5156 142.75,19.1406 Q141.6094,20.8594 141.6094,23.7813 Q141.6094,27.0781 142.7656,28.7813 Q143.75,30.2813 146.3594,30.2813 Q147.9375,30.2813 148.8125,29.4531 Q149.7969,28.5 149.9375,26.375 Q149.9375,26.0781 149.7656,25.9063 Q149.6406,25.75 149.4219,25.7344 Q148.2031,25.7344 148.0469,25.8594 Q147.875,26.0156 147.875,26.2813 Q147.8438,27.7656 147.1875,28.5781 Q146.5781,29.375 146.5,29.375 Q145.1719,29.375 144.3906,27.7813 Q143.6406,26.2344 143.6406,23.75 Q143.6406,21.125 144.5781,19.6719 Q145.4063,18.4219 146.6875,18.4219 Q146.6875,18.4219 147.0313,19.0469 Q147.6563,19.7188 147.7969,20.875 Q147.9063,21.4531 149.375,21.2344 Q149.9063,21.1563 149.875,20.7344 Q149.7031,19.2969 148.9844,18.4844 Q148.125,17.5156 146.5625,17.5156 Z \"/><text fill=\"#000000\" font-family=\"sans-serif\" font-size=\"12\" lengthAdjust=\"spacingAndGlyphs\" textLength=\"138\" x=\"167\" y=\"29.6045\">RemoteControlWithUndo</text><line style=\"stroke: #A80036; stroke-width: 1.5;\" x1=\"106\" x2=\"334\" y1=\"40\" y2=\"40\"/><text fill=\"#000000\" font-family=\"sans-serif\" font-size=\"11\" lengthAdjust=\"spacingAndGlyphs\" textLength=\"121\" x=\"111\" y=\"56.6919\">onCommands:Command[]</text><text fill=\"#000000\" font-family=\"sans-serif\" font-size=\"11\" lengthAdjust=\"spacingAndGlyphs\" textLength=\"123\" x=\"111\" y=\"71.8008\">offCommands:Command[]</text><line style=\"stroke: #A80036; stroke-width: 1.5;\" x1=\"106\" x2=\"334\" y1=\"78.2178\" y2=\"78.2178\"/><ellipse cx=\"116\" cy=\"91.2722\" fill=\"#84BE84\" rx=\"3\" ry=\"3\" style=\"stroke: #038048; stroke-width: 1.0;\"/><text fill=\"#000000\" font-family=\"sans-serif\" font-size=\"11\" lengthAdjust=\"spacingAndGlyphs\" textLength=\"124\" x=\"125\" y=\"94.9097\">RemoteControlwithUndo()</text><ellipse cx=\"116\" cy=\"106.3811\" fill=\"#84BE84\" rx=\"3\" ry=\"3\" style=\"stroke: #038048; stroke-width: 1.0;\"/><text fill=\"#000000\" font-family=\"sans-serif\" font-size=\"11\" lengthAdjust=\"spacingAndGlyphs\" textLength=\"204\" x=\"125\" y=\"110.0186\">setCommand(int,Command,Command):void</text><ellipse cx=\"116\" cy=\"121.49\" fill=\"#84BE84\" rx=\"3\" ry=\"3\" style=\"stroke: #038048; stroke-width: 1.0;\"/><text fill=\"#000000\" font-family=\"sans-serif\" font-size=\"11\" lengthAdjust=\"spacingAndGlyphs\" textLength=\"143\" x=\"125\" y=\"125.1274\">onButtonWasPushed(int):void</text><ellipse cx=\"116\" cy=\"136.5989\" fill=\"#84BE84\" rx=\"3\" ry=\"3\" style=\"stroke: #038048; stroke-width: 1.0;\"/><text fill=\"#000000\" font-family=\"sans-serif\" font-size=\"11\" lengthAdjust=\"spacingAndGlyphs\" textLength=\"145\" x=\"125\" y=\"140.2363\">offButtonWasPushed(int):void</text><rect fill=\"#FEFECE\" filter=\"url(#f1)\" height=\"48\" style=\"stroke: #A80036; stroke-width: 1.5;\" width=\"64\" x=\"6\" y=\"53.5\"/><ellipse cx=\"21\" cy=\"69.5\" fill=\"#ADD1B2\" rx=\"11\" ry=\"11\" style=\"stroke: #A80036; stroke-width: 1.0;\"/><path d=\"M20.5625,63.0156 Q17.8281,63.0156 16.75,64.6406 Q15.6094,66.3594 15.6094,69.2813 Q15.6094,72.5781 16.7656,74.2813 Q17.75,75.7813 20.3594,75.7813 Q21.9375,75.7813 22.8125,74.9531 Q23.7969,74 23.9375,71.875 Q23.9375,71.5781 23.7656,71.4063 Q23.6406,71.25 23.4219,71.2344 Q22.2031,71.2344 22.0469,71.3594 Q21.875,71.5156 21.875,71.7813 Q21.8438,73.2656 21.1875,74.0781 Q20.5781,74.875 20.5,74.875 Q19.1719,74.875 18.3906,73.2813 Q17.6406,71.7344 17.6406,69.25 Q17.6406,66.625 18.5781,65.1719 Q19.4063,63.9219 20.6875,63.9219 Q20.6875,63.9219 21.0313,64.5469 Q21.6563,65.2188 21.7969,66.375 Q21.9063,66.9531 23.375,66.7344 Q23.9063,66.6563 23.875,66.2344 Q23.7031,64.7969 22.9844,63.9844 Q22.125,63.0156 20.5625,63.0156 Z \"/><text fill=\"#000000\" font-family=\"sans-serif\" font-size=\"12\" lengthAdjust=\"spacingAndGlyphs\" textLength=\"32\" x=\"35\" y=\"75.1045\">Client</text><line style=\"stroke: #A80036; stroke-width: 1.5;\" x1=\"7\" x2=\"69\" y1=\"85.5\" y2=\"85.5\"/><line style=\"stroke: #A80036; stroke-width: 1.5;\" x1=\"7\" x2=\"69\" y1=\"93.5\" y2=\"93.5\"/><path d=\"M409.132,137 C404.708,166.182 399.397,201.222 395.086,229.66 \" fill=\"none\" style=\"stroke: #A80036; stroke-width: 1.0; stroke-dasharray: 7.0,7.0;\"/><polygon fill=\"none\" points=\"402.251,135.69,412.169,116.965,416.092,137.788,402.251,135.69\" style=\"stroke: #A80036; stroke-width: 1.0;\"/><path d=\"M368.068,131.476 C363.002,136.744 357.914,141.992 353,147 C313.538,187.215 266.637,233.027 238.926,259.896 \" fill=\"none\" style=\"stroke: #A80036; stroke-width: 1.0; stroke-dasharray: 7.0,7.0;\"/><polygon fill=\"none\" points=\"363.248,126.388,382.124,116.761,373.371,136.058,363.248,126.388\" style=\"stroke: #A80036; stroke-width: 1.0;\"/><path d=\"M452.772,134.054 C478.632,175.37 512.601,229.641 531.577,259.957 \" fill=\"none\" style=\"stroke: #A80036; stroke-width: 1.0; stroke-dasharray: 7.0,7.0;\"/><polygon fill=\"none\" points=\"446.753,137.632,442.076,116.965,458.621,130.204,446.753,137.632\" style=\"stroke: #A80036; stroke-width: 1.0;\"/><path d=\"M115.574,202.908 C125.094,192.465 136.07,183.25 148.5,177 C201.311,150.446 226.969,154.187 281.5,177 C307.853,188.025 330.963,209.195 348.784,229.814 \" fill=\"none\" style=\"stroke: #A80036; stroke-width: 1.0;\"/><polygon fill=\"#A80036\" points=\"112.133,206.808,121.0876,202.7073,115.4417,203.0593,115.0897,197.4134,112.133,206.808\" style=\"stroke: #A80036; stroke-width: 1.0;\"/><path d=\"M118.876,284 C128.641,284 138.407,284 148.172,284 \" fill=\"none\" style=\"stroke: #A80036; stroke-width: 1.0;\"/><polygon fill=\"#A80036\" points=\"113.77,284,122.77,288,118.77,284,122.77,280,113.77,284\" style=\"stroke: #A80036; stroke-width: 1.0;\"/><path d=\"M335.242,77.5 C345.061,77.5 354.879,77.5 364.698,77.5 \" fill=\"none\" style=\"stroke: #A80036; stroke-width: 1.0;\"/><polygon fill=\"#A80036\" points=\"369.832,77.5,360.832,73.5,364.832,77.5,360.832,81.5,369.832,77.5\" style=\"stroke: #A80036; stroke-width: 1.0;\"/><path d=\"M70.3477,77.5 C80.1378,77.5 89.928,77.5 99.7182,77.5 \" fill=\"none\" style=\"stroke: #A80036; stroke-width: 1.0;\"/><polygon fill=\"#A80036\" points=\"104.8378,77.5,95.8378,73.5,99.8378,77.5,95.8378,81.5,104.8378,77.5\" style=\"stroke: #A80036; stroke-width: 1.0;\"/><path d=\"M41.4958,101.561 C45.1784,125.854 51.1901,165.512 56.6554,201.565 \" fill=\"none\" style=\"stroke: #A80036; stroke-width: 1.0;\"/><polygon fill=\"#A80036\" points=\"57.4574,206.856,60.0622,197.3578,56.7074,201.9126,52.1527,198.5578,57.4574,206.856\" style=\"stroke: #A80036; stroke-width: 1.0;\"/></g></svg>"
      ],
      "text/plain": [
       "<IPython.core.display.SVG object>"
      ]
     },
     "execution_count": 41,
     "metadata": {},
     "output_type": "execute_result"
    }
   ],
   "source": [
    "%%plantuml\n",
    "@startuml\n",
    "\n",
    "interface Command{\n",
    "    +execute():void\n",
    "    +undo():void\n",
    "}\n",
    "\n",
    "class LightOnCommand{\n",
    "    -light:Light\n",
    "    +LightOnCommand(Light)\n",
    "    +execute():void\n",
    "    +undo():void\n",
    "}\n",
    "class LightOffCommand\n",
    "class Light{\n",
    "    level:int\n",
    "    location:String\n",
    "    +Light(String)\n",
    "    +on():void\n",
    "    +off():void\n",
    "    +dim(int):void \n",
    "    +getLevel():int\n",
    "}\n",
    "class NoCommand\n",
    "class RemoteControlWithUndo{\n",
    "    onCommands:Command[]\n",
    "    offCommands:Command[]\n",
    "    +RemoteControlwithUndo()\n",
    "    +setCommand(int,Command,Command):void\n",
    "    +onButtonWasPushed(int):void\n",
    "    +offButtonWasPushed(int):void    \n",
    "}\n",
    "Command <|.. LightOnCommand\n",
    "Command <|.. LightOffCommand\n",
    "Command <|.. NoCommand\n",
    "LightOnCommand -left-> Light\n",
    "LightOffCommand -left-> Light\n",
    "RemoteControlWithUndo -right-> Command\n",
    "Client -> RemoteControlWithUndo\n",
    "Client -down-> Light\n",
    "@enduml"
   ]
  },
  {
   "cell_type": "code",
   "execution_count": null,
   "metadata": {
    "collapsed": true
   },
   "outputs": [],
   "source": []
  }
 ],
 "metadata": {
  "kernelspec": {
   "display_name": "Python 2",
   "language": "python",
   "name": "python2"
  },
  "language_info": {
   "codemirror_mode": {
    "name": "ipython",
    "version": 2
   },
   "file_extension": ".py",
   "mimetype": "text/x-python",
   "name": "python",
   "nbconvert_exporter": "python",
   "pygments_lexer": "ipython2",
   "version": "2.7.10"
  }
 },
 "nbformat": 4,
 "nbformat_minor": 0
}
