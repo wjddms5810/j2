{
 "cells": [
  {
   "cell_type": "code",
   "execution_count": 2,
   "metadata": {
    "collapsed": false
   },
   "outputs": [
    {
     "name": "stdout",
     "output_type": "stream",
     "text": [
      "Installed plantuml_magics.py. To use it, type:\n",
      "  %load_ext plantuml_magics\n"
     ]
    },
    {
     "name": "stderr",
     "output_type": "stream",
     "text": [
      "C:\\Anaconda\\lib\\site-packages\\IPython\\core\\magics\\extension.py:47: UserWarning: %install_ext` is deprecated, please distribute your extension(s)as a python packages.\n",
      "  \"as a python packages.\", UserWarning)\n"
     ]
    }
   ],
   "source": [
    "\n",
    "%install_ext https://raw.githubusercontent.com/sberke/ipython-plantuml/master/plantuml_magics.py\n"
   ]
  },
  {
   "cell_type": "code",
   "execution_count": null,
   "metadata": {
    "collapsed": true
   },
   "outputs": [],
   "source": []
  },
  {
   "cell_type": "code",
   "execution_count": 3,
   "metadata": {
    "collapsed": true
   },
   "outputs": [],
   "source": [
    "%load_ext plantuml_magics"
   ]
  },
  {
   "cell_type": "code",
   "execution_count": 4,
   "metadata": {
    "collapsed": false
   },
   "outputs": [
    {
     "data": {
      "text/plain": [
       "['.\\\\plantuml.jar']"
      ]
     },
     "execution_count": 4,
     "metadata": {},
     "output_type": "execute_result"
    }
   ],
   "source": [
    "import glob\n",
    "glob.glob(r'./*.jar')"
   ]
  },
  {
   "cell_type": "code",
   "execution_count": 9,
   "metadata": {
    "collapsed": false
   },
   "outputs": [
    {
     "data": {
      "image/svg+xml": [
       "<svg height=\"244px\" style=\"width:768px;height:244px;\" version=\"1.1\" viewBox=\"0 0 768 244\" width=\"768px\" xmlns=\"http://www.w3.org/2000/svg\" xmlns:xlink=\"http://www.w3.org/1999/xlink\"><defs><filter height=\"300%\" id=\"f1\" width=\"300%\" x=\"-1\" y=\"-1\"><feGaussianBlur result=\"blurOut\" stdDeviation=\"2.0\"/><feColorMatrix in=\"blurOut\" result=\"blurOut2\" type=\"matrix\" values=\"0 0 0 0 0 0 0 0 0 0 0 0 0 0 0 0 0 0 .4 0\"/><feOffset dx=\"4.0\" dy=\"4.0\" in=\"blurOut2\" result=\"blurOut3\"/><feBlend in=\"SourceGraphic\" in2=\"blurOut3\" mode=\"normal\"/></filter></defs><g><rect fill=\"#FEFECE\" filter=\"url(#f1)\" height=\"48\" style=\"stroke: #A80036; stroke-width: 1.5;\" width=\"64\" x=\"209\" y=\"64\"/><ellipse cx=\"224\" cy=\"80\" fill=\"#ADD1B2\" rx=\"11\" ry=\"11\" style=\"stroke: #A80036; stroke-width: 1.0;\"/><path d=\"M223.5625,73.5156 Q220.8281,73.5156 219.75,75.1406 Q218.6094,76.8594 218.6094,79.7813 Q218.6094,83.0781 219.7656,84.7813 Q220.75,86.2813 223.3594,86.2813 Q224.9375,86.2813 225.8125,85.4531 Q226.7969,84.5 226.9375,82.375 Q226.9375,82.0781 226.7656,81.9063 Q226.6406,81.75 226.4219,81.7344 Q225.2031,81.7344 225.0469,81.8594 Q224.875,82.0156 224.875,82.2813 Q224.8438,83.7656 224.1875,84.5781 Q223.5781,85.375 223.5,85.375 Q222.1719,85.375 221.3906,83.7813 Q220.6406,82.2344 220.6406,79.75 Q220.6406,77.125 221.5781,75.6719 Q222.4063,74.4219 223.6875,74.4219 Q223.6875,74.4219 224.0313,75.0469 Q224.6563,75.7188 224.7969,76.875 Q224.9063,77.4531 226.375,77.2344 Q226.9063,77.1563 226.875,76.7344 Q226.7031,75.2969 225.9844,74.4844 Q225.125,73.5156 223.5625,73.5156 Z \"/><text fill=\"#000000\" font-family=\"sans-serif\" font-size=\"12\" lengthAdjust=\"spacingAndGlyphs\" textLength=\"32\" x=\"238\" y=\"85.6045\">Client</text><line style=\"stroke: #A80036; stroke-width: 1.5;\" x1=\"210\" x2=\"272\" y1=\"96\" y2=\"96\"/><line style=\"stroke: #A80036; stroke-width: 1.5;\" x1=\"210\" x2=\"272\" y1=\"104\" y2=\"104\"/><rect fill=\"#FEFECE\" filter=\"url(#f1)\" height=\"63.1089\" style=\"stroke: #A80036; stroke-width: 1.5;\" width=\"73\" x=\"549.5\" y=\"56.5\"/><ellipse cx=\"564.5\" cy=\"72.5\" fill=\"#B4A7E5\" rx=\"11\" ry=\"11\" style=\"stroke: #A80036; stroke-width: 1.0;\"/><path d=\"M562.2031,66.625 L562.2031,78.25 Q562.2031,78.5 562.3594,78.6563 Q562.5,78.7969 563.7188,78.7969 Q563.9219,78.7969 564.0625,78.6719 Q564.2344,78.5156 564.2344,78.25 L564.2344,66.5781 Q564.2344,66.3125 564.0625,66.1719 Q563.8438,65.9531 562.7188,66.0313 Q562.5,66.0313 562.3594,66.1875 Q562.2031,66.3438 562.2031,66.625 Z \"/><text fill=\"#000000\" font-family=\"sans-serif\" font-size=\"12\" font-style=\"italic\" lengthAdjust=\"spacingAndGlyphs\" textLength=\"41\" x=\"578.5\" y=\"78.1045\">Flyable</text><line style=\"stroke: #A80036; stroke-width: 1.5;\" x1=\"550.5\" x2=\"621.5\" y1=\"88.5\" y2=\"88.5\"/><line style=\"stroke: #A80036; stroke-width: 1.5;\" x1=\"550.5\" x2=\"621.5\" y1=\"96.5\" y2=\"96.5\"/><ellipse cx=\"560.5\" cy=\"109.5544\" fill=\"#84BE84\" rx=\"3\" ry=\"3\" style=\"stroke: #038048; stroke-width: 1.0;\"/><text fill=\"#000000\" font-family=\"sans-serif\" font-size=\"11\" lengthAdjust=\"spacingAndGlyphs\" textLength=\"20\" x=\"569.5\" y=\"113.1919\">fly()</text><rect fill=\"#FEFECE\" filter=\"url(#f1)\" height=\"63.1089\" style=\"stroke: #A80036; stroke-width: 1.5;\" width=\"93\" x=\"414.5\" y=\"56.5\"/><ellipse cx=\"429.5\" cy=\"72.5\" fill=\"#B4A7E5\" rx=\"11\" ry=\"11\" style=\"stroke: #A80036; stroke-width: 1.0;\"/><path d=\"M427.2031,66.625 L427.2031,78.25 Q427.2031,78.5 427.3594,78.6563 Q427.5,78.7969 428.7188,78.7969 Q428.9219,78.7969 429.0625,78.6719 Q429.2344,78.5156 429.2344,78.25 L429.2344,66.5781 Q429.2344,66.3125 429.0625,66.1719 Q428.8438,65.9531 427.7188,66.0313 Q427.5,66.0313 427.3594,66.1875 Q427.2031,66.3438 427.2031,66.625 Z \"/><text fill=\"#000000\" font-family=\"sans-serif\" font-size=\"12\" font-style=\"italic\" lengthAdjust=\"spacingAndGlyphs\" textLength=\"61\" x=\"443.5\" y=\"78.1045\">Quackable</text><line style=\"stroke: #A80036; stroke-width: 1.5;\" x1=\"415.5\" x2=\"506.5\" y1=\"88.5\" y2=\"88.5\"/><line style=\"stroke: #A80036; stroke-width: 1.5;\" x1=\"415.5\" x2=\"506.5\" y1=\"96.5\" y2=\"96.5\"/><ellipse cx=\"425.5\" cy=\"109.5544\" fill=\"#84BE84\" rx=\"3\" ry=\"3\" style=\"stroke: #038048; stroke-width: 1.0;\"/><text fill=\"#000000\" font-family=\"sans-serif\" font-size=\"11\" lengthAdjust=\"spacingAndGlyphs\" textLength=\"37\" x=\"434.5\" y=\"113.1919\">quack()</text><rect fill=\"#FEFECE\" filter=\"url(#f1)\" height=\"78.2178\" style=\"stroke: #A80036; stroke-width: 1.5;\" width=\"68\" x=\"308\" y=\"49\"/><ellipse cx=\"326.6\" cy=\"65\" fill=\"#ADD1B2\" rx=\"11\" ry=\"11\" style=\"stroke: #A80036; stroke-width: 1.0;\"/><path d=\"M326.1625,58.5156 Q323.4281,58.5156 322.35,60.1406 Q321.2094,61.8594 321.2094,64.7813 Q321.2094,68.0781 322.3656,69.7813 Q323.35,71.2813 325.9594,71.2813 Q327.5375,71.2813 328.4125,70.4531 Q329.3969,69.5 329.5375,67.375 Q329.5375,67.0781 329.3656,66.9063 Q329.2406,66.75 329.0219,66.7344 Q327.8031,66.7344 327.6469,66.8594 Q327.475,67.0156 327.475,67.2813 Q327.4438,68.7656 326.7875,69.5781 Q326.1781,70.375 326.1,70.375 Q324.7719,70.375 323.9906,68.7813 Q323.2406,67.2344 323.2406,64.75 Q323.2406,62.125 324.1781,60.6719 Q325.0063,59.4219 326.2875,59.4219 Q326.2875,59.4219 326.6313,60.0469 Q327.2563,60.7188 327.3969,61.875 Q327.5063,62.4531 328.975,62.2344 Q329.5063,62.1563 329.475,61.7344 Q329.3031,60.2969 328.5844,59.4844 Q327.725,58.5156 326.1625,58.5156 Z \"/><text fill=\"#000000\" font-family=\"sans-serif\" font-size=\"12\" lengthAdjust=\"spacingAndGlyphs\" textLength=\"28\" x=\"341.4\" y=\"70.6045\">Duck</text><line style=\"stroke: #A80036; stroke-width: 1.5;\" x1=\"309\" x2=\"375\" y1=\"81\" y2=\"81\"/><line style=\"stroke: #A80036; stroke-width: 1.5;\" x1=\"309\" x2=\"375\" y1=\"89\" y2=\"89\"/><ellipse cx=\"319\" cy=\"102.0544\" fill=\"#84BE84\" rx=\"3\" ry=\"3\" style=\"stroke: #038048; stroke-width: 1.0;\"/><text fill=\"#000000\" font-family=\"sans-serif\" font-size=\"11\" lengthAdjust=\"spacingAndGlyphs\" textLength=\"32\" x=\"328\" y=\"105.6919\">swin()</text><ellipse cx=\"319\" cy=\"117.1633\" fill=\"#84BE84\" rx=\"3\" ry=\"3\" style=\"stroke: #038048; stroke-width: 1.0;\"/><text fill=\"#000000\" font-family=\"sans-serif\" font-size=\"11\" lengthAdjust=\"spacingAndGlyphs\" textLength=\"42\" x=\"328\" y=\"120.8008\">display()</text><rect fill=\"#FEFECE\" filter=\"url(#f1)\" height=\"48\" style=\"stroke: #A80036; stroke-width: 1.5;\" width=\"100\" x=\"6\" y=\"187\"/><ellipse cx=\"21\" cy=\"203\" fill=\"#ADD1B2\" rx=\"11\" ry=\"11\" style=\"stroke: #A80036; stroke-width: 1.0;\"/><path d=\"M20.5625,196.5156 Q17.8281,196.5156 16.75,198.1406 Q15.6094,199.8594 15.6094,202.7813 Q15.6094,206.0781 16.7656,207.7813 Q17.75,209.2813 20.3594,209.2813 Q21.9375,209.2813 22.8125,208.4531 Q23.7969,207.5 23.9375,205.375 Q23.9375,205.0781 23.7656,204.9063 Q23.6406,204.75 23.4219,204.7344 Q22.2031,204.7344 22.0469,204.8594 Q21.875,205.0156 21.875,205.2813 Q21.8438,206.7656 21.1875,207.5781 Q20.5781,208.375 20.5,208.375 Q19.1719,208.375 18.3906,206.7813 Q17.6406,205.2344 17.6406,202.75 Q17.6406,200.125 18.5781,198.6719 Q19.4063,197.4219 20.6875,197.4219 Q20.6875,197.4219 21.0313,198.0469 Q21.6563,198.7188 21.7969,199.875 Q21.9063,200.4531 23.375,200.2344 Q23.9063,200.1563 23.875,199.7344 Q23.7031,198.2969 22.9844,197.4844 Q22.125,196.5156 20.5625,196.5156 Z \"/><text fill=\"#000000\" font-family=\"sans-serif\" font-size=\"12\" lengthAdjust=\"spacingAndGlyphs\" textLength=\"68\" x=\"35\" y=\"208.6045\">MallardDuck</text><line style=\"stroke: #A80036; stroke-width: 1.5;\" x1=\"7\" x2=\"105\" y1=\"219\" y2=\"219\"/><line style=\"stroke: #A80036; stroke-width: 1.5;\" x1=\"7\" x2=\"105\" y1=\"227\" y2=\"227\"/><rect fill=\"#FEFECE\" filter=\"url(#f1)\" height=\"48\" style=\"stroke: #A80036; stroke-width: 1.5;\" width=\"111\" x=\"141.5\" y=\"187\"/><ellipse cx=\"156.5\" cy=\"203\" fill=\"#ADD1B2\" rx=\"11\" ry=\"11\" style=\"stroke: #A80036; stroke-width: 1.0;\"/><path d=\"M156.0625,196.5156 Q153.3281,196.5156 152.25,198.1406 Q151.1094,199.8594 151.1094,202.7813 Q151.1094,206.0781 152.2656,207.7813 Q153.25,209.2813 155.8594,209.2813 Q157.4375,209.2813 158.3125,208.4531 Q159.2969,207.5 159.4375,205.375 Q159.4375,205.0781 159.2656,204.9063 Q159.1406,204.75 158.9219,204.7344 Q157.7031,204.7344 157.5469,204.8594 Q157.375,205.0156 157.375,205.2813 Q157.3438,206.7656 156.6875,207.5781 Q156.0781,208.375 156,208.375 Q154.6719,208.375 153.8906,206.7813 Q153.1406,205.2344 153.1406,202.75 Q153.1406,200.125 154.0781,198.6719 Q154.9063,197.4219 156.1875,197.4219 Q156.1875,197.4219 156.5313,198.0469 Q157.1563,198.7188 157.2969,199.875 Q157.4063,200.4531 158.875,200.2344 Q159.4063,200.1563 159.375,199.7344 Q159.2031,198.2969 158.4844,197.4844 Q157.625,196.5156 156.0625,196.5156 Z \"/><text fill=\"#000000\" font-family=\"sans-serif\" font-size=\"12\" lengthAdjust=\"spacingAndGlyphs\" textLength=\"79\" x=\"170.5\" y=\"208.6045\">RedheadDuck</text><line style=\"stroke: #A80036; stroke-width: 1.5;\" x1=\"142.5\" x2=\"251.5\" y1=\"219\" y2=\"219\"/><line style=\"stroke: #A80036; stroke-width: 1.5;\" x1=\"142.5\" x2=\"251.5\" y1=\"227\" y2=\"227\"/><rect fill=\"#FEFECE\" filter=\"url(#f1)\" height=\"48\" style=\"stroke: #A80036; stroke-width: 1.5;\" width=\"108\" x=\"288\" y=\"187\"/><ellipse cx=\"303\" cy=\"203\" fill=\"#ADD1B2\" rx=\"11\" ry=\"11\" style=\"stroke: #A80036; stroke-width: 1.0;\"/><path d=\"M302.5625,196.5156 Q299.8281,196.5156 298.75,198.1406 Q297.6094,199.8594 297.6094,202.7813 Q297.6094,206.0781 298.7656,207.7813 Q299.75,209.2813 302.3594,209.2813 Q303.9375,209.2813 304.8125,208.4531 Q305.7969,207.5 305.9375,205.375 Q305.9375,205.0781 305.7656,204.9063 Q305.6406,204.75 305.4219,204.7344 Q304.2031,204.7344 304.0469,204.8594 Q303.875,205.0156 303.875,205.2813 Q303.8438,206.7656 303.1875,207.5781 Q302.5781,208.375 302.5,208.375 Q301.1719,208.375 300.3906,206.7813 Q299.6406,205.2344 299.6406,202.75 Q299.6406,200.125 300.5781,198.6719 Q301.4063,197.4219 302.6875,197.4219 Q302.6875,197.4219 303.0313,198.0469 Q303.6563,198.7188 303.7969,199.875 Q303.9063,200.4531 305.375,200.2344 Q305.9063,200.1563 305.875,199.7344 Q305.7031,198.2969 304.9844,197.4844 Q304.125,196.5156 302.5625,196.5156 Z \"/><text fill=\"#000000\" font-family=\"sans-serif\" font-size=\"12\" lengthAdjust=\"spacingAndGlyphs\" textLength=\"76\" x=\"317\" y=\"208.6045\">RubbberDuck</text><line style=\"stroke: #A80036; stroke-width: 1.5;\" x1=\"289\" x2=\"395\" y1=\"219\" y2=\"219\"/><line style=\"stroke: #A80036; stroke-width: 1.5;\" x1=\"289\" x2=\"395\" y1=\"227\" y2=\"227\"/><rect fill=\"#FEFECE\" filter=\"url(#f1)\" height=\"48\" style=\"stroke: #A80036; stroke-width: 1.5;\" width=\"104\" x=\"534\" y=\"187\"/><ellipse cx=\"549\" cy=\"203\" fill=\"#ADD1B2\" rx=\"11\" ry=\"11\" style=\"stroke: #A80036; stroke-width: 1.0;\"/><path d=\"M548.5625,196.5156 Q545.8281,196.5156 544.75,198.1406 Q543.6094,199.8594 543.6094,202.7813 Q543.6094,206.0781 544.7656,207.7813 Q545.75,209.2813 548.3594,209.2813 Q549.9375,209.2813 550.8125,208.4531 Q551.7969,207.5 551.9375,205.375 Q551.9375,205.0781 551.7656,204.9063 Q551.6406,204.75 551.4219,204.7344 Q550.2031,204.7344 550.0469,204.8594 Q549.875,205.0156 549.875,205.2813 Q549.8438,206.7656 549.1875,207.5781 Q548.5781,208.375 548.5,208.375 Q547.1719,208.375 546.3906,206.7813 Q545.6406,205.2344 545.6406,202.75 Q545.6406,200.125 546.5781,198.6719 Q547.4063,197.4219 548.6875,197.4219 Q548.6875,197.4219 549.0313,198.0469 Q549.6563,198.7188 549.7969,199.875 Q549.9063,200.4531 551.375,200.2344 Q551.9063,200.1563 551.875,199.7344 Q551.7031,198.2969 550.9844,197.4844 Q550.125,196.5156 548.5625,196.5156 Z \"/><text fill=\"#000000\" font-family=\"sans-serif\" font-size=\"12\" lengthAdjust=\"spacingAndGlyphs\" textLength=\"72\" x=\"563\" y=\"208.6045\">FlywithWings</text><line style=\"stroke: #A80036; stroke-width: 1.5;\" x1=\"535\" x2=\"637\" y1=\"219\" y2=\"219\"/><line style=\"stroke: #A80036; stroke-width: 1.5;\" x1=\"535\" x2=\"637\" y1=\"227\" y2=\"227\"/><rect fill=\"#FEFECE\" filter=\"url(#f1)\" height=\"48\" style=\"stroke: #A80036; stroke-width: 1.5;\" width=\"86\" x=\"673\" y=\"187\"/><ellipse cx=\"688\" cy=\"203\" fill=\"#ADD1B2\" rx=\"11\" ry=\"11\" style=\"stroke: #A80036; stroke-width: 1.0;\"/><path d=\"M687.5625,196.5156 Q684.8281,196.5156 683.75,198.1406 Q682.6094,199.8594 682.6094,202.7813 Q682.6094,206.0781 683.7656,207.7813 Q684.75,209.2813 687.3594,209.2813 Q688.9375,209.2813 689.8125,208.4531 Q690.7969,207.5 690.9375,205.375 Q690.9375,205.0781 690.7656,204.9063 Q690.6406,204.75 690.4219,204.7344 Q689.2031,204.7344 689.0469,204.8594 Q688.875,205.0156 688.875,205.2813 Q688.8438,206.7656 688.1875,207.5781 Q687.5781,208.375 687.5,208.375 Q686.1719,208.375 685.3906,206.7813 Q684.6406,205.2344 684.6406,202.75 Q684.6406,200.125 685.5781,198.6719 Q686.4063,197.4219 687.6875,197.4219 Q687.6875,197.4219 688.0313,198.0469 Q688.6563,198.7188 688.7969,199.875 Q688.9063,200.4531 690.375,200.2344 Q690.9063,200.1563 690.875,199.7344 Q690.7031,198.2969 689.9844,197.4844 Q689.125,196.5156 687.5625,196.5156 Z \"/><text fill=\"#000000\" font-family=\"sans-serif\" font-size=\"12\" lengthAdjust=\"spacingAndGlyphs\" textLength=\"54\" x=\"702\" y=\"208.6045\">FlyNoWay</text><line style=\"stroke: #A80036; stroke-width: 1.5;\" x1=\"674\" x2=\"758\" y1=\"219\" y2=\"219\"/><line style=\"stroke: #A80036; stroke-width: 1.5;\" x1=\"674\" x2=\"758\" y1=\"227\" y2=\"227\"/><rect fill=\"#FEFECE\" filter=\"url(#f1)\" height=\"48\" style=\"stroke: #A80036; stroke-width: 1.5;\" width=\"67\" x=\"431.5\" y=\"187\"/><ellipse cx=\"446.5\" cy=\"203\" fill=\"#ADD1B2\" rx=\"11\" ry=\"11\" style=\"stroke: #A80036; stroke-width: 1.0;\"/><path d=\"M446.0625,196.5156 Q443.3281,196.5156 442.25,198.1406 Q441.1094,199.8594 441.1094,202.7813 Q441.1094,206.0781 442.2656,207.7813 Q443.25,209.2813 445.8594,209.2813 Q447.4375,209.2813 448.3125,208.4531 Q449.2969,207.5 449.4375,205.375 Q449.4375,205.0781 449.2656,204.9063 Q449.1406,204.75 448.9219,204.7344 Q447.7031,204.7344 447.5469,204.8594 Q447.375,205.0156 447.375,205.2813 Q447.3438,206.7656 446.6875,207.5781 Q446.0781,208.375 446,208.375 Q444.6719,208.375 443.8906,206.7813 Q443.1406,205.2344 443.1406,202.75 Q443.1406,200.125 444.0781,198.6719 Q444.9063,197.4219 446.1875,197.4219 Q446.1875,197.4219 446.5313,198.0469 Q447.1563,198.7188 447.2969,199.875 Q447.4063,200.4531 448.875,200.2344 Q449.4063,200.1563 449.375,199.7344 Q449.2031,198.2969 448.4844,197.4844 Q447.625,196.5156 446.0625,196.5156 Z \"/><text fill=\"#000000\" font-family=\"sans-serif\" font-size=\"12\" lengthAdjust=\"spacingAndGlyphs\" textLength=\"35\" x=\"460.5\" y=\"208.6045\">Qauck</text><line style=\"stroke: #A80036; stroke-width: 1.5;\" x1=\"432.5\" x2=\"497.5\" y1=\"219\" y2=\"219\"/><line style=\"stroke: #A80036; stroke-width: 1.5;\" x1=\"432.5\" x2=\"497.5\" y1=\"227\" y2=\"227\"/><path d=\"M290.849,126.548 C290.566,126.7 290.283,126.851 290,127 C273.301,135.8207 169.804,171.4614 106.174,193.0681 \" fill=\"none\" style=\"stroke: #A80036; stroke-width: 1.0;\"/><polygon fill=\"none\" points=\"287.249,120.544,307.948,116.01,294.594,132.462,287.249,120.544\" style=\"stroke: #A80036; stroke-width: 1.0;\"/><path d=\"M291.969,130.75 C269.48,149.517 243.79,170.9548 224.805,186.7975 \" fill=\"none\" style=\"stroke: #A80036; stroke-width: 1.0;\"/><polygon fill=\"none\" points=\"287.796,125.115,307.637,117.675,296.766,135.864,287.796,125.115\" style=\"stroke: #A80036; stroke-width: 1.0;\"/><path d=\"M342,147.3139 C342,161.2986 342,175.4391 342,186.7416 \" fill=\"none\" style=\"stroke: #A80036; stroke-width: 1.0;\"/><polygon fill=\"none\" points=\"335,147.2852,342,127.285,349,147.2851,335,147.2852\" style=\"stroke: #A80036; stroke-width: 1.0;\"/><path d=\"M273.352,88 C283.171,88 292.99,88 302.809,88 \" fill=\"none\" style=\"stroke: #A80036; stroke-width: 1.0;\"/><polygon fill=\"#A80036\" points=\"307.944,88,298.944,84,302.944,88,298.944,92,307.944,88\" style=\"stroke: #A80036; stroke-width: 1.0;\"/><path d=\"M372.692,48.817 C384.358,36.915 398.688,25.322 414.5,19 C452.88,3.656 468.824,4.418 507.5,19 C525.968,25.963 542.914,39.466 556.297,52.694 \" fill=\"none\" style=\"stroke: #A80036; stroke-width: 1.0;\"/><polygon fill=\"#A80036\" points=\"559.976,56.412,556.4907,47.2005,556.4598,52.8572,550.803,52.8264,559.976,56.412\" style=\"stroke: #A80036; stroke-width: 1.0;\"/><path d=\"M376.398,88 C387.384,88 398.37,88 409.356,88 \" fill=\"none\" style=\"stroke: #A80036; stroke-width: 1.0;\"/><polygon fill=\"#A80036\" points=\"414.403,88,405.403,84,409.403,88,405.403,92,414.403,88\" style=\"stroke: #A80036; stroke-width: 1.0;\"/><path d=\"M586,139.6916 C586,156.0394 586,173.3688 586,186.7327 \" fill=\"none\" style=\"stroke: #A80036; stroke-width: 1.0; stroke-dasharray: 7.0,7.0;\"/><polygon fill=\"none\" points=\"579,139.5334,586,119.533,593,139.5334,579,139.5334\" style=\"stroke: #A80036; stroke-width: 1.0;\"/><path d=\"M633.467,133.181 C652.957,151.3211 674.719,171.577 691.002,186.7327 \" fill=\"none\" style=\"stroke: #A80036; stroke-width: 1.0; stroke-dasharray: 7.0,7.0;\"/><polygon fill=\"none\" points=\"628.675,138.2837,618.804,119.533,638.214,128.036,628.675,138.2837\" style=\"stroke: #A80036; stroke-width: 1.0;\"/><path d=\"M462.676,139.6916 C463.216,156.0394 463.789,173.3688 464.231,186.7327 \" fill=\"none\" style=\"stroke: #A80036; stroke-width: 1.0; stroke-dasharray: 7.0,7.0;\"/><polygon fill=\"none\" points=\"455.674,139.7538,462.009,119.533,469.666,139.2912,455.674,139.7538\" style=\"stroke: #A80036; stroke-width: 1.0;\"/></g></svg>"
      ],
      "text/plain": [
       "<IPython.core.display.SVG object>"
      ]
     },
     "execution_count": 9,
     "metadata": {},
     "output_type": "execute_result"
    }
   ],
   "source": [
    "%%plantuml\n",
    "\n",
    "@startuml\n",
    "class Client\n",
    "interface Flyable{\n",
    "    +fly()\n",
    "}\n",
    "interface Quackable{\n",
    "    +quack()\n",
    "} \n",
    "class Duck{\n",
    "    +swin()\n",
    "    +display()\n",
    "}\n",
    "\n",
    "class MallardDuck\n",
    "class RedheadDuck \n",
    "class RubbberDuck\n",
    "\n",
    "Duck <|-- MallardDuck\n",
    "Duck <|-- RedheadDuck \n",
    "Duck <|-- RubbberDuck\n",
    "Client -right->Duck\n",
    "Duck -right-> Flyable\n",
    "Duck -right-> Quackable\n",
    "Flyable <|.. FlywithWings\n",
    "Flyable <|.. FlyNoWay\n",
    "Quackable <|.. Qauck\n",
    "@enduml"
   ]
  },
  {
   "cell_type": "code",
   "execution_count": 8,
   "metadata": {
    "collapsed": false
   },
   "outputs": [
    {
     "data": {
      "image/svg+xml": [
       "<svg height=\"192px\" style=\"width:593px;height:192px;\" version=\"1.1\" viewBox=\"0 0 593 192\" width=\"593px\" xmlns=\"http://www.w3.org/2000/svg\" xmlns:xlink=\"http://www.w3.org/1999/xlink\"><defs><filter height=\"300%\" id=\"f1\" width=\"300%\" x=\"-1\" y=\"-1\"><feGaussianBlur result=\"blurOut\" stdDeviation=\"2.0\"/><feColorMatrix in=\"blurOut\" result=\"blurOut2\" type=\"matrix\" values=\"0 0 0 0 0 0 0 0 0 0 0 0 0 0 0 0 0 0 .4 0\"/><feOffset dx=\"4.0\" dy=\"4.0\" in=\"blurOut2\" result=\"blurOut3\"/><feBlend in=\"SourceGraphic\" in2=\"blurOut3\" mode=\"normal\"/></filter></defs><g><rect fill=\"#FEFECE\" filter=\"url(#f1)\" height=\"48\" style=\"stroke: #A80036; stroke-width: 1.5;\" width=\"64\" x=\"300\" y=\"8\"/><ellipse cx=\"315\" cy=\"24\" fill=\"#ADD1B2\" rx=\"11\" ry=\"11\" style=\"stroke: #A80036; stroke-width: 1.0;\"/><path d=\"M314.5625,17.5156 Q311.8281,17.5156 310.75,19.1406 Q309.6094,20.8594 309.6094,23.7813 Q309.6094,27.0781 310.7656,28.7813 Q311.75,30.2813 314.3594,30.2813 Q315.9375,30.2813 316.8125,29.4531 Q317.7969,28.5 317.9375,26.375 Q317.9375,26.0781 317.7656,25.9063 Q317.6406,25.75 317.4219,25.7344 Q316.2031,25.7344 316.0469,25.8594 Q315.875,26.0156 315.875,26.2813 Q315.8438,27.7656 315.1875,28.5781 Q314.5781,29.375 314.5,29.375 Q313.1719,29.375 312.3906,27.7813 Q311.6406,26.2344 311.6406,23.75 Q311.6406,21.125 312.5781,19.6719 Q313.4063,18.4219 314.6875,18.4219 Q314.6875,18.4219 315.0313,19.0469 Q315.6563,19.7188 315.7969,20.875 Q315.9063,21.4531 317.375,21.2344 Q317.9063,21.1563 317.875,20.7344 Q317.7031,19.2969 316.9844,18.4844 Q316.125,17.5156 314.5625,17.5156 Z \"/><text fill=\"#000000\" font-family=\"sans-serif\" font-size=\"12\" lengthAdjust=\"spacingAndGlyphs\" textLength=\"32\" x=\"329\" y=\"29.6045\">Client</text><line style=\"stroke: #A80036; stroke-width: 1.5;\" x1=\"301\" x2=\"363\" y1=\"40\" y2=\"40\"/><line style=\"stroke: #A80036; stroke-width: 1.5;\" x1=\"301\" x2=\"363\" y1=\"48\" y2=\"48\"/><rect fill=\"#FEFECE\" filter=\"url(#f1)\" height=\"48\" style=\"stroke: #A80036; stroke-width: 1.5;\" width=\"113\" x=\"471.5\" y=\"8\"/><ellipse cx=\"486.5\" cy=\"24\" fill=\"#ADD1B2\" rx=\"11\" ry=\"11\" style=\"stroke: #A80036; stroke-width: 1.0;\"/><path d=\"M486.0625,17.5156 Q483.3281,17.5156 482.25,19.1406 Q481.1094,20.8594 481.1094,23.7813 Q481.1094,27.0781 482.2656,28.7813 Q483.25,30.2813 485.8594,30.2813 Q487.4375,30.2813 488.3125,29.4531 Q489.2969,28.5 489.4375,26.375 Q489.4375,26.0781 489.2656,25.9063 Q489.1406,25.75 488.9219,25.7344 Q487.7031,25.7344 487.5469,25.8594 Q487.375,26.0156 487.375,26.2813 Q487.3438,27.7656 486.6875,28.5781 Q486.0781,29.375 486,29.375 Q484.6719,29.375 483.8906,27.7813 Q483.1406,26.2344 483.1406,23.75 Q483.1406,21.125 484.0781,19.6719 Q484.9063,18.4219 486.1875,18.4219 Q486.1875,18.4219 486.5313,19.0469 Q487.1563,19.7188 487.2969,20.875 Q487.4063,21.4531 488.875,21.2344 Q489.4063,21.1563 489.375,20.7344 Q489.2031,19.2969 488.4844,18.4844 Q487.625,17.5156 486.0625,17.5156 Z \"/><text fill=\"#000000\" font-family=\"sans-serif\" font-size=\"12\" lengthAdjust=\"spacingAndGlyphs\" textLength=\"81\" x=\"500.5\" y=\"29.6045\">AutomaticDoor</text><line style=\"stroke: #A80036; stroke-width: 1.5;\" x1=\"472.5\" x2=\"583.5\" y1=\"40\" y2=\"40\"/><line style=\"stroke: #A80036; stroke-width: 1.5;\" x1=\"472.5\" x2=\"583.5\" y1=\"48\" y2=\"48\"/><rect fill=\"#FEFECE\" filter=\"url(#f1)\" height=\"48\" style=\"stroke: #A80036; stroke-width: 1.5;\" width=\"88\" x=\"224\" y=\"135\"/><ellipse cx=\"239\" cy=\"151\" fill=\"#ADD1B2\" rx=\"11\" ry=\"11\" style=\"stroke: #A80036; stroke-width: 1.0;\"/><path d=\"M238.5625,144.5156 Q235.8281,144.5156 234.75,146.1406 Q233.6094,147.8594 233.6094,150.7813 Q233.6094,154.0781 234.7656,155.7813 Q235.75,157.2813 238.3594,157.2813 Q239.9375,157.2813 240.8125,156.4531 Q241.7969,155.5 241.9375,153.375 Q241.9375,153.0781 241.7656,152.9063 Q241.6406,152.75 241.4219,152.7344 Q240.2031,152.7344 240.0469,152.8594 Q239.875,153.0156 239.875,153.2813 Q239.8438,154.7656 239.1875,155.5781 Q238.5781,156.375 238.5,156.375 Q237.1719,156.375 236.3906,154.7813 Q235.6406,153.2344 235.6406,150.75 Q235.6406,148.125 236.5781,146.6719 Q237.4063,145.4219 238.6875,145.4219 Q238.6875,145.4219 239.0313,146.0469 Q239.6563,146.7188 239.7969,147.875 Q239.9063,148.4531 241.375,148.2344 Q241.9063,148.1563 241.875,147.7344 Q241.7031,146.2969 240.9844,145.4844 Q240.125,144.5156 238.5625,144.5156 Z \"/><text fill=\"#000000\" font-family=\"sans-serif\" font-size=\"12\" lengthAdjust=\"spacingAndGlyphs\" textLength=\"56\" x=\"253\" y=\"156.6045\">KnobDoor</text><line style=\"stroke: #A80036; stroke-width: 1.5;\" x1=\"225\" x2=\"311\" y1=\"167\" y2=\"167\"/><line style=\"stroke: #A80036; stroke-width: 1.5;\" x1=\"225\" x2=\"311\" y1=\"175\" y2=\"175\"/><rect fill=\"#FEFECE\" filter=\"url(#f1)\" height=\"48\" style=\"stroke: #A80036; stroke-width: 1.5;\" width=\"97\" x=\"347.5\" y=\"135\"/><ellipse cx=\"362.5\" cy=\"151\" fill=\"#ADD1B2\" rx=\"11\" ry=\"11\" style=\"stroke: #A80036; stroke-width: 1.0;\"/><path d=\"M362.0625,144.5156 Q359.3281,144.5156 358.25,146.1406 Q357.1094,147.8594 357.1094,150.7813 Q357.1094,154.0781 358.2656,155.7813 Q359.25,157.2813 361.8594,157.2813 Q363.4375,157.2813 364.3125,156.4531 Q365.2969,155.5 365.4375,153.375 Q365.4375,153.0781 365.2656,152.9063 Q365.1406,152.75 364.9219,152.7344 Q363.7031,152.7344 363.5469,152.8594 Q363.375,153.0156 363.375,153.2813 Q363.3438,154.7656 362.6875,155.5781 Q362.0781,156.375 362,156.375 Q360.6719,156.375 359.8906,154.7813 Q359.1406,153.2344 359.1406,150.75 Q359.1406,148.125 360.0781,146.6719 Q360.9063,145.4219 362.1875,145.4219 Q362.1875,145.4219 362.5313,146.0469 Q363.1563,146.7188 363.2969,147.875 Q363.4063,148.4531 364.875,148.2344 Q365.4063,148.1563 365.375,147.7344 Q365.2031,146.2969 364.4844,145.4844 Q363.625,144.5156 362.0625,144.5156 Z \"/><text fill=\"#000000\" font-family=\"sans-serif\" font-size=\"12\" lengthAdjust=\"spacingAndGlyphs\" textLength=\"65\" x=\"376.5\" y=\"156.6045\">SlidingDoor</text><line style=\"stroke: #A80036; stroke-width: 1.5;\" x1=\"348.5\" x2=\"443.5\" y1=\"167\" y2=\"167\"/><line style=\"stroke: #A80036; stroke-width: 1.5;\" x1=\"348.5\" x2=\"443.5\" y1=\"175\" y2=\"175\"/><polygon fill=\"#FBFB77\" filter=\"url(#f1)\" points=\"6,18,6,45.856,230,45.856,230,28,220,18,6,18\" style=\"stroke: #A80036; stroke-width: 1.0;\"/><polygon fill=\"#FBFB77\" points=\"6,18,6,45.856,230,45.856,230,36,299.732,32,230,28,230,28,220,18,6,18\" style=\"stroke: #A80036; stroke-width: 1.0;\"/><line style=\"stroke: #A80036; stroke-width: 1.0;\" x1=\"220\" x2=\"220\" y1=\"18\" y2=\"28\"/><line style=\"stroke: #A80036; stroke-width: 1.0;\" x1=\"230\" x2=\"220\" y1=\"28\" y2=\"28\"/><text fill=\"#000000\" font-family=\"sans-serif\" font-size=\"13\" lengthAdjust=\"spacingAndGlyphs\" textLength=\"203\" x=\"12\" y=\"37.9995\">all different methods to open a door</text><path d=\"M364.365,32 C391.922,32 432.292,32 466.039,32 \" fill=\"none\" style=\"stroke: #A80036; stroke-width: 1.0;\"/><polygon fill=\"#A80036\" points=\"471.395,32,462.395,28,466.395,32,462.395,36,471.395,32\" style=\"stroke: #A80036; stroke-width: 1.0;\"/><text fill=\"#000000\" font-family=\"sans-serif\" font-size=\"13\" lengthAdjust=\"spacingAndGlyphs\" textLength=\"71\" x=\"382.25\" y=\"25.9995\">pressOpen()</text><path d=\"M306.978,56.158 C298.907,64.818 290.608,75.193 285,86 C277.94,99.6054 273.768,116.1733 271.325,129.9846 \" fill=\"none\" style=\"stroke: #A80036; stroke-width: 1.0;\"/><polygon fill=\"#A80036\" points=\"270.502,134.9377,275.9245,126.716,271.3224,130.0055,268.033,125.4033,270.502,134.9377\" style=\"stroke: #A80036; stroke-width: 1.0;\"/><text fill=\"#000000\" font-family=\"sans-serif\" font-size=\"13\" lengthAdjust=\"spacingAndGlyphs\" textLength=\"66\" x=\"286\" y=\"101.9995\">twistOpen()</text><path d=\"M343.888,56.219 C354.62,77.18 370.427,108.0536 381.816,130.2969 \" fill=\"none\" style=\"stroke: #A80036; stroke-width: 1.0;\"/><polygon fill=\"#A80036\" points=\"384.176,134.9058,383.6355,125.0718,381.8976,130.4551,376.5144,128.7172,384.176,134.9058\" style=\"stroke: #A80036; stroke-width: 1.0;\"/><text fill=\"#000000\" font-family=\"sans-serif\" font-size=\"13\" lengthAdjust=\"spacingAndGlyphs\" textLength=\"66\" x=\"368\" y=\"101.9995\">slideOpen()</text></g></svg>"
      ],
      "text/plain": [
       "<IPython.core.display.SVG object>"
      ]
     },
     "execution_count": 8,
     "metadata": {},
     "output_type": "execute_result"
    }
   ],
   "source": [
    "%%plantuml\n",
    "\n",
    "@startuml\n",
    "\n",
    "Client -right-> AutomaticDoor: pressOpen()\n",
    "Client --> KnobDoor: twistOpen()\n",
    "Client --> SlidingDoor: slideOpen()\n",
    "note left of Client\n",
    "    all different methods to open a door\n",
    "end note\n",
    "@enduml\n"
   ]
  },
  {
   "cell_type": "code",
   "execution_count": null,
   "metadata": {
    "collapsed": true
   },
   "outputs": [],
   "source": []
  },
  {
   "cell_type": "code",
   "execution_count": null,
   "metadata": {
    "collapsed": true
   },
   "outputs": [],
   "source": []
  }
 ],
 "metadata": {
  "kernelspec": {
   "display_name": "Python 2",
   "language": "python",
   "name": "python2"
  },
  "language_info": {
   "codemirror_mode": {
    "name": "ipython",
    "version": 2
   },
   "file_extension": ".py",
   "mimetype": "text/x-python",
   "name": "python",
   "nbconvert_exporter": "python",
   "pygments_lexer": "ipython2",
   "version": "2.7.10"
  }
 },
 "nbformat": 4,
 "nbformat_minor": 0
}
