{
 "cells": [
  {
   "cell_type": "code",
   "execution_count": 2,
   "metadata": {
    "collapsed": false
   },
   "outputs": [
    {
     "name": "stdout",
     "output_type": "stream",
     "text": [
      "Installed plantuml_magics.py. To use it, type:\n",
      "  %load_ext plantuml_magics\n"
     ]
    },
    {
     "name": "stderr",
     "output_type": "stream",
     "text": [
      "C:\\Anaconda\\lib\\site-packages\\IPython\\core\\magics\\extension.py:47: UserWarning: %install_ext` is deprecated, please distribute your extension(s)as a python packages.\n",
      "  \"as a python packages.\", UserWarning)\n"
     ]
    }
   ],
   "source": [
    "%install_ext https://raw.githubusercontent.com/sberke/ipython-plantuml/master/plantuml_magics.py\n"
   ]
  },
  {
   "cell_type": "code",
   "execution_count": 3,
   "metadata": {
    "collapsed": true
   },
   "outputs": [],
   "source": [
    "\n",
    "%load_ext plantuml_magics"
   ]
  },
  {
   "cell_type": "code",
   "execution_count": 4,
   "metadata": {
    "collapsed": false
   },
   "outputs": [
    {
     "data": {
      "text/plain": [
       "['.\\\\plantuml.jar']"
      ]
     },
     "execution_count": 4,
     "metadata": {},
     "output_type": "execute_result"
    }
   ],
   "source": [
    "import glob\n",
    "glob.glob(r'./*.jar')"
   ]
  },
  {
   "cell_type": "code",
   "execution_count": 10,
   "metadata": {
    "collapsed": false
   },
   "outputs": [
    {
     "data": {
      "image/svg+xml": [
       "<svg height=\"233px\" style=\"width:594px;height:233px;\" version=\"1.1\" viewBox=\"0 0 594 233\" width=\"594px\" xmlns=\"http://www.w3.org/2000/svg\" xmlns:xlink=\"http://www.w3.org/1999/xlink\"><defs><filter height=\"300%\" id=\"f1\" width=\"300%\" x=\"-1\" y=\"-1\"><feGaussianBlur result=\"blurOut\" stdDeviation=\"2.0\"/><feColorMatrix in=\"blurOut\" result=\"blurOut2\" type=\"matrix\" values=\"0 0 0 0 0 0 0 0 0 0 0 0 0 0 0 0 0 0 .4 0\"/><feOffset dx=\"4.0\" dy=\"4.0\" in=\"blurOut2\" result=\"blurOut3\"/><feBlend in=\"SourceGraphic\" in2=\"blurOut3\" mode=\"normal\"/></filter></defs><g><rect fill=\"#FEFECE\" filter=\"url(#f1)\" height=\"108.4355\" style=\"stroke: #A80036; stroke-width: 1.5;\" width=\"60\" x=\"303.5\" y=\"8\"/><ellipse cx=\"318.5\" cy=\"24\" fill=\"#ADD1B2\" rx=\"11\" ry=\"11\" style=\"stroke: #A80036; stroke-width: 1.0;\"/><path d=\"M318.0625,17.5156 Q315.3281,17.5156 314.25,19.1406 Q313.1094,20.8594 313.1094,23.7813 Q313.1094,27.0781 314.2656,28.7813 Q315.25,30.2813 317.8594,30.2813 Q319.4375,30.2813 320.3125,29.4531 Q321.2969,28.5 321.4375,26.375 Q321.4375,26.0781 321.2656,25.9063 Q321.1406,25.75 320.9219,25.7344 Q319.7031,25.7344 319.5469,25.8594 Q319.375,26.0156 319.375,26.2813 Q319.3438,27.7656 318.6875,28.5781 Q318.0781,29.375 318,29.375 Q316.6719,29.375 315.8906,27.7813 Q315.1406,26.2344 315.1406,23.75 Q315.1406,21.125 316.0781,19.6719 Q316.9063,18.4219 318.1875,18.4219 Q318.1875,18.4219 318.5313,19.0469 Q319.1563,19.7188 319.2969,20.875 Q319.4063,21.4531 320.875,21.2344 Q321.4063,21.1563 321.375,20.7344 Q321.2031,19.2969 320.4844,18.4844 Q319.625,17.5156 318.0625,17.5156 Z \"/><text fill=\"#000000\" font-family=\"sans-serif\" font-size=\"12\" lengthAdjust=\"spacingAndGlyphs\" textLength=\"28\" x=\"332.5\" y=\"29.6045\">Pizza</text><line style=\"stroke: #A80036; stroke-width: 1.5;\" x1=\"304.5\" x2=\"362.5\" y1=\"40\" y2=\"40\"/><line style=\"stroke: #A80036; stroke-width: 1.5;\" x1=\"304.5\" x2=\"362.5\" y1=\"48\" y2=\"48\"/><text fill=\"#000000\" font-family=\"sans-serif\" font-size=\"11\" lengthAdjust=\"spacingAndGlyphs\" textLength=\"46\" x=\"309.5\" y=\"64.6919\">prepare()</text><text fill=\"#000000\" font-family=\"sans-serif\" font-size=\"11\" lengthAdjust=\"spacingAndGlyphs\" textLength=\"31\" x=\"309.5\" y=\"79.8008\">bake()</text><text fill=\"#000000\" font-family=\"sans-serif\" font-size=\"11\" lengthAdjust=\"spacingAndGlyphs\" textLength=\"23\" x=\"309.5\" y=\"94.9097\">cut()</text><text fill=\"#000000\" font-family=\"sans-serif\" font-size=\"11\" lengthAdjust=\"spacingAndGlyphs\" textLength=\"30\" x=\"309.5\" y=\"110.0186\">bow()</text><rect fill=\"#FEFECE\" filter=\"url(#f1)\" height=\"63.1089\" style=\"stroke: #A80036; stroke-width: 1.5;\" width=\"89\" x=\"6\" y=\"30.5\"/><ellipse cx=\"21\" cy=\"46.5\" fill=\"#ADD1B2\" rx=\"11\" ry=\"11\" style=\"stroke: #A80036; stroke-width: 1.0;\"/><path d=\"M20.5625,40.0156 Q17.8281,40.0156 16.75,41.6406 Q15.6094,43.3594 15.6094,46.2813 Q15.6094,49.5781 16.7656,51.2813 Q17.75,52.7813 20.3594,52.7813 Q21.9375,52.7813 22.8125,51.9531 Q23.7969,51 23.9375,48.875 Q23.9375,48.5781 23.7656,48.4063 Q23.6406,48.25 23.4219,48.2344 Q22.2031,48.2344 22.0469,48.3594 Q21.875,48.5156 21.875,48.7813 Q21.8438,50.2656 21.1875,51.0781 Q20.5781,51.875 20.5,51.875 Q19.1719,51.875 18.3906,50.2813 Q17.6406,48.7344 17.6406,46.25 Q17.6406,43.625 18.5781,42.1719 Q19.4063,40.9219 20.6875,40.9219 Q20.6875,40.9219 21.0313,41.5469 Q21.6563,42.2188 21.7969,43.375 Q21.9063,43.9531 23.375,43.7344 Q23.9063,43.6563 23.875,43.2344 Q23.7031,41.7969 22.9844,40.9844 Q22.125,40.0156 20.5625,40.0156 Z \"/><text fill=\"#000000\" font-family=\"sans-serif\" font-size=\"12\" lengthAdjust=\"spacingAndGlyphs\" textLength=\"57\" x=\"35\" y=\"52.1045\">PizzaStore</text><line style=\"stroke: #A80036; stroke-width: 1.5;\" x1=\"7\" x2=\"94\" y1=\"62.5\" y2=\"62.5\"/><line style=\"stroke: #A80036; stroke-width: 1.5;\" x1=\"7\" x2=\"94\" y1=\"70.5\" y2=\"70.5\"/><ellipse cx=\"17\" cy=\"83.5544\" fill=\"#84BE84\" rx=\"3\" ry=\"3\" style=\"stroke: #038048; stroke-width: 1.0;\"/><text fill=\"#000000\" font-family=\"sans-serif\" font-size=\"11\" lengthAdjust=\"spacingAndGlyphs\" textLength=\"60\" x=\"26\" y=\"87.1919\">orderPizza()</text><rect fill=\"#FEFECE\" filter=\"url(#f1)\" height=\"63.1089\" style=\"stroke: #A80036; stroke-width: 1.5;\" width=\"138\" x=\"130.5\" y=\"30.5\"/><ellipse cx=\"145.5\" cy=\"46.5\" fill=\"#ADD1B2\" rx=\"11\" ry=\"11\" style=\"stroke: #A80036; stroke-width: 1.0;\"/><path d=\"M145.0625,40.0156 Q142.3281,40.0156 141.25,41.6406 Q140.1094,43.3594 140.1094,46.2813 Q140.1094,49.5781 141.2656,51.2813 Q142.25,52.7813 144.8594,52.7813 Q146.4375,52.7813 147.3125,51.9531 Q148.2969,51 148.4375,48.875 Q148.4375,48.5781 148.2656,48.4063 Q148.1406,48.25 147.9219,48.2344 Q146.7031,48.2344 146.5469,48.3594 Q146.375,48.5156 146.375,48.7813 Q146.3438,50.2656 145.6875,51.0781 Q145.0781,51.875 145,51.875 Q143.6719,51.875 142.8906,50.2813 Q142.1406,48.7344 142.1406,46.25 Q142.1406,43.625 143.0781,42.1719 Q143.9063,40.9219 145.1875,40.9219 Q145.1875,40.9219 145.5313,41.5469 Q146.1563,42.2188 146.2969,43.375 Q146.4063,43.9531 147.875,43.7344 Q148.4063,43.6563 148.375,43.2344 Q148.2031,41.7969 147.4844,40.9844 Q146.625,40.0156 145.0625,40.0156 Z \"/><text fill=\"#000000\" font-family=\"sans-serif\" font-size=\"12\" lengthAdjust=\"spacingAndGlyphs\" textLength=\"106\" x=\"159.5\" y=\"52.1045\">SimplePizzaFactory</text><line style=\"stroke: #A80036; stroke-width: 1.5;\" x1=\"131.5\" x2=\"267.5\" y1=\"62.5\" y2=\"62.5\"/><line style=\"stroke: #A80036; stroke-width: 1.5;\" x1=\"131.5\" x2=\"267.5\" y1=\"70.5\" y2=\"70.5\"/><text fill=\"#000000\" font-family=\"sans-serif\" font-size=\"11\" lengthAdjust=\"spacingAndGlyphs\" textLength=\"65\" x=\"136.5\" y=\"87.1919\">createpizza()</text><rect fill=\"#FEFECE\" filter=\"url(#f1)\" height=\"48\" style=\"stroke: #A80036; stroke-width: 1.5;\" width=\"104\" x=\"80.5\" y=\"176\"/><ellipse cx=\"95.5\" cy=\"192\" fill=\"#ADD1B2\" rx=\"11\" ry=\"11\" style=\"stroke: #A80036; stroke-width: 1.0;\"/><path d=\"M95.0625,185.5156 Q92.3281,185.5156 91.25,187.1406 Q90.1094,188.8594 90.1094,191.7813 Q90.1094,195.0781 91.2656,196.7813 Q92.25,198.2813 94.8594,198.2813 Q96.4375,198.2813 97.3125,197.4531 Q98.2969,196.5 98.4375,194.375 Q98.4375,194.0781 98.2656,193.9063 Q98.1406,193.75 97.9219,193.7344 Q96.7031,193.7344 96.5469,193.8594 Q96.375,194.0156 96.375,194.2813 Q96.3438,195.7656 95.6875,196.5781 Q95.0781,197.375 95,197.375 Q93.6719,197.375 92.8906,195.7813 Q92.1406,194.2344 92.1406,191.75 Q92.1406,189.125 93.0781,187.6719 Q93.9063,186.4219 95.1875,186.4219 Q95.1875,186.4219 95.5313,187.0469 Q96.1563,187.7188 96.2969,188.875 Q96.4063,189.4531 97.875,189.2344 Q98.4063,189.1563 98.375,188.7344 Q98.2031,187.2969 97.4844,186.4844 Q96.625,185.5156 95.0625,185.5156 Z \"/><text fill=\"#000000\" font-family=\"sans-serif\" font-size=\"12\" lengthAdjust=\"spacingAndGlyphs\" textLength=\"72\" x=\"109.5\" y=\"197.6045\">CheesePizza</text><line style=\"stroke: #A80036; stroke-width: 1.5;\" x1=\"81.5\" x2=\"183.5\" y1=\"208\" y2=\"208\"/><line style=\"stroke: #A80036; stroke-width: 1.5;\" x1=\"81.5\" x2=\"183.5\" y1=\"216\" y2=\"216\"/><rect fill=\"#FEFECE\" filter=\"url(#f1)\" height=\"48\" style=\"stroke: #A80036; stroke-width: 1.5;\" width=\"98\" x=\"219.5\" y=\"176\"/><ellipse cx=\"234.5\" cy=\"192\" fill=\"#ADD1B2\" rx=\"11\" ry=\"11\" style=\"stroke: #A80036; stroke-width: 1.0;\"/><path d=\"M234.0625,185.5156 Q231.3281,185.5156 230.25,187.1406 Q229.1094,188.8594 229.1094,191.7813 Q229.1094,195.0781 230.2656,196.7813 Q231.25,198.2813 233.8594,198.2813 Q235.4375,198.2813 236.3125,197.4531 Q237.2969,196.5 237.4375,194.375 Q237.4375,194.0781 237.2656,193.9063 Q237.1406,193.75 236.9219,193.7344 Q235.7031,193.7344 235.5469,193.8594 Q235.375,194.0156 235.375,194.2813 Q235.3438,195.7656 234.6875,196.5781 Q234.0781,197.375 234,197.375 Q232.6719,197.375 231.8906,195.7813 Q231.1406,194.2344 231.1406,191.75 Q231.1406,189.125 232.0781,187.6719 Q232.9063,186.4219 234.1875,186.4219 Q234.1875,186.4219 234.5313,187.0469 Q235.1563,187.7188 235.2969,188.875 Q235.4063,189.4531 236.875,189.2344 Q237.4063,189.1563 237.375,188.7344 Q237.2031,187.2969 236.4844,186.4844 Q235.625,185.5156 234.0625,185.5156 Z \"/><text fill=\"#000000\" font-family=\"sans-serif\" font-size=\"12\" lengthAdjust=\"spacingAndGlyphs\" textLength=\"66\" x=\"248.5\" y=\"197.6045\">VeggiePizza</text><line style=\"stroke: #A80036; stroke-width: 1.5;\" x1=\"220.5\" x2=\"316.5\" y1=\"208\" y2=\"208\"/><line style=\"stroke: #A80036; stroke-width: 1.5;\" x1=\"220.5\" x2=\"316.5\" y1=\"216\" y2=\"216\"/><rect fill=\"#FEFECE\" filter=\"url(#f1)\" height=\"48\" style=\"stroke: #A80036; stroke-width: 1.5;\" width=\"90\" x=\"352.5\" y=\"176\"/><ellipse cx=\"367.5\" cy=\"192\" fill=\"#ADD1B2\" rx=\"11\" ry=\"11\" style=\"stroke: #A80036; stroke-width: 1.0;\"/><path d=\"M367.0625,185.5156 Q364.3281,185.5156 363.25,187.1406 Q362.1094,188.8594 362.1094,191.7813 Q362.1094,195.0781 363.2656,196.7813 Q364.25,198.2813 366.8594,198.2813 Q368.4375,198.2813 369.3125,197.4531 Q370.2969,196.5 370.4375,194.375 Q370.4375,194.0781 370.2656,193.9063 Q370.1406,193.75 369.9219,193.7344 Q368.7031,193.7344 368.5469,193.8594 Q368.375,194.0156 368.375,194.2813 Q368.3438,195.7656 367.6875,196.5781 Q367.0781,197.375 367,197.375 Q365.6719,197.375 364.8906,195.7813 Q364.1406,194.2344 364.1406,191.75 Q364.1406,189.125 365.0781,187.6719 Q365.9063,186.4219 367.1875,186.4219 Q367.1875,186.4219 367.5313,187.0469 Q368.1563,187.7188 368.2969,188.875 Q368.4063,189.4531 369.875,189.2344 Q370.4063,189.1563 370.375,188.7344 Q370.2031,187.2969 369.4844,186.4844 Q368.625,185.5156 367.0625,185.5156 Z \"/><text fill=\"#000000\" font-family=\"sans-serif\" font-size=\"12\" lengthAdjust=\"spacingAndGlyphs\" textLength=\"58\" x=\"381.5\" y=\"197.6045\">ClamPizza</text><line style=\"stroke: #A80036; stroke-width: 1.5;\" x1=\"353.5\" x2=\"441.5\" y1=\"208\" y2=\"208\"/><line style=\"stroke: #A80036; stroke-width: 1.5;\" x1=\"353.5\" x2=\"441.5\" y1=\"216\" y2=\"216\"/><rect fill=\"#FEFECE\" filter=\"url(#f1)\" height=\"48\" style=\"stroke: #A80036; stroke-width: 1.5;\" width=\"107\" x=\"478\" y=\"176\"/><ellipse cx=\"493\" cy=\"192\" fill=\"#ADD1B2\" rx=\"11\" ry=\"11\" style=\"stroke: #A80036; stroke-width: 1.0;\"/><path d=\"M492.5625,185.5156 Q489.8281,185.5156 488.75,187.1406 Q487.6094,188.8594 487.6094,191.7813 Q487.6094,195.0781 488.7656,196.7813 Q489.75,198.2813 492.3594,198.2813 Q493.9375,198.2813 494.8125,197.4531 Q495.7969,196.5 495.9375,194.375 Q495.9375,194.0781 495.7656,193.9063 Q495.6406,193.75 495.4219,193.7344 Q494.2031,193.7344 494.0469,193.8594 Q493.875,194.0156 493.875,194.2813 Q493.8438,195.7656 493.1875,196.5781 Q492.5781,197.375 492.5,197.375 Q491.1719,197.375 490.3906,195.7813 Q489.6406,194.2344 489.6406,191.75 Q489.6406,189.125 490.5781,187.6719 Q491.4063,186.4219 492.6875,186.4219 Q492.6875,186.4219 493.0313,187.0469 Q493.6563,187.7188 493.7969,188.875 Q493.9063,189.4531 495.375,189.2344 Q495.9063,189.1563 495.875,188.7344 Q495.7031,187.2969 494.9844,186.4844 Q494.125,185.5156 492.5625,185.5156 Z \"/><text fill=\"#000000\" font-family=\"sans-serif\" font-size=\"12\" lengthAdjust=\"spacingAndGlyphs\" textLength=\"75\" x=\"507\" y=\"197.6045\">PeperonPizza</text><line style=\"stroke: #A80036; stroke-width: 1.5;\" x1=\"479\" x2=\"584\" y1=\"208\" y2=\"208\"/><line style=\"stroke: #A80036; stroke-width: 1.5;\" x1=\"479\" x2=\"584\" y1=\"216\" y2=\"216\"/><path d=\"M288.699,114.218 C287.968,114.823 287.235,115.418 286.5,116 C255.429,140.6077 216.017,161.6956 184.842,176.4576 \" fill=\"none\" style=\"stroke: #A80036; stroke-width: 1.0;\"/><polygon fill=\"none\" points=\"284.114,108.92,303.471,100.299,293.715,119.109,284.114,108.92\" style=\"stroke: #A80036; stroke-width: 1.0;\"/><path d=\"M299.289,134.5793 C292.119,149.5822 285.06,164.3522 279.513,175.9571 \" fill=\"none\" style=\"stroke: #A80036; stroke-width: 1.0;\"/><polygon fill=\"none\" points=\"293.057,131.3868,307.997,116.36,305.688,137.424,293.057,131.3868\" style=\"stroke: #A80036; stroke-width: 1.0;\"/><path d=\"M367.184,134.5793 C374.245,149.5822 381.195,164.3522 386.656,175.9571 \" fill=\"none\" style=\"stroke: #A80036; stroke-width: 1.0;\"/><polygon fill=\"none\" points=\"360.793,137.4374,358.611,116.36,373.461,131.4762,360.793,137.4374\" style=\"stroke: #A80036; stroke-width: 1.0;\"/><path d=\"M380.127,95.027 C416.257,119.843 465.455,153.6357 497.824,175.8693 \" fill=\"none\" style=\"stroke: #A80036; stroke-width: 1.0;\"/><polygon fill=\"none\" points=\"376.094,100.749,363.572,83.655,384.021,89.209,376.094,100.749\" style=\"stroke: #A80036; stroke-width: 1.0;\"/><path d=\"M268.594,62 C278.453,62 288.313,62 298.173,62 \" fill=\"none\" style=\"stroke: #A80036; stroke-width: 1.0;\"/><polygon fill=\"#A80036\" points=\"303.329,62,294.329,58,298.329,62,294.329,66,303.329,62\" style=\"stroke: #A80036; stroke-width: 1.0;\"/><path d=\"M95.0254,62 C104.9878,62 114.95,62 124.913,62 \" fill=\"none\" style=\"stroke: #A80036; stroke-width: 1.0;\"/><polygon fill=\"#A80036\" points=\"130.122,62,121.122,58,125.122,62,121.122,66,130.122,62\" style=\"stroke: #A80036; stroke-width: 1.0;\"/></g></svg>"
      ],
      "text/plain": [
       "<IPython.core.display.SVG object>"
      ]
     },
     "execution_count": 10,
     "metadata": {},
     "output_type": "execute_result"
    }
   ],
   "source": [
    "%%plantuml\n",
    "@startuml\n",
    "class Pizza{\n",
    "    prepare()\n",
    "    bake()\n",
    "    cut()\n",
    "    bow()\n",
    "}\n",
    "class PizzaStore{\n",
    "    +orderPizza()\n",
    "}\n",
    "class SimplePizzaFactory{\n",
    "        createpizza()\n",
    "}\n",
    "class CheesePizza\n",
    "class VeggiePizza\n",
    "class ClamPizza\n",
    "class PeperonPizza\n",
    "Pizza <|-- CheesePizza\n",
    "Pizza <|-- VeggiePizza\n",
    "Pizza <|-- ClamPizza\n",
    "Pizza <|-- PeperonPizza\n",
    "Pizza <-right- SimplePizzaFactory\n",
    "PizzaStore-right->SimplePizzaFactory\n",
    "\n",
    "@enduml\n"
   ]
  }
 ],
 "metadata": {
  "kernelspec": {
   "display_name": "Python 2",
   "language": "python",
   "name": "python2"
  },
  "language_info": {
   "codemirror_mode": {
    "name": "ipython",
    "version": 2
   },
   "file_extension": ".py",
   "mimetype": "text/x-python",
   "name": "python",
   "nbconvert_exporter": "python",
   "pygments_lexer": "ipython2",
   "version": "2.7.10"
  }
 },
 "nbformat": 4,
 "nbformat_minor": 0
}
