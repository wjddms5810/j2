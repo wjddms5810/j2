{
 "cells": [
  {
   "cell_type": "code",
   "execution_count": 1,
   "metadata": {
    "collapsed": false
   },
   "outputs": [
    {
     "name": "stdout",
     "output_type": "stream",
     "text": [
      "Installed plantuml_magics.py. To use it, type:\n",
      "  %load_ext plantuml_magics\n"
     ]
    },
    {
     "name": "stderr",
     "output_type": "stream",
     "text": [
      "C:\\Anaconda\\lib\\site-packages\\IPython\\core\\magics\\extension.py:47: UserWarning: %install_ext` is deprecated, please distribute your extension(s)as a python packages.\n",
      "  \"as a python packages.\", UserWarning)\n"
     ]
    }
   ],
   "source": [
    "%install_ext https://raw.githubusercontent.com/sberke/ipython-plantuml/master/plantuml_magics.py"
   ]
  },
  {
   "cell_type": "code",
   "execution_count": 2,
   "metadata": {
    "collapsed": true
   },
   "outputs": [],
   "source": [
    "%load_ext plantuml_magics"
   ]
  },
  {
   "cell_type": "code",
   "execution_count": 3,
   "metadata": {
    "collapsed": false
   },
   "outputs": [
    {
     "data": {
      "text/plain": [
       "['.\\\\plantuml.jar']"
      ]
     },
     "execution_count": 3,
     "metadata": {},
     "output_type": "execute_result"
    }
   ],
   "source": [
    "import glob\n",
    "glob.glob(r'./*.jar')"
   ]
  },
  {
   "cell_type": "code",
   "execution_count": 13,
   "metadata": {
    "collapsed": false
   },
   "outputs": [
    {
     "data": {
      "image/svg+xml": [
       "<svg height=\"582px\" style=\"width:379px;height:582px;\" version=\"1.1\" viewBox=\"0 0 379 582\" width=\"379px\" xmlns=\"http://www.w3.org/2000/svg\" xmlns:xlink=\"http://www.w3.org/1999/xlink\"><defs><filter height=\"300%\" id=\"f1\" width=\"300%\" x=\"-1\" y=\"-1\"><feGaussianBlur result=\"blurOut\" stdDeviation=\"2.0\"/><feColorMatrix in=\"blurOut\" result=\"blurOut2\" type=\"matrix\" values=\"0 0 0 0 0 0 0 0 0 0 0 0 0 0 0 0 0 0 .4 0\"/><feOffset dx=\"4.0\" dy=\"4.0\" in=\"blurOut2\" result=\"blurOut3\"/><feBlend in=\"SourceGraphic\" in2=\"blurOut3\" mode=\"normal\"/></filter></defs><g><rect fill=\"#FFFFFF\" filter=\"url(#f1)\" height=\"250.7153\" style=\"stroke: #000000; stroke-width: 2.0;\" width=\"260\" x=\"110.5\" y=\"121.9414\"/><rect fill=\"#FFFFFF\" height=\"61.9648\" style=\"stroke: none; stroke-width: 1.0;\" width=\"260\" x=\"110.5\" y=\"186.7622\"/><rect fill=\"#FFFFFF\" height=\"61.9648\" style=\"stroke: none; stroke-width: 1.0;\" width=\"260\" x=\"110.5\" y=\"248.7271\"/><rect fill=\"#FFFFFF\" height=\"61.9648\" style=\"stroke: none; stroke-width: 1.0;\" width=\"260\" x=\"110.5\" y=\"310.6919\"/><line style=\"stroke: #A80036; stroke-width: 1.0;\" x1=\"33\" x2=\"33\" y1=\"41.2295\" y2=\"411.5127\"/><line style=\"stroke: #A80036; stroke-width: 1.0; stroke-dasharray: 1.0,4.0;\" x1=\"33\" x2=\"33\" y1=\"411.5127\" y2=\"439.5127\"/><line style=\"stroke: #A80036; stroke-width: 1.0;\" x1=\"33\" x2=\"33\" y1=\"439.5127\" y2=\"471.3687\"/><line style=\"stroke: #A80036; stroke-width: 1.0; stroke-dasharray: 1.0,4.0;\" x1=\"33\" x2=\"33\" y1=\"471.3687\" y2=\"499.3687\"/><line style=\"stroke: #A80036; stroke-width: 1.0;\" x1=\"33\" x2=\"33\" y1=\"499.3687\" y2=\"541.2246\"/><line style=\"stroke: #A80036; stroke-width: 1.0;\" x1=\"140.5\" x2=\"140.5\" y1=\"41.2295\" y2=\"411.5127\"/><line style=\"stroke: #A80036; stroke-width: 1.0; stroke-dasharray: 1.0,4.0;\" x1=\"140.5\" x2=\"140.5\" y1=\"411.5127\" y2=\"439.5127\"/><line style=\"stroke: #A80036; stroke-width: 1.0;\" x1=\"140.5\" x2=\"140.5\" y1=\"439.5127\" y2=\"471.3687\"/><line style=\"stroke: #A80036; stroke-width: 1.0; stroke-dasharray: 1.0,4.0;\" x1=\"140.5\" x2=\"140.5\" y1=\"471.3687\" y2=\"499.3687\"/><line style=\"stroke: #A80036; stroke-width: 1.0;\" x1=\"140.5\" x2=\"140.5\" y1=\"499.3687\" y2=\"541.2246\"/><rect fill=\"#FEFECE\" filter=\"url(#f1)\" height=\"33.2295\" style=\"stroke: #A80036; stroke-width: 1.5;\" width=\"47\" x=\"8\" y=\"3\"/><text fill=\"#000000\" font-family=\"sans-serif\" font-size=\"14\" lengthAdjust=\"spacingAndGlyphs\" textLength=\"33\" x=\"15\" y=\"26.1533\">client</text><rect fill=\"#FEFECE\" filter=\"url(#f1)\" height=\"33.2295\" style=\"stroke: #A80036; stroke-width: 1.5;\" width=\"47\" x=\"8\" y=\"540.2246\"/><text fill=\"#000000\" font-family=\"sans-serif\" font-size=\"14\" lengthAdjust=\"spacingAndGlyphs\" textLength=\"33\" x=\"15\" y=\"563.3779\">client</text><rect fill=\"#FEFECE\" filter=\"url(#f1)\" height=\"33.2295\" style=\"stroke: #A80036; stroke-width: 1.5;\" width=\"36\" x=\"120.5\" y=\"3\"/><text fill=\"#000000\" font-family=\"sans-serif\" font-size=\"14\" lengthAdjust=\"spacingAndGlyphs\" textLength=\"22\" x=\"127.5\" y=\"26.1533\">GM</text><rect fill=\"#FEFECE\" filter=\"url(#f1)\" height=\"33.2295\" style=\"stroke: #A80036; stroke-width: 1.5;\" width=\"36\" x=\"120.5\" y=\"540.2246\"/><text fill=\"#000000\" font-family=\"sans-serif\" font-size=\"14\" lengthAdjust=\"spacingAndGlyphs\" textLength=\"22\" x=\"127.5\" y=\"563.3779\">GM</text><polygon fill=\"#A80036\" points=\"128.5,70.2295,138.5,74.2295,128.5,78.2295,132.5,74.2295\" style=\"stroke: #A80036; stroke-width: 1.0;\"/><line style=\"stroke: #A80036; stroke-width: 1.0;\" x1=\"33.5\" x2=\"134.5\" y1=\"74.2295\" y2=\"74.2295\"/><text fill=\"#000000\" font-family=\"sans-serif\" font-size=\"13\" lengthAdjust=\"spacingAndGlyphs\" textLength=\"38\" x=\"40.5\" y=\"70.229\">new(5)</text><polygon fill=\"#A80036\" points=\"128.5,102.0854,138.5,106.0854,128.5,110.0854,132.5,106.0854\" style=\"stroke: #A80036; stroke-width: 1.0;\"/><line style=\"stroke: #A80036; stroke-width: 1.0;\" x1=\"33.5\" x2=\"134.5\" y1=\"106.0854\" y2=\"106.0854\"/><text fill=\"#000000\" font-family=\"sans-serif\" font-size=\"13\" lengthAdjust=\"spacingAndGlyphs\" textLength=\"83\" x=\"40.5\" y=\"102.085\">insertQuarter()</text><rect fill=\"none\" height=\"250.7153\" style=\"stroke: #000000; stroke-width: 2.0;\" width=\"260\" x=\"110.5\" y=\"121.9414\"/><polygon fill=\"#EEEEEE\" points=\"110.5,121.9414,171.5,121.9414,171.5,130.9414,161.5,140.9414,110.5,140.9414,110.5,121.9414\" style=\"stroke: #000000; stroke-width: 2.0;\"/><text fill=\"#000000\" font-family=\"sans-serif\" font-size=\"13\" font-weight=\"bold\" lengthAdjust=\"spacingAndGlyphs\" textLength=\"16\" x=\"125.5\" y=\"137.9409\">alt</text><text fill=\"#000000\" font-family=\"sans-serif\" font-size=\"11\" font-weight=\"bold\" lengthAdjust=\"spacingAndGlyphs\" textLength=\"86\" x=\"186.5\" y=\"136.6333\">[HAS_QUARTER]</text><line style=\"stroke: #A80036; stroke-width: 1.0;\" x1=\"140.5\" x2=\"182.5\" y1=\"165.7622\" y2=\"165.7622\"/><line style=\"stroke: #A80036; stroke-width: 1.0;\" x1=\"182.5\" x2=\"182.5\" y1=\"165.7622\" y2=\"178.7622\"/><line style=\"stroke: #A80036; stroke-width: 1.0;\" x1=\"141.5\" x2=\"182.5\" y1=\"178.7622\" y2=\"178.7622\"/><polygon fill=\"#A80036\" points=\"151.5,174.7622,141.5,178.7622,151.5,182.7622,147.5,178.7622\" style=\"stroke: #A80036; stroke-width: 1.0;\"/><text fill=\"#000000\" font-family=\"sans-serif\" font-size=\"13\" lengthAdjust=\"spacingAndGlyphs\" textLength=\"191\" x=\"147.5\" y=\"160.9058\">you cannot insert another quarter</text><line style=\"stroke: #000000; stroke-width: 1.0; stroke-dasharray: 2.0,2.0;\" x1=\"110.5\" x2=\"370.5\" y1=\"187.7622\" y2=\"187.7622\"/><text fill=\"#000000\" font-family=\"sans-serif\" font-size=\"11\" font-weight=\"bold\" lengthAdjust=\"spacingAndGlyphs\" textLength=\"79\" x=\"115.5\" y=\"200.4541\">[NO_QUARTER]</text><line style=\"stroke: #A80036; stroke-width: 1.0;\" x1=\"140.5\" x2=\"182.5\" y1=\"227.7271\" y2=\"227.7271\"/><line style=\"stroke: #A80036; stroke-width: 1.0;\" x1=\"182.5\" x2=\"182.5\" y1=\"227.7271\" y2=\"240.7271\"/><line style=\"stroke: #A80036; stroke-width: 1.0;\" x1=\"141.5\" x2=\"182.5\" y1=\"240.7271\" y2=\"240.7271\"/><polygon fill=\"#A80036\" points=\"151.5,236.7271,141.5,240.7271,151.5,244.7271,147.5,240.7271\" style=\"stroke: #A80036; stroke-width: 1.0;\"/><text fill=\"#000000\" font-family=\"sans-serif\" font-size=\"13\" lengthAdjust=\"spacingAndGlyphs\" textLength=\"126\" x=\"147.5\" y=\"222.8706\">you inserted a quarter</text><line style=\"stroke: #000000; stroke-width: 1.0; stroke-dasharray: 2.0,2.0;\" x1=\"110.5\" x2=\"370.5\" y1=\"249.7271\" y2=\"249.7271\"/><text fill=\"#000000\" font-family=\"sans-serif\" font-size=\"11\" font-weight=\"bold\" lengthAdjust=\"spacingAndGlyphs\" textLength=\"65\" x=\"115.5\" y=\"262.4189\">[SOLD_OUT]</text><line style=\"stroke: #A80036; stroke-width: 1.0;\" x1=\"140.5\" x2=\"182.5\" y1=\"289.6919\" y2=\"289.6919\"/><line style=\"stroke: #A80036; stroke-width: 1.0;\" x1=\"182.5\" x2=\"182.5\" y1=\"289.6919\" y2=\"302.6919\"/><line style=\"stroke: #A80036; stroke-width: 1.0;\" x1=\"141.5\" x2=\"182.5\" y1=\"302.6919\" y2=\"302.6919\"/><polygon fill=\"#A80036\" points=\"151.5,298.6919,141.5,302.6919,151.5,306.6919,147.5,302.6919\" style=\"stroke: #A80036; stroke-width: 1.0;\"/><text fill=\"#000000\" font-family=\"sans-serif\" font-size=\"13\" lengthAdjust=\"spacingAndGlyphs\" textLength=\"211\" x=\"147.5\" y=\"284.8354\">you cannot insert a quarter. Sold out</text><line style=\"stroke: #000000; stroke-width: 1.0; stroke-dasharray: 2.0,2.0;\" x1=\"110.5\" x2=\"370.5\" y1=\"311.6919\" y2=\"311.6919\"/><text fill=\"#000000\" font-family=\"sans-serif\" font-size=\"11\" font-weight=\"bold\" lengthAdjust=\"spacingAndGlyphs\" textLength=\"37\" x=\"115.5\" y=\"324.3838\">[SOLD]</text><line style=\"stroke: #A80036; stroke-width: 1.0;\" x1=\"140.5\" x2=\"182.5\" y1=\"351.6567\" y2=\"351.6567\"/><line style=\"stroke: #A80036; stroke-width: 1.0;\" x1=\"182.5\" x2=\"182.5\" y1=\"351.6567\" y2=\"364.6567\"/><line style=\"stroke: #A80036; stroke-width: 1.0;\" x1=\"141.5\" x2=\"182.5\" y1=\"364.6567\" y2=\"364.6567\"/><polygon fill=\"#A80036\" points=\"151.5,360.6567,141.5,364.6567,151.5,368.6567,147.5,364.6567\" style=\"stroke: #A80036; stroke-width: 1.0;\"/><text fill=\"#000000\" font-family=\"sans-serif\" font-size=\"13\" lengthAdjust=\"spacingAndGlyphs\" textLength=\"26\" x=\"147.5\" y=\"346.8003\">wait!</text><polygon fill=\"#A80036\" points=\"128.5,398.6567,138.5,402.6567,128.5,406.6567,132.5,402.6567\" style=\"stroke: #A80036; stroke-width: 1.0;\"/><line style=\"stroke: #A80036; stroke-width: 1.0;\" x1=\"33.5\" x2=\"134.5\" y1=\"402.6567\" y2=\"402.6567\"/><text fill=\"#000000\" font-family=\"sans-serif\" font-size=\"13\" lengthAdjust=\"spacingAndGlyphs\" textLength=\"79\" x=\"40.5\" y=\"398.6563\">ejectQuarter()</text><polygon fill=\"#A80036\" points=\"128.5,458.5127,138.5,462.5127,128.5,466.5127,132.5,462.5127\" style=\"stroke: #A80036; stroke-width: 1.0;\"/><line style=\"stroke: #A80036; stroke-width: 1.0;\" x1=\"33.5\" x2=\"134.5\" y1=\"462.5127\" y2=\"462.5127\"/><text fill=\"#000000\" font-family=\"sans-serif\" font-size=\"13\" lengthAdjust=\"spacingAndGlyphs\" textLength=\"64\" x=\"40.5\" y=\"458.5122\">turnCrank()</text><polygon fill=\"#A80036\" points=\"128.5,518.3687,138.5,522.3687,128.5,526.3687,132.5,522.3687\" style=\"stroke: #A80036; stroke-width: 1.0;\"/><line style=\"stroke: #A80036; stroke-width: 1.0;\" x1=\"33.5\" x2=\"134.5\" y1=\"522.3687\" y2=\"522.3687\"/><text fill=\"#000000\" font-family=\"sans-serif\" font-size=\"13\" lengthAdjust=\"spacingAndGlyphs\" textLength=\"60\" x=\"40.5\" y=\"518.3682\">dispense()</text></g></svg>"
      ],
      "text/plain": [
       "<IPython.core.display.SVG object>"
      ]
     },
     "execution_count": 13,
     "metadata": {},
     "output_type": "execute_result"
    }
   ],
   "source": [
    "%%plantuml\n",
    "@startuml\n",
    "client -> GM:new(5)\n",
    "client -> GM:insertQuarter()\n",
    "alt HAS_QUARTER\n",
    "GM -> GM: you cannot insert another quarter\n",
    "else NO_QUARTER\n",
    "GM -> GM: you inserted a quarter\n",
    "else SOLD_OUT\n",
    "GM -> GM: you cannot insert a quarter. Sold out\n",
    "else SOLD\n",
    "GM -> GM: wait!\n",
    "end\n",
    "client -> GM: ejectQuarter()\n",
    "...\n",
    "client -> GM: turnCrank()\n",
    "...\n",
    "client -> GM: dispense()\n",
    "\n",
    "@enduml"
   ]
  }
 ],
 "metadata": {
  "kernelspec": {
   "display_name": "Python 2",
   "language": "python",
   "name": "python2"
  },
  "language_info": {
   "codemirror_mode": {
    "name": "ipython",
    "version": 2
   },
   "file_extension": ".py",
   "mimetype": "text/x-python",
   "name": "python",
   "nbconvert_exporter": "python",
   "pygments_lexer": "ipython2",
   "version": "2.7.10"
  }
 },
 "nbformat": 4,
 "nbformat_minor": 0
}
