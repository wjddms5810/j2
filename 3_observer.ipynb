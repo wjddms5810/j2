{
 "cells": [
  {
   "cell_type": "code",
   "execution_count": 1,
   "metadata": {
    "collapsed": false
   },
   "outputs": [
    {
     "name": "stdout",
     "output_type": "stream",
     "text": [
      "Installed plantuml_magics.py. To use it, type:\n",
      "  %load_ext plantuml_magics\n"
     ]
    },
    {
     "name": "stderr",
     "output_type": "stream",
     "text": [
      "C:\\Anaconda\\lib\\site-packages\\IPython\\core\\magics\\extension.py:47: UserWarning: %install_ext` is deprecated, please distribute your extension(s)as a python packages.\n",
      "  \"as a python packages.\", UserWarning)\n"
     ]
    }
   ],
   "source": [
    "%install_ext https://raw.githubusercontent.com/sberke/ipython-plantuml/master/plantuml_magics.py"
   ]
  },
  {
   "cell_type": "code",
   "execution_count": 2,
   "metadata": {
    "collapsed": true
   },
   "outputs": [],
   "source": [
    "%load_ext plantuml_magics"
   ]
  },
  {
   "cell_type": "code",
   "execution_count": 3,
   "metadata": {
    "collapsed": false
   },
   "outputs": [
    {
     "data": {
      "text/plain": [
       "['.\\\\plantuml.jar']"
      ]
     },
     "execution_count": 3,
     "metadata": {},
     "output_type": "execute_result"
    }
   ],
   "source": [
    "import glob\n",
    "glob.glob(r'./*.jar')"
   ]
  },
  {
   "cell_type": "code",
   "execution_count": 4,
   "metadata": {
    "collapsed": false
   },
   "outputs": [
    {
     "data": {
      "image/svg+xml": [
       "<svg height=\"218px\" style=\"width:279px;height:218px;\" version=\"1.1\" viewBox=\"0 0 279 218\" width=\"279px\" xmlns=\"http://www.w3.org/2000/svg\" xmlns:xlink=\"http://www.w3.org/1999/xlink\"><defs><filter height=\"300%\" id=\"f1\" width=\"300%\" x=\"-1\" y=\"-1\"><feGaussianBlur result=\"blurOut\" stdDeviation=\"2.0\"/><feColorMatrix in=\"blurOut\" result=\"blurOut2\" type=\"matrix\" values=\"0 0 0 0 0 0 0 0 0 0 0 0 0 0 0 0 0 0 .4 0\"/><feOffset dx=\"4.0\" dy=\"4.0\" in=\"blurOut2\" result=\"blurOut3\"/><feBlend in=\"SourceGraphic\" in2=\"blurOut3\" mode=\"normal\"/></filter></defs><g><rect fill=\"#FEFECE\" filter=\"url(#f1)\" height=\"93.3267\" style=\"stroke: #A80036; stroke-width: 1.5;\" width=\"117\" x=\"6\" y=\"8\"/><ellipse cx=\"38.55\" cy=\"24\" fill=\"#B4A7E5\" rx=\"11\" ry=\"11\" style=\"stroke: #A80036; stroke-width: 1.0;\"/><path d=\"M36.2531,18.125 L36.2531,29.75 Q36.2531,30 36.4094,30.1563 Q36.55,30.2969 37.7688,30.2969 Q37.9719,30.2969 38.1125,30.1719 Q38.2844,30.0156 38.2844,29.75 L38.2844,18.0781 Q38.2844,17.8125 38.1125,17.6719 Q37.8938,17.4531 36.7688,17.5313 Q36.55,17.5313 36.4094,17.6875 Q36.2531,17.8438 36.2531,18.125 Z \"/><text fill=\"#000000\" font-family=\"sans-serif\" font-size=\"12\" font-style=\"italic\" lengthAdjust=\"spacingAndGlyphs\" textLength=\"46\" x=\"56.45\" y=\"29.6045\">ISubject</text><line style=\"stroke: #A80036; stroke-width: 1.5;\" x1=\"7\" x2=\"122\" y1=\"40\" y2=\"40\"/><line style=\"stroke: #A80036; stroke-width: 1.5;\" x1=\"7\" x2=\"122\" y1=\"48\" y2=\"48\"/><ellipse cx=\"17\" cy=\"61.0544\" fill=\"#84BE84\" rx=\"3\" ry=\"3\" style=\"stroke: #038048; stroke-width: 1.0;\"/><text fill=\"#000000\" font-family=\"sans-serif\" font-size=\"11\" lengthAdjust=\"spacingAndGlyphs\" textLength=\"91\" x=\"26\" y=\"64.6919\">registerObserver()</text><ellipse cx=\"17\" cy=\"76.1633\" fill=\"#84BE84\" rx=\"3\" ry=\"3\" style=\"stroke: #038048; stroke-width: 1.0;\"/><text fill=\"#000000\" font-family=\"sans-serif\" font-size=\"11\" lengthAdjust=\"spacingAndGlyphs\" textLength=\"90\" x=\"26\" y=\"79.8008\">removeObserver()</text><ellipse cx=\"17\" cy=\"91.2722\" fill=\"#84BE84\" rx=\"3\" ry=\"3\" style=\"stroke: #038048; stroke-width: 1.0;\"/><text fill=\"#000000\" font-family=\"sans-serif\" font-size=\"11\" lengthAdjust=\"spacingAndGlyphs\" textLength=\"87\" x=\"26\" y=\"94.9097\">notifyObservers()</text><rect fill=\"#FEFECE\" filter=\"url(#f1)\" height=\"63.1089\" style=\"stroke: #A80036; stroke-width: 1.5;\" width=\"87\" x=\"163\" y=\"23\"/><ellipse cx=\"178\" cy=\"39\" fill=\"#B4A7E5\" rx=\"11\" ry=\"11\" style=\"stroke: #A80036; stroke-width: 1.0;\"/><path d=\"M175.7031,33.125 L175.7031,44.75 Q175.7031,45 175.8594,45.1563 Q176,45.2969 177.2188,45.2969 Q177.4219,45.2969 177.5625,45.1719 Q177.7344,45.0156 177.7344,44.75 L177.7344,33.0781 Q177.7344,32.8125 177.5625,32.6719 Q177.3438,32.4531 176.2188,32.5313 Q176,32.5313 175.8594,32.6875 Q175.7031,32.8438 175.7031,33.125 Z \"/><text fill=\"#000000\" font-family=\"sans-serif\" font-size=\"12\" font-style=\"italic\" lengthAdjust=\"spacingAndGlyphs\" textLength=\"55\" x=\"192\" y=\"44.6045\">IObserver</text><line style=\"stroke: #A80036; stroke-width: 1.5;\" x1=\"164\" x2=\"249\" y1=\"55\" y2=\"55\"/><line style=\"stroke: #A80036; stroke-width: 1.5;\" x1=\"164\" x2=\"249\" y1=\"63\" y2=\"63\"/><ellipse cx=\"174\" cy=\"76.0544\" fill=\"#84BE84\" rx=\"3\" ry=\"3\" style=\"stroke: #038048; stroke-width: 1.0;\"/><text fill=\"#000000\" font-family=\"sans-serif\" font-size=\"11\" lengthAdjust=\"spacingAndGlyphs\" textLength=\"41\" x=\"183\" y=\"79.6919\">update()</text><rect fill=\"#FEFECE\" filter=\"url(#f1)\" height=\"48\" style=\"stroke: #A80036; stroke-width: 1.5;\" width=\"104\" x=\"9.5\" y=\"161\"/><ellipse cx=\"24.5\" cy=\"177\" fill=\"#ADD1B2\" rx=\"11\" ry=\"11\" style=\"stroke: #A80036; stroke-width: 1.0;\"/><path d=\"M24.0625,170.5156 Q21.3281,170.5156 20.25,172.1406 Q19.1094,173.8594 19.1094,176.7813 Q19.1094,180.0781 20.2656,181.7813 Q21.25,183.2813 23.8594,183.2813 Q25.4375,183.2813 26.3125,182.4531 Q27.2969,181.5 27.4375,179.375 Q27.4375,179.0781 27.2656,178.9063 Q27.1406,178.75 26.9219,178.7344 Q25.7031,178.7344 25.5469,178.8594 Q25.375,179.0156 25.375,179.2813 Q25.3438,180.7656 24.6875,181.5781 Q24.0781,182.375 24,182.375 Q22.6719,182.375 21.8906,180.7813 Q21.1406,179.2344 21.1406,176.75 Q21.1406,174.125 22.0781,172.6719 Q22.9063,171.4219 24.1875,171.4219 Q24.1875,171.4219 24.5313,172.0469 Q25.1563,172.7188 25.2969,173.875 Q25.4063,174.4531 26.875,174.2344 Q27.4063,174.1563 27.375,173.7344 Q27.2031,172.2969 26.4844,171.4844 Q25.625,170.5156 24.0625,170.5156 Z \"/><text fill=\"#000000\" font-family=\"sans-serif\" font-size=\"12\" lengthAdjust=\"spacingAndGlyphs\" textLength=\"72\" x=\"38.5\" y=\"182.6045\">WeatherData</text><line style=\"stroke: #A80036; stroke-width: 1.5;\" x1=\"10.5\" x2=\"112.5\" y1=\"193\" y2=\"193\"/><line style=\"stroke: #A80036; stroke-width: 1.5;\" x1=\"10.5\" x2=\"112.5\" y1=\"201\" y2=\"201\"/><rect fill=\"#FEFECE\" filter=\"url(#f1)\" height=\"48\" style=\"stroke: #A80036; stroke-width: 1.5;\" width=\"121\" x=\"149\" y=\"161\"/><ellipse cx=\"164\" cy=\"177\" fill=\"#ADD1B2\" rx=\"11\" ry=\"11\" style=\"stroke: #A80036; stroke-width: 1.0;\"/><path d=\"M163.5625,170.5156 Q160.8281,170.5156 159.75,172.1406 Q158.6094,173.8594 158.6094,176.7813 Q158.6094,180.0781 159.7656,181.7813 Q160.75,183.2813 163.3594,183.2813 Q164.9375,183.2813 165.8125,182.4531 Q166.7969,181.5 166.9375,179.375 Q166.9375,179.0781 166.7656,178.9063 Q166.6406,178.75 166.4219,178.7344 Q165.2031,178.7344 165.0469,178.8594 Q164.875,179.0156 164.875,179.2813 Q164.8438,180.7656 164.1875,181.5781 Q163.5781,182.375 163.5,182.375 Q162.1719,182.375 161.3906,180.7813 Q160.6406,179.2344 160.6406,176.75 Q160.6406,174.125 161.5781,172.6719 Q162.4063,171.4219 163.6875,171.4219 Q163.6875,171.4219 164.0313,172.0469 Q164.6563,172.7188 164.7969,173.875 Q164.9063,174.4531 166.375,174.2344 Q166.9063,174.1563 166.875,173.7344 Q166.7031,172.2969 165.9844,171.4844 Q165.125,170.5156 163.5625,170.5156 Z \"/><text fill=\"#000000\" font-family=\"sans-serif\" font-size=\"12\" lengthAdjust=\"spacingAndGlyphs\" textLength=\"89\" x=\"178\" y=\"182.6045\">BroadcastingCo</text><line style=\"stroke: #A80036; stroke-width: 1.5;\" x1=\"150\" x2=\"269\" y1=\"193\" y2=\"193\"/><line style=\"stroke: #A80036; stroke-width: 1.5;\" x1=\"150\" x2=\"269\" y1=\"201\" y2=\"201\"/><path d=\"M123.02,54.5 C134.519,54.5 146.019,54.5 157.519,54.5 \" fill=\"none\" style=\"stroke: #A80036; stroke-width: 1.0;\"/><polygon fill=\"#A80036\" points=\"162.803,54.5,153.803,50.5,157.803,54.5,153.803,58.5,162.803,54.5\" style=\"stroke: #A80036; stroke-width: 1.0;\"/><path d=\"M62.9569,121.5981 C62.6276,135.7021 62.3011,149.6872 62.0409,160.8319 \" fill=\"none\" style=\"stroke: #A80036; stroke-width: 1.0; stroke-dasharray: 7.0,7.0;\"/><polygon fill=\"none\" points=\"55.9689,120.9972,63.4339,101.166,69.9651,121.3241,55.9689,120.9972\" style=\"stroke: #A80036; stroke-width: 1.0;\"/><path d=\"M207.689,106.437 C208.127,125.2086 208.603,145.5661 208.956,160.7133 \" fill=\"none\" style=\"stroke: #A80036; stroke-width: 1.0; stroke-dasharray: 7.0,7.0;\"/><polygon fill=\"none\" points=\"200.687,106.437,207.219,86.279,214.684,106.11,200.687,106.437\" style=\"stroke: #A80036; stroke-width: 1.0;\"/><path d=\"M118.762,185 C128.765,185 138.767,185 148.77,185 \" fill=\"none\" style=\"stroke: #A80036; stroke-width: 1.0;\"/><polygon fill=\"#A80036\" points=\"113.531,185,122.531,189,118.531,185,122.531,181,113.531,185\" style=\"stroke: #A80036; stroke-width: 1.0;\"/></g></svg>"
      ],
      "text/plain": [
       "<IPython.core.display.SVG object>"
      ]
     },
     "execution_count": 4,
     "metadata": {},
     "output_type": "execute_result"
    }
   ],
   "source": [
    "%%plantuml\n",
    "@startuml\n",
    "Interface ISubject{\n",
    "    +registerObserver()\n",
    "    +removeObserver()\n",
    "    +notifyObservers()\n",
    "}\n",
    "Interface IObserver{\n",
    "    +update()\n",
    "}\n",
    "\n",
    "ISubject -right-> IObserver\n",
    "ISubject <|.. WeatherData\n",
    "IObserver <|.. BroadcastingCo\n",
    "WeatherData <-left- BroadcastingCo\n",
    "@enduml"
   ]
  },
  {
   "cell_type": "code",
   "execution_count": 5,
   "metadata": {
    "collapsed": false
   },
   "outputs": [
    {
     "data": {
      "image/svg+xml": [
       "<svg height=\"306px\" style=\"width:440px;height:306px;\" version=\"1.1\" viewBox=\"0 0 440 306\" width=\"440px\" xmlns=\"http://www.w3.org/2000/svg\" xmlns:xlink=\"http://www.w3.org/1999/xlink\"><defs><filter height=\"300%\" id=\"f1\" width=\"300%\" x=\"-1\" y=\"-1\"><feGaussianBlur result=\"blurOut\" stdDeviation=\"2.0\"/><feColorMatrix in=\"blurOut\" result=\"blurOut2\" type=\"matrix\" values=\"0 0 0 0 0 0 0 0 0 0 0 0 0 0 0 0 0 0 .4 0\"/><feOffset dx=\"4.0\" dy=\"4.0\" in=\"blurOut2\" result=\"blurOut3\"/><feBlend in=\"SourceGraphic\" in2=\"blurOut3\" mode=\"normal\"/></filter></defs><g><line style=\"stroke: #A80036; stroke-width: 1.0; stroke-dasharray: 5.0,5.0;\" x1=\"35\" x2=\"35\" y1=\"41.2295\" y2=\"265.3652\"/><line style=\"stroke: #A80036; stroke-width: 1.0; stroke-dasharray: 5.0,5.0;\" x1=\"127\" x2=\"127\" y1=\"41.2295\" y2=\"265.3652\"/><line style=\"stroke: #A80036; stroke-width: 1.0; stroke-dasharray: 5.0,5.0;\" x1=\"211\" x2=\"211\" y1=\"41.2295\" y2=\"265.3652\"/><line style=\"stroke: #A80036; stroke-width: 1.0; stroke-dasharray: 5.0,5.0;\" x1=\"321.5\" x2=\"321.5\" y1=\"41.2295\" y2=\"265.3652\"/><line style=\"stroke: #A80036; stroke-width: 1.0; stroke-dasharray: 5.0,5.0;\" x1=\"402.5\" x2=\"402.5\" y1=\"41.2295\" y2=\"265.3652\"/><rect fill=\"#FEFECE\" filter=\"url(#f1)\" height=\"33.2295\" style=\"stroke: #A80036; stroke-width: 1.5;\" width=\"50\" x=\"8\" y=\"3\"/><text fill=\"#000000\" font-family=\"sans-serif\" font-size=\"14\" lengthAdjust=\"spacingAndGlyphs\" textLength=\"36\" x=\"15\" y=\"26.1533\">Client</text><rect fill=\"#FEFECE\" filter=\"url(#f1)\" height=\"33.2295\" style=\"stroke: #A80036; stroke-width: 1.5;\" width=\"50\" x=\"8\" y=\"264.3652\"/><text fill=\"#000000\" font-family=\"sans-serif\" font-size=\"14\" lengthAdjust=\"spacingAndGlyphs\" textLength=\"36\" x=\"15\" y=\"287.5186\">Client</text><rect fill=\"#FEFECE\" filter=\"url(#f1)\" height=\"33.2295\" style=\"stroke: #A80036; stroke-width: 1.5;\" width=\"76\" x=\"87\" y=\"3\"/><text fill=\"#000000\" font-family=\"sans-serif\" font-size=\"14\" lengthAdjust=\"spacingAndGlyphs\" textLength=\"62\" x=\"94\" y=\"26.1533\">IObserver</text><rect fill=\"#FEFECE\" filter=\"url(#f1)\" height=\"33.2295\" style=\"stroke: #A80036; stroke-width: 1.5;\" width=\"76\" x=\"87\" y=\"264.3652\"/><text fill=\"#000000\" font-family=\"sans-serif\" font-size=\"14\" lengthAdjust=\"spacingAndGlyphs\" textLength=\"62\" x=\"94\" y=\"287.5186\">IObserver</text><rect fill=\"#FEFECE\" filter=\"url(#f1)\" height=\"33.2295\" style=\"stroke: #A80036; stroke-width: 1.5;\" width=\"64\" x=\"177\" y=\"3\"/><text fill=\"#000000\" font-family=\"sans-serif\" font-size=\"14\" lengthAdjust=\"spacingAndGlyphs\" textLength=\"50\" x=\"184\" y=\"26.1533\">ISubject</text><rect fill=\"#FEFECE\" filter=\"url(#f1)\" height=\"33.2295\" style=\"stroke: #A80036; stroke-width: 1.5;\" width=\"64\" x=\"177\" y=\"264.3652\"/><text fill=\"#000000\" font-family=\"sans-serif\" font-size=\"14\" lengthAdjust=\"spacingAndGlyphs\" textLength=\"50\" x=\"184\" y=\"287.5186\">ISubject</text><rect fill=\"#FEFECE\" filter=\"url(#f1)\" height=\"33.2295\" style=\"stroke: #A80036; stroke-width: 1.5;\" width=\"73\" x=\"283.5\" y=\"3\"/><text fill=\"#000000\" font-family=\"sans-serif\" font-size=\"14\" lengthAdjust=\"spacingAndGlyphs\" textLength=\"59\" x=\"290.5\" y=\"26.1533\">Observer</text><rect fill=\"#FEFECE\" filter=\"url(#f1)\" height=\"33.2295\" style=\"stroke: #A80036; stroke-width: 1.5;\" width=\"73\" x=\"283.5\" y=\"264.3652\"/><text fill=\"#000000\" font-family=\"sans-serif\" font-size=\"14\" lengthAdjust=\"spacingAndGlyphs\" textLength=\"59\" x=\"290.5\" y=\"287.5186\">Observer</text><rect fill=\"#FEFECE\" filter=\"url(#f1)\" height=\"33.2295\" style=\"stroke: #A80036; stroke-width: 1.5;\" width=\"61\" x=\"370.5\" y=\"3\"/><text fill=\"#000000\" font-family=\"sans-serif\" font-size=\"14\" lengthAdjust=\"spacingAndGlyphs\" textLength=\"47\" x=\"377.5\" y=\"26.1533\">Subject</text><rect fill=\"#FEFECE\" filter=\"url(#f1)\" height=\"33.2295\" style=\"stroke: #A80036; stroke-width: 1.5;\" width=\"61\" x=\"370.5\" y=\"264.3652\"/><text fill=\"#000000\" font-family=\"sans-serif\" font-size=\"14\" lengthAdjust=\"spacingAndGlyphs\" textLength=\"47\" x=\"377.5\" y=\"287.5186\">Subject</text><polygon fill=\"#A80036\" points=\"115,70.2295,125,74.2295,115,78.2295,119,74.2295\" style=\"stroke: #A80036; stroke-width: 1.0;\"/><line style=\"stroke: #A80036; stroke-width: 1.0;\" x1=\"35\" x2=\"121\" y1=\"74.2295\" y2=\"74.2295\"/><text fill=\"#000000\" font-family=\"sans-serif\" font-size=\"13\" lengthAdjust=\"spacingAndGlyphs\" textLength=\"68\" x=\"42\" y=\"70.229\">obs = new()</text><polygon fill=\"#A80036\" points=\"199,102.0854,209,106.0854,199,110.0854,203,106.0854\" style=\"stroke: #A80036; stroke-width: 1.0;\"/><line style=\"stroke: #A80036; stroke-width: 1.0;\" x1=\"35\" x2=\"205\" y1=\"106.0854\" y2=\"106.0854\"/><text fill=\"#000000\" font-family=\"sans-serif\" font-size=\"13\" lengthAdjust=\"spacingAndGlyphs\" textLength=\"123\" x=\"42\" y=\"102.085\">registerObserver(obs)</text><polygon fill=\"#A80036\" points=\"199,133.9414,209,137.9414,199,141.9414,203,137.9414\" style=\"stroke: #A80036; stroke-width: 1.0;\"/><line style=\"stroke: #A80036; stroke-width: 1.0;\" x1=\"35\" x2=\"205\" y1=\"137.9414\" y2=\"137.9414\"/><text fill=\"#000000\" font-family=\"sans-serif\" font-size=\"13\" lengthAdjust=\"spacingAndGlyphs\" textLength=\"77\" x=\"42\" y=\"133.9409\">setChanged()</text><line style=\"stroke: #A80036; stroke-width: 1.0;\" x1=\"211\" x2=\"253\" y1=\"170.6533\" y2=\"170.6533\"/><line style=\"stroke: #A80036; stroke-width: 1.0;\" x1=\"253\" x2=\"253\" y1=\"170.6533\" y2=\"183.6533\"/><line style=\"stroke: #A80036; stroke-width: 1.0;\" x1=\"212\" x2=\"253\" y1=\"183.6533\" y2=\"183.6533\"/><polygon fill=\"#A80036\" points=\"222,179.6533,212,183.6533,222,187.6533,218,183.6533\" style=\"stroke: #A80036; stroke-width: 1.0;\"/><text fill=\"#000000\" font-family=\"sans-serif\" font-size=\"13\" lengthAdjust=\"spacingAndGlyphs\" textLength=\"97\" x=\"218\" y=\"165.7969\">notifyObservers()</text><polygon fill=\"#A80036\" points=\"310,210.6533,320,214.6533,310,218.6533,314,214.6533\" style=\"stroke: #A80036; stroke-width: 1.0;\"/><line style=\"stroke: #A80036; stroke-width: 1.0;\" x1=\"211\" x2=\"316\" y1=\"214.6533\" y2=\"214.6533\"/><text fill=\"#000000\" font-family=\"sans-serif\" font-size=\"13\" lengthAdjust=\"spacingAndGlyphs\" textLength=\"47\" x=\"218\" y=\"210.6528\">update()</text><polygon fill=\"#A80036\" points=\"391,242.5093,401,246.5093,391,250.5093,395,246.5093\" style=\"stroke: #A80036; stroke-width: 1.0;\"/><line style=\"stroke: #A80036; stroke-width: 1.0;\" x1=\"322\" x2=\"397\" y1=\"246.5093\" y2=\"246.5093\"/><text fill=\"#000000\" font-family=\"sans-serif\" font-size=\"13\" lengthAdjust=\"spacingAndGlyphs\" textLength=\"53\" x=\"329\" y=\"242.5088\">getData()</text></g></svg>"
      ],
      "text/plain": [
       "<IPython.core.display.SVG object>"
      ]
     },
     "execution_count": 5,
     "metadata": {},
     "output_type": "execute_result"
    }
   ],
   "source": [
    "%%plantuml\n",
    "\n",
    "@startuml\n",
    "Client -> IObserver:obs = new()\n",
    "Client -> ISubject:registerObserver(obs)\n",
    "Client -> ISubject:setChanged()\n",
    "ISubject -> ISubject:notifyObservers()\n",
    "ISubject -> Observer:update()\n",
    "Observer -> Subject:getData()\n",
    "@enduml "
   ]
  },
  {
   "cell_type": "code",
   "execution_count": null,
   "metadata": {
    "collapsed": true
   },
   "outputs": [],
   "source": []
  }
 ],
 "metadata": {
  "kernelspec": {
   "display_name": "Python 2",
   "language": "python",
   "name": "python2"
  },
  "language_info": {
   "codemirror_mode": {
    "name": "ipython",
    "version": 2
   },
   "file_extension": ".py",
   "mimetype": "text/x-python",
   "name": "python",
   "nbconvert_exporter": "python",
   "pygments_lexer": "ipython2",
   "version": "2.7.10"
  }
 },
 "nbformat": 4,
 "nbformat_minor": 0
}
