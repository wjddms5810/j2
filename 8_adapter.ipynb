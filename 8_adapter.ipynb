{
 "cells": [
  {
   "cell_type": "code",
   "execution_count": 2,
   "metadata": {
    "collapsed": false
   },
   "outputs": [
    {
     "name": "stdout",
     "output_type": "stream",
     "text": [
      "Installed plantuml_magics.py. To use it, type:\n",
      "  %load_ext plantuml_magics\n"
     ]
    },
    {
     "name": "stderr",
     "output_type": "stream",
     "text": [
      "C:\\Anaconda\\lib\\site-packages\\IPython\\core\\magics\\extension.py:47: UserWarning: %install_ext` is deprecated, please distribute your extension(s)as a python packages.\n",
      "  \"as a python packages.\", UserWarning)\n"
     ]
    }
   ],
   "source": [
    "%install_ext https://raw.githubusercontent.com/sberke/ipython-plantuml/master/plantuml_magics.py"
   ]
  },
  {
   "cell_type": "code",
   "execution_count": 3,
   "metadata": {
    "collapsed": false
   },
   "outputs": [
    {
     "name": "stdout",
     "output_type": "stream",
     "text": [
      "The plantuml_magics extension is already loaded. To reload it, use:\n",
      "  %reload_ext plantuml_magics\n"
     ]
    }
   ],
   "source": [
    "%load_ext plantuml_magics"
   ]
  },
  {
   "cell_type": "code",
   "execution_count": 4,
   "metadata": {
    "collapsed": false
   },
   "outputs": [
    {
     "data": {
      "text/plain": [
       "['.\\\\plantuml.jar']"
      ]
     },
     "execution_count": 4,
     "metadata": {},
     "output_type": "execute_result"
    }
   ],
   "source": [
    "import glob\n",
    "glob.glob(r'./*.jar')"
   ]
  },
  {
   "cell_type": "code",
   "execution_count": 11,
   "metadata": {
    "collapsed": false
   },
   "outputs": [
    {
     "data": {
      "image/svg+xml": [
       "<svg height=\"203px\" style=\"width:360px;height:203px;\" version=\"1.1\" viewBox=\"0 0 360 203\" width=\"360px\" xmlns=\"http://www.w3.org/2000/svg\" xmlns:xlink=\"http://www.w3.org/1999/xlink\"><defs><filter height=\"300%\" id=\"f1\" width=\"300%\" x=\"-1\" y=\"-1\"><feGaussianBlur result=\"blurOut\" stdDeviation=\"2.0\"/><feColorMatrix in=\"blurOut\" result=\"blurOut2\" type=\"matrix\" values=\"0 0 0 0 0 0 0 0 0 0 0 0 0 0 0 0 0 0 .4 0\"/><feOffset dx=\"4.0\" dy=\"4.0\" in=\"blurOut2\" result=\"blurOut3\"/><feBlend in=\"SourceGraphic\" in2=\"blurOut3\" mode=\"normal\"/></filter></defs><g><rect fill=\"#FEFECE\" filter=\"url(#f1)\" height=\"63.1089\" style=\"stroke: #A80036; stroke-width: 1.5;\" width=\"120\" x=\"231\" y=\"131\"/><ellipse cx=\"265.35\" cy=\"147\" fill=\"#ADD1B2\" rx=\"11\" ry=\"11\" style=\"stroke: #A80036; stroke-width: 1.0;\"/><path d=\"M264.9125,140.5156 Q262.1781,140.5156 261.1,142.1406 Q259.9594,143.8594 259.9594,146.7813 Q259.9594,150.0781 261.1156,151.7813 Q262.1,153.2813 264.7094,153.2813 Q266.2875,153.2813 267.1625,152.4531 Q268.1469,151.5 268.2875,149.375 Q268.2875,149.0781 268.1156,148.9063 Q267.9906,148.75 267.7719,148.7344 Q266.5531,148.7344 266.3969,148.8594 Q266.225,149.0156 266.225,149.2813 Q266.1938,150.7656 265.5375,151.5781 Q264.9281,152.375 264.85,152.375 Q263.5219,152.375 262.7406,150.7813 Q261.9906,149.2344 261.9906,146.75 Q261.9906,144.125 262.9281,142.6719 Q263.7563,141.4219 265.0375,141.4219 Q265.0375,141.4219 265.3813,142.0469 Q266.0063,142.7188 266.1469,143.875 Q266.2563,144.4531 267.725,144.2344 Q268.2563,144.1563 268.225,143.7344 Q268.0531,142.2969 267.3344,141.4844 Q266.475,140.5156 264.9125,140.5156 Z \"/><text fill=\"#000000\" font-family=\"sans-serif\" font-size=\"12\" lengthAdjust=\"spacingAndGlyphs\" textLength=\"45\" x=\"283.65\" y=\"152.6045\">Adaptee</text><line style=\"stroke: #A80036; stroke-width: 1.5;\" x1=\"232\" x2=\"350\" y1=\"163\" y2=\"163\"/><line style=\"stroke: #A80036; stroke-width: 1.5;\" x1=\"232\" x2=\"350\" y1=\"171\" y2=\"171\"/><ellipse cx=\"242\" cy=\"184.0544\" fill=\"#84BE84\" rx=\"3\" ry=\"3\" style=\"stroke: #038048; stroke-width: 1.0;\"/><text fill=\"#000000\" font-family=\"sans-serif\" font-size=\"11\" lengthAdjust=\"spacingAndGlyphs\" textLength=\"94\" x=\"251\" y=\"187.6919\">requestOtherWay()</text><rect fill=\"#FEFECE\" filter=\"url(#f1)\" height=\"63.1089\" style=\"stroke: #A80036; stroke-width: 1.5;\" width=\"71\" x=\"105.5\" y=\"8\"/><ellipse cx=\"122.3\" cy=\"24\" fill=\"#B4A7E5\" rx=\"11\" ry=\"11\" style=\"stroke: #A80036; stroke-width: 1.0;\"/><path d=\"M120.0031,18.125 L120.0031,29.75 Q120.0031,30 120.1594,30.1563 Q120.3,30.2969 121.5188,30.2969 Q121.7219,30.2969 121.8625,30.1719 Q122.0344,30.0156 122.0344,29.75 L122.0344,18.0781 Q122.0344,17.8125 121.8625,17.6719 Q121.6438,17.4531 120.5188,17.5313 Q120.3,17.5313 120.1594,17.6875 Q120.0031,17.8438 120.0031,18.125 Z \"/><text fill=\"#000000\" font-family=\"sans-serif\" font-size=\"12\" font-style=\"italic\" lengthAdjust=\"spacingAndGlyphs\" textLength=\"35\" x=\"136.7\" y=\"29.6045\">Target</text><line style=\"stroke: #A80036; stroke-width: 1.5;\" x1=\"106.5\" x2=\"175.5\" y1=\"40\" y2=\"40\"/><line style=\"stroke: #A80036; stroke-width: 1.5;\" x1=\"106.5\" x2=\"175.5\" y1=\"48\" y2=\"48\"/><ellipse cx=\"116.5\" cy=\"61.0544\" fill=\"#84BE84\" rx=\"3\" ry=\"3\" style=\"stroke: #038048; stroke-width: 1.0;\"/><text fill=\"#000000\" font-family=\"sans-serif\" font-size=\"11\" lengthAdjust=\"spacingAndGlyphs\" textLength=\"45\" x=\"125.5\" y=\"64.6919\">request()</text><rect fill=\"#FEFECE\" filter=\"url(#f1)\" height=\"63.1089\" style=\"stroke: #A80036; stroke-width: 1.5;\" width=\"109\" x=\"86.5\" y=\"131\"/><ellipse cx=\"117.25\" cy=\"147\" fill=\"#ADD1B2\" rx=\"11\" ry=\"11\" style=\"stroke: #A80036; stroke-width: 1.0;\"/><path d=\"M116.8125,140.5156 Q114.0781,140.5156 113,142.1406 Q111.8594,143.8594 111.8594,146.7813 Q111.8594,150.0781 113.0156,151.7813 Q114,153.2813 116.6094,153.2813 Q118.1875,153.2813 119.0625,152.4531 Q120.0469,151.5 120.1875,149.375 Q120.1875,149.0781 120.0156,148.9063 Q119.8906,148.75 119.6719,148.7344 Q118.4531,148.7344 118.2969,148.8594 Q118.125,149.0156 118.125,149.2813 Q118.0938,150.7656 117.4375,151.5781 Q116.8281,152.375 116.75,152.375 Q115.4219,152.375 114.6406,150.7813 Q113.8906,149.2344 113.8906,146.75 Q113.8906,144.125 114.8281,142.6719 Q115.6563,141.4219 116.9375,141.4219 Q116.9375,141.4219 117.2813,142.0469 Q117.9063,142.7188 118.0469,143.875 Q118.1563,144.4531 119.625,144.2344 Q120.1563,144.1563 120.125,143.7344 Q119.9531,142.2969 119.2344,141.4844 Q118.375,140.5156 116.8125,140.5156 Z \"/><text fill=\"#000000\" font-family=\"sans-serif\" font-size=\"12\" lengthAdjust=\"spacingAndGlyphs\" textLength=\"42\" x=\"134.75\" y=\"152.6045\">Adapter</text><line style=\"stroke: #A80036; stroke-width: 1.5;\" x1=\"87.5\" x2=\"194.5\" y1=\"163\" y2=\"163\"/><ellipse cx=\"97.5\" cy=\"176.0544\" fill=\"none\" rx=\"3\" ry=\"3\" style=\"stroke: #038048; stroke-width: 1.0;\"/><text fill=\"#000000\" font-family=\"sans-serif\" font-size=\"11\" lengthAdjust=\"spacingAndGlyphs\" textLength=\"83\" x=\"106.5\" y=\"179.6919\">adaptee:Adaptee</text><line style=\"stroke: #A80036; stroke-width: 1.5;\" x1=\"87.5\" x2=\"194.5\" y1=\"186.1089\" y2=\"186.1089\"/><rect fill=\"#FEFECE\" filter=\"url(#f1)\" height=\"48\" style=\"stroke: #A80036; stroke-width: 1.5;\" width=\"64\" x=\"6\" y=\"15.5\"/><ellipse cx=\"21\" cy=\"31.5\" fill=\"#ADD1B2\" rx=\"11\" ry=\"11\" style=\"stroke: #A80036; stroke-width: 1.0;\"/><path d=\"M20.5625,25.0156 Q17.8281,25.0156 16.75,26.6406 Q15.6094,28.3594 15.6094,31.2813 Q15.6094,34.5781 16.7656,36.2813 Q17.75,37.7813 20.3594,37.7813 Q21.9375,37.7813 22.8125,36.9531 Q23.7969,36 23.9375,33.875 Q23.9375,33.5781 23.7656,33.4063 Q23.6406,33.25 23.4219,33.2344 Q22.2031,33.2344 22.0469,33.3594 Q21.875,33.5156 21.875,33.7813 Q21.8438,35.2656 21.1875,36.0781 Q20.5781,36.875 20.5,36.875 Q19.1719,36.875 18.3906,35.2813 Q17.6406,33.7344 17.6406,31.25 Q17.6406,28.625 18.5781,27.1719 Q19.4063,25.9219 20.6875,25.9219 Q20.6875,25.9219 21.0313,26.5469 Q21.6563,27.2188 21.7969,28.375 Q21.9063,28.9531 23.375,28.7344 Q23.9063,28.6563 23.875,28.2344 Q23.7031,26.7969 22.9844,25.9844 Q22.125,25.0156 20.5625,25.0156 Z \"/><text fill=\"#000000\" font-family=\"sans-serif\" font-size=\"12\" lengthAdjust=\"spacingAndGlyphs\" textLength=\"32\" x=\"35\" y=\"37.1045\">Client</text><line style=\"stroke: #A80036; stroke-width: 1.5;\" x1=\"7\" x2=\"69\" y1=\"47.5\" y2=\"47.5\"/><line style=\"stroke: #A80036; stroke-width: 1.5;\" x1=\"7\" x2=\"69\" y1=\"55.5\" y2=\"55.5\"/><path d=\"M141,91.293 C141,104.7857 141,118.9401 141,130.9764 \" fill=\"none\" style=\"stroke: #A80036; stroke-width: 1.0; stroke-dasharray: 7.0,7.0;\"/><polygon fill=\"none\" points=\"134,91.033,141,71.033,148,91.033,134,91.033\" style=\"stroke: #A80036; stroke-width: 1.0;\"/><path d=\"M195.785,162.5 C205.709,162.5 215.633,162.5 225.557,162.5 \" fill=\"none\" style=\"stroke: #A80036; stroke-width: 1.0;\"/><polygon fill=\"#A80036\" points=\"230.747,162.5,221.747,158.5,225.747,162.5,221.747,166.5,230.747,162.5\" style=\"stroke: #A80036; stroke-width: 1.0;\"/><path d=\"M70.1875,39.5 C80.1592,39.5 90.1309,39.5 100.1026,39.5 \" fill=\"none\" style=\"stroke: #A80036; stroke-width: 1.0;\"/><polygon fill=\"#A80036\" points=\"105.3171,39.5,96.3171,35.5,100.3171,39.5,96.3171,43.5,105.3171,39.5\" style=\"stroke: #A80036; stroke-width: 1.0;\"/></g></svg>"
      ],
      "text/plain": [
       "<IPython.core.display.SVG object>"
      ]
     },
     "execution_count": 11,
     "metadata": {},
     "output_type": "execute_result"
    }
   ],
   "source": [
    "%%plantuml\n",
    "@startuml\n",
    "\n",
    "class Adaptee{\n",
    "    +requestOtherWay()\n",
    "}\n",
    "interface Target{\n",
    "    +request()\n",
    "}\n",
    "\n",
    "class Adapter{\n",
    "    +adaptee:Adaptee\n",
    "}\n",
    "Target <|.. Adapter\n",
    "Adapter -right-> Adaptee\n",
    "Client -> Target\n",
    "\n",
    "@enduml"
   ]
  },
  {
   "cell_type": "code",
   "execution_count": 15,
   "metadata": {
    "collapsed": false,
    "scrolled": true
   },
   "outputs": [
    {
     "data": {
      "image/svg+xml": [
       "<svg height=\"402px\" style=\"width:485px;height:402px;\" version=\"1.1\" viewBox=\"0 0 485 402\" width=\"485px\" xmlns=\"http://www.w3.org/2000/svg\" xmlns:xlink=\"http://www.w3.org/1999/xlink\"><defs><filter height=\"300%\" id=\"f1\" width=\"300%\" x=\"-1\" y=\"-1\"><feGaussianBlur result=\"blurOut\" stdDeviation=\"2.0\"/><feColorMatrix in=\"blurOut\" result=\"blurOut2\" type=\"matrix\" values=\"0 0 0 0 0 0 0 0 0 0 0 0 0 0 0 0 0 0 .4 0\"/><feOffset dx=\"4.0\" dy=\"4.0\" in=\"blurOut2\" result=\"blurOut3\"/><feBlend in=\"SourceGraphic\" in2=\"blurOut3\" mode=\"normal\"/></filter></defs><g><rect fill=\"#FEFECE\" filter=\"url(#f1)\" height=\"78.2178\" style=\"stroke: #A80036; stroke-width: 1.5;\" width=\"86\" x=\"255\" y=\"8\"/><ellipse cx=\"281.25\" cy=\"24\" fill=\"#B4A7E5\" rx=\"11\" ry=\"11\" style=\"stroke: #A80036; stroke-width: 1.0;\"/><path d=\"M278.9531,18.125 L278.9531,29.75 Q278.9531,30 279.1094,30.1563 Q279.25,30.2969 280.4688,30.2969 Q280.6719,30.2969 280.8125,30.1719 Q280.9844,30.0156 280.9844,29.75 L280.9844,18.0781 Q280.9844,17.8125 280.8125,17.6719 Q280.5938,17.4531 279.4688,17.5313 Q279.25,17.5313 279.1094,17.6875 Q278.9531,17.8438 278.9531,18.125 Z \"/><text fill=\"#000000\" font-family=\"sans-serif\" font-size=\"12\" font-style=\"italic\" lengthAdjust=\"spacingAndGlyphs\" textLength=\"29\" x=\"297.75\" y=\"29.6045\">Duck</text><line style=\"stroke: #A80036; stroke-width: 1.5;\" x1=\"256\" x2=\"340\" y1=\"40\" y2=\"40\"/><line style=\"stroke: #A80036; stroke-width: 1.5;\" x1=\"256\" x2=\"340\" y1=\"48\" y2=\"48\"/><ellipse cx=\"266\" cy=\"61.0544\" fill=\"#84BE84\" rx=\"3\" ry=\"3\" style=\"stroke: #038048; stroke-width: 1.0;\"/><text fill=\"#000000\" font-family=\"sans-serif\" font-size=\"11\" lengthAdjust=\"spacingAndGlyphs\" textLength=\"60\" x=\"275\" y=\"64.6919\">quack():void</text><ellipse cx=\"266\" cy=\"76.1633\" fill=\"#84BE84\" rx=\"3\" ry=\"3\" style=\"stroke: #038048; stroke-width: 1.0;\"/><text fill=\"#000000\" font-family=\"sans-serif\" font-size=\"11\" lengthAdjust=\"spacingAndGlyphs\" textLength=\"43\" x=\"275\" y=\"79.8008\">fly():void</text><rect fill=\"#FEFECE\" filter=\"url(#f1)\" height=\"78.2178\" style=\"stroke: #A80036; stroke-width: 1.5;\" width=\"89\" x=\"105.5\" y=\"146\"/><ellipse cx=\"129.05\" cy=\"162\" fill=\"#B4A7E5\" rx=\"11\" ry=\"11\" style=\"stroke: #A80036; stroke-width: 1.0;\"/><path d=\"M126.7531,156.125 L126.7531,167.75 Q126.7531,168 126.9094,168.1563 Q127.05,168.2969 128.2688,168.2969 Q128.4719,168.2969 128.6125,168.1719 Q128.7844,168.0156 128.7844,167.75 L128.7844,156.0781 Q128.7844,155.8125 128.6125,155.6719 Q128.3938,155.4531 127.2688,155.5313 Q127.05,155.5313 126.9094,155.6875 Q126.7531,155.8438 126.7531,156.125 Z \"/><text fill=\"#000000\" font-family=\"sans-serif\" font-size=\"12\" font-style=\"italic\" lengthAdjust=\"spacingAndGlyphs\" textLength=\"38\" x=\"144.95\" y=\"167.6045\">Turkey</text><line style=\"stroke: #A80036; stroke-width: 1.5;\" x1=\"106.5\" x2=\"193.5\" y1=\"178\" y2=\"178\"/><line style=\"stroke: #A80036; stroke-width: 1.5;\" x1=\"106.5\" x2=\"193.5\" y1=\"186\" y2=\"186\"/><ellipse cx=\"116.5\" cy=\"199.0544\" fill=\"#84BE84\" rx=\"3\" ry=\"3\" style=\"stroke: #038048; stroke-width: 1.0;\"/><text fill=\"#000000\" font-family=\"sans-serif\" font-size=\"11\" lengthAdjust=\"spacingAndGlyphs\" textLength=\"63\" x=\"125.5\" y=\"202.6919\">gobble():void</text><ellipse cx=\"116.5\" cy=\"214.1633\" fill=\"#84BE84\" rx=\"3\" ry=\"3\" style=\"stroke: #038048; stroke-width: 1.0;\"/><text fill=\"#000000\" font-family=\"sans-serif\" font-size=\"11\" lengthAdjust=\"spacingAndGlyphs\" textLength=\"43\" x=\"125.5\" y=\"217.8008\">fly():void</text><rect fill=\"#FEFECE\" filter=\"url(#f1)\" height=\"48\" style=\"stroke: #A80036; stroke-width: 1.5;\" width=\"100\" x=\"376\" y=\"23\"/><ellipse cx=\"391\" cy=\"39\" fill=\"#ADD1B2\" rx=\"11\" ry=\"11\" style=\"stroke: #A80036; stroke-width: 1.0;\"/><path d=\"M390.5625,32.5156 Q387.8281,32.5156 386.75,34.1406 Q385.6094,35.8594 385.6094,38.7813 Q385.6094,42.0781 386.7656,43.7813 Q387.75,45.2813 390.3594,45.2813 Q391.9375,45.2813 392.8125,44.4531 Q393.7969,43.5 393.9375,41.375 Q393.9375,41.0781 393.7656,40.9063 Q393.6406,40.75 393.4219,40.7344 Q392.2031,40.7344 392.0469,40.8594 Q391.875,41.0156 391.875,41.2813 Q391.8438,42.7656 391.1875,43.5781 Q390.5781,44.375 390.5,44.375 Q389.1719,44.375 388.3906,42.7813 Q387.6406,41.2344 387.6406,38.75 Q387.6406,36.125 388.5781,34.6719 Q389.4063,33.4219 390.6875,33.4219 Q390.6875,33.4219 391.0313,34.0469 Q391.6563,34.7188 391.7969,35.875 Q391.9063,36.4531 393.375,36.2344 Q393.9063,36.1563 393.875,35.7344 Q393.7031,34.2969 392.9844,33.4844 Q392.125,32.5156 390.5625,32.5156 Z \"/><text fill=\"#000000\" font-family=\"sans-serif\" font-size=\"12\" lengthAdjust=\"spacingAndGlyphs\" textLength=\"68\" x=\"405\" y=\"44.6045\">MallardDuck</text><line style=\"stroke: #A80036; stroke-width: 1.5;\" x1=\"377\" x2=\"475\" y1=\"55\" y2=\"55\"/><line style=\"stroke: #A80036; stroke-width: 1.5;\" x1=\"377\" x2=\"475\" y1=\"63\" y2=\"63\"/><rect fill=\"#FEFECE\" filter=\"url(#f1)\" height=\"48\" style=\"stroke: #A80036; stroke-width: 1.5;\" width=\"92\" x=\"104\" y=\"345\"/><ellipse cx=\"119\" cy=\"361\" fill=\"#ADD1B2\" rx=\"11\" ry=\"11\" style=\"stroke: #A80036; stroke-width: 1.0;\"/><path d=\"M118.5625,354.5156 Q115.8281,354.5156 114.75,356.1406 Q113.6094,357.8594 113.6094,360.7813 Q113.6094,364.0781 114.7656,365.7813 Q115.75,367.2813 118.3594,367.2813 Q119.9375,367.2813 120.8125,366.4531 Q121.7969,365.5 121.9375,363.375 Q121.9375,363.0781 121.7656,362.9063 Q121.6406,362.75 121.4219,362.7344 Q120.2031,362.7344 120.0469,362.8594 Q119.875,363.0156 119.875,363.2813 Q119.8438,364.7656 119.1875,365.5781 Q118.5781,366.375 118.5,366.375 Q117.1719,366.375 116.3906,364.7813 Q115.6406,363.2344 115.6406,360.75 Q115.6406,358.125 116.5781,356.6719 Q117.4063,355.4219 118.6875,355.4219 Q118.6875,355.4219 119.0313,356.0469 Q119.6563,356.7188 119.7969,357.875 Q119.9063,358.4531 121.375,358.2344 Q121.9063,358.1563 121.875,357.7344 Q121.7031,356.2969 120.9844,355.4844 Q120.125,354.5156 118.5625,354.5156 Z \"/><text fill=\"#000000\" font-family=\"sans-serif\" font-size=\"12\" lengthAdjust=\"spacingAndGlyphs\" textLength=\"60\" x=\"133\" y=\"366.6045\">WildTurkey</text><line style=\"stroke: #A80036; stroke-width: 1.5;\" x1=\"105\" x2=\"195\" y1=\"377\" y2=\"377\"/><line style=\"stroke: #A80036; stroke-width: 1.5;\" x1=\"105\" x2=\"195\" y1=\"385\" y2=\"385\"/><rect fill=\"#FEFECE\" filter=\"url(#f1)\" height=\"78.2178\" style=\"stroke: #A80036; stroke-width: 1.5;\" width=\"136\" x=\"230\" y=\"146\"/><ellipse cx=\"256.7\" cy=\"162\" fill=\"#ADD1B2\" rx=\"11\" ry=\"11\" style=\"stroke: #A80036; stroke-width: 1.0;\"/><path d=\"M256.2625,155.5156 Q253.5281,155.5156 252.45,157.1406 Q251.3094,158.8594 251.3094,161.7813 Q251.3094,165.0781 252.4656,166.7813 Q253.45,168.2813 256.0594,168.2813 Q257.6375,168.2813 258.5125,167.4531 Q259.4969,166.5 259.6375,164.375 Q259.6375,164.0781 259.4656,163.9063 Q259.3406,163.75 259.1219,163.7344 Q257.9031,163.7344 257.7469,163.8594 Q257.575,164.0156 257.575,164.2813 Q257.5438,165.7656 256.8875,166.5781 Q256.2781,167.375 256.2,167.375 Q254.8719,167.375 254.0906,165.7813 Q253.3406,164.2344 253.3406,161.75 Q253.3406,159.125 254.2781,157.6719 Q255.1063,156.4219 256.3875,156.4219 Q256.3875,156.4219 256.7313,157.0469 Q257.3563,157.7188 257.4969,158.875 Q257.6063,159.4531 259.075,159.2344 Q259.6063,159.1563 259.575,158.7344 Q259.4031,157.2969 258.6844,156.4844 Q257.825,155.5156 256.2625,155.5156 Z \"/><text fill=\"#000000\" font-family=\"sans-serif\" font-size=\"12\" lengthAdjust=\"spacingAndGlyphs\" textLength=\"78\" x=\"273.3\" y=\"167.6045\">TurkeyAdapter</text><line style=\"stroke: #A80036; stroke-width: 1.5;\" x1=\"231\" x2=\"365\" y1=\"178\" y2=\"178\"/><rect fill=\"none\" height=\"6\" style=\"stroke: #C82930; stroke-width: 1.0;\" width=\"6\" x=\"238\" y=\"188.0544\"/><text fill=\"#000000\" font-family=\"sans-serif\" font-size=\"11\" lengthAdjust=\"spacingAndGlyphs\" textLength=\"63\" x=\"250\" y=\"194.6919\">turkey:turkey</text><line style=\"stroke: #A80036; stroke-width: 1.5;\" x1=\"231\" x2=\"365\" y1=\"201.1089\" y2=\"201.1089\"/><ellipse cx=\"241\" cy=\"214.1633\" fill=\"#84BE84\" rx=\"3\" ry=\"3\" style=\"stroke: #038048; stroke-width: 1.0;\"/><text fill=\"#000000\" font-family=\"sans-serif\" font-size=\"11\" lengthAdjust=\"spacingAndGlyphs\" textLength=\"110\" x=\"250\" y=\"217.8008\">TurkeyAdpater(turkey)</text><rect fill=\"#FEFECE\" filter=\"url(#f1)\" height=\"48\" style=\"stroke: #A80036; stroke-width: 1.5;\" width=\"64\" x=\"6\" y=\"161\"/><ellipse cx=\"21\" cy=\"177\" fill=\"#ADD1B2\" rx=\"11\" ry=\"11\" style=\"stroke: #A80036; stroke-width: 1.0;\"/><path d=\"M20.5625,170.5156 Q17.8281,170.5156 16.75,172.1406 Q15.6094,173.8594 15.6094,176.7813 Q15.6094,180.0781 16.7656,181.7813 Q17.75,183.2813 20.3594,183.2813 Q21.9375,183.2813 22.8125,182.4531 Q23.7969,181.5 23.9375,179.375 Q23.9375,179.0781 23.7656,178.9063 Q23.6406,178.75 23.4219,178.7344 Q22.2031,178.7344 22.0469,178.8594 Q21.875,179.0156 21.875,179.2813 Q21.8438,180.7656 21.1875,181.5781 Q20.5781,182.375 20.5,182.375 Q19.1719,182.375 18.3906,180.7813 Q17.6406,179.2344 17.6406,176.75 Q17.6406,174.125 18.5781,172.6719 Q19.4063,171.4219 20.6875,171.4219 Q20.6875,171.4219 21.0313,172.0469 Q21.6563,172.7188 21.7969,173.875 Q21.9063,174.4531 23.375,174.2344 Q23.9063,174.1563 23.875,173.7344 Q23.7031,172.2969 22.9844,171.4844 Q22.125,170.5156 20.5625,170.5156 Z \"/><text fill=\"#000000\" font-family=\"sans-serif\" font-size=\"12\" lengthAdjust=\"spacingAndGlyphs\" textLength=\"32\" x=\"35\" y=\"182.6045\">Client</text><line style=\"stroke: #A80036; stroke-width: 1.5;\" x1=\"7\" x2=\"69\" y1=\"193\" y2=\"193\"/><line style=\"stroke: #A80036; stroke-width: 1.5;\" x1=\"7\" x2=\"69\" y1=\"201\" y2=\"201\"/><path d=\"M298,106.372 C298,119.63 298,133.387 298,145.57 \" fill=\"none\" style=\"stroke: #A80036; stroke-width: 1.0; stroke-dasharray: 7.0,7.0;\"/><polygon fill=\"none\" points=\"291,106.246,298,86.246,305,106.245,291,106.246\" style=\"stroke: #A80036; stroke-width: 1.0;\"/><path d=\"M150,244.294 C150,278.446 150,319.6856 150,344.8673 \" fill=\"none\" style=\"stroke: #A80036; stroke-width: 1.0; stroke-dasharray: 7.0,7.0;\"/><polygon fill=\"none\" points=\"143,244.153,150,224.153,157,244.153,143,244.153\" style=\"stroke: #A80036; stroke-width: 1.0;\"/><path d=\"M199.736,185 C209.719,185 219.701,185 229.684,185 \" fill=\"none\" style=\"stroke: #A80036; stroke-width: 1.0;\"/><polygon fill=\"#A80036\" points=\"194.516,185,203.516,189,199.516,185,203.516,181,194.516,185\" style=\"stroke: #A80036; stroke-width: 1.0;\"/><path d=\"M70.375,185 C80.2633,185 90.1517,185 100.04,185 \" fill=\"none\" style=\"stroke: #A80036; stroke-width: 1.0;\"/><polygon fill=\"#A80036\" points=\"105.2109,185,96.2109,181,100.2109,185,96.2109,189,105.2109,185\" style=\"stroke: #A80036; stroke-width: 1.0;\"/><path d=\"M53.6971,160.941 C65.7144,144.88 83.8744,125.097 105.5,116 C141.961,100.662 156.642,104.537 194.5,116 C213.204,121.663 231.617,131.944 247.608,142.871 \" fill=\"none\" style=\"stroke: #A80036; stroke-width: 1.0;\"/><polygon fill=\"#A80036\" points=\"252.053,145.967,246.9532,137.5413,247.9499,143.1097,242.3815,144.1063,252.053,145.967\" style=\"stroke: #A80036; stroke-width: 1.0;\"/></g></svg>"
      ],
      "text/plain": [
       "<IPython.core.display.SVG object>"
      ]
     },
     "execution_count": 15,
     "metadata": {},
     "output_type": "execute_result"
    }
   ],
   "source": [
    "%%plantuml\n",
    "@startuml\n",
    "\n",
    "interface Duck{\n",
    "    +quack():void\n",
    "    +fly():void\n",
    "}\n",
    "interface Turkey{\n",
    "    +gobble():void\n",
    "    +fly():void\n",
    "}\n",
    "class MallardDuck\n",
    "class WildTurkey\n",
    "class TurkeyAdapter{\n",
    "    -turkey:turkey\n",
    "    +TurkeyAdpater(turkey)\n",
    "}\n",
    "Duck <|.. TurkeyAdapter\n",
    "'Duck<|..MallardDuck\n",
    "Turkey<|... WildTurkey\n",
    "TurkeyAdapter -left-> Turkey \n",
    "Client -> Turkey\n",
    "Client -> TurkeyAdapter\n",
    "@enduml"
   ]
  },
  {
   "cell_type": "code",
   "execution_count": 27,
   "metadata": {
    "collapsed": false
   },
   "outputs": [
    {
     "data": {
      "image/svg+xml": [
       "<svg height=\"402px\" style=\"width:480px;height:402px;\" version=\"1.1\" viewBox=\"0 0 480 402\" width=\"480px\" xmlns=\"http://www.w3.org/2000/svg\" xmlns:xlink=\"http://www.w3.org/1999/xlink\"><defs><filter height=\"300%\" id=\"f1\" width=\"300%\" x=\"-1\" y=\"-1\"><feGaussianBlur result=\"blurOut\" stdDeviation=\"2.0\"/><feColorMatrix in=\"blurOut\" result=\"blurOut2\" type=\"matrix\" values=\"0 0 0 0 0 0 0 0 0 0 0 0 0 0 0 0 0 0 .4 0\"/><feOffset dx=\"4.0\" dy=\"4.0\" in=\"blurOut2\" result=\"blurOut3\"/><feBlend in=\"SourceGraphic\" in2=\"blurOut3\" mode=\"normal\"/></filter></defs><g><rect fill=\"#FEFECE\" filter=\"url(#f1)\" height=\"78.2178\" style=\"stroke: #A80036; stroke-width: 1.5;\" width=\"86\" x=\"250\" y=\"8\"/><ellipse cx=\"276.25\" cy=\"24\" fill=\"#B4A7E5\" rx=\"11\" ry=\"11\" style=\"stroke: #A80036; stroke-width: 1.0;\"/><path d=\"M273.9531,18.125 L273.9531,29.75 Q273.9531,30 274.1094,30.1563 Q274.25,30.2969 275.4688,30.2969 Q275.6719,30.2969 275.8125,30.1719 Q275.9844,30.0156 275.9844,29.75 L275.9844,18.0781 Q275.9844,17.8125 275.8125,17.6719 Q275.5938,17.4531 274.4688,17.5313 Q274.25,17.5313 274.1094,17.6875 Q273.9531,17.8438 273.9531,18.125 Z \"/><text fill=\"#000000\" font-family=\"sans-serif\" font-size=\"12\" font-style=\"italic\" lengthAdjust=\"spacingAndGlyphs\" textLength=\"29\" x=\"292.75\" y=\"29.6045\">Duck</text><line style=\"stroke: #A80036; stroke-width: 1.5;\" x1=\"251\" x2=\"335\" y1=\"40\" y2=\"40\"/><line style=\"stroke: #A80036; stroke-width: 1.5;\" x1=\"251\" x2=\"335\" y1=\"48\" y2=\"48\"/><ellipse cx=\"261\" cy=\"61.0544\" fill=\"#84BE84\" rx=\"3\" ry=\"3\" style=\"stroke: #038048; stroke-width: 1.0;\"/><text fill=\"#000000\" font-family=\"sans-serif\" font-size=\"11\" lengthAdjust=\"spacingAndGlyphs\" textLength=\"60\" x=\"270\" y=\"64.6919\">quack():void</text><ellipse cx=\"261\" cy=\"76.1633\" fill=\"#84BE84\" rx=\"3\" ry=\"3\" style=\"stroke: #038048; stroke-width: 1.0;\"/><text fill=\"#000000\" font-family=\"sans-serif\" font-size=\"11\" lengthAdjust=\"spacingAndGlyphs\" textLength=\"43\" x=\"270\" y=\"79.8008\">fly():void</text><rect fill=\"#FEFECE\" filter=\"url(#f1)\" height=\"78.2178\" style=\"stroke: #A80036; stroke-width: 1.5;\" width=\"89\" x=\"105.5\" y=\"146\"/><ellipse cx=\"129.05\" cy=\"162\" fill=\"#B4A7E5\" rx=\"11\" ry=\"11\" style=\"stroke: #A80036; stroke-width: 1.0;\"/><path d=\"M126.7531,156.125 L126.7531,167.75 Q126.7531,168 126.9094,168.1563 Q127.05,168.2969 128.2688,168.2969 Q128.4719,168.2969 128.6125,168.1719 Q128.7844,168.0156 128.7844,167.75 L128.7844,156.0781 Q128.7844,155.8125 128.6125,155.6719 Q128.3938,155.4531 127.2688,155.5313 Q127.05,155.5313 126.9094,155.6875 Q126.7531,155.8438 126.7531,156.125 Z \"/><text fill=\"#000000\" font-family=\"sans-serif\" font-size=\"12\" font-style=\"italic\" lengthAdjust=\"spacingAndGlyphs\" textLength=\"38\" x=\"144.95\" y=\"167.6045\">Turkey</text><line style=\"stroke: #A80036; stroke-width: 1.5;\" x1=\"106.5\" x2=\"193.5\" y1=\"178\" y2=\"178\"/><line style=\"stroke: #A80036; stroke-width: 1.5;\" x1=\"106.5\" x2=\"193.5\" y1=\"186\" y2=\"186\"/><ellipse cx=\"116.5\" cy=\"199.0544\" fill=\"#84BE84\" rx=\"3\" ry=\"3\" style=\"stroke: #038048; stroke-width: 1.0;\"/><text fill=\"#000000\" font-family=\"sans-serif\" font-size=\"11\" lengthAdjust=\"spacingAndGlyphs\" textLength=\"63\" x=\"125.5\" y=\"202.6919\">gobble():void</text><ellipse cx=\"116.5\" cy=\"214.1633\" fill=\"#84BE84\" rx=\"3\" ry=\"3\" style=\"stroke: #038048; stroke-width: 1.0;\"/><text fill=\"#000000\" font-family=\"sans-serif\" font-size=\"11\" lengthAdjust=\"spacingAndGlyphs\" textLength=\"43\" x=\"125.5\" y=\"217.8008\">fly():void</text><rect fill=\"#FEFECE\" filter=\"url(#f1)\" height=\"48\" style=\"stroke: #A80036; stroke-width: 1.5;\" width=\"100\" x=\"371\" y=\"23\"/><ellipse cx=\"386\" cy=\"39\" fill=\"#ADD1B2\" rx=\"11\" ry=\"11\" style=\"stroke: #A80036; stroke-width: 1.0;\"/><path d=\"M385.5625,32.5156 Q382.8281,32.5156 381.75,34.1406 Q380.6094,35.8594 380.6094,38.7813 Q380.6094,42.0781 381.7656,43.7813 Q382.75,45.2813 385.3594,45.2813 Q386.9375,45.2813 387.8125,44.4531 Q388.7969,43.5 388.9375,41.375 Q388.9375,41.0781 388.7656,40.9063 Q388.6406,40.75 388.4219,40.7344 Q387.2031,40.7344 387.0469,40.8594 Q386.875,41.0156 386.875,41.2813 Q386.8438,42.7656 386.1875,43.5781 Q385.5781,44.375 385.5,44.375 Q384.1719,44.375 383.3906,42.7813 Q382.6406,41.2344 382.6406,38.75 Q382.6406,36.125 383.5781,34.6719 Q384.4063,33.4219 385.6875,33.4219 Q385.6875,33.4219 386.0313,34.0469 Q386.6563,34.7188 386.7969,35.875 Q386.9063,36.4531 388.375,36.2344 Q388.9063,36.1563 388.875,35.7344 Q388.7031,34.2969 387.9844,33.4844 Q387.125,32.5156 385.5625,32.5156 Z \"/><text fill=\"#000000\" font-family=\"sans-serif\" font-size=\"12\" lengthAdjust=\"spacingAndGlyphs\" textLength=\"68\" x=\"400\" y=\"44.6045\">MallardDuck</text><line style=\"stroke: #A80036; stroke-width: 1.5;\" x1=\"372\" x2=\"470\" y1=\"55\" y2=\"55\"/><line style=\"stroke: #A80036; stroke-width: 1.5;\" x1=\"372\" x2=\"470\" y1=\"63\" y2=\"63\"/><rect fill=\"#FEFECE\" filter=\"url(#f1)\" height=\"48\" style=\"stroke: #A80036; stroke-width: 1.5;\" width=\"92\" x=\"104\" y=\"345\"/><ellipse cx=\"119\" cy=\"361\" fill=\"#ADD1B2\" rx=\"11\" ry=\"11\" style=\"stroke: #A80036; stroke-width: 1.0;\"/><path d=\"M118.5625,354.5156 Q115.8281,354.5156 114.75,356.1406 Q113.6094,357.8594 113.6094,360.7813 Q113.6094,364.0781 114.7656,365.7813 Q115.75,367.2813 118.3594,367.2813 Q119.9375,367.2813 120.8125,366.4531 Q121.7969,365.5 121.9375,363.375 Q121.9375,363.0781 121.7656,362.9063 Q121.6406,362.75 121.4219,362.7344 Q120.2031,362.7344 120.0469,362.8594 Q119.875,363.0156 119.875,363.2813 Q119.8438,364.7656 119.1875,365.5781 Q118.5781,366.375 118.5,366.375 Q117.1719,366.375 116.3906,364.7813 Q115.6406,363.2344 115.6406,360.75 Q115.6406,358.125 116.5781,356.6719 Q117.4063,355.4219 118.6875,355.4219 Q118.6875,355.4219 119.0313,356.0469 Q119.6563,356.7188 119.7969,357.875 Q119.9063,358.4531 121.375,358.2344 Q121.9063,358.1563 121.875,357.7344 Q121.7031,356.2969 120.9844,355.4844 Q120.125,354.5156 118.5625,354.5156 Z \"/><text fill=\"#000000\" font-family=\"sans-serif\" font-size=\"12\" lengthAdjust=\"spacingAndGlyphs\" textLength=\"60\" x=\"133\" y=\"366.6045\">WildTurkey</text><line style=\"stroke: #A80036; stroke-width: 1.5;\" x1=\"105\" x2=\"195\" y1=\"377\" y2=\"377\"/><line style=\"stroke: #A80036; stroke-width: 1.5;\" x1=\"105\" x2=\"195\" y1=\"385\" y2=\"385\"/><rect fill=\"#FEFECE\" filter=\"url(#f1)\" height=\"78.2178\" style=\"stroke: #A80036; stroke-width: 1.5;\" width=\"136\" x=\"230\" y=\"146\"/><ellipse cx=\"256.7\" cy=\"162\" fill=\"#ADD1B2\" rx=\"11\" ry=\"11\" style=\"stroke: #A80036; stroke-width: 1.0;\"/><path d=\"M256.2625,155.5156 Q253.5281,155.5156 252.45,157.1406 Q251.3094,158.8594 251.3094,161.7813 Q251.3094,165.0781 252.4656,166.7813 Q253.45,168.2813 256.0594,168.2813 Q257.6375,168.2813 258.5125,167.4531 Q259.4969,166.5 259.6375,164.375 Q259.6375,164.0781 259.4656,163.9063 Q259.3406,163.75 259.1219,163.7344 Q257.9031,163.7344 257.7469,163.8594 Q257.575,164.0156 257.575,164.2813 Q257.5438,165.7656 256.8875,166.5781 Q256.2781,167.375 256.2,167.375 Q254.8719,167.375 254.0906,165.7813 Q253.3406,164.2344 253.3406,161.75 Q253.3406,159.125 254.2781,157.6719 Q255.1063,156.4219 256.3875,156.4219 Q256.3875,156.4219 256.7313,157.0469 Q257.3563,157.7188 257.4969,158.875 Q257.6063,159.4531 259.075,159.2344 Q259.6063,159.1563 259.575,158.7344 Q259.4031,157.2969 258.6844,156.4844 Q257.825,155.5156 256.2625,155.5156 Z \"/><text fill=\"#000000\" font-family=\"sans-serif\" font-size=\"12\" lengthAdjust=\"spacingAndGlyphs\" textLength=\"78\" x=\"273.3\" y=\"167.6045\">TurkeyAdapter</text><line style=\"stroke: #A80036; stroke-width: 1.5;\" x1=\"231\" x2=\"365\" y1=\"178\" y2=\"178\"/><rect fill=\"none\" height=\"6\" style=\"stroke: #C82930; stroke-width: 1.0;\" width=\"6\" x=\"238\" y=\"188.0544\"/><text fill=\"#000000\" font-family=\"sans-serif\" font-size=\"11\" lengthAdjust=\"spacingAndGlyphs\" textLength=\"63\" x=\"250\" y=\"194.6919\">turkey:turkey</text><line style=\"stroke: #A80036; stroke-width: 1.5;\" x1=\"231\" x2=\"365\" y1=\"201.1089\" y2=\"201.1089\"/><ellipse cx=\"241\" cy=\"214.1633\" fill=\"#84BE84\" rx=\"3\" ry=\"3\" style=\"stroke: #038048; stroke-width: 1.0;\"/><text fill=\"#000000\" font-family=\"sans-serif\" font-size=\"11\" lengthAdjust=\"spacingAndGlyphs\" textLength=\"110\" x=\"250\" y=\"217.8008\">TurkeyAdpater(turkey)</text><rect fill=\"#FEFECE\" filter=\"url(#f1)\" height=\"48\" style=\"stroke: #A80036; stroke-width: 1.5;\" width=\"102\" x=\"104\" y=\"23\"/><ellipse cx=\"119\" cy=\"39\" fill=\"#ADD1B2\" rx=\"11\" ry=\"11\" style=\"stroke: #A80036; stroke-width: 1.0;\"/><path d=\"M118.5625,32.5156 Q115.8281,32.5156 114.75,34.1406 Q113.6094,35.8594 113.6094,38.7813 Q113.6094,42.0781 114.7656,43.7813 Q115.75,45.2813 118.3594,45.2813 Q119.9375,45.2813 120.8125,44.4531 Q121.7969,43.5 121.9375,41.375 Q121.9375,41.0781 121.7656,40.9063 Q121.6406,40.75 121.4219,40.7344 Q120.2031,40.7344 120.0469,40.8594 Q119.875,41.0156 119.875,41.2813 Q119.8438,42.7656 119.1875,43.5781 Q118.5781,44.375 118.5,44.375 Q117.1719,44.375 116.3906,42.7813 Q115.6406,41.2344 115.6406,38.75 Q115.6406,36.125 116.5781,34.6719 Q117.4063,33.4219 118.6875,33.4219 Q118.6875,33.4219 119.0313,34.0469 Q119.6563,34.7188 119.7969,35.875 Q119.9063,36.4531 121.375,36.2344 Q121.9063,36.1563 121.875,35.7344 Q121.7031,34.2969 120.9844,33.4844 Q120.125,32.5156 118.5625,32.5156 Z \"/><text fill=\"#000000\" font-family=\"sans-serif\" font-size=\"12\" lengthAdjust=\"spacingAndGlyphs\" textLength=\"70\" x=\"133\" y=\"44.6045\">DuckAdapter</text><line style=\"stroke: #A80036; stroke-width: 1.5;\" x1=\"105\" x2=\"205\" y1=\"55\" y2=\"55\"/><line style=\"stroke: #A80036; stroke-width: 1.5;\" x1=\"105\" x2=\"205\" y1=\"63\" y2=\"63\"/><rect fill=\"#FEFECE\" filter=\"url(#f1)\" height=\"48\" style=\"stroke: #A80036; stroke-width: 1.5;\" width=\"64\" x=\"6\" y=\"161\"/><ellipse cx=\"21\" cy=\"177\" fill=\"#ADD1B2\" rx=\"11\" ry=\"11\" style=\"stroke: #A80036; stroke-width: 1.0;\"/><path d=\"M20.5625,170.5156 Q17.8281,170.5156 16.75,172.1406 Q15.6094,173.8594 15.6094,176.7813 Q15.6094,180.0781 16.7656,181.7813 Q17.75,183.2813 20.3594,183.2813 Q21.9375,183.2813 22.8125,182.4531 Q23.7969,181.5 23.9375,179.375 Q23.9375,179.0781 23.7656,178.9063 Q23.6406,178.75 23.4219,178.7344 Q22.2031,178.7344 22.0469,178.8594 Q21.875,179.0156 21.875,179.2813 Q21.8438,180.7656 21.1875,181.5781 Q20.5781,182.375 20.5,182.375 Q19.1719,182.375 18.3906,180.7813 Q17.6406,179.2344 17.6406,176.75 Q17.6406,174.125 18.5781,172.6719 Q19.4063,171.4219 20.6875,171.4219 Q20.6875,171.4219 21.0313,172.0469 Q21.6563,172.7188 21.7969,173.875 Q21.9063,174.4531 23.375,174.2344 Q23.9063,174.1563 23.875,173.7344 Q23.7031,172.2969 22.9844,171.4844 Q22.125,170.5156 20.5625,170.5156 Z \"/><text fill=\"#000000\" font-family=\"sans-serif\" font-size=\"12\" lengthAdjust=\"spacingAndGlyphs\" textLength=\"32\" x=\"35\" y=\"182.6045\">Client</text><line style=\"stroke: #A80036; stroke-width: 1.5;\" x1=\"7\" x2=\"69\" y1=\"193\" y2=\"193\"/><line style=\"stroke: #A80036; stroke-width: 1.5;\" x1=\"7\" x2=\"69\" y1=\"201\" y2=\"201\"/><path d=\"M154.152,71.071 C153.599,86.097 152.852,106.422 152.144,125.687 \" fill=\"none\" style=\"stroke: #A80036; stroke-width: 1.0; stroke-dasharray: 7.0,7.0;\"/><polygon fill=\"none\" points=\"159.132,126.147,151.402,145.876,145.141,125.632,159.132,126.147\" style=\"stroke: #A80036; stroke-width: 1.0;\"/><path d=\"M206.211,47 C219.08,47 231.95,47 244.819,47 \" fill=\"none\" style=\"stroke: #A80036; stroke-width: 1.0;\"/><polygon fill=\"#A80036\" points=\"249.944,47,240.944,43,244.944,47,240.944,51,249.944,47\" style=\"stroke: #A80036; stroke-width: 1.0;\"/><path d=\"M295.146,106.372 C295.633,119.63 296.139,133.387 296.587,145.57 \" fill=\"none\" style=\"stroke: #A80036; stroke-width: 1.0; stroke-dasharray: 7.0,7.0;\"/><polygon fill=\"none\" points=\"288.146,106.489,294.406,86.246,302.136,105.975,288.146,106.489\" style=\"stroke: #A80036; stroke-width: 1.0;\"/><path d=\"M150,244.294 C150,278.446 150,319.6856 150,344.8673 \" fill=\"none\" style=\"stroke: #A80036; stroke-width: 1.0; stroke-dasharray: 7.0,7.0;\"/><polygon fill=\"none\" points=\"143,244.153,150,224.153,157,244.153,143,244.153\" style=\"stroke: #A80036; stroke-width: 1.0;\"/><path d=\"M199.736,185 C209.719,185 219.701,185 229.684,185 \" fill=\"none\" style=\"stroke: #A80036; stroke-width: 1.0;\"/><polygon fill=\"#A80036\" points=\"194.516,185,203.516,189,199.516,185,203.516,181,194.516,185\" style=\"stroke: #A80036; stroke-width: 1.0;\"/><path d=\"M70.375,185 C80.2633,185 90.1517,185 100.04,185 \" fill=\"none\" style=\"stroke: #A80036; stroke-width: 1.0;\"/><polygon fill=\"#A80036\" points=\"105.2109,185,96.2109,181,100.2109,185,96.2109,189,105.2109,185\" style=\"stroke: #A80036; stroke-width: 1.0;\"/><path d=\"M53.6971,160.941 C65.7144,144.88 83.8744,125.097 105.5,116 C141.961,100.662 156.642,104.537 194.5,116 C213.204,121.663 231.617,131.944 247.608,142.871 \" fill=\"none\" style=\"stroke: #A80036; stroke-width: 1.0;\"/><polygon fill=\"#A80036\" points=\"252.053,145.967,246.9532,137.5413,247.9499,143.1097,242.3815,144.1063,252.053,145.967\" style=\"stroke: #A80036; stroke-width: 1.0;\"/></g></svg>"
      ],
      "text/plain": [
       "<IPython.core.display.SVG object>"
      ]
     },
     "execution_count": 27,
     "metadata": {},
     "output_type": "execute_result"
    }
   ],
   "source": [
    "%%plantuml\n",
    "@startuml\n",
    "\n",
    "interface Duck{\n",
    "    +quack():void\n",
    "    +fly():void\n",
    "}\n",
    "interface Turkey{\n",
    "    +gobble():void\n",
    "    +fly():void\n",
    "}\n",
    "class MallardDuck\n",
    "class WildTurkey\n",
    "class TurkeyAdapter{\n",
    "    -turkey:turkey\n",
    "    +TurkeyAdpater(turkey)\n",
    "}\n",
    "class DuckAdapter\n",
    "DuckAdapter ..|> Turkey\n",
    "DuckAdapter -> Duck\n",
    "Duck <|.. TurkeyAdapter\n",
    "'Duck<|..MallardDuck\n",
    "Turkey<|... WildTurkey\n",
    "TurkeyAdapter -left-> Turkey \n",
    "Client -> Turkey\n",
    "Client -> TurkeyAdapter\n",
    "@enduml"
   ]
  },
  {
   "cell_type": "code",
   "execution_count": 53,
   "metadata": {
    "collapsed": false
   },
   "outputs": [
    {
     "data": {
      "image/svg+xml": [
       "<svg height=\"598px\" style=\"width:524px;height:598px;\" version=\"1.1\" viewBox=\"0 0 524 598\" width=\"524px\" xmlns=\"http://www.w3.org/2000/svg\" xmlns:xlink=\"http://www.w3.org/1999/xlink\"><defs><filter height=\"300%\" id=\"f1\" width=\"300%\" x=\"-1\" y=\"-1\"><feGaussianBlur result=\"blurOut\" stdDeviation=\"2.0\"/><feColorMatrix in=\"blurOut\" result=\"blurOut2\" type=\"matrix\" values=\"0 0 0 0 0 0 0 0 0 0 0 0 0 0 0 0 0 0 .4 0\"/><feOffset dx=\"4.0\" dy=\"4.0\" in=\"blurOut2\" result=\"blurOut3\"/><feBlend in=\"SourceGraphic\" in2=\"blurOut3\" mode=\"normal\"/></filter></defs><g><rect fill=\"#FEFECE\" filter=\"url(#f1)\" height=\"108.4355\" style=\"stroke: #A80036; stroke-width: 1.5;\" width=\"149\" x=\"198\" y=\"8\"/><ellipse cx=\"213\" cy=\"24\" fill=\"#ADD1B2\" rx=\"11\" ry=\"11\" style=\"stroke: #A80036; stroke-width: 1.0;\"/><path d=\"M212.5625,17.5156 Q209.8281,17.5156 208.75,19.1406 Q207.6094,20.8594 207.6094,23.7813 Q207.6094,27.0781 208.7656,28.7813 Q209.75,30.2813 212.3594,30.2813 Q213.9375,30.2813 214.8125,29.4531 Q215.7969,28.5 215.9375,26.375 Q215.9375,26.0781 215.7656,25.9063 Q215.6406,25.75 215.4219,25.7344 Q214.2031,25.7344 214.0469,25.8594 Q213.875,26.0156 213.875,26.2813 Q213.8438,27.7656 213.1875,28.5781 Q212.5781,29.375 212.5,29.375 Q211.1719,29.375 210.3906,27.7813 Q209.6406,26.2344 209.6406,23.75 Q209.6406,21.125 210.5781,19.6719 Q211.4063,18.4219 212.6875,18.4219 Q212.6875,18.4219 213.0313,19.0469 Q213.6563,19.7188 213.7969,20.875 Q213.9063,21.4531 215.375,21.2344 Q215.9063,21.1563 215.875,20.7344 Q215.7031,19.2969 214.9844,18.4844 Q214.125,17.5156 212.5625,17.5156 Z \"/><text fill=\"#000000\" font-family=\"sans-serif\" font-size=\"12\" lengthAdjust=\"spacingAndGlyphs\" textLength=\"117\" x=\"227\" y=\"29.6045\">HomeTheaterFacade</text><line style=\"stroke: #A80036; stroke-width: 1.5;\" x1=\"199\" x2=\"346\" y1=\"40\" y2=\"40\"/><text fill=\"#000000\" font-family=\"sans-serif\" font-size=\"11\" lengthAdjust=\"spacingAndGlyphs\" textLength=\"65\" x=\"204\" y=\"56.6919\">amp:Amplifier</text><text fill=\"#000000\" font-family=\"sans-serif\" font-size=\"11\" lengthAdjust=\"spacingAndGlyphs\" textLength=\"53\" x=\"204\" y=\"71.8008\">tuner:tuner</text><text fill=\"#000000\" font-family=\"sans-serif\" font-size=\"11\" lengthAdjust=\"spacingAndGlyphs\" textLength=\"70\" x=\"204\" y=\"86.9097\">dvd:DvdPlayer</text><text fill=\"#000000\" font-family=\"sans-serif\" font-size=\"11\" lengthAdjust=\"spacingAndGlyphs\" textLength=\"89\" x=\"204\" y=\"102.0186\">projector:Projector</text><line style=\"stroke: #A80036; stroke-width: 1.5;\" x1=\"199\" x2=\"346\" y1=\"108.4355\" y2=\"108.4355\"/><rect fill=\"#FEFECE\" filter=\"url(#f1)\" height=\"199.0889\" style=\"stroke: #A80036; stroke-width: 1.5;\" width=\"140\" x=\"176.5\" y=\"390\"/><ellipse cx=\"218.5\" cy=\"406\" fill=\"#ADD1B2\" rx=\"11\" ry=\"11\" style=\"stroke: #A80036; stroke-width: 1.0;\"/><path d=\"M218.0625,399.5156 Q215.3281,399.5156 214.25,401.1406 Q213.1094,402.8594 213.1094,405.7813 Q213.1094,409.0781 214.2656,410.7813 Q215.25,412.2813 217.8594,412.2813 Q219.4375,412.2813 220.3125,411.4531 Q221.2969,410.5 221.4375,408.375 Q221.4375,408.0781 221.2656,407.9063 Q221.1406,407.75 220.9219,407.7344 Q219.7031,407.7344 219.5469,407.8594 Q219.375,408.0156 219.375,408.2813 Q219.3438,409.7656 218.6875,410.5781 Q218.0781,411.375 218,411.375 Q216.6719,411.375 215.8906,409.7813 Q215.1406,408.2344 215.1406,405.75 Q215.1406,403.125 216.0781,401.6719 Q216.9063,400.4219 218.1875,400.4219 Q218.1875,400.4219 218.5313,401.0469 Q219.1563,401.7188 219.2969,402.875 Q219.4063,403.4531 220.875,403.2344 Q221.4063,403.1563 221.375,402.7344 Q221.2031,401.2969 220.4844,400.4844 Q219.625,399.5156 218.0625,399.5156 Z \"/><text fill=\"#000000\" font-family=\"sans-serif\" font-size=\"12\" lengthAdjust=\"spacingAndGlyphs\" textLength=\"48\" x=\"238.5\" y=\"411.6045\">Amplifier</text><line style=\"stroke: #A80036; stroke-width: 1.5;\" x1=\"177.5\" x2=\"315.5\" y1=\"422\" y2=\"422\"/><rect fill=\"none\" height=\"6\" style=\"stroke: #C82930; stroke-width: 1.0;\" width=\"6\" x=\"184.5\" y=\"432.0544\"/><text fill=\"#000000\" font-family=\"sans-serif\" font-size=\"11\" lengthAdjust=\"spacingAndGlyphs\" textLength=\"84\" x=\"196.5\" y=\"438.6919\">description:String</text><rect fill=\"none\" height=\"6\" style=\"stroke: #C82930; stroke-width: 1.0;\" width=\"6\" x=\"184.5\" y=\"447.1633\"/><text fill=\"#000000\" font-family=\"sans-serif\" font-size=\"11\" lengthAdjust=\"spacingAndGlyphs\" textLength=\"56\" x=\"196.5\" y=\"453.8008\">tuner:Tuner</text><rect fill=\"none\" height=\"6\" style=\"stroke: #C82930; stroke-width: 1.0;\" width=\"6\" x=\"184.5\" y=\"462.2722\"/><text fill=\"#000000\" font-family=\"sans-serif\" font-size=\"11\" lengthAdjust=\"spacingAndGlyphs\" textLength=\"70\" x=\"196.5\" y=\"468.9097\">dvd:DvdPlayer</text><line style=\"stroke: #A80036; stroke-width: 1.5;\" x1=\"177.5\" x2=\"315.5\" y1=\"475.3267\" y2=\"475.3267\"/><ellipse cx=\"187.5\" cy=\"488.3811\" fill=\"#84BE84\" rx=\"3\" ry=\"3\" style=\"stroke: #038048; stroke-width: 1.0;\"/><text fill=\"#000000\" font-family=\"sans-serif\" font-size=\"11\" lengthAdjust=\"spacingAndGlyphs\" textLength=\"101\" x=\"196.5\" y=\"492.0186\">Amplifier(String):void</text><ellipse cx=\"187.5\" cy=\"503.49\" fill=\"#84BE84\" rx=\"3\" ry=\"3\" style=\"stroke: #038048; stroke-width: 1.0;\"/><text fill=\"#000000\" font-family=\"sans-serif\" font-size=\"11\" lengthAdjust=\"spacingAndGlyphs\" textLength=\"43\" x=\"196.5\" y=\"507.1274\">on():void</text><ellipse cx=\"187.5\" cy=\"518.5989\" fill=\"#84BE84\" rx=\"3\" ry=\"3\" style=\"stroke: #038048; stroke-width: 1.0;\"/><text fill=\"#000000\" font-family=\"sans-serif\" font-size=\"11\" lengthAdjust=\"spacingAndGlyphs\" textLength=\"45\" x=\"196.5\" y=\"522.2363\">off():void</text><ellipse cx=\"187.5\" cy=\"533.7078\" fill=\"#84BE84\" rx=\"3\" ry=\"3\" style=\"stroke: #038048; stroke-width: 1.0;\"/><text fill=\"#000000\" font-family=\"sans-serif\" font-size=\"11\" lengthAdjust=\"spacingAndGlyphs\" textLength=\"114\" x=\"196.5\" y=\"537.3452\">setDvd(DvdPlayer):void</text><ellipse cx=\"187.5\" cy=\"548.8167\" fill=\"#84BE84\" rx=\"3\" ry=\"3\" style=\"stroke: #038048; stroke-width: 1.0;\"/><text fill=\"#000000\" font-family=\"sans-serif\" font-size=\"11\" lengthAdjust=\"spacingAndGlyphs\" textLength=\"100\" x=\"196.5\" y=\"552.4541\">setruner(Tuner):void</text><ellipse cx=\"187.5\" cy=\"563.9255\" fill=\"#84BE84\" rx=\"3\" ry=\"3\" style=\"stroke: #038048; stroke-width: 1.0;\"/><text fill=\"#000000\" font-family=\"sans-serif\" font-size=\"11\" lengthAdjust=\"spacingAndGlyphs\" textLength=\"93\" x=\"196.5\" y=\"567.563\">setVolume(int):void</text><ellipse cx=\"187.5\" cy=\"579.0344\" fill=\"#84BE84\" rx=\"3\" ry=\"3\" style=\"stroke: #038048; stroke-width: 1.0;\"/><text fill=\"#000000\" font-family=\"sans-serif\" font-size=\"11\" lengthAdjust=\"spacingAndGlyphs\" textLength=\"76\" x=\"196.5\" y=\"582.6719\">toString():String</text><rect fill=\"#FEFECE\" filter=\"url(#f1)\" height=\"168.8711\" style=\"stroke: #A80036; stroke-width: 1.5;\" width=\"135\" x=\"6\" y=\"405\"/><ellipse cx=\"53.25\" cy=\"421\" fill=\"#ADD1B2\" rx=\"11\" ry=\"11\" style=\"stroke: #A80036; stroke-width: 1.0;\"/><path d=\"M52.8125,414.5156 Q50.0781,414.5156 49,416.1406 Q47.8594,417.8594 47.8594,420.7813 Q47.8594,424.0781 49.0156,425.7813 Q50,427.2813 52.6094,427.2813 Q54.1875,427.2813 55.0625,426.4531 Q56.0469,425.5 56.1875,423.375 Q56.1875,423.0781 56.0156,422.9063 Q55.8906,422.75 55.6719,422.7344 Q54.4531,422.7344 54.2969,422.8594 Q54.125,423.0156 54.125,423.2813 Q54.0938,424.7656 53.4375,425.5781 Q52.8281,426.375 52.75,426.375 Q51.4219,426.375 50.6406,424.7813 Q49.8906,423.2344 49.8906,420.75 Q49.8906,418.125 50.8281,416.6719 Q51.6563,415.4219 52.9375,415.4219 Q52.9375,415.4219 53.2813,416.0469 Q53.9063,416.7188 54.0469,417.875 Q54.1563,418.4531 55.625,418.2344 Q56.1563,418.1563 56.125,417.7344 Q55.9531,416.2969 55.2344,415.4844 Q54.375,414.5156 52.8125,414.5156 Z \"/><text fill=\"#000000\" font-family=\"sans-serif\" font-size=\"12\" lengthAdjust=\"spacingAndGlyphs\" textLength=\"32\" x=\"73.75\" y=\"426.6045\">Tuner</text><line style=\"stroke: #A80036; stroke-width: 1.5;\" x1=\"7\" x2=\"140\" y1=\"437\" y2=\"437\"/><text fill=\"#000000\" font-family=\"sans-serif\" font-size=\"11\" lengthAdjust=\"spacingAndGlyphs\" textLength=\"84\" x=\"12\" y=\"453.6919\">description:String</text><text fill=\"#000000\" font-family=\"sans-serif\" font-size=\"11\" lengthAdjust=\"spacingAndGlyphs\" textLength=\"85\" x=\"12\" y=\"468.8008\">amplifier:Amplifier</text><text fill=\"#000000\" font-family=\"sans-serif\" font-size=\"11\" lengthAdjust=\"spacingAndGlyphs\" textLength=\"85\" x=\"12\" y=\"483.9097\">frequency:double</text><line style=\"stroke: #A80036; stroke-width: 1.5;\" x1=\"7\" x2=\"140\" y1=\"490.3267\" y2=\"490.3267\"/><ellipse cx=\"17\" cy=\"503.3811\" fill=\"#84BE84\" rx=\"3\" ry=\"3\" style=\"stroke: #038048; stroke-width: 1.0;\"/><text fill=\"#000000\" font-family=\"sans-serif\" font-size=\"11\" lengthAdjust=\"spacingAndGlyphs\" textLength=\"109\" x=\"26\" y=\"507.0186\">Tuner(String,Amplifier)</text><ellipse cx=\"17\" cy=\"518.49\" fill=\"#84BE84\" rx=\"3\" ry=\"3\" style=\"stroke: #038048; stroke-width: 1.0;\"/><text fill=\"#000000\" font-family=\"sans-serif\" font-size=\"11\" lengthAdjust=\"spacingAndGlyphs\" textLength=\"43\" x=\"26\" y=\"522.1274\">on():void</text><ellipse cx=\"17\" cy=\"533.5989\" fill=\"#84BE84\" rx=\"3\" ry=\"3\" style=\"stroke: #038048; stroke-width: 1.0;\"/><text fill=\"#000000\" font-family=\"sans-serif\" font-size=\"11\" lengthAdjust=\"spacingAndGlyphs\" textLength=\"45\" x=\"26\" y=\"537.2363\">off():void</text><ellipse cx=\"17\" cy=\"548.7078\" fill=\"#84BE84\" rx=\"3\" ry=\"3\" style=\"stroke: #038048; stroke-width: 1.0;\"/><text fill=\"#000000\" font-family=\"sans-serif\" font-size=\"11\" lengthAdjust=\"spacingAndGlyphs\" textLength=\"107\" x=\"26\" y=\"552.3452\">setFrequency(double)</text><ellipse cx=\"17\" cy=\"563.8167\" fill=\"#84BE84\" rx=\"3\" ry=\"3\" style=\"stroke: #038048; stroke-width: 1.0;\"/><text fill=\"#000000\" font-family=\"sans-serif\" font-size=\"11\" lengthAdjust=\"spacingAndGlyphs\" textLength=\"76\" x=\"26\" y=\"567.4541\">toString():String</text><rect fill=\"#FEFECE\" filter=\"url(#f1)\" height=\"183.98\" style=\"stroke: #A80036; stroke-width: 1.5;\" width=\"156\" x=\"351.5\" y=\"397.5\"/><ellipse cx=\"397.75\" cy=\"413.5\" fill=\"#ADD1B2\" rx=\"11\" ry=\"11\" style=\"stroke: #A80036; stroke-width: 1.0;\"/><path d=\"M397.3125,407.0156 Q394.5781,407.0156 393.5,408.6406 Q392.3594,410.3594 392.3594,413.2813 Q392.3594,416.5781 393.5156,418.2813 Q394.5,419.7813 397.1094,419.7813 Q398.6875,419.7813 399.5625,418.9531 Q400.5469,418 400.6875,415.875 Q400.6875,415.5781 400.5156,415.4063 Q400.3906,415.25 400.1719,415.2344 Q398.9531,415.2344 398.7969,415.3594 Q398.625,415.5156 398.625,415.7813 Q398.5938,417.2656 397.9375,418.0781 Q397.3281,418.875 397.25,418.875 Q395.9219,418.875 395.1406,417.2813 Q394.3906,415.7344 394.3906,413.25 Q394.3906,410.625 395.3281,409.1719 Q396.1563,407.9219 397.4375,407.9219 Q397.4375,407.9219 397.7813,408.5469 Q398.4063,409.2188 398.5469,410.375 Q398.6563,410.9531 400.125,410.7344 Q400.6563,410.6563 400.625,410.2344 Q400.4531,408.7969 399.7344,407.9844 Q398.875,407.0156 397.3125,407.0156 Z \"/><text fill=\"#000000\" font-family=\"sans-serif\" font-size=\"12\" lengthAdjust=\"spacingAndGlyphs\" textLength=\"55\" x=\"418.25\" y=\"419.1045\">DvdPlayer</text><line style=\"stroke: #A80036; stroke-width: 1.5;\" x1=\"352.5\" x2=\"506.5\" y1=\"429.5\" y2=\"429.5\"/><ellipse cx=\"362.5\" cy=\"442.5544\" fill=\"none\" rx=\"3\" ry=\"3\" style=\"stroke: #038048; stroke-width: 1.0;\"/><text fill=\"#000000\" font-family=\"sans-serif\" font-size=\"11\" lengthAdjust=\"spacingAndGlyphs\" textLength=\"84\" x=\"371.5\" y=\"446.1919\">description:String</text><ellipse cx=\"362.5\" cy=\"457.6633\" fill=\"none\" rx=\"3\" ry=\"3\" style=\"stroke: #038048; stroke-width: 1.0;\"/><text fill=\"#000000\" font-family=\"sans-serif\" font-size=\"11\" lengthAdjust=\"spacingAndGlyphs\" textLength=\"85\" x=\"371.5\" y=\"461.3008\">amplifier:Amplifier</text><ellipse cx=\"362.5\" cy=\"472.7722\" fill=\"none\" rx=\"3\" ry=\"3\" style=\"stroke: #038048; stroke-width: 1.0;\"/><text fill=\"#000000\" font-family=\"sans-serif\" font-size=\"11\" lengthAdjust=\"spacingAndGlyphs\" textLength=\"59\" x=\"371.5\" y=\"476.4097\">movie:String</text><line style=\"stroke: #A80036; stroke-width: 1.5;\" x1=\"352.5\" x2=\"506.5\" y1=\"482.8267\" y2=\"482.8267\"/><ellipse cx=\"362.5\" cy=\"495.8811\" fill=\"#84BE84\" rx=\"3\" ry=\"3\" style=\"stroke: #038048; stroke-width: 1.0;\"/><text fill=\"#000000\" font-family=\"sans-serif\" font-size=\"11\" lengthAdjust=\"spacingAndGlyphs\" textLength=\"130\" x=\"371.5\" y=\"499.5186\">DvdPlayer(String,Amplifier)</text><ellipse cx=\"362.5\" cy=\"510.99\" fill=\"#84BE84\" rx=\"3\" ry=\"3\" style=\"stroke: #038048; stroke-width: 1.0;\"/><text fill=\"#000000\" font-family=\"sans-serif\" font-size=\"11\" lengthAdjust=\"spacingAndGlyphs\" textLength=\"20\" x=\"371.5\" y=\"514.6274\">on()</text><ellipse cx=\"362.5\" cy=\"526.0989\" fill=\"#84BE84\" rx=\"3\" ry=\"3\" style=\"stroke: #038048; stroke-width: 1.0;\"/><text fill=\"#000000\" font-family=\"sans-serif\" font-size=\"11\" lengthAdjust=\"spacingAndGlyphs\" textLength=\"22\" x=\"371.5\" y=\"529.7363\">off()</text><ellipse cx=\"362.5\" cy=\"541.2078\" fill=\"#84BE84\" rx=\"3\" ry=\"3\" style=\"stroke: #038048; stroke-width: 1.0;\"/><text fill=\"#000000\" font-family=\"sans-serif\" font-size=\"11\" lengthAdjust=\"spacingAndGlyphs\" textLength=\"56\" x=\"371.5\" y=\"544.8452\">play(String)</text><ellipse cx=\"362.5\" cy=\"556.3167\" fill=\"#84BE84\" rx=\"3\" ry=\"3\" style=\"stroke: #038048; stroke-width: 1.0;\"/><text fill=\"#000000\" font-family=\"sans-serif\" font-size=\"11\" lengthAdjust=\"spacingAndGlyphs\" textLength=\"29\" x=\"371.5\" y=\"559.9541\">stop()</text><ellipse cx=\"362.5\" cy=\"571.4255\" fill=\"#84BE84\" rx=\"3\" ry=\"3\" style=\"stroke: #038048; stroke-width: 1.0;\"/><text fill=\"#000000\" font-family=\"sans-serif\" font-size=\"11\" lengthAdjust=\"spacingAndGlyphs\" textLength=\"76\" x=\"371.5\" y=\"575.063\">toString():String</text><rect fill=\"#FEFECE\" filter=\"url(#f1)\" height=\"153.7622\" style=\"stroke: #A80036; stroke-width: 1.5;\" width=\"153\" x=\"362\" y=\"176\"/><ellipse cx=\"409.75\" cy=\"192\" fill=\"#ADD1B2\" rx=\"11\" ry=\"11\" style=\"stroke: #A80036; stroke-width: 1.0;\"/><path d=\"M409.3125,185.5156 Q406.5781,185.5156 405.5,187.1406 Q404.3594,188.8594 404.3594,191.7813 Q404.3594,195.0781 405.5156,196.7813 Q406.5,198.2813 409.1094,198.2813 Q410.6875,198.2813 411.5625,197.4531 Q412.5469,196.5 412.6875,194.375 Q412.6875,194.0781 412.5156,193.9063 Q412.3906,193.75 412.1719,193.7344 Q410.9531,193.7344 410.7969,193.8594 Q410.625,194.0156 410.625,194.2813 Q410.5938,195.7656 409.9375,196.5781 Q409.3281,197.375 409.25,197.375 Q407.9219,197.375 407.1406,195.7813 Q406.3906,194.2344 406.3906,191.75 Q406.3906,189.125 407.3281,187.6719 Q408.1563,186.4219 409.4375,186.4219 Q409.4375,186.4219 409.7813,187.0469 Q410.4063,187.7188 410.5469,188.875 Q410.6563,189.4531 412.125,189.2344 Q412.6563,189.1563 412.625,188.7344 Q412.4531,187.2969 411.7344,186.4844 Q410.875,185.5156 409.3125,185.5156 Z \"/><text fill=\"#000000\" font-family=\"sans-serif\" font-size=\"12\" lengthAdjust=\"spacingAndGlyphs\" textLength=\"49\" x=\"430.25\" y=\"197.6045\">Projector</text><line style=\"stroke: #A80036; stroke-width: 1.5;\" x1=\"363\" x2=\"514\" y1=\"208\" y2=\"208\"/><text fill=\"#000000\" font-family=\"sans-serif\" font-size=\"11\" lengthAdjust=\"spacingAndGlyphs\" textLength=\"84\" x=\"368\" y=\"224.6919\">description:String</text><text fill=\"#000000\" font-family=\"sans-serif\" font-size=\"11\" lengthAdjust=\"spacingAndGlyphs\" textLength=\"100\" x=\"368\" y=\"239.8008\">dvdPlayer:DvdPlayer</text><line style=\"stroke: #A80036; stroke-width: 1.5;\" x1=\"363\" x2=\"514\" y1=\"246.2178\" y2=\"246.2178\"/><ellipse cx=\"373\" cy=\"259.2722\" fill=\"#84BE84\" rx=\"3\" ry=\"3\" style=\"stroke: #038048; stroke-width: 1.0;\"/><text fill=\"#000000\" font-family=\"sans-serif\" font-size=\"11\" lengthAdjust=\"spacingAndGlyphs\" textLength=\"127\" x=\"382\" y=\"262.9097\">Projector(Sting,DvdPlayer)</text><ellipse cx=\"373\" cy=\"274.3811\" fill=\"#84BE84\" rx=\"3\" ry=\"3\" style=\"stroke: #038048; stroke-width: 1.0;\"/><text fill=\"#000000\" font-family=\"sans-serif\" font-size=\"11\" lengthAdjust=\"spacingAndGlyphs\" textLength=\"20\" x=\"382\" y=\"278.0186\">on()</text><ellipse cx=\"373\" cy=\"289.49\" fill=\"#84BE84\" rx=\"3\" ry=\"3\" style=\"stroke: #038048; stroke-width: 1.0;\"/><text fill=\"#000000\" font-family=\"sans-serif\" font-size=\"11\" lengthAdjust=\"spacingAndGlyphs\" textLength=\"22\" x=\"382\" y=\"293.1274\">off()</text><ellipse cx=\"373\" cy=\"304.5989\" fill=\"#84BE84\" rx=\"3\" ry=\"3\" style=\"stroke: #038048; stroke-width: 1.0;\"/><text fill=\"#000000\" font-family=\"sans-serif\" font-size=\"11\" lengthAdjust=\"spacingAndGlyphs\" textLength=\"93\" x=\"382\" y=\"308.2363\">wideScreenMode()</text><ellipse cx=\"373\" cy=\"319.7078\" fill=\"#84BE84\" rx=\"3\" ry=\"3\" style=\"stroke: #038048; stroke-width: 1.0;\"/><text fill=\"#000000\" font-family=\"sans-serif\" font-size=\"11\" lengthAdjust=\"spacingAndGlyphs\" textLength=\"76\" x=\"382\" y=\"323.3452\">toString():String</text><path d=\"M146.058,551.2287 C156.203,553.6246 166.348,553.4054 176.493,550.5709 \" fill=\"none\" style=\"stroke: #A80036; stroke-width: 1.0;\"/><polygon fill=\"#A80036\" points=\"141.078,549.8424,148.6767,556.1082,145.8951,551.1825,150.8208,548.4008,141.078,549.8424\" style=\"stroke: #A80036; stroke-width: 1.0;\"/><path d=\"M153.805,426.45 C156.996,426.115 160.186,426.039 163.377,426.222 \" fill=\"none\" style=\"stroke: #A80036; stroke-width: 1.0;\"/><polygon fill=\"#A80036\" points=\"176.493,428.429,168.2822,422.99,171.5624,427.5987,166.9537,430.879,176.493,428.429\" style=\"stroke: #A80036; stroke-width: 1.0;\"/><line style=\"stroke: #A80036; stroke-width: 1.0;\" x1=\"171.5624\" x2=\"163.6735\" y1=\"427.5987\" y2=\"426.2715\"/><polygon fill=\"#A80036\" points=\"141.078,429.158,147.7788,431.8224,152.8155,426.6618,146.1147,423.9974,141.078,429.158\" style=\"stroke: #A80036; stroke-width: 1.0;\"/><path d=\"M316.555,560.0257 C326.448,563.808 336.342,564.9729 346.235,563.5205 \" fill=\"none\" style=\"stroke: #A80036; stroke-width: 1.0;\"/><polygon fill=\"#A80036\" points=\"351.409,562.5224,341.8142,560.2997,346.4995,563.4696,343.3297,568.1548,351.409,562.5224\" style=\"stroke: #A80036; stroke-width: 1.0;\"/><path d=\"M338.313,414.876 C335.326,414.859 332.339,415.081 329.353,415.542 \" fill=\"none\" style=\"stroke: #A80036; stroke-width: 1.0;\"/><polygon fill=\"#A80036\" points=\"316.555,418.974,326.2841,420.5052,321.3842,417.6784,324.2111,412.7785,316.555,418.974\" style=\"stroke: #A80036; stroke-width: 1.0;\"/><line style=\"stroke: #A80036; stroke-width: 1.0;\" x1=\"321.3842\" x2=\"329.111\" y1=\"417.6784\" y2=\"415.6065\"/><polygon fill=\"#A80036\" points=\"351.409,416.478,345.9386,411.7796,339.4976,415.0222,344.9681,419.7206,351.409,416.478\" style=\"stroke: #A80036; stroke-width: 1.0;\"/><path d=\"M435.079,343.146 C434.564,356.555 434.029,370.485 433.504,384.177 \" fill=\"none\" style=\"stroke: #A80036; stroke-width: 1.0;\"/><polygon fill=\"#A80036\" points=\"433.004,397.207,437.3462,388.367,433.1958,392.2107,429.3521,388.0602,433.004,397.207\" style=\"stroke: #A80036; stroke-width: 1.0;\"/><line style=\"stroke: #A80036; stroke-width: 1.0;\" x1=\"433.1958\" x2=\"433.5025\" y1=\"392.2107\" y2=\"384.2165\"/><polygon fill=\"#A80036\" points=\"435.578,330.135,431.3508,335.9772,435.1178,342.1262,439.3449,336.284,435.578,330.135\" style=\"stroke: #A80036; stroke-width: 1.0;\"/><path d=\"M268.442,129.417 C264.412,195.362 258.159,297.692 253.358,376.269 \" fill=\"none\" style=\"stroke: #A80036; stroke-width: 1.0;\"/><polygon fill=\"#A80036\" points=\"252.54,389.656,257.0815,380.9167,252.8449,384.6653,249.0964,380.4288,252.54,389.656\" style=\"stroke: #A80036; stroke-width: 1.0;\"/><line style=\"stroke: #A80036; stroke-width: 1.0;\" x1=\"252.8449\" x2=\"253.3325\" y1=\"384.6653\" y2=\"376.6805\"/><polygon fill=\"#A80036\" points=\"269.26,116.03,264.9015,121.7749,268.5281,128.0077,272.8866,122.2628,269.26,116.03\" style=\"stroke: #A80036; stroke-width: 1.0;\"/><path d=\"M327.777,125.936 C339.108,138.837 351.218,152.625 363.118,166.173 \" fill=\"none\" style=\"stroke: #A80036; stroke-width: 1.0;\"/><polygon fill=\"#A80036\" points=\"371.731,175.98,368.7964,166.5785,368.4311,172.2236,362.7861,171.8583,371.731,175.98\" style=\"stroke: #A80036; stroke-width: 1.0;\"/><line style=\"stroke: #A80036; stroke-width: 1.0;\" x1=\"368.4311\" x2=\"363.1515\" y1=\"172.2236\" y2=\"166.212\"/><polygon fill=\"#A80036\" points=\"319.182,116.15,320.1356,123.2978,327.1003,125.1667,326.1467,118.0189,319.182,116.15\" style=\"stroke: #A80036; stroke-width: 1.0;\"/><path d=\"M242.122,127.954 C209.148,198.459 156.154,311.77 118.379,392.539 \" fill=\"none\" style=\"stroke: #A80036; stroke-width: 1.0;\"/><polygon fill=\"#A80036\" points=\"112.687,404.711,120.123,398.253,114.8052,400.1818,112.8763,394.864,112.687,404.711\" style=\"stroke: #A80036; stroke-width: 1.0;\"/><line style=\"stroke: #A80036; stroke-width: 1.0;\" x1=\"114.8052\" x2=\"118.1945\" y1=\"400.1818\" y2=\"392.9345\"/><polygon fill=\"#A80036\" points=\"247.699,116.03,241.5339,119.7705,242.6154,126.9,248.7806,123.1595,247.699,116.03\" style=\"stroke: #A80036; stroke-width: 1.0;\"/><path d=\"M285.821,128.783 C297.974,183.669 318.061,263.385 344.5,330 C351.776,348.332 360.636,367.266 369.855,385.391 \" fill=\"none\" style=\"stroke: #A80036; stroke-width: 1.0;\"/><polygon fill=\"#A80036\" points=\"375.953,397.169,375.3685,387.3375,373.6547,392.7285,368.2637,391.0147,375.953,397.169\" style=\"stroke: #A80036; stroke-width: 1.0;\"/><line style=\"stroke: #A80036; stroke-width: 1.0;\" x1=\"373.6547\" x2=\"369.976\" y1=\"392.7285\" y2=\"385.6245\"/><polygon fill=\"#A80036\" points=\"283.052,116.081,280.4223,122.7955,285.6089,127.8054,288.2386,121.0909,283.052,116.081\" style=\"stroke: #A80036; stroke-width: 1.0;\"/></g></svg>"
      ],
      "text/plain": [
       "<IPython.core.display.SVG object>"
      ]
     },
     "execution_count": 53,
     "metadata": {},
     "output_type": "execute_result"
    }
   ],
   "source": [
    "%%plantuml\n",
    "@startuml\n",
    "class HomeTheaterFacade{\n",
    "    amp:Amplifier\n",
    "    tuner:tuner\n",
    "    dvd:DvdPlayer\n",
    "    projector:Projector\n",
    "    +HomeTheaterFacade(Amplifier,Tuner,DvdPlayer,Projector)\n",
    "    +watchMovie(String)\n",
    "    +endMovie()\n",
    "    +listenToRadio(double)\n",
    "    +endRadio()\n",
    "    +beginStudy()\n",
    "    +endStudy()\n",
    "}\n",
    "class Amplifier{\n",
    "    -description:String\n",
    "    -tuner:Tuner\n",
    "    -dvd:DvdPlayer\n",
    "    +Amplifier(String):void\n",
    "    +on():void\n",
    "    +off():void\n",
    "    +setDvd(DvdPlayer):void\n",
    "    +setruner(Tuner):void\n",
    "    +setVolume(int):void\n",
    "    +toString():String\n",
    "}\n",
    "class Tuner{\n",
    "    description:String\n",
    "    amplifier:Amplifier\n",
    "    frequency:double\n",
    "    +Tuner(String,Amplifier)\n",
    "    +on():void\n",
    "    +off():void\n",
    "    +setFrequency(double)\n",
    "    +toString():String\n",
    "}\n",
    "class DvdPlayer{\n",
    "    +description:String\n",
    "    +amplifier:Amplifier\n",
    "    +movie:String\n",
    "    +DvdPlayer(String,Amplifier)\n",
    "    +on()\n",
    "    +off()\n",
    "    +play(String)\n",
    "    +stop()\n",
    "    +toString():String\n",
    "}\n",
    "class Projector{\n",
    "    description:String\n",
    "    dvdPlayer:DvdPlayer\n",
    "    +Projector(Sting,DvdPlayer)\n",
    "    +on()\n",
    "    +off()\n",
    "    +wideScreenMode()\n",
    "    +toString():String\n",
    "}\n",
    "Amplifier -left-> Tuner\n",
    "Amplifier --> DvdPlayer\n",
    "Tuner *-->Amplifier\n",
    "DvdPlayer *-> Amplifier\n",
    "Projector *-down-> DvdPlayer\n",
    "HomeTheaterFacade *-down-> Amplifier\n",
    "HomeTheaterFacade *-down->Projector\n",
    "HomeTheaterFacade *-down->Tuner\n",
    "HomeTheaterFacade *-down->DvdPlayer\n",
    "@enduml"
   ]
  },
  {
   "cell_type": "code",
   "execution_count": null,
   "metadata": {
    "collapsed": true
   },
   "outputs": [],
   "source": []
  }
 ],
 "metadata": {
  "kernelspec": {
   "display_name": "Python 2",
   "language": "python",
   "name": "python2"
  },
  "language_info": {
   "codemirror_mode": {
    "name": "ipython",
    "version": 2
   },
   "file_extension": ".py",
   "mimetype": "text/x-python",
   "name": "python",
   "nbconvert_exporter": "python",
   "pygments_lexer": "ipython2",
   "version": "2.7.10"
  }
 },
 "nbformat": 4,
 "nbformat_minor": 0
}
