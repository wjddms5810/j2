{
 "cells": [
  {
   "cell_type": "code",
   "execution_count": 1,
   "metadata": {
    "collapsed": false
   },
   "outputs": [
    {
     "name": "stdout",
     "output_type": "stream",
     "text": [
      "Installed plantuml_magics.py. To use it, type:\n",
      "  %load_ext plantuml_magics\n"
     ]
    },
    {
     "name": "stderr",
     "output_type": "stream",
     "text": [
      "C:\\Anaconda\\lib\\site-packages\\IPython\\core\\magics\\extension.py:47: UserWarning: %install_ext` is deprecated, please distribute your extension(s)as a python packages.\n",
      "  \"as a python packages.\", UserWarning)\n"
     ]
    }
   ],
   "source": [
    "%install_ext https://raw.githubusercontent.com/sberke/ipython-plantuml/master/plantuml_magics.py"
   ]
  },
  {
   "cell_type": "code",
   "execution_count": 2,
   "metadata": {
    "collapsed": true
   },
   "outputs": [],
   "source": [
    "%load_ext plantuml_magics"
   ]
  },
  {
   "cell_type": "code",
   "execution_count": 3,
   "metadata": {
    "collapsed": false
   },
   "outputs": [
    {
     "data": {
      "text/plain": [
       "['.\\\\plantuml.jar']"
      ]
     },
     "execution_count": 3,
     "metadata": {},
     "output_type": "execute_result"
    }
   ],
   "source": [
    "import glob\n",
    "glob.glob(r'./*.jar')"
   ]
  },
  {
   "cell_type": "code",
   "execution_count": 5,
   "metadata": {
    "collapsed": false
   },
   "outputs": [
    {
     "data": {
      "image/svg+xml": [
       "<svg height=\"343px\" style=\"width:293px;height:343px;\" version=\"1.1\" viewBox=\"0 0 293 343\" width=\"293px\" xmlns=\"http://www.w3.org/2000/svg\" xmlns:xlink=\"http://www.w3.org/1999/xlink\"><defs><filter height=\"300%\" id=\"f1\" width=\"300%\" x=\"-1\" y=\"-1\"><feGaussianBlur result=\"blurOut\" stdDeviation=\"2.0\"/><feColorMatrix in=\"blurOut\" result=\"blurOut2\" type=\"matrix\" values=\"0 0 0 0 0 0 0 0 0 0 0 0 0 0 0 0 0 0 .4 0\"/><feOffset dx=\"4.0\" dy=\"4.0\" in=\"blurOut2\" result=\"blurOut3\"/><feBlend in=\"SourceGraphic\" in2=\"blurOut3\" mode=\"normal\"/></filter></defs><g><text fill=\"#000000\" font-family=\"sans-serif\" font-size=\"18\" lengthAdjust=\"spacingAndGlyphs\" textLength=\"61\" x=\"125.5\" y=\"20.7686\">before1</text><rect fill=\"#FEFECE\" filter=\"url(#f1)\" height=\"48\" style=\"stroke: #A80036; stroke-width: 1.5;\" width=\"79\" x=\"29\" y=\"286.7236\"/><ellipse cx=\"44\" cy=\"302.7236\" fill=\"#ADD1B2\" rx=\"11\" ry=\"11\" style=\"stroke: #A80036; stroke-width: 1.0;\"/><path d=\"M43.5625,296.2393 Q40.8281,296.2393 39.75,297.8643 Q38.6094,299.583 38.6094,302.5049 Q38.6094,305.8018 39.7656,307.5049 Q40.75,309.0049 43.3594,309.0049 Q44.9375,309.0049 45.8125,308.1768 Q46.7969,307.2236 46.9375,305.0986 Q46.9375,304.8018 46.7656,304.6299 Q46.6406,304.4736 46.4219,304.458 Q45.2031,304.458 45.0469,304.583 Q44.875,304.7393 44.875,305.0049 Q44.8438,306.4893 44.1875,307.3018 Q43.5781,308.0986 43.5,308.0986 Q42.1719,308.0986 41.3906,306.5049 Q40.6406,304.958 40.6406,302.4736 Q40.6406,299.8486 41.5781,298.3955 Q42.4063,297.1455 43.6875,297.1455 Q43.6875,297.1455 44.0313,297.7705 Q44.6563,298.4424 44.7969,299.5986 Q44.9063,300.1768 46.375,299.958 Q46.9063,299.8799 46.875,299.458 Q46.7031,298.0205 45.9844,297.208 Q45.125,296.2393 43.5625,296.2393 Z \"/><text fill=\"#000000\" font-family=\"sans-serif\" font-size=\"12\" lengthAdjust=\"spacingAndGlyphs\" textLength=\"47\" x=\"58\" y=\"308.3281\">ArrayList</text><line style=\"stroke: #A80036; stroke-width: 1.5;\" x1=\"30\" x2=\"107\" y1=\"318.7236\" y2=\"318.7236\"/><line style=\"stroke: #A80036; stroke-width: 1.5;\" x1=\"30\" x2=\"107\" y1=\"326.7236\" y2=\"326.7236\"/><rect fill=\"#FEFECE\" filter=\"url(#f1)\" height=\"48\" style=\"stroke: #A80036; stroke-width: 1.5;\" width=\"59\" x=\"202\" y=\"286.7236\"/><ellipse cx=\"217\" cy=\"302.7236\" fill=\"#ADD1B2\" rx=\"11\" ry=\"11\" style=\"stroke: #A80036; stroke-width: 1.0;\"/><path d=\"M216.5625,296.2393 Q213.8281,296.2393 212.75,297.8643 Q211.6094,299.583 211.6094,302.5049 Q211.6094,305.8018 212.7656,307.5049 Q213.75,309.0049 216.3594,309.0049 Q217.9375,309.0049 218.8125,308.1768 Q219.7969,307.2236 219.9375,305.0986 Q219.9375,304.8018 219.7656,304.6299 Q219.6406,304.4736 219.4219,304.458 Q218.2031,304.458 218.0469,304.583 Q217.875,304.7393 217.875,305.0049 Q217.8438,306.4893 217.1875,307.3018 Q216.5781,308.0986 216.5,308.0986 Q215.1719,308.0986 214.3906,306.5049 Q213.6406,304.958 213.6406,302.4736 Q213.6406,299.8486 214.5781,298.3955 Q215.4063,297.1455 216.6875,297.1455 Q216.6875,297.1455 217.0313,297.7705 Q217.6563,298.4424 217.7969,299.5986 Q217.9063,300.1768 219.375,299.958 Q219.9063,299.8799 219.875,299.458 Q219.7031,298.0205 218.9844,297.208 Q218.125,296.2393 216.5625,296.2393 Z \"/><text fill=\"#000000\" font-family=\"sans-serif\" font-size=\"12\" lengthAdjust=\"spacingAndGlyphs\" textLength=\"27\" x=\"231\" y=\"308.3281\">Array</text><line style=\"stroke: #A80036; stroke-width: 1.5;\" x1=\"203\" x2=\"260\" y1=\"318.7236\" y2=\"318.7236\"/><line style=\"stroke: #A80036; stroke-width: 1.5;\" x1=\"203\" x2=\"260\" y1=\"326.7236\" y2=\"326.7236\"/><rect fill=\"#FEFECE\" filter=\"url(#f1)\" height=\"48\" style=\"stroke: #A80036; stroke-width: 1.5;\" width=\"147\" x=\"6\" y=\"159.7236\"/><ellipse cx=\"21\" cy=\"175.7236\" fill=\"#ADD1B2\" rx=\"11\" ry=\"11\" style=\"stroke: #A80036; stroke-width: 1.0;\"/><path d=\"M20.5625,169.2393 Q17.8281,169.2393 16.75,170.8643 Q15.6094,172.583 15.6094,175.5049 Q15.6094,178.8018 16.7656,180.5049 Q17.75,182.0049 20.3594,182.0049 Q21.9375,182.0049 22.8125,181.1768 Q23.7969,180.2236 23.9375,178.0986 Q23.9375,177.8018 23.7656,177.6299 Q23.6406,177.4736 23.4219,177.458 Q22.2031,177.458 22.0469,177.583 Q21.875,177.7393 21.875,178.0049 Q21.8438,179.4893 21.1875,180.3018 Q20.5781,181.0986 20.5,181.0986 Q19.1719,181.0986 18.3906,179.5049 Q17.6406,177.958 17.6406,175.4736 Q17.6406,172.8486 18.5781,171.3955 Q19.4063,170.1455 20.6875,170.1455 Q20.6875,170.1455 21.0313,170.7705 Q21.6563,171.4424 21.7969,172.5986 Q21.9063,173.1768 23.375,172.958 Q23.9063,172.8799 23.875,172.458 Q23.7031,171.0205 22.9844,170.208 Q22.125,169.2393 20.5625,169.2393 Z \"/><text fill=\"#000000\" font-family=\"sans-serif\" font-size=\"12\" lengthAdjust=\"spacingAndGlyphs\" textLength=\"115\" x=\"35\" y=\"181.3281\">PancakeHouseMenu</text><line style=\"stroke: #A80036; stroke-width: 1.5;\" x1=\"7\" x2=\"152\" y1=\"191.7236\" y2=\"191.7236\"/><line style=\"stroke: #A80036; stroke-width: 1.5;\" x1=\"7\" x2=\"152\" y1=\"199.7236\" y2=\"199.7236\"/><rect fill=\"#FEFECE\" filter=\"url(#f1)\" height=\"48\" style=\"stroke: #A80036; stroke-width: 1.5;\" width=\"92\" x=\"188.5\" y=\"159.7236\"/><ellipse cx=\"203.5\" cy=\"175.7236\" fill=\"#ADD1B2\" rx=\"11\" ry=\"11\" style=\"stroke: #A80036; stroke-width: 1.0;\"/><path d=\"M203.0625,169.2393 Q200.3281,169.2393 199.25,170.8643 Q198.1094,172.583 198.1094,175.5049 Q198.1094,178.8018 199.2656,180.5049 Q200.25,182.0049 202.8594,182.0049 Q204.4375,182.0049 205.3125,181.1768 Q206.2969,180.2236 206.4375,178.0986 Q206.4375,177.8018 206.2656,177.6299 Q206.1406,177.4736 205.9219,177.458 Q204.7031,177.458 204.5469,177.583 Q204.375,177.7393 204.375,178.0049 Q204.3438,179.4893 203.6875,180.3018 Q203.0781,181.0986 203,181.0986 Q201.6719,181.0986 200.8906,179.5049 Q200.1406,177.958 200.1406,175.4736 Q200.1406,172.8486 201.0781,171.3955 Q201.9063,170.1455 203.1875,170.1455 Q203.1875,170.1455 203.5313,170.7705 Q204.1563,171.4424 204.2969,172.5986 Q204.4063,173.1768 205.875,172.958 Q206.4063,172.8799 206.375,172.458 Q206.2031,171.0205 205.4844,170.208 Q204.625,169.2393 203.0625,169.2393 Z \"/><text fill=\"#000000\" font-family=\"sans-serif\" font-size=\"12\" lengthAdjust=\"spacingAndGlyphs\" textLength=\"60\" x=\"217.5\" y=\"181.3281\">DinerMenu</text><line style=\"stroke: #A80036; stroke-width: 1.5;\" x1=\"189.5\" x2=\"279.5\" y1=\"191.7236\" y2=\"191.7236\"/><line style=\"stroke: #A80036; stroke-width: 1.5;\" x1=\"189.5\" x2=\"279.5\" y1=\"199.7236\" y2=\"199.7236\"/><rect fill=\"#FEFECE\" filter=\"url(#f1)\" height=\"48\" style=\"stroke: #A80036; stroke-width: 1.5;\" width=\"64\" x=\"127.5\" y=\"32.7236\"/><ellipse cx=\"142.5\" cy=\"48.7236\" fill=\"#ADD1B2\" rx=\"11\" ry=\"11\" style=\"stroke: #A80036; stroke-width: 1.0;\"/><path d=\"M142.0625,42.2393 Q139.3281,42.2393 138.25,43.8643 Q137.1094,45.583 137.1094,48.5049 Q137.1094,51.8018 138.2656,53.5049 Q139.25,55.0049 141.8594,55.0049 Q143.4375,55.0049 144.3125,54.1768 Q145.2969,53.2236 145.4375,51.0986 Q145.4375,50.8018 145.2656,50.6299 Q145.1406,50.4736 144.9219,50.458 Q143.7031,50.458 143.5469,50.583 Q143.375,50.7393 143.375,51.0049 Q143.3438,52.4893 142.6875,53.3018 Q142.0781,54.0986 142,54.0986 Q140.6719,54.0986 139.8906,52.5049 Q139.1406,50.958 139.1406,48.4736 Q139.1406,45.8486 140.0781,44.3955 Q140.9063,43.1455 142.1875,43.1455 Q142.1875,43.1455 142.5313,43.7705 Q143.1563,44.4424 143.2969,45.5986 Q143.4063,46.1768 144.875,45.958 Q145.4063,45.8799 145.375,45.458 Q145.2031,44.0205 144.4844,43.208 Q143.625,42.2393 142.0625,42.2393 Z \"/><text fill=\"#000000\" font-family=\"sans-serif\" font-size=\"12\" lengthAdjust=\"spacingAndGlyphs\" textLength=\"32\" x=\"156.5\" y=\"54.3281\">Client</text><line style=\"stroke: #A80036; stroke-width: 1.5;\" x1=\"128.5\" x2=\"190.5\" y1=\"64.7236\" y2=\"64.7236\"/><line style=\"stroke: #A80036; stroke-width: 1.5;\" x1=\"128.5\" x2=\"190.5\" y1=\"72.7236\" y2=\"72.7236\"/><path d=\"M61.1661,207.9076 C55.2805,216.7276 49.5091,227.1976 46.5,237.7236 C42.3404,252.2739 46.4434,268.3904 52.186,281.6801 \" fill=\"none\" style=\"stroke: #A80036; stroke-width: 1.0;\"/><polygon fill=\"#A80036\" points=\"54.3636,286.4403,54.2571,276.5921,52.2836,281.8935,46.9822,279.92,54.3636,286.4403\" style=\"stroke: #A80036; stroke-width: 1.0;\"/><text fill=\"#000000\" font-family=\"sans-serif\" font-size=\"13\" lengthAdjust=\"spacingAndGlyphs\" textLength=\"32\" x=\"47.5\" y=\"253.7231\">size()</text><path d=\"M83.6271,207.8436 C85.5322,222.0126 86.8976,240.4852 84.5,256.7236 C83.2792,264.9915 81.0418,273.7574 78.6193,281.7292 \" fill=\"none\" style=\"stroke: #A80036; stroke-width: 1.0;\"/><polygon fill=\"#A80036\" points=\"77.0944,286.5785,83.6099,279.1929,78.5943,281.8088,75.9784,276.7931,77.0944,286.5785\" style=\"stroke: #A80036; stroke-width: 1.0;\"/><text fill=\"#000000\" font-family=\"sans-serif\" font-size=\"13\" lengthAdjust=\"spacingAndGlyphs\" textLength=\"26\" x=\"87.5\" y=\"253.7231\">get()</text><path d=\"M211.91,207.8646 C204.929,216.5246 198.125,226.9026 194.5,237.7236 C189.366,253.0485 196.311,269.1344 205.519,282.205 \" fill=\"none\" style=\"stroke: #A80036; stroke-width: 1.0;\"/><polygon fill=\"#A80036\" points=\"208.714,286.5166,206.5691,276.9042,205.737,282.4995,200.1417,281.6674,208.714,286.5166\" style=\"stroke: #A80036; stroke-width: 1.0;\"/><text fill=\"#000000\" font-family=\"sans-serif\" font-size=\"13\" lengthAdjust=\"spacingAndGlyphs\" textLength=\"26\" x=\"195.5\" y=\"253.7231\">get()</text><path d=\"M233.943,207.9426 C233.444,228.7276 232.711,259.2612 232.178,281.4603 \" fill=\"none\" style=\"stroke: #A80036; stroke-width: 1.0;\"/><polygon fill=\"#A80036\" points=\"232.054,286.6294,236.2688,277.728,232.174,281.6309,228.2712,277.536,232.054,286.6294\" style=\"stroke: #A80036; stroke-width: 1.0;\"/><text fill=\"#000000\" font-family=\"sans-serif\" font-size=\"13\" lengthAdjust=\"spacingAndGlyphs\" textLength=\"8\" x=\"234.5\" y=\"253.7231\">[]</text><path d=\"M127.395,76.5156 C114.972,85.3666 101.7785,97.0106 93.5,110.7236 C85.5871,123.8306 82.0189,140.5086 80.4596,154.5116 \" fill=\"none\" style=\"stroke: #A80036; stroke-width: 1.0;\"/><polygon fill=\"#A80036\" points=\"79.9718,159.5376,84.8223,150.966,80.4547,154.561,76.8596,150.1934,79.9718,159.5376\" style=\"stroke: #A80036; stroke-width: 1.0;\"/><text fill=\"#000000\" font-family=\"sans-serif\" font-size=\"13\" lengthAdjust=\"spacingAndGlyphs\" textLength=\"90\" x=\"94.5\" y=\"126.7231\">getMenuItems()</text><path d=\"M173.431,80.9426 C186.06,101.9906 204.687,133.0356 218.045,155.2996 \" fill=\"none\" style=\"stroke: #A80036; stroke-width: 1.0;\"/><polygon fill=\"#A80036\" points=\"220.643,159.6296,219.443,149.8542,218.0707,155.342,212.5828,153.9698,220.643,159.6296\" style=\"stroke: #A80036; stroke-width: 1.0;\"/><text fill=\"#000000\" font-family=\"sans-serif\" font-size=\"13\" lengthAdjust=\"spacingAndGlyphs\" textLength=\"90\" x=\"202.5\" y=\"126.7231\">getMenuItems()</text></g></svg>"
      ],
      "text/plain": [
       "<IPython.core.display.SVG object>"
      ]
     },
     "execution_count": 5,
     "metadata": {},
     "output_type": "execute_result"
    }
   ],
   "source": [
    "%%plantuml\n",
    "@startuml\n",
    "title before1\n",
    "class ArrayList\n",
    "class Array\n",
    "\n",
    "PancakeHouseMenu --> ArrayList: size()\n",
    "PancakeHouseMenu--> ArrayList:get()\n",
    "DinerMenu --> Array:get()\n",
    "DinerMenu --> Array:[]\n",
    "Client --> PancakeHouseMenu:getMenuItems()\n",
    "Client --> DinerMenu:getMenuItems()\n",
    "@enduml"
   ]
  },
  {
   "cell_type": "code",
   "execution_count": 16,
   "metadata": {
    "collapsed": false
   },
   "outputs": [
    {
     "data": {
      "image/svg+xml": [
       "<svg height=\"200px\" style=\"width:496px;height:200px;\" version=\"1.1\" viewBox=\"0 0 496 200\" width=\"496px\" xmlns=\"http://www.w3.org/2000/svg\" xmlns:xlink=\"http://www.w3.org/1999/xlink\"><defs><filter height=\"300%\" id=\"f1\" width=\"300%\" x=\"-1\" y=\"-1\"><feGaussianBlur result=\"blurOut\" stdDeviation=\"2.0\"/><feColorMatrix in=\"blurOut\" result=\"blurOut2\" type=\"matrix\" values=\"0 0 0 0 0 0 0 0 0 0 0 0 0 0 0 0 0 0 .4 0\"/><feOffset dx=\"4.0\" dy=\"4.0\" in=\"blurOut2\" result=\"blurOut3\"/><feBlend in=\"SourceGraphic\" in2=\"blurOut3\" mode=\"normal\"/></filter></defs><g><rect fill=\"#FEFECE\" filter=\"url(#f1)\" height=\"183.98\" style=\"stroke: #A80036; stroke-width: 1.5;\" width=\"214\" x=\"273\" y=\"8\"/><ellipse cx=\"348.75\" cy=\"24\" fill=\"#ADD1B2\" rx=\"11\" ry=\"11\" style=\"stroke: #A80036; stroke-width: 1.0;\"/><path d=\"M348.3125,17.5156 Q345.5781,17.5156 344.5,19.1406 Q343.3594,20.8594 343.3594,23.7813 Q343.3594,27.0781 344.5156,28.7813 Q345.5,30.2813 348.1094,30.2813 Q349.6875,30.2813 350.5625,29.4531 Q351.5469,28.5 351.6875,26.375 Q351.6875,26.0781 351.5156,25.9063 Q351.3906,25.75 351.1719,25.7344 Q349.9531,25.7344 349.7969,25.8594 Q349.625,26.0156 349.625,26.2813 Q349.5938,27.7656 348.9375,28.5781 Q348.3281,29.375 348.25,29.375 Q346.9219,29.375 346.1406,27.7813 Q345.3906,26.2344 345.3906,23.75 Q345.3906,21.125 346.3281,19.6719 Q347.1563,18.4219 348.4375,18.4219 Q348.4375,18.4219 348.7813,19.0469 Q349.4063,19.7188 349.5469,20.875 Q349.6563,21.4531 351.125,21.2344 Q351.6563,21.1563 351.625,20.7344 Q351.4531,19.2969 350.7344,18.4844 Q349.875,17.5156 348.3125,17.5156 Z \"/><text fill=\"#000000\" font-family=\"sans-serif\" font-size=\"12\" lengthAdjust=\"spacingAndGlyphs\" textLength=\"54\" x=\"369.25\" y=\"29.6045\">MenuItem</text><line style=\"stroke: #A80036; stroke-width: 1.5;\" x1=\"274\" x2=\"486\" y1=\"40\" y2=\"40\"/><text fill=\"#000000\" font-family=\"sans-serif\" font-size=\"11\" lengthAdjust=\"spacingAndGlyphs\" textLength=\"57\" x=\"279\" y=\"56.6919\">name:String</text><text fill=\"#000000\" font-family=\"sans-serif\" font-size=\"11\" lengthAdjust=\"spacingAndGlyphs\" textLength=\"84\" x=\"279\" y=\"71.8008\">description:String</text><text fill=\"#000000\" font-family=\"sans-serif\" font-size=\"11\" lengthAdjust=\"spacingAndGlyphs\" textLength=\"92\" x=\"279\" y=\"86.9097\">vegeterian:boolean</text><text fill=\"#000000\" font-family=\"sans-serif\" font-size=\"11\" lengthAdjust=\"spacingAndGlyphs\" textLength=\"59\" x=\"279\" y=\"102.0186\">price:double</text><line style=\"stroke: #A80036; stroke-width: 1.5;\" x1=\"274\" x2=\"486\" y1=\"108.4355\" y2=\"108.4355\"/><ellipse cx=\"284\" cy=\"121.49\" fill=\"#84BE84\" rx=\"3\" ry=\"3\" style=\"stroke: #038048; stroke-width: 1.0;\"/><text fill=\"#000000\" font-family=\"sans-serif\" font-size=\"11\" lengthAdjust=\"spacingAndGlyphs\" textLength=\"188\" x=\"293\" y=\"125.1274\">MenuItem(String,String,boolean,double)</text><ellipse cx=\"284\" cy=\"136.5989\" fill=\"#84BE84\" rx=\"3\" ry=\"3\" style=\"stroke: #038048; stroke-width: 1.0;\"/><text fill=\"#000000\" font-family=\"sans-serif\" font-size=\"11\" lengthAdjust=\"spacingAndGlyphs\" textLength=\"81\" x=\"293\" y=\"140.2363\">getName():String</text><ellipse cx=\"284\" cy=\"151.7078\" fill=\"#84BE84\" rx=\"3\" ry=\"3\" style=\"stroke: #038048; stroke-width: 1.0;\"/><text fill=\"#000000\" font-family=\"sans-serif\" font-size=\"11\" lengthAdjust=\"spacingAndGlyphs\" textLength=\"108\" x=\"293\" y=\"155.3452\">getDescription():String</text><ellipse cx=\"284\" cy=\"166.8167\" fill=\"#84BE84\" rx=\"3\" ry=\"3\" style=\"stroke: #038048; stroke-width: 1.0;\"/><text fill=\"#000000\" font-family=\"sans-serif\" font-size=\"11\" lengthAdjust=\"spacingAndGlyphs\" textLength=\"82\" x=\"293\" y=\"170.4541\">getPrice():double</text><ellipse cx=\"284\" cy=\"181.9255\" fill=\"#84BE84\" rx=\"3\" ry=\"3\" style=\"stroke: #038048; stroke-width: 1.0;\"/><text fill=\"#000000\" font-family=\"sans-serif\" font-size=\"11\" lengthAdjust=\"spacingAndGlyphs\" textLength=\"110\" x=\"293\" y=\"185.563\">isVegeterian():boolean</text><rect fill=\"#FEFECE\" filter=\"url(#f1)\" height=\"78.2178\" style=\"stroke: #A80036; stroke-width: 1.5;\" width=\"232\" x=\"6\" y=\"61\"/><ellipse cx=\"87.75\" cy=\"77\" fill=\"#ADD1B2\" rx=\"11\" ry=\"11\" style=\"stroke: #A80036; stroke-width: 1.0;\"/><path d=\"M87.3125,70.5156 Q84.5781,70.5156 83.5,72.1406 Q82.3594,73.8594 82.3594,76.7813 Q82.3594,80.0781 83.5156,81.7813 Q84.5,83.2813 87.1094,83.2813 Q88.6875,83.2813 89.5625,82.4531 Q90.5469,81.5 90.6875,79.375 Q90.6875,79.0781 90.5156,78.9063 Q90.3906,78.75 90.1719,78.7344 Q88.9531,78.7344 88.7969,78.8594 Q88.625,79.0156 88.625,79.2813 Q88.5938,80.7656 87.9375,81.5781 Q87.3281,82.375 87.25,82.375 Q85.9219,82.375 85.1406,80.7813 Q84.3906,79.2344 84.3906,76.75 Q84.3906,74.125 85.3281,72.6719 Q86.1563,71.4219 87.4375,71.4219 Q87.4375,71.4219 87.7813,72.0469 Q88.4063,72.7188 88.5469,73.875 Q88.6563,74.4531 90.125,74.2344 Q90.6563,74.1563 90.625,73.7344 Q90.4531,72.2969 89.7344,71.4844 Q88.875,70.5156 87.3125,70.5156 Z \"/><text fill=\"#000000\" font-family=\"sans-serif\" font-size=\"12\" lengthAdjust=\"spacingAndGlyphs\" textLength=\"60\" x=\"108.25\" y=\"82.6045\">DinerMenu</text><line style=\"stroke: #A80036; stroke-width: 1.5;\" x1=\"7\" x2=\"237\" y1=\"93\" y2=\"93\"/><text fill=\"#000000\" font-family=\"sans-serif\" font-size=\"11\" lengthAdjust=\"spacingAndGlyphs\" textLength=\"105\" x=\"12\" y=\"109.6919\">menuItems:MenuItem[]</text><line style=\"stroke: #A80036; stroke-width: 1.5;\" x1=\"7\" x2=\"237\" y1=\"116.1089\" y2=\"116.1089\"/><ellipse cx=\"17\" cy=\"129.1633\" fill=\"#84BE84\" rx=\"3\" ry=\"3\" style=\"stroke: #038048; stroke-width: 1.0;\"/><text fill=\"#000000\" font-family=\"sans-serif\" font-size=\"11\" lengthAdjust=\"spacingAndGlyphs\" textLength=\"206\" x=\"26\" y=\"132.8008\">addItem(String,String,boolean,doubke):void</text><path d=\"M238.15,100 C247.981,100 257.811,100 267.641,100 \" fill=\"none\" style=\"stroke: #A80036; stroke-width: 1.0;\"/><polygon fill=\"#A80036\" points=\"272.782,100,263.782,96,267.782,100,263.782,104,272.782,100\" style=\"stroke: #A80036; stroke-width: 1.0;\"/></g></svg>"
      ],
      "text/plain": [
       "<IPython.core.display.SVG object>"
      ]
     },
     "execution_count": 16,
     "metadata": {},
     "output_type": "execute_result"
    }
   ],
   "source": [
    "%%plantuml\n",
    "@startuml\n",
    "class MenuItem{\n",
    "    name:String\n",
    "    description:String\n",
    "    vegeterian:boolean\n",
    "    price:double\n",
    "    +MenuItem(String,String,boolean,double)\n",
    "    +getName():String\n",
    "    +getDescription():String\n",
    "    +getPrice():double\n",
    "    +isVegeterian():boolean\n",
    "}\n",
    "class DinerMenu{\n",
    "    menuItems:MenuItem[]\n",
    "    +addItem(String,String,boolean,doubke):void\n",
    "}\n",
    "DinerMenu ->MenuItem\n",
    "@enduml"
   ]
  },
  {
   "cell_type": "code",
   "execution_count": 24,
   "metadata": {
    "collapsed": false
   },
   "outputs": [
    {
     "data": {
      "image/svg+xml": [
       "<svg height=\"394px\" style=\"width:446px;height:394px;\" version=\"1.1\" viewBox=\"0 0 446 394\" width=\"446px\" xmlns=\"http://www.w3.org/2000/svg\" xmlns:xlink=\"http://www.w3.org/1999/xlink\"><defs><filter height=\"300%\" id=\"f1\" width=\"300%\" x=\"-1\" y=\"-1\"><feGaussianBlur result=\"blurOut\" stdDeviation=\"2.0\"/><feColorMatrix in=\"blurOut\" result=\"blurOut2\" type=\"matrix\" values=\"0 0 0 0 0 0 0 0 0 0 0 0 0 0 0 0 0 0 .4 0\"/><feOffset dx=\"4.0\" dy=\"4.0\" in=\"blurOut2\" result=\"blurOut3\"/><feBlend in=\"SourceGraphic\" in2=\"blurOut3\" mode=\"normal\"/></filter></defs><g><polygon fill=\"#FFFFFF\" filter=\"url(#f1)\" points=\"216,147,323,147,330,172.2295,439,172.2295,439,387,216,387,216,147\" style=\"stroke: #000000; stroke-width: 2.0;\"/><line style=\"stroke: #000000; stroke-width: 2.0;\" x1=\"216\" x2=\"330\" y1=\"172.2295\" y2=\"172.2295\"/><text fill=\"#000000\" font-family=\"sans-serif\" font-size=\"14\" font-weight=\"bold\" lengthAdjust=\"spacingAndGlyphs\" textLength=\"101\" x=\"220\" y=\"165.1533\">com.j2.iterator</text><polygon fill=\"#FFFFFF\" filter=\"url(#f1)\" points=\"22,24,150,24,157,49.2295,192,49.2295,192,264,22,264,22,24\" style=\"stroke: #000000; stroke-width: 2.0;\"/><line style=\"stroke: #000000; stroke-width: 2.0;\" x1=\"22\" x2=\"157\" y1=\"49.2295\" y2=\"49.2295\"/><text fill=\"#000000\" font-family=\"sans-serif\" font-size=\"14\" font-weight=\"bold\" lengthAdjust=\"spacingAndGlyphs\" textLength=\"122\" x=\"26\" y=\"42.1533\">com.j2.composite</text><rect fill=\"#FEFECE\" filter=\"url(#f1)\" height=\"78.2178\" style=\"stroke: #A80036; stroke-width: 1.5;\" width=\"115\" x=\"232.5\" y=\"185\"/><ellipse cx=\"267.3\" cy=\"201\" fill=\"#B4A7E5\" rx=\"11\" ry=\"11\" style=\"stroke: #A80036; stroke-width: 1.0;\"/><path d=\"M265.0031,195.125 L265.0031,206.75 Q265.0031,207 265.1594,207.1563 Q265.3,207.2969 266.5188,207.2969 Q266.7219,207.2969 266.8625,207.1719 Q267.0344,207.0156 267.0344,206.75 L267.0344,195.0781 Q267.0344,194.8125 266.8625,194.6719 Q266.6438,194.4531 265.5188,194.5313 Q265.3,194.5313 265.1594,194.6875 Q265.0031,194.8438 265.0031,195.125 Z \"/><text fill=\"#000000\" font-family=\"sans-serif\" font-size=\"12\" font-style=\"italic\" lengthAdjust=\"spacingAndGlyphs\" textLength=\"39\" x=\"285.7\" y=\"206.6045\">Iterator</text><line style=\"stroke: #A80036; stroke-width: 1.5;\" x1=\"233.5\" x2=\"346.5\" y1=\"217\" y2=\"217\"/><line style=\"stroke: #A80036; stroke-width: 1.5;\" x1=\"233.5\" x2=\"346.5\" y1=\"225\" y2=\"225\"/><ellipse cx=\"243.5\" cy=\"238.0544\" fill=\"#84BE84\" rx=\"3\" ry=\"3\" style=\"stroke: #038048; stroke-width: 1.0;\"/><text fill=\"#000000\" font-family=\"sans-serif\" font-size=\"11\" lengthAdjust=\"spacingAndGlyphs\" textLength=\"89\" x=\"252.5\" y=\"241.6919\">hasNext():boolean</text><ellipse cx=\"243.5\" cy=\"253.1633\" fill=\"#84BE84\" rx=\"3\" ry=\"3\" style=\"stroke: #038048; stroke-width: 1.0;\"/><text fill=\"#000000\" font-family=\"sans-serif\" font-size=\"11\" lengthAdjust=\"spacingAndGlyphs\" textLength=\"63\" x=\"252.5\" y=\"256.8008\">next():Object</text><rect fill=\"#FEFECE\" filter=\"url(#f1)\" height=\"48\" style=\"stroke: #A80036; stroke-width: 1.5;\" width=\"77\" x=\"232.5\" y=\"323\"/><ellipse cx=\"247.5\" cy=\"339\" fill=\"#ADD1B2\" rx=\"11\" ry=\"11\" style=\"stroke: #A80036; stroke-width: 1.0;\"/><path d=\"M247.0625,332.5156 Q244.3281,332.5156 243.25,334.1406 Q242.1094,335.8594 242.1094,338.7813 Q242.1094,342.0781 243.2656,343.7813 Q244.25,345.2813 246.8594,345.2813 Q248.4375,345.2813 249.3125,344.4531 Q250.2969,343.5 250.4375,341.375 Q250.4375,341.0781 250.2656,340.9063 Q250.1406,340.75 249.9219,340.7344 Q248.7031,340.7344 248.5469,340.8594 Q248.375,341.0156 248.375,341.2813 Q248.3438,342.7656 247.6875,343.5781 Q247.0781,344.375 247,344.375 Q245.6719,344.375 244.8906,342.7813 Q244.1406,341.2344 244.1406,338.75 Q244.1406,336.125 245.0781,334.6719 Q245.9063,333.4219 247.1875,333.4219 Q247.1875,333.4219 247.5313,334.0469 Q248.1563,334.7188 248.2969,335.875 Q248.4063,336.4531 249.875,336.2344 Q250.4063,336.1563 250.375,335.7344 Q250.2031,334.2969 249.4844,333.4844 Q248.625,332.5156 247.0625,332.5156 Z \"/><text fill=\"#000000\" font-family=\"sans-serif\" font-size=\"12\" lengthAdjust=\"spacingAndGlyphs\" textLength=\"45\" x=\"261.5\" y=\"344.6045\">AIterator</text><line style=\"stroke: #A80036; stroke-width: 1.5;\" x1=\"233.5\" x2=\"308.5\" y1=\"355\" y2=\"355\"/><line style=\"stroke: #A80036; stroke-width: 1.5;\" x1=\"233.5\" x2=\"308.5\" y1=\"363\" y2=\"363\"/><rect fill=\"#FEFECE\" filter=\"url(#f1)\" height=\"48\" style=\"stroke: #A80036; stroke-width: 1.5;\" width=\"78\" x=\"345\" y=\"323\"/><ellipse cx=\"360\" cy=\"339\" fill=\"#ADD1B2\" rx=\"11\" ry=\"11\" style=\"stroke: #A80036; stroke-width: 1.0;\"/><path d=\"M359.5625,332.5156 Q356.8281,332.5156 355.75,334.1406 Q354.6094,335.8594 354.6094,338.7813 Q354.6094,342.0781 355.7656,343.7813 Q356.75,345.2813 359.3594,345.2813 Q360.9375,345.2813 361.8125,344.4531 Q362.7969,343.5 362.9375,341.375 Q362.9375,341.0781 362.7656,340.9063 Q362.6406,340.75 362.4219,340.7344 Q361.2031,340.7344 361.0469,340.8594 Q360.875,341.0156 360.875,341.2813 Q360.8438,342.7656 360.1875,343.5781 Q359.5781,344.375 359.5,344.375 Q358.1719,344.375 357.3906,342.7813 Q356.6406,341.2344 356.6406,338.75 Q356.6406,336.125 357.5781,334.6719 Q358.4063,333.4219 359.6875,333.4219 Q359.6875,333.4219 360.0313,334.0469 Q360.6563,334.7188 360.7969,335.875 Q360.9063,336.4531 362.375,336.2344 Q362.9063,336.1563 362.875,335.7344 Q362.7031,334.2969 361.9844,333.4844 Q361.125,332.5156 359.5625,332.5156 Z \"/><text fill=\"#000000\" font-family=\"sans-serif\" font-size=\"12\" lengthAdjust=\"spacingAndGlyphs\" textLength=\"46\" x=\"374\" y=\"344.6045\">BIterator</text><line style=\"stroke: #A80036; stroke-width: 1.5;\" x1=\"346\" x2=\"422\" y1=\"355\" y2=\"355\"/><line style=\"stroke: #A80036; stroke-width: 1.5;\" x1=\"346\" x2=\"422\" y1=\"363\" y2=\"363\"/><rect fill=\"#FEFECE\" filter=\"url(#f1)\" height=\"63.1089\" style=\"stroke: #A80036; stroke-width: 1.5;\" width=\"99\" x=\"66.5\" y=\"62\"/><ellipse cx=\"86\" cy=\"78\" fill=\"#B4A7E5\" rx=\"11\" ry=\"11\" style=\"stroke: #A80036; stroke-width: 1.0;\"/><path d=\"M83.7031,72.125 L83.7031,83.75 Q83.7031,84 83.8594,84.1563 Q84,84.2969 85.2188,84.2969 Q85.4219,84.2969 85.5625,84.1719 Q85.7344,84.0156 85.7344,83.75 L85.7344,72.0781 Q85.7344,71.8125 85.5625,71.6719 Q85.3438,71.4531 84.2188,71.5313 Q84,71.5313 83.8594,71.6875 Q83.7031,71.8438 83.7031,72.125 Z \"/><text fill=\"#000000\" font-family=\"sans-serif\" font-size=\"12\" font-style=\"italic\" lengthAdjust=\"spacingAndGlyphs\" textLength=\"57\" x=\"101\" y=\"83.6045\">Aggregate</text><line style=\"stroke: #A80036; stroke-width: 1.5;\" x1=\"67.5\" x2=\"164.5\" y1=\"94\" y2=\"94\"/><line style=\"stroke: #A80036; stroke-width: 1.5;\" x1=\"67.5\" x2=\"164.5\" y1=\"102\" y2=\"102\"/><ellipse cx=\"77.5\" cy=\"115.0544\" fill=\"#84BE84\" rx=\"3\" ry=\"3\" style=\"stroke: #038048; stroke-width: 1.0;\"/><text fill=\"#000000\" font-family=\"sans-serif\" font-size=\"11\" lengthAdjust=\"spacingAndGlyphs\" textLength=\"73\" x=\"86.5\" y=\"118.6919\">createIterator()</text><rect fill=\"#FEFECE\" filter=\"url(#f1)\" height=\"48\" style=\"stroke: #A80036; stroke-width: 1.5;\" width=\"138\" x=\"38\" y=\"200\"/><ellipse cx=\"53\" cy=\"216\" fill=\"#ADD1B2\" rx=\"11\" ry=\"11\" style=\"stroke: #A80036; stroke-width: 1.0;\"/><path d=\"M52.5625,209.5156 Q49.8281,209.5156 48.75,211.1406 Q47.6094,212.8594 47.6094,215.7813 Q47.6094,219.0781 48.7656,220.7813 Q49.75,222.2813 52.3594,222.2813 Q53.9375,222.2813 54.8125,221.4531 Q55.7969,220.5 55.9375,218.375 Q55.9375,218.0781 55.7656,217.9063 Q55.6406,217.75 55.4219,217.7344 Q54.2031,217.7344 54.0469,217.8594 Q53.875,218.0156 53.875,218.2813 Q53.8438,219.7656 53.1875,220.5781 Q52.5781,221.375 52.5,221.375 Q51.1719,221.375 50.3906,219.7813 Q49.6406,218.2344 49.6406,215.75 Q49.6406,213.125 50.5781,211.6719 Q51.4063,210.4219 52.6875,210.4219 Q52.6875,210.4219 53.0313,211.0469 Q53.6563,211.7188 53.7969,212.875 Q53.9063,213.4531 55.375,213.2344 Q55.9063,213.1563 55.875,212.7344 Q55.7031,211.2969 54.9844,210.4844 Q54.125,209.5156 52.5625,209.5156 Z \"/><text fill=\"#000000\" font-family=\"sans-serif\" font-size=\"12\" lengthAdjust=\"spacingAndGlyphs\" textLength=\"106\" x=\"67\" y=\"221.6045\">ConcreteAggregate</text><line style=\"stroke: #A80036; stroke-width: 1.5;\" x1=\"39\" x2=\"175\" y1=\"232\" y2=\"232\"/><line style=\"stroke: #A80036; stroke-width: 1.5;\" x1=\"39\" x2=\"175\" y1=\"240\" y2=\"240\"/><path d=\"M280.843,283.314 C278.647,297.299 276.427,311.4391 274.652,322.7416 \" fill=\"none\" style=\"stroke: #A80036; stroke-width: 1.0; stroke-dasharray: 7.0,7.0;\"/><polygon fill=\"none\" points=\"273.97,281.957,283.988,263.285,287.801,284.129,273.97,281.957\" style=\"stroke: #A80036; stroke-width: 1.0;\"/><path d=\"M332.275,279.418 C344.103,294.643 356.334,310.3877 365.931,322.7416 \" fill=\"none\" style=\"stroke: #A80036; stroke-width: 1.0; stroke-dasharray: 7.0,7.0;\"/><polygon fill=\"none\" points=\"326.484,283.374,319.742,263.285,337.54,274.785,326.484,283.374\" style=\"stroke: #A80036; stroke-width: 1.0;\"/><path d=\"M112.432,145.437 C111.118,164.209 109.692,184.566 108.631,199.713 \" fill=\"none\" style=\"stroke: #A80036; stroke-width: 1.0; stroke-dasharray: 7.0,7.0;\"/><polygon fill=\"none\" points=\"105.4639,144.741,113.844,125.279,119.43,145.719,105.4639,144.741\" style=\"stroke: #A80036; stroke-width: 1.0;\"/><path d=\"M165.87,121.974 C174.75,127.349 183.782,133.143 192,139 C210.001,151.828 228.679,167.242 244.841,181.344 \" fill=\"none\" style=\"stroke: #A80036; stroke-width: 1.0; stroke-dasharray: 7.0,7.0;\"/><polygon fill=\"#A80036\" points=\"248.894,184.899,244.7661,175.9569,245.1353,181.6017,239.4905,181.9709,248.894,184.899\" style=\"stroke: #A80036; stroke-width: 1.0;\"/><path d=\"M138.233,248.044 C165.959,268.5 206.45,298.374 235.417,319.7466 \" fill=\"none\" style=\"stroke: #A80036; stroke-width: 1.0; stroke-dasharray: 7.0,7.0;\"/><polygon fill=\"#A80036\" points=\"239.604,322.8361,234.7367,314.274,235.5806,319.8676,229.987,320.7114,239.604,322.8361\" style=\"stroke: #A80036; stroke-width: 1.0;\"/></g></svg>"
      ],
      "text/plain": [
       "<IPython.core.display.SVG object>"
      ]
     },
     "execution_count": 24,
     "metadata": {},
     "output_type": "execute_result"
    }
   ],
   "source": [
    "%%plantuml\n",
    "@startuml\n",
    "package \"com.j2.iterator\"{\n",
    "    'interface java.util.Iterator{\n",
    "    interface Iterator{\n",
    "        +hasNext():boolean\n",
    "        +next():Object\n",
    "    }\n",
    "    Iterator <|.. AIterator\n",
    "    Iterator <|.. BIterator\n",
    "}\n",
    "package \"com.j2.composite\"{\n",
    "    interface Aggregate{\n",
    "        +createIterator()\n",
    "    }\n",
    "    Aggregate <|.. ConcreteAggregate\n",
    "}\n",
    "Aggregate ..> Iterator\n",
    "ConcreteAggregate ..> AIterator\n",
    "\n",
    "@enduml"
   ]
  },
  {
   "cell_type": "code",
   "execution_count": 26,
   "metadata": {
    "collapsed": false
   },
   "outputs": [
    {
     "data": {
      "image/svg+xml": [
       "<svg height=\"394px\" style=\"width:615px;height:394px;\" version=\"1.1\" viewBox=\"0 0 615 394\" width=\"615px\" xmlns=\"http://www.w3.org/2000/svg\" xmlns:xlink=\"http://www.w3.org/1999/xlink\"><defs><filter height=\"300%\" id=\"f1\" width=\"300%\" x=\"-1\" y=\"-1\"><feGaussianBlur result=\"blurOut\" stdDeviation=\"2.0\"/><feColorMatrix in=\"blurOut\" result=\"blurOut2\" type=\"matrix\" values=\"0 0 0 0 0 0 0 0 0 0 0 0 0 0 0 0 0 0 .4 0\"/><feOffset dx=\"4.0\" dy=\"4.0\" in=\"blurOut2\" result=\"blurOut3\"/><feBlend in=\"SourceGraphic\" in2=\"blurOut3\" mode=\"normal\"/></filter></defs><g><polygon fill=\"#FFFFFF\" filter=\"url(#f1)\" points=\"289,147,396,147,403,172.2295,608,172.2295,608,387,289,387,289,147\" style=\"stroke: #000000; stroke-width: 2.0;\"/><line style=\"stroke: #000000; stroke-width: 2.0;\" x1=\"289\" x2=\"403\" y1=\"172.2295\" y2=\"172.2295\"/><text fill=\"#000000\" font-family=\"sans-serif\" font-size=\"14\" font-weight=\"bold\" lengthAdjust=\"spacingAndGlyphs\" textLength=\"101\" x=\"293\" y=\"165.1533\">com.j2.iterator</text><polygon fill=\"#FFFFFF\" filter=\"url(#f1)\" points=\"22,24,150,24,157,49.2295,265,49.2295,265,264,22,264,22,24\" style=\"stroke: #000000; stroke-width: 2.0;\"/><line style=\"stroke: #000000; stroke-width: 2.0;\" x1=\"22\" x2=\"157\" y1=\"49.2295\" y2=\"49.2295\"/><text fill=\"#000000\" font-family=\"sans-serif\" font-size=\"14\" font-weight=\"bold\" lengthAdjust=\"spacingAndGlyphs\" textLength=\"122\" x=\"26\" y=\"42.1533\">com.j2.composite</text><rect fill=\"#FEFECE\" filter=\"url(#f1)\" height=\"78.2178\" style=\"stroke: #A80036; stroke-width: 1.5;\" width=\"115\" x=\"312.5\" y=\"185\"/><ellipse cx=\"347.3\" cy=\"201\" fill=\"#B4A7E5\" rx=\"11\" ry=\"11\" style=\"stroke: #A80036; stroke-width: 1.0;\"/><path d=\"M345.0031,195.125 L345.0031,206.75 Q345.0031,207 345.1594,207.1563 Q345.3,207.2969 346.5188,207.2969 Q346.7219,207.2969 346.8625,207.1719 Q347.0344,207.0156 347.0344,206.75 L347.0344,195.0781 Q347.0344,194.8125 346.8625,194.6719 Q346.6438,194.4531 345.5188,194.5313 Q345.3,194.5313 345.1594,194.6875 Q345.0031,194.8438 345.0031,195.125 Z \"/><text fill=\"#000000\" font-family=\"sans-serif\" font-size=\"12\" font-style=\"italic\" lengthAdjust=\"spacingAndGlyphs\" textLength=\"39\" x=\"365.7\" y=\"206.6045\">Iterator</text><line style=\"stroke: #A80036; stroke-width: 1.5;\" x1=\"313.5\" x2=\"426.5\" y1=\"217\" y2=\"217\"/><line style=\"stroke: #A80036; stroke-width: 1.5;\" x1=\"313.5\" x2=\"426.5\" y1=\"225\" y2=\"225\"/><ellipse cx=\"323.5\" cy=\"238.0544\" fill=\"#84BE84\" rx=\"3\" ry=\"3\" style=\"stroke: #038048; stroke-width: 1.0;\"/><text fill=\"#000000\" font-family=\"sans-serif\" font-size=\"11\" lengthAdjust=\"spacingAndGlyphs\" textLength=\"89\" x=\"332.5\" y=\"241.6919\">hasNext():boolean</text><ellipse cx=\"323.5\" cy=\"253.1633\" fill=\"#84BE84\" rx=\"3\" ry=\"3\" style=\"stroke: #038048; stroke-width: 1.0;\"/><text fill=\"#000000\" font-family=\"sans-serif\" font-size=\"11\" lengthAdjust=\"spacingAndGlyphs\" textLength=\"63\" x=\"332.5\" y=\"256.8008\">next():Object</text><rect fill=\"#FEFECE\" filter=\"url(#f1)\" height=\"48\" style=\"stroke: #A80036; stroke-width: 1.5;\" width=\"130\" x=\"305\" y=\"323\"/><ellipse cx=\"320\" cy=\"339\" fill=\"#ADD1B2\" rx=\"11\" ry=\"11\" style=\"stroke: #A80036; stroke-width: 1.0;\"/><path d=\"M319.5625,332.5156 Q316.8281,332.5156 315.75,334.1406 Q314.6094,335.8594 314.6094,338.7813 Q314.6094,342.0781 315.7656,343.7813 Q316.75,345.2813 319.3594,345.2813 Q320.9375,345.2813 321.8125,344.4531 Q322.7969,343.5 322.9375,341.375 Q322.9375,341.0781 322.7656,340.9063 Q322.6406,340.75 322.4219,340.7344 Q321.2031,340.7344 321.0469,340.8594 Q320.875,341.0156 320.875,341.2813 Q320.8438,342.7656 320.1875,343.5781 Q319.5781,344.375 319.5,344.375 Q318.1719,344.375 317.3906,342.7813 Q316.6406,341.2344 316.6406,338.75 Q316.6406,336.125 317.5781,334.6719 Q318.4063,333.4219 319.6875,333.4219 Q319.6875,333.4219 320.0313,334.0469 Q320.6563,334.7188 320.7969,335.875 Q320.9063,336.4531 322.375,336.2344 Q322.9063,336.1563 322.875,335.7344 Q322.7031,334.2969 321.9844,333.4844 Q321.125,332.5156 319.5625,332.5156 Z \"/><text fill=\"#000000\" font-family=\"sans-serif\" font-size=\"12\" lengthAdjust=\"spacingAndGlyphs\" textLength=\"98\" x=\"334\" y=\"344.6045\">DinerMenuIterator</text><line style=\"stroke: #A80036; stroke-width: 1.5;\" x1=\"306\" x2=\"434\" y1=\"355\" y2=\"355\"/><line style=\"stroke: #A80036; stroke-width: 1.5;\" x1=\"306\" x2=\"434\" y1=\"363\" y2=\"363\"/><rect fill=\"#FEFECE\" filter=\"url(#f1)\" height=\"48\" style=\"stroke: #A80036; stroke-width: 1.5;\" width=\"122\" x=\"470\" y=\"323\"/><ellipse cx=\"485\" cy=\"339\" fill=\"#ADD1B2\" rx=\"11\" ry=\"11\" style=\"stroke: #A80036; stroke-width: 1.0;\"/><path d=\"M484.5625,332.5156 Q481.8281,332.5156 480.75,334.1406 Q479.6094,335.8594 479.6094,338.7813 Q479.6094,342.0781 480.7656,343.7813 Q481.75,345.2813 484.3594,345.2813 Q485.9375,345.2813 486.8125,344.4531 Q487.7969,343.5 487.9375,341.375 Q487.9375,341.0781 487.7656,340.9063 Q487.6406,340.75 487.4219,340.7344 Q486.2031,340.7344 486.0469,340.8594 Q485.875,341.0156 485.875,341.2813 Q485.8438,342.7656 485.1875,343.5781 Q484.5781,344.375 484.5,344.375 Q483.1719,344.375 482.3906,342.7813 Q481.6406,341.2344 481.6406,338.75 Q481.6406,336.125 482.5781,334.6719 Q483.4063,333.4219 484.6875,333.4219 Q484.6875,333.4219 485.0313,334.0469 Q485.6563,334.7188 485.7969,335.875 Q485.9063,336.4531 487.375,336.2344 Q487.9063,336.1563 487.875,335.7344 Q487.7031,334.2969 486.9844,333.4844 Q486.125,332.5156 484.5625,332.5156 Z \"/><text fill=\"#000000\" font-family=\"sans-serif\" font-size=\"12\" lengthAdjust=\"spacingAndGlyphs\" textLength=\"90\" x=\"499\" y=\"344.6045\">PanMenuIterator</text><line style=\"stroke: #A80036; stroke-width: 1.5;\" x1=\"471\" x2=\"591\" y1=\"355\" y2=\"355\"/><line style=\"stroke: #A80036; stroke-width: 1.5;\" x1=\"471\" x2=\"591\" y1=\"363\" y2=\"363\"/><rect fill=\"#FEFECE\" filter=\"url(#f1)\" height=\"63.1089\" style=\"stroke: #A80036; stroke-width: 1.5;\" width=\"136\" x=\"113\" y=\"62\"/><ellipse cx=\"161.75\" cy=\"78\" fill=\"#B4A7E5\" rx=\"11\" ry=\"11\" style=\"stroke: #A80036; stroke-width: 1.0;\"/><path d=\"M159.4531,72.125 L159.4531,83.75 Q159.4531,84 159.6094,84.1563 Q159.75,84.2969 160.9688,84.2969 Q161.1719,84.2969 161.3125,84.1719 Q161.4844,84.0156 161.4844,83.75 L161.4844,72.0781 Q161.4844,71.8125 161.3125,71.6719 Q161.0938,71.4531 159.9688,71.5313 Q159.75,71.5313 159.6094,71.6875 Q159.4531,71.8438 159.4531,72.125 Z \"/><text fill=\"#000000\" font-family=\"sans-serif\" font-size=\"12\" font-style=\"italic\" lengthAdjust=\"spacingAndGlyphs\" textLength=\"30\" x=\"182.25\" y=\"83.6045\">Menu</text><line style=\"stroke: #A80036; stroke-width: 1.5;\" x1=\"114\" x2=\"248\" y1=\"94\" y2=\"94\"/><line style=\"stroke: #A80036; stroke-width: 1.5;\" x1=\"114\" x2=\"248\" y1=\"102\" y2=\"102\"/><ellipse cx=\"124\" cy=\"115.0544\" fill=\"#84BE84\" rx=\"3\" ry=\"3\" style=\"stroke: #038048; stroke-width: 1.0;\"/><text fill=\"#000000\" font-family=\"sans-serif\" font-size=\"11\" lengthAdjust=\"spacingAndGlyphs\" textLength=\"110\" x=\"133\" y=\"118.6919\">createIterator():Iterator</text><rect fill=\"#FEFECE\" filter=\"url(#f1)\" height=\"48\" style=\"stroke: #A80036; stroke-width: 1.5;\" width=\"92\" x=\"38\" y=\"200\"/><ellipse cx=\"53\" cy=\"216\" fill=\"#ADD1B2\" rx=\"11\" ry=\"11\" style=\"stroke: #A80036; stroke-width: 1.0;\"/><path d=\"M52.5625,209.5156 Q49.8281,209.5156 48.75,211.1406 Q47.6094,212.8594 47.6094,215.7813 Q47.6094,219.0781 48.7656,220.7813 Q49.75,222.2813 52.3594,222.2813 Q53.9375,222.2813 54.8125,221.4531 Q55.7969,220.5 55.9375,218.375 Q55.9375,218.0781 55.7656,217.9063 Q55.6406,217.75 55.4219,217.7344 Q54.2031,217.7344 54.0469,217.8594 Q53.875,218.0156 53.875,218.2813 Q53.8438,219.7656 53.1875,220.5781 Q52.5781,221.375 52.5,221.375 Q51.1719,221.375 50.3906,219.7813 Q49.6406,218.2344 49.6406,215.75 Q49.6406,213.125 50.5781,211.6719 Q51.4063,210.4219 52.6875,210.4219 Q52.6875,210.4219 53.0313,211.0469 Q53.6563,211.7188 53.7969,212.875 Q53.9063,213.4531 55.375,213.2344 Q55.9063,213.1563 55.875,212.7344 Q55.7031,211.2969 54.9844,210.4844 Q54.125,209.5156 52.5625,209.5156 Z \"/><text fill=\"#000000\" font-family=\"sans-serif\" font-size=\"12\" lengthAdjust=\"spacingAndGlyphs\" textLength=\"60\" x=\"67\" y=\"221.6045\">DinerMenu</text><line style=\"stroke: #A80036; stroke-width: 1.5;\" x1=\"39\" x2=\"129\" y1=\"232\" y2=\"232\"/><line style=\"stroke: #A80036; stroke-width: 1.5;\" x1=\"39\" x2=\"129\" y1=\"240\" y2=\"240\"/><rect fill=\"#FEFECE\" filter=\"url(#f1)\" height=\"48\" style=\"stroke: #A80036; stroke-width: 1.5;\" width=\"84\" x=\"165\" y=\"200\"/><ellipse cx=\"180\" cy=\"216\" fill=\"#ADD1B2\" rx=\"11\" ry=\"11\" style=\"stroke: #A80036; stroke-width: 1.0;\"/><path d=\"M179.5625,209.5156 Q176.8281,209.5156 175.75,211.1406 Q174.6094,212.8594 174.6094,215.7813 Q174.6094,219.0781 175.7656,220.7813 Q176.75,222.2813 179.3594,222.2813 Q180.9375,222.2813 181.8125,221.4531 Q182.7969,220.5 182.9375,218.375 Q182.9375,218.0781 182.7656,217.9063 Q182.6406,217.75 182.4219,217.7344 Q181.2031,217.7344 181.0469,217.8594 Q180.875,218.0156 180.875,218.2813 Q180.8438,219.7656 180.1875,220.5781 Q179.5781,221.375 179.5,221.375 Q178.1719,221.375 177.3906,219.7813 Q176.6406,218.2344 176.6406,215.75 Q176.6406,213.125 177.5781,211.6719 Q178.4063,210.4219 179.6875,210.4219 Q179.6875,210.4219 180.0313,211.0469 Q180.6563,211.7188 180.7969,212.875 Q180.9063,213.4531 182.375,213.2344 Q182.9063,213.1563 182.875,212.7344 Q182.7031,211.2969 181.9844,210.4844 Q181.125,209.5156 179.5625,209.5156 Z \"/><text fill=\"#000000\" font-family=\"sans-serif\" font-size=\"12\" lengthAdjust=\"spacingAndGlyphs\" textLength=\"52\" x=\"194\" y=\"221.6045\">PanMenu</text><line style=\"stroke: #A80036; stroke-width: 1.5;\" x1=\"166\" x2=\"248\" y1=\"232\" y2=\"232\"/><line style=\"stroke: #A80036; stroke-width: 1.5;\" x1=\"166\" x2=\"248\" y1=\"240\" y2=\"240\"/><path d=\"M370,283.314 C370,297.299 370,311.4391 370,322.7416 \" fill=\"none\" style=\"stroke: #A80036; stroke-width: 1.0; stroke-dasharray: 7.0,7.0;\"/><polygon fill=\"none\" points=\"363,283.285,370,263.285,377,283.285,363,283.285\" style=\"stroke: #A80036; stroke-width: 1.0;\"/><path d=\"M436.932,275.303 C458.84,291.768 482.129,309.2706 500.053,322.7416 \" fill=\"none\" style=\"stroke: #A80036; stroke-width: 1.0; stroke-dasharray: 7.0,7.0;\"/><polygon fill=\"none\" points=\"432.724,280.897,420.941,263.285,441.135,269.705,432.724,280.897\" style=\"stroke: #A80036; stroke-width: 1.0;\"/><path d=\"M145.396,141.168 C125.865,166.997 111.879,185.665 101.3259,199.783 \" fill=\"none\" style=\"stroke: #A80036; stroke-width: 1.0; stroke-dasharray: 7.0,7.0;\"/><polygon fill=\"none\" points=\"139.899,136.832,157.553,125.114,151.06,145.284,139.899,136.832\" style=\"stroke: #A80036; stroke-width: 1.0;\"/><path d=\"M191.245,145.134 C195.06,163.99 199.207,184.485 202.288,199.713 \" fill=\"none\" style=\"stroke: #A80036; stroke-width: 1.0; stroke-dasharray: 7.0,7.0;\"/><polygon fill=\"none\" points=\"184.333,146.27,187.228,125.279,198.055,143.493,184.333,146.27\" style=\"stroke: #A80036; stroke-width: 1.0;\"/><path d=\"M241.897,125.012 C249.804,129.479 257.688,134.2 265,139 C284.503,151.805 304.782,167.414 322.257,181.686 \" fill=\"none\" style=\"stroke: #A80036; stroke-width: 1.0; stroke-dasharray: 7.0,7.0;\"/><polygon fill=\"#A80036\" points=\"326.173,184.9,321.754,176.0982,322.3081,181.7278,316.6785,182.282,326.173,184.9\" style=\"stroke: #A80036; stroke-width: 1.0;\"/><path d=\"M110.947,248.092 C121.66,256.451 134.416,265.438 147,272 C195.682,297.386 254.817,316.5339 299.956,328.9854 \" fill=\"none\" style=\"stroke: #A80036; stroke-width: 1.0; stroke-dasharray: 7.0,7.0;\"/><polygon fill=\"#A80036\" points=\"304.833,330.3198,297.2065,324.0879,300.01,329.0012,295.0967,331.8046,304.833,330.3198\" style=\"stroke: #A80036; stroke-width: 1.0;\"/><path d=\"M243.239,248.101 C257.187,256.365 273.49,265.285 289,272 C297.342,275.612 396.072,305.4909 464.814,326.1588 \" fill=\"none\" style=\"stroke: #A80036; stroke-width: 1.0; stroke-dasharray: 7.0,7.0;\"/><polygon fill=\"#A80036\" points=\"469.71,327.6304,462.2432,321.208,464.9218,326.1905,459.9393,328.8691,469.71,327.6304\" style=\"stroke: #A80036; stroke-width: 1.0;\"/></g></svg>"
      ],
      "text/plain": [
       "<IPython.core.display.SVG object>"
      ]
     },
     "execution_count": 26,
     "metadata": {},
     "output_type": "execute_result"
    }
   ],
   "source": [
    "%%plantuml\n",
    "@startuml\n",
    "package \"com.j2.iterator\"{\n",
    "    'interface java.util.Iterator{\n",
    "    interface Iterator{\n",
    "        +hasNext():boolean\n",
    "        +next():Object\n",
    "    }\n",
    "    Iterator <|.. DinerMenuIterator\n",
    "    Iterator <|.. PanMenuIterator\n",
    "}\n",
    "package \"com.j2.composite\"{\n",
    "    interface Menu{\n",
    "        +createIterator():Iterator\n",
    "    }\n",
    "    Menu <|.. DinerMenu\n",
    "    Menu <|.. PanMenu\n",
    "}\n",
    "Menu ..> Iterator\n",
    "DinerMenu ..> DinerMenuIterator\n",
    "PanMenu ..> PanMenuIterator\n",
    "@enduml"
   ]
  }
 ],
 "metadata": {
  "kernelspec": {
   "display_name": "Python 2",
   "language": "python",
   "name": "python2"
  },
  "language_info": {
   "codemirror_mode": {
    "name": "ipython",
    "version": 2
   },
   "file_extension": ".py",
   "mimetype": "text/x-python",
   "name": "python",
   "nbconvert_exporter": "python",
   "pygments_lexer": "ipython2",
   "version": "2.7.10"
  }
 },
 "nbformat": 4,
 "nbformat_minor": 0
}
