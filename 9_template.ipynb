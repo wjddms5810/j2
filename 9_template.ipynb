{
 "cells": [
  {
   "cell_type": "code",
   "execution_count": 1,
   "metadata": {
    "collapsed": false
   },
   "outputs": [
    {
     "name": "stdout",
     "output_type": "stream",
     "text": [
      "Installed plantuml_magics.py. To use it, type:\n",
      "  %load_ext plantuml_magics\n"
     ]
    },
    {
     "name": "stderr",
     "output_type": "stream",
     "text": [
      "C:\\Anaconda\\lib\\site-packages\\IPython\\core\\magics\\extension.py:47: UserWarning: %install_ext` is deprecated, please distribute your extension(s)as a python packages.\n",
      "  \"as a python packages.\", UserWarning)\n"
     ]
    }
   ],
   "source": [
    "%install_ext https://raw.githubusercontent.com/sberke/ipython-plantuml/master/plantuml_magics.py"
   ]
  },
  {
   "cell_type": "code",
   "execution_count": 2,
   "metadata": {
    "collapsed": true
   },
   "outputs": [],
   "source": [
    "%load_ext plantuml_magics"
   ]
  },
  {
   "cell_type": "code",
   "execution_count": 3,
   "metadata": {
    "collapsed": false
   },
   "outputs": [
    {
     "data": {
      "text/plain": [
       "['.\\\\plantuml.jar']"
      ]
     },
     "execution_count": 3,
     "metadata": {},
     "output_type": "execute_result"
    }
   ],
   "source": [
    "import glob\n",
    "glob.glob(r'./*.jar')"
   ]
  },
  {
   "cell_type": "code",
   "execution_count": 4,
   "metadata": {
    "collapsed": false
   },
   "outputs": [
    {
     "data": {
      "image/svg+xml": [
       "<svg height=\"279px\" style=\"width:352px;height:279px;\" version=\"1.1\" viewBox=\"0 0 352 279\" width=\"352px\" xmlns=\"http://www.w3.org/2000/svg\" xmlns:xlink=\"http://www.w3.org/1999/xlink\"><defs><filter height=\"300%\" id=\"f1\" width=\"300%\" x=\"-1\" y=\"-1\"><feGaussianBlur result=\"blurOut\" stdDeviation=\"2.0\"/><feColorMatrix in=\"blurOut\" result=\"blurOut2\" type=\"matrix\" values=\"0 0 0 0 0 0 0 0 0 0 0 0 0 0 0 0 0 0 .4 0\"/><feOffset dx=\"4.0\" dy=\"4.0\" in=\"blurOut2\" result=\"blurOut3\"/><feBlend in=\"SourceGraphic\" in2=\"blurOut3\" mode=\"normal\"/></filter></defs><g><rect fill=\"#FEFECE\" filter=\"url(#f1)\" height=\"123.5444\" style=\"stroke: #A80036; stroke-width: 1.5;\" width=\"151\" x=\"99\" y=\"8\"/><ellipse cx=\"126.6\" cy=\"24\" fill=\"#ADD1B2\" rx=\"11\" ry=\"11\" style=\"stroke: #A80036; stroke-width: 1.0;\"/><path d=\"M126.1625,17.5156 Q123.4281,17.5156 122.35,19.1406 Q121.2094,20.8594 121.2094,23.7813 Q121.2094,27.0781 122.3656,28.7813 Q123.35,30.2813 125.9594,30.2813 Q127.5375,30.2813 128.4125,29.4531 Q129.3969,28.5 129.5375,26.375 Q129.5375,26.0781 129.3656,25.9063 Q129.2406,25.75 129.0219,25.7344 Q127.8031,25.7344 127.6469,25.8594 Q127.475,26.0156 127.475,26.2813 Q127.4438,27.7656 126.7875,28.5781 Q126.1781,29.375 126.1,29.375 Q124.7719,29.375 123.9906,27.7813 Q123.2406,26.2344 123.2406,23.75 Q123.2406,21.125 124.1781,19.6719 Q125.0063,18.4219 126.2875,18.4219 Q126.2875,18.4219 126.6313,19.0469 Q127.2563,19.7188 127.3969,20.875 Q127.5063,21.4531 128.975,21.2344 Q129.5063,21.1563 129.475,20.7344 Q129.3031,19.2969 128.5844,18.4844 Q127.725,17.5156 126.1625,17.5156 Z \"/><text fill=\"#000000\" font-family=\"sans-serif\" font-size=\"12\" lengthAdjust=\"spacingAndGlyphs\" textLength=\"91\" x=\"143.4\" y=\"29.6045\">CoffeinBeverage</text><line style=\"stroke: #A80036; stroke-width: 1.5;\" x1=\"100\" x2=\"249\" y1=\"40\" y2=\"40\"/><line style=\"stroke: #A80036; stroke-width: 1.5;\" x1=\"100\" x2=\"249\" y1=\"48\" y2=\"48\"/><ellipse cx=\"110\" cy=\"61.0544\" fill=\"#84BE84\" rx=\"3\" ry=\"3\" style=\"stroke: #038048; stroke-width: 1.0;\"/><text fill=\"#000000\" font-family=\"sans-serif\" font-size=\"11\" lengthAdjust=\"spacingAndGlyphs\" textLength=\"125\" x=\"119\" y=\"64.6919\">final prepareRecipe():void</text><ellipse cx=\"110\" cy=\"76.1633\" fill=\"#84BE84\" rx=\"3\" ry=\"3\" style=\"stroke: #038048; stroke-width: 1.0;\"/><text fill=\"#000000\" font-family=\"sans-serif\" font-size=\"11\" lengthAdjust=\"spacingAndGlyphs\" textLength=\"77\" x=\"119\" y=\"79.8008\">abstract brew()</text><ellipse cx=\"110\" cy=\"91.2722\" fill=\"#84BE84\" rx=\"3\" ry=\"3\" style=\"stroke: #038048; stroke-width: 1.0;\"/><text fill=\"#000000\" font-family=\"sans-serif\" font-size=\"11\" lengthAdjust=\"spacingAndGlyphs\" textLength=\"125\" x=\"119\" y=\"94.9097\">abstract addCondiments()</text><ellipse cx=\"110\" cy=\"106.3811\" fill=\"#84BE84\" rx=\"3\" ry=\"3\" style=\"stroke: #038048; stroke-width: 1.0;\"/><text fill=\"#000000\" font-family=\"sans-serif\" font-size=\"11\" lengthAdjust=\"spacingAndGlyphs\" textLength=\"53\" x=\"119\" y=\"110.0186\">boilWater()</text><ellipse cx=\"110\" cy=\"121.49\" fill=\"#84BE84\" rx=\"3\" ry=\"3\" style=\"stroke: #038048; stroke-width: 1.0;\"/><text fill=\"#000000\" font-family=\"sans-serif\" font-size=\"11\" lengthAdjust=\"spacingAndGlyphs\" textLength=\"57\" x=\"119\" y=\"125.1274\">pourInCup()</text><rect fill=\"#FEFECE\" filter=\"url(#f1)\" height=\"78.2178\" style=\"stroke: #A80036; stroke-width: 1.5;\" width=\"151\" x=\"6\" y=\"192\"/><ellipse cx=\"59.25\" cy=\"208\" fill=\"#ADD1B2\" rx=\"11\" ry=\"11\" style=\"stroke: #A80036; stroke-width: 1.0;\"/><path d=\"M58.8125,201.5156 Q56.0781,201.5156 55,203.1406 Q53.8594,204.8594 53.8594,207.7813 Q53.8594,211.0781 55.0156,212.7813 Q56,214.2813 58.6094,214.2813 Q60.1875,214.2813 61.0625,213.4531 Q62.0469,212.5 62.1875,210.375 Q62.1875,210.0781 62.0156,209.9063 Q61.8906,209.75 61.6719,209.7344 Q60.4531,209.7344 60.2969,209.8594 Q60.125,210.0156 60.125,210.2813 Q60.0938,211.7656 59.4375,212.5781 Q58.8281,213.375 58.75,213.375 Q57.4219,213.375 56.6406,211.7813 Q55.8906,210.2344 55.8906,207.75 Q55.8906,205.125 56.8281,203.6719 Q57.6563,202.4219 58.9375,202.4219 Q58.9375,202.4219 59.2813,203.0469 Q59.9063,203.7188 60.0469,204.875 Q60.1563,205.4531 61.625,205.2344 Q62.1563,205.1563 62.125,204.7344 Q61.9531,203.2969 61.2344,202.4844 Q60.375,201.5156 58.8125,201.5156 Z \"/><text fill=\"#000000\" font-family=\"sans-serif\" font-size=\"12\" lengthAdjust=\"spacingAndGlyphs\" textLength=\"36\" x=\"79.75\" y=\"213.6045\">Coffee</text><line style=\"stroke: #A80036; stroke-width: 1.5;\" x1=\"7\" x2=\"156\" y1=\"224\" y2=\"224\"/><line style=\"stroke: #A80036; stroke-width: 1.5;\" x1=\"7\" x2=\"156\" y1=\"232\" y2=\"232\"/><ellipse cx=\"17\" cy=\"245.0544\" fill=\"#84BE84\" rx=\"3\" ry=\"3\" style=\"stroke: #038048; stroke-width: 1.0;\"/><text fill=\"#000000\" font-family=\"sans-serif\" font-size=\"11\" lengthAdjust=\"spacingAndGlyphs\" textLength=\"77\" x=\"26\" y=\"248.6919\">abstract brew()</text><ellipse cx=\"17\" cy=\"260.1633\" fill=\"#84BE84\" rx=\"3\" ry=\"3\" style=\"stroke: #038048; stroke-width: 1.0;\"/><text fill=\"#000000\" font-family=\"sans-serif\" font-size=\"11\" lengthAdjust=\"spacingAndGlyphs\" textLength=\"125\" x=\"26\" y=\"263.8008\">abstract addCondiments()</text><rect fill=\"#FEFECE\" filter=\"url(#f1)\" height=\"78.2178\" style=\"stroke: #A80036; stroke-width: 1.5;\" width=\"151\" x=\"192\" y=\"192\"/><ellipse cx=\"252.75\" cy=\"208\" fill=\"#ADD1B2\" rx=\"11\" ry=\"11\" style=\"stroke: #A80036; stroke-width: 1.0;\"/><path d=\"M252.3125,201.5156 Q249.5781,201.5156 248.5,203.1406 Q247.3594,204.8594 247.3594,207.7813 Q247.3594,211.0781 248.5156,212.7813 Q249.5,214.2813 252.1094,214.2813 Q253.6875,214.2813 254.5625,213.4531 Q255.5469,212.5 255.6875,210.375 Q255.6875,210.0781 255.5156,209.9063 Q255.3906,209.75 255.1719,209.7344 Q253.9531,209.7344 253.7969,209.8594 Q253.625,210.0156 253.625,210.2813 Q253.5938,211.7656 252.9375,212.5781 Q252.3281,213.375 252.25,213.375 Q250.9219,213.375 250.1406,211.7813 Q249.3906,210.2344 249.3906,207.75 Q249.3906,205.125 250.3281,203.6719 Q251.1563,202.4219 252.4375,202.4219 Q252.4375,202.4219 252.7813,203.0469 Q253.4063,203.7188 253.5469,204.875 Q253.6563,205.4531 255.125,205.2344 Q255.6563,205.1563 255.625,204.7344 Q255.4531,203.2969 254.7344,202.4844 Q253.875,201.5156 252.3125,201.5156 Z \"/><text fill=\"#000000\" font-family=\"sans-serif\" font-size=\"12\" lengthAdjust=\"spacingAndGlyphs\" textLength=\"21\" x=\"273.25\" y=\"213.6045\">Tea</text><line style=\"stroke: #A80036; stroke-width: 1.5;\" x1=\"193\" x2=\"342\" y1=\"224\" y2=\"224\"/><line style=\"stroke: #A80036; stroke-width: 1.5;\" x1=\"193\" x2=\"342\" y1=\"232\" y2=\"232\"/><ellipse cx=\"203\" cy=\"245.0544\" fill=\"#84BE84\" rx=\"3\" ry=\"3\" style=\"stroke: #038048; stroke-width: 1.0;\"/><text fill=\"#000000\" font-family=\"sans-serif\" font-size=\"11\" lengthAdjust=\"spacingAndGlyphs\" textLength=\"77\" x=\"212\" y=\"248.6919\">abstract brew()</text><ellipse cx=\"203\" cy=\"260.1633\" fill=\"#84BE84\" rx=\"3\" ry=\"3\" style=\"stroke: #038048; stroke-width: 1.0;\"/><text fill=\"#000000\" font-family=\"sans-serif\" font-size=\"11\" lengthAdjust=\"spacingAndGlyphs\" textLength=\"125\" x=\"212\" y=\"263.8008\">abstract addCondiments()</text><path d=\"M128.709,149.288 C120.03,164.126 111.318,179.0203 103.7832,191.9029 \" fill=\"none\" style=\"stroke: #A80036; stroke-width: 1.0;\"/><polygon fill=\"none\" points=\"122.67,145.748,138.81,132.019,134.754,152.817,122.67,145.748\" style=\"stroke: #A80036; stroke-width: 1.0;\"/><path d=\"M220.291,149.288 C228.97,164.126 237.682,179.0203 245.217,191.9029 \" fill=\"none\" style=\"stroke: #A80036; stroke-width: 1.0;\"/><polygon fill=\"none\" points=\"214.246,152.817,210.19,132.019,226.33,145.748,214.246,152.817\" style=\"stroke: #A80036; stroke-width: 1.0;\"/></g></svg>"
      ],
      "text/plain": [
       "<IPython.core.display.SVG object>"
      ]
     },
     "execution_count": 4,
     "metadata": {},
     "output_type": "execute_result"
    }
   ],
   "source": [
    "%%plantuml\n",
    "@startuml\n",
    "class CoffeinBeverage{\n",
    "    +final prepareRecipe():void\n",
    "    +abstract brew()\n",
    "    +abstract addCondiments()\n",
    "    +boilWater()\n",
    "    +pourInCup()\n",
    "}\n",
    "\n",
    "class Coffee{\n",
    "    +abstract brew()\n",
    "    +abstract addCondiments()\n",
    "}\n",
    "class Tea{\n",
    "    +abstract brew()\n",
    "    +abstract addCondiments()\n",
    "}\n",
    "CoffeinBeverage <|-- Coffee\n",
    "CoffeinBeverage <|-- Tea\n",
    "@enduml"
   ]
  },
  {
   "cell_type": "code",
   "execution_count": 8,
   "metadata": {
    "collapsed": false,
    "scrolled": true
   },
   "outputs": [
    {
     "data": {
      "image/svg+xml": [
       "<svg height=\"294px\" style=\"width:352px;height:294px;\" version=\"1.1\" viewBox=\"0 0 352 294\" width=\"352px\" xmlns=\"http://www.w3.org/2000/svg\" xmlns:xlink=\"http://www.w3.org/1999/xlink\"><defs><filter height=\"300%\" id=\"f1\" width=\"300%\" x=\"-1\" y=\"-1\"><feGaussianBlur result=\"blurOut\" stdDeviation=\"2.0\"/><feColorMatrix in=\"blurOut\" result=\"blurOut2\" type=\"matrix\" values=\"0 0 0 0 0 0 0 0 0 0 0 0 0 0 0 0 0 0 .4 0\"/><feOffset dx=\"4.0\" dy=\"4.0\" in=\"blurOut2\" result=\"blurOut3\"/><feBlend in=\"SourceGraphic\" in2=\"blurOut3\" mode=\"normal\"/></filter></defs><g><rect fill=\"#FEFECE\" filter=\"url(#f1)\" height=\"138.6533\" style=\"stroke: #A80036; stroke-width: 1.5;\" width=\"207\" x=\"71\" y=\"8\"/><ellipse cx=\"99.95\" cy=\"24\" fill=\"#ADD1B2\" rx=\"11\" ry=\"11\" style=\"stroke: #A80036; stroke-width: 1.0;\"/><path d=\"M99.5125,17.5156 Q96.7781,17.5156 95.7,19.1406 Q94.5594,20.8594 94.5594,23.7813 Q94.5594,27.0781 95.7156,28.7813 Q96.7,30.2813 99.3094,30.2813 Q100.8875,30.2813 101.7625,29.4531 Q102.7469,28.5 102.8875,26.375 Q102.8875,26.0781 102.7156,25.9063 Q102.5906,25.75 102.3719,25.7344 Q101.1531,25.7344 100.9969,25.8594 Q100.825,26.0156 100.825,26.2813 Q100.7938,27.7656 100.1375,28.5781 Q99.5281,29.375 99.45,29.375 Q98.1219,29.375 97.3406,27.7813 Q96.5906,26.2344 96.5906,23.75 Q96.5906,21.125 97.5281,19.6719 Q98.3563,18.4219 99.6375,18.4219 Q99.6375,18.4219 99.9813,19.0469 Q100.6063,19.7188 100.7469,20.875 Q100.8563,21.4531 102.325,21.2344 Q102.8563,21.1563 102.825,20.7344 Q102.6531,19.2969 101.9344,18.4844 Q101.075,17.5156 99.5125,17.5156 Z \"/><text fill=\"#000000\" font-family=\"sans-serif\" font-size=\"12\" lengthAdjust=\"spacingAndGlyphs\" textLength=\"144\" x=\"117.05\" y=\"29.6045\">CoffeinBeverageWithHook</text><line style=\"stroke: #A80036; stroke-width: 1.5;\" x1=\"72\" x2=\"277\" y1=\"40\" y2=\"40\"/><line style=\"stroke: #A80036; stroke-width: 1.5;\" x1=\"72\" x2=\"277\" y1=\"48\" y2=\"48\"/><ellipse cx=\"82\" cy=\"61.0544\" fill=\"#84BE84\" rx=\"3\" ry=\"3\" style=\"stroke: #038048; stroke-width: 1.0;\"/><text fill=\"#000000\" font-family=\"sans-serif\" font-size=\"11\" lengthAdjust=\"spacingAndGlyphs\" textLength=\"125\" x=\"91\" y=\"64.6919\">final prepareRecipe():void</text><ellipse cx=\"82\" cy=\"76.1633\" fill=\"#84BE84\" rx=\"3\" ry=\"3\" style=\"stroke: #038048; stroke-width: 1.0;\"/><text fill=\"#000000\" font-family=\"sans-serif\" font-size=\"11\" lengthAdjust=\"spacingAndGlyphs\" textLength=\"77\" x=\"91\" y=\"79.8008\">abstract brew()</text><ellipse cx=\"82\" cy=\"91.2722\" fill=\"#84BE84\" rx=\"3\" ry=\"3\" style=\"stroke: #038048; stroke-width: 1.0;\"/><text fill=\"#000000\" font-family=\"sans-serif\" font-size=\"11\" lengthAdjust=\"spacingAndGlyphs\" textLength=\"125\" x=\"91\" y=\"94.9097\">abstract addCondiments()</text><ellipse cx=\"82\" cy=\"106.3811\" fill=\"#84BE84\" rx=\"3\" ry=\"3\" style=\"stroke: #038048; stroke-width: 1.0;\"/><text fill=\"#000000\" font-family=\"sans-serif\" font-size=\"11\" lengthAdjust=\"spacingAndGlyphs\" textLength=\"53\" x=\"91\" y=\"110.0186\">boilWater()</text><ellipse cx=\"82\" cy=\"121.49\" fill=\"#84BE84\" rx=\"3\" ry=\"3\" style=\"stroke: #038048; stroke-width: 1.0;\"/><text fill=\"#000000\" font-family=\"sans-serif\" font-size=\"11\" lengthAdjust=\"spacingAndGlyphs\" textLength=\"57\" x=\"91\" y=\"125.1274\">pourInCup()</text><ellipse cx=\"82\" cy=\"136.5989\" fill=\"#84BE84\" rx=\"3\" ry=\"3\" style=\"stroke: #038048; stroke-width: 1.0;\"/><text fill=\"#000000\" font-family=\"sans-serif\" font-size=\"11\" lengthAdjust=\"spacingAndGlyphs\" textLength=\"181\" x=\"91\" y=\"140.2363\">customerWantsCondiments():boolean</text><rect fill=\"#FEFECE\" filter=\"url(#f1)\" height=\"78.2178\" style=\"stroke: #A80036; stroke-width: 1.5;\" width=\"151\" x=\"6\" y=\"207\"/><ellipse cx=\"34.5\" cy=\"223\" fill=\"#ADD1B2\" rx=\"11\" ry=\"11\" style=\"stroke: #A80036; stroke-width: 1.0;\"/><path d=\"M34.0625,216.5156 Q31.3281,216.5156 30.25,218.1406 Q29.1094,219.8594 29.1094,222.7813 Q29.1094,226.0781 30.2656,227.7813 Q31.25,229.2813 33.8594,229.2813 Q35.4375,229.2813 36.3125,228.4531 Q37.2969,227.5 37.4375,225.375 Q37.4375,225.0781 37.2656,224.9063 Q37.1406,224.75 36.9219,224.7344 Q35.7031,224.7344 35.5469,224.8594 Q35.375,225.0156 35.375,225.2813 Q35.3438,226.7656 34.6875,227.5781 Q34.0781,228.375 34,228.375 Q32.6719,228.375 31.8906,226.7813 Q31.1406,225.2344 31.1406,222.75 Q31.1406,220.125 32.0781,218.6719 Q32.9063,217.4219 34.1875,217.4219 Q34.1875,217.4219 34.5313,218.0469 Q35.1563,218.7188 35.2969,219.875 Q35.4063,220.4531 36.875,220.2344 Q37.4063,220.1563 37.375,219.7344 Q37.2031,218.2969 36.4844,217.4844 Q35.625,216.5156 34.0625,216.5156 Z \"/><text fill=\"#000000\" font-family=\"sans-serif\" font-size=\"12\" lengthAdjust=\"spacingAndGlyphs\" textLength=\"89\" x=\"51.5\" y=\"228.6045\">CoffeeWithHook</text><line style=\"stroke: #A80036; stroke-width: 1.5;\" x1=\"7\" x2=\"156\" y1=\"239\" y2=\"239\"/><line style=\"stroke: #A80036; stroke-width: 1.5;\" x1=\"7\" x2=\"156\" y1=\"247\" y2=\"247\"/><ellipse cx=\"17\" cy=\"260.0544\" fill=\"#84BE84\" rx=\"3\" ry=\"3\" style=\"stroke: #038048; stroke-width: 1.0;\"/><text fill=\"#000000\" font-family=\"sans-serif\" font-size=\"11\" lengthAdjust=\"spacingAndGlyphs\" textLength=\"77\" x=\"26\" y=\"263.6919\">abstract brew()</text><ellipse cx=\"17\" cy=\"275.1633\" fill=\"#84BE84\" rx=\"3\" ry=\"3\" style=\"stroke: #038048; stroke-width: 1.0;\"/><text fill=\"#000000\" font-family=\"sans-serif\" font-size=\"11\" lengthAdjust=\"spacingAndGlyphs\" textLength=\"125\" x=\"26\" y=\"278.8008\">abstract addCondiments()</text><rect fill=\"#FEFECE\" filter=\"url(#f1)\" height=\"78.2178\" style=\"stroke: #A80036; stroke-width: 1.5;\" width=\"151\" x=\"192\" y=\"207\"/><ellipse cx=\"227.25\" cy=\"223\" fill=\"#ADD1B2\" rx=\"11\" ry=\"11\" style=\"stroke: #A80036; stroke-width: 1.0;\"/><path d=\"M226.8125,216.5156 Q224.0781,216.5156 223,218.1406 Q221.8594,219.8594 221.8594,222.7813 Q221.8594,226.0781 223.0156,227.7813 Q224,229.2813 226.6094,229.2813 Q228.1875,229.2813 229.0625,228.4531 Q230.0469,227.5 230.1875,225.375 Q230.1875,225.0781 230.0156,224.9063 Q229.8906,224.75 229.6719,224.7344 Q228.4531,224.7344 228.2969,224.8594 Q228.125,225.0156 228.125,225.2813 Q228.0938,226.7656 227.4375,227.5781 Q226.8281,228.375 226.75,228.375 Q225.4219,228.375 224.6406,226.7813 Q223.8906,225.2344 223.8906,222.75 Q223.8906,220.125 224.8281,218.6719 Q225.6563,217.4219 226.9375,217.4219 Q226.9375,217.4219 227.2813,218.0469 Q227.9063,218.7188 228.0469,219.875 Q228.1563,220.4531 229.625,220.2344 Q230.1563,220.1563 230.125,219.7344 Q229.9531,218.2969 229.2344,217.4844 Q228.375,216.5156 226.8125,216.5156 Z \"/><text fill=\"#000000\" font-family=\"sans-serif\" font-size=\"12\" lengthAdjust=\"spacingAndGlyphs\" textLength=\"74\" x=\"245.75\" y=\"228.6045\">TeaWithHook</text><line style=\"stroke: #A80036; stroke-width: 1.5;\" x1=\"193\" x2=\"342\" y1=\"239\" y2=\"239\"/><line style=\"stroke: #A80036; stroke-width: 1.5;\" x1=\"193\" x2=\"342\" y1=\"247\" y2=\"247\"/><ellipse cx=\"203\" cy=\"260.0544\" fill=\"#84BE84\" rx=\"3\" ry=\"3\" style=\"stroke: #038048; stroke-width: 1.0;\"/><text fill=\"#000000\" font-family=\"sans-serif\" font-size=\"11\" lengthAdjust=\"spacingAndGlyphs\" textLength=\"77\" x=\"212\" y=\"263.6919\">abstract brew()</text><ellipse cx=\"203\" cy=\"275.1633\" fill=\"#84BE84\" rx=\"3\" ry=\"3\" style=\"stroke: #038048; stroke-width: 1.0;\"/><text fill=\"#000000\" font-family=\"sans-serif\" font-size=\"11\" lengthAdjust=\"spacingAndGlyphs\" textLength=\"125\" x=\"212\" y=\"278.8008\">abstract addCondiments()</text><path d=\"M126.144,165.073 C117.926,179.785 109.786,194.3586 102.7523,206.9516 \" fill=\"none\" style=\"stroke: #A80036; stroke-width: 1.0;\"/><polygon fill=\"none\" points=\"120.272,161.231,136.136,147.183,132.495,168.058,120.272,161.231\" style=\"stroke: #A80036; stroke-width: 1.0;\"/><path d=\"M222.856,165.073 C231.074,179.785 239.214,194.3586 246.248,206.9516 \" fill=\"none\" style=\"stroke: #A80036; stroke-width: 1.0;\"/><polygon fill=\"none\" points=\"216.505,168.058,212.864,147.183,228.728,161.231,216.505,168.058\" style=\"stroke: #A80036; stroke-width: 1.0;\"/></g></svg>"
      ],
      "text/plain": [
       "<IPython.core.display.SVG object>"
      ]
     },
     "execution_count": 8,
     "metadata": {},
     "output_type": "execute_result"
    }
   ],
   "source": [
    "%%plantuml\n",
    "@startuml\n",
    "class CoffeinBeverageWithHook{\n",
    "    +final prepareRecipe():void\n",
    "    +abstract brew()\n",
    "    +abstract addCondiments()\n",
    "    +boilWater()\n",
    "    +pourInCup()\n",
    "    +customerWantsCondiments():boolean\n",
    "}\n",
    "\n",
    "class CoffeeWithHook{\n",
    "    +abstract brew()\n",
    "    +abstract addCondiments()\n",
    "}\n",
    "class TeaWithHook{\n",
    "    +abstract brew()\n",
    "    +abstract addCondiments()\n",
    "}\n",
    "CoffeinBeverageWithHook <|-- CoffeeWithHook\n",
    "CoffeinBeverageWithHook <|-- TeaWithHook\n",
    "@enduml"
   ]
  },
  {
   "cell_type": "code",
   "execution_count": 11,
   "metadata": {
    "collapsed": false
   },
   "outputs": [
    {
     "data": {
      "image/svg+xml": [
       "<svg height=\"379px\" style=\"width:183px;height:379px;\" version=\"1.1\" viewBox=\"0 0 183 379\" width=\"183px\" xmlns=\"http://www.w3.org/2000/svg\" xmlns:xlink=\"http://www.w3.org/1999/xlink\"><defs><filter height=\"300%\" id=\"f1\" width=\"300%\" x=\"-1\" y=\"-1\"><feGaussianBlur result=\"blurOut\" stdDeviation=\"2.0\"/><feColorMatrix in=\"blurOut\" result=\"blurOut2\" type=\"matrix\" values=\"0 0 0 0 0 0 0 0 0 0 0 0 0 0 0 0 0 0 .4 0\"/><feOffset dx=\"4.0\" dy=\"4.0\" in=\"blurOut2\" result=\"blurOut3\"/><feBlend in=\"SourceGraphic\" in2=\"blurOut3\" mode=\"normal\"/></filter></defs><g><polygon fill=\"#FFFFFF\" filter=\"url(#f1)\" points=\"32,24,101,24,108,49.2295,166,49.2295,166,141,32,141,32,24\" style=\"stroke: #000000; stroke-width: 2.0;\"/><line style=\"stroke: #000000; stroke-width: 2.0;\" x1=\"32\" x2=\"108\" y1=\"49.2295\" y2=\"49.2295\"/><text fill=\"#000000\" font-family=\"sans-serif\" font-size=\"14\" font-weight=\"bold\" lengthAdjust=\"spacingAndGlyphs\" textLength=\"63\" x=\"36\" y=\"42.1533\">java.lang</text><polygon fill=\"#FFFFFF\" filter=\"url(#f1)\" points=\"22,255,83,255,90,280.2295,176,280.2295,176,372,22,372,22,255\" style=\"stroke: #000000; stroke-width: 2.0;\"/><line style=\"stroke: #000000; stroke-width: 2.0;\" x1=\"22\" x2=\"90\" y1=\"280.2295\" y2=\"280.2295\"/><text fill=\"#000000\" font-family=\"sans-serif\" font-size=\"14\" font-weight=\"bold\" lengthAdjust=\"spacingAndGlyphs\" textLength=\"55\" x=\"26\" y=\"273.1533\">java.util</text><rect fill=\"#FEFECE\" filter=\"url(#f1)\" height=\"63.1089\" style=\"stroke: #A80036; stroke-width: 1.5;\" width=\"102\" x=\"48\" y=\"62\"/><ellipse cx=\"63\" cy=\"78\" fill=\"#B4A7E5\" rx=\"11\" ry=\"11\" style=\"stroke: #A80036; stroke-width: 1.0;\"/><path d=\"M60.7031,72.125 L60.7031,83.75 Q60.7031,84 60.8594,84.1563 Q61,84.2969 62.2188,84.2969 Q62.4219,84.2969 62.5625,84.1719 Q62.7344,84.0156 62.7344,83.75 L62.7344,72.0781 Q62.7344,71.8125 62.5625,71.6719 Q62.3438,71.4531 61.2188,71.5313 Q61,71.5313 60.8594,71.6875 Q60.7031,71.8438 60.7031,72.125 Z \"/><text fill=\"#000000\" font-family=\"sans-serif\" font-size=\"12\" font-style=\"italic\" lengthAdjust=\"spacingAndGlyphs\" textLength=\"70\" x=\"77\" y=\"83.6045\">Comparable</text><line style=\"stroke: #A80036; stroke-width: 1.5;\" x1=\"49\" x2=\"149\" y1=\"94\" y2=\"94\"/><line style=\"stroke: #A80036; stroke-width: 1.5;\" x1=\"49\" x2=\"149\" y1=\"102\" y2=\"102\"/><text fill=\"#000000\" font-family=\"sans-serif\" font-size=\"11\" lengthAdjust=\"spacingAndGlyphs\" textLength=\"82\" x=\"54\" y=\"118.6919\">compareTo(T):int</text><rect fill=\"#FEFECE\" filter=\"url(#f1)\" height=\"63.1089\" style=\"stroke: #A80036; stroke-width: 1.5;\" width=\"122\" x=\"38\" y=\"293\"/><ellipse cx=\"78.2\" cy=\"309\" fill=\"#ADD1B2\" rx=\"11\" ry=\"11\" style=\"stroke: #A80036; stroke-width: 1.0;\"/><path d=\"M77.7625,302.5156 Q75.0281,302.5156 73.95,304.1406 Q72.8094,305.8594 72.8094,308.7813 Q72.8094,312.0781 73.9656,313.7813 Q74.95,315.2813 77.5594,315.2813 Q79.1375,315.2813 80.0125,314.4531 Q80.9969,313.5 81.1375,311.375 Q81.1375,311.0781 80.9656,310.9063 Q80.8406,310.75 80.6219,310.7344 Q79.4031,310.7344 79.2469,310.8594 Q79.075,311.0156 79.075,311.2813 Q79.0438,312.7656 78.3875,313.5781 Q77.7781,314.375 77.7,314.375 Q76.3719,314.375 75.5906,312.7813 Q74.8406,311.2344 74.8406,308.75 Q74.8406,306.125 75.7781,304.6719 Q76.6063,303.4219 77.8875,303.4219 Q77.8875,303.4219 78.2313,304.0469 Q78.8563,304.7188 78.9969,305.875 Q79.1063,306.4531 80.575,306.2344 Q81.1063,306.1563 81.075,305.7344 Q80.9031,304.2969 80.1844,303.4844 Q79.325,302.5156 77.7625,302.5156 Z \"/><text fill=\"#000000\" font-family=\"sans-serif\" font-size=\"12\" lengthAdjust=\"spacingAndGlyphs\" textLength=\"34\" x=\"97.8\" y=\"314.6045\">Arrays</text><line style=\"stroke: #A80036; stroke-width: 1.5;\" x1=\"39\" x2=\"159\" y1=\"325\" y2=\"325\"/><line style=\"stroke: #A80036; stroke-width: 1.5;\" x1=\"39\" x2=\"159\" y1=\"333\" y2=\"333\"/><text fill=\"#000000\" font-family=\"sans-serif\" font-size=\"11\" lengthAdjust=\"spacingAndGlyphs\" textLength=\"110\" x=\"44\" y=\"349.6919\">static sort(Object):void</text><rect fill=\"#FEFECE\" filter=\"url(#f1)\" height=\"48\" style=\"stroke: #A80036; stroke-width: 1.5;\" width=\"60\" x=\"69\" y=\"185\"/><ellipse cx=\"84\" cy=\"201\" fill=\"#ADD1B2\" rx=\"11\" ry=\"11\" style=\"stroke: #A80036; stroke-width: 1.0;\"/><path d=\"M83.5625,194.5156 Q80.8281,194.5156 79.75,196.1406 Q78.6094,197.8594 78.6094,200.7813 Q78.6094,204.0781 79.7656,205.7813 Q80.75,207.2813 83.3594,207.2813 Q84.9375,207.2813 85.8125,206.4531 Q86.7969,205.5 86.9375,203.375 Q86.9375,203.0781 86.7656,202.9063 Q86.6406,202.75 86.4219,202.7344 Q85.2031,202.7344 85.0469,202.8594 Q84.875,203.0156 84.875,203.2813 Q84.8438,204.7656 84.1875,205.5781 Q83.5781,206.375 83.5,206.375 Q82.1719,206.375 81.3906,204.7813 Q80.6406,203.2344 80.6406,200.75 Q80.6406,198.125 81.5781,196.6719 Q82.4063,195.4219 83.6875,195.4219 Q83.6875,195.4219 84.0313,196.0469 Q84.6563,196.7188 84.7969,197.875 Q84.9063,198.4531 86.375,198.2344 Q86.9063,198.1563 86.875,197.7344 Q86.7031,196.2969 85.9844,195.4844 Q85.125,194.5156 83.5625,194.5156 Z \"/><text fill=\"#000000\" font-family=\"sans-serif\" font-size=\"12\" lengthAdjust=\"spacingAndGlyphs\" textLength=\"28\" x=\"98\" y=\"206.6045\">Duck</text><line style=\"stroke: #A80036; stroke-width: 1.5;\" x1=\"70\" x2=\"128\" y1=\"217\" y2=\"217\"/><line style=\"stroke: #A80036; stroke-width: 1.5;\" x1=\"70\" x2=\"128\" y1=\"225\" y2=\"225\"/><path d=\"M99,145.354 C99,159.143 99,173.401 99,184.825 \" fill=\"none\" style=\"stroke: #A80036; stroke-width: 1.0; stroke-dasharray: 7.0,7.0;\"/><polygon fill=\"none\" points=\"92.0001,145.215,99,125.215,106,145.215,92.0001,145.215\" style=\"stroke: #A80036; stroke-width: 1.0;\"/><path d=\"M99,233.242 C99,248.876 99,269.797 99,287.56 \" fill=\"none\" style=\"stroke: #A80036; stroke-width: 1.0;\"/><polygon fill=\"#A80036\" points=\"99,292.9616,103,283.9616,99,287.9616,95,283.9616,99,292.9616\" style=\"stroke: #A80036; stroke-width: 1.0;\"/></g></svg>"
      ],
      "text/plain": [
       "<IPython.core.display.SVG object>"
      ]
     },
     "execution_count": 11,
     "metadata": {},
     "output_type": "execute_result"
    }
   ],
   "source": [
    "%%plantuml\n",
    "@startuml\n",
    "interface java.lang.Comparable{\n",
    "    compareTo(T):int\n",
    "}\n",
    "class java.util.Arrays{\n",
    "    static sort(Object):void\n",
    "}\n",
    "class Duck  \n",
    "java.lang.Comparable <|.. Duck\n",
    "Duck ->java.util.Arrays\n",
    "@enduml"
   ]
  }
 ],
 "metadata": {
  "kernelspec": {
   "display_name": "Python 2",
   "language": "python",
   "name": "python2"
  },
  "language_info": {
   "codemirror_mode": {
    "name": "ipython",
    "version": 2
   },
   "file_extension": ".py",
   "mimetype": "text/x-python",
   "name": "python",
   "nbconvert_exporter": "python",
   "pygments_lexer": "ipython2",
   "version": "2.7.10"
  }
 },
 "nbformat": 4,
 "nbformat_minor": 0
}
