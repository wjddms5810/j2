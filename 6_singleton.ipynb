{
 "cells": [
  {
   "cell_type": "code",
   "execution_count": 1,
   "metadata": {
    "collapsed": false
   },
   "outputs": [
    {
     "name": "stdout",
     "output_type": "stream",
     "text": [
      "Installed plantuml_magics.py. To use it, type:\n",
      "  %load_ext plantuml_magics\n"
     ]
    },
    {
     "name": "stderr",
     "output_type": "stream",
     "text": [
      "C:\\Anaconda\\lib\\site-packages\\IPython\\core\\magics\\extension.py:47: UserWarning: %install_ext` is deprecated, please distribute your extension(s)as a python packages.\n",
      "  \"as a python packages.\", UserWarning)\n"
     ]
    }
   ],
   "source": [
    "%install_ext https://raw.githubusercontent.com/sberke/ipython-plantuml/master/plantuml_magics.py\n"
   ]
  },
  {
   "cell_type": "code",
   "execution_count": 2,
   "metadata": {
    "collapsed": true
   },
   "outputs": [],
   "source": [
    "%load_ext plantuml_magics"
   ]
  },
  {
   "cell_type": "code",
   "execution_count": 3,
   "metadata": {
    "collapsed": false
   },
   "outputs": [
    {
     "data": {
      "text/plain": [
       "['.\\\\plantuml.jar']"
      ]
     },
     "execution_count": 3,
     "metadata": {},
     "output_type": "execute_result"
    }
   ],
   "source": [
    "import glob\n",
    "glob.glob(r'./*.jar')"
   ]
  },
  {
   "cell_type": "code",
   "execution_count": 4,
   "metadata": {
    "collapsed": false
   },
   "outputs": [
    {
     "data": {
      "image/svg+xml": [
       "<svg height=\"155px\" style=\"width:192px;height:155px;\" version=\"1.1\" viewBox=\"0 0 192 155\" width=\"192px\" xmlns=\"http://www.w3.org/2000/svg\" xmlns:xlink=\"http://www.w3.org/1999/xlink\"><defs><filter height=\"300%\" id=\"f1\" width=\"300%\" x=\"-1\" y=\"-1\"><feGaussianBlur result=\"blurOut\" stdDeviation=\"2.0\"/><feColorMatrix in=\"blurOut\" result=\"blurOut2\" type=\"matrix\" values=\"0 0 0 0 0 0 0 0 0 0 0 0 0 0 0 0 0 0 .4 0\"/><feOffset dx=\"4.0\" dy=\"4.0\" in=\"blurOut2\" result=\"blurOut3\"/><feBlend in=\"SourceGraphic\" in2=\"blurOut3\" mode=\"normal\"/></filter></defs><g><rect fill=\"#FEFECE\" filter=\"url(#f1)\" height=\"138.6533\" style=\"stroke: #A80036; stroke-width: 1.5;\" width=\"177\" x=\"6\" y=\"8\"/><ellipse cx=\"46.65\" cy=\"24\" fill=\"#ADD1B2\" rx=\"11\" ry=\"11\" style=\"stroke: #A80036; stroke-width: 1.0;\"/><path d=\"M46.2125,17.5156 Q43.4781,17.5156 42.4,19.1406 Q41.2594,20.8594 41.2594,23.7813 Q41.2594,27.0781 42.4156,28.7813 Q43.4,30.2813 46.0094,30.2813 Q47.5875,30.2813 48.4625,29.4531 Q49.4469,28.5 49.5875,26.375 Q49.5875,26.0781 49.4156,25.9063 Q49.2906,25.75 49.0719,25.7344 Q47.8531,25.7344 47.6969,25.8594 Q47.525,26.0156 47.525,26.2813 Q47.4938,27.7656 46.8375,28.5781 Q46.2281,29.375 46.15,29.375 Q44.8219,29.375 44.0406,27.7813 Q43.2906,26.2344 43.2906,23.75 Q43.2906,21.125 44.2281,19.6719 Q45.0563,18.4219 46.3375,18.4219 Q46.3375,18.4219 46.6813,19.0469 Q47.3063,19.7188 47.4469,20.875 Q47.5563,21.4531 49.025,21.2344 Q49.5563,21.1563 49.525,20.7344 Q49.3531,19.2969 48.6344,18.4844 Q47.775,17.5156 46.2125,17.5156 Z \"/><text fill=\"#000000\" font-family=\"sans-serif\" font-size=\"12\" lengthAdjust=\"spacingAndGlyphs\" textLength=\"88\" x=\"66.35\" y=\"29.6045\">ChocolateBoiler</text><line style=\"stroke: #A80036; stroke-width: 1.5;\" x1=\"7\" x2=\"182\" y1=\"40\" y2=\"40\"/><rect fill=\"none\" height=\"6\" style=\"stroke: #C82930; stroke-width: 1.0;\" width=\"6\" x=\"14\" y=\"50.0544\"/><text fill=\"#000000\" font-family=\"sans-serif\" font-size=\"11\" lengthAdjust=\"spacingAndGlyphs\" textLength=\"151\" x=\"26\" y=\"56.6919\">static instantce:ChocolateBoiler</text><line style=\"stroke: #A80036; stroke-width: 1.5;\" x1=\"7\" x2=\"182\" y1=\"63.1089\" y2=\"63.1089\"/><rect fill=\"#F24D5C\" height=\"6\" style=\"stroke: #C82930; stroke-width: 1.0;\" width=\"6\" x=\"14\" y=\"73.1633\"/><text fill=\"#000000\" font-family=\"sans-serif\" font-size=\"11\" lengthAdjust=\"spacingAndGlyphs\" textLength=\"106\" x=\"26\" y=\"79.8008\">ChocolateBoiler():void</text><ellipse cx=\"17\" cy=\"91.2722\" fill=\"#84BE84\" rx=\"3\" ry=\"3\" style=\"stroke: #038048; stroke-width: 1.0;\"/><text fill=\"#000000\" font-family=\"sans-serif\" font-size=\"11\" lengthAdjust=\"spacingAndGlyphs\" textLength=\"142\" x=\"26\" y=\"94.9097\">getInstance():ChocolateBoiler</text><ellipse cx=\"17\" cy=\"106.3811\" fill=\"#84BE84\" rx=\"3\" ry=\"3\" style=\"stroke: #038048; stroke-width: 1.0;\"/><text fill=\"#000000\" font-family=\"sans-serif\" font-size=\"11\" lengthAdjust=\"spacingAndGlyphs\" textLength=\"18\" x=\"26\" y=\"110.0186\">fill()</text><ellipse cx=\"17\" cy=\"121.49\" fill=\"#84BE84\" rx=\"3\" ry=\"3\" style=\"stroke: #038048; stroke-width: 1.0;\"/><text fill=\"#000000\" font-family=\"sans-serif\" font-size=\"11\" lengthAdjust=\"spacingAndGlyphs\" textLength=\"24\" x=\"26\" y=\"125.1274\">boil()</text><ellipse cx=\"17\" cy=\"136.5989\" fill=\"#84BE84\" rx=\"3\" ry=\"3\" style=\"stroke: #038048; stroke-width: 1.0;\"/><text fill=\"#000000\" font-family=\"sans-serif\" font-size=\"11\" lengthAdjust=\"spacingAndGlyphs\" textLength=\"32\" x=\"26\" y=\"140.2363\">drain()</text></g></svg>"
      ],
      "text/plain": [
       "<IPython.core.display.SVG object>"
      ]
     },
     "execution_count": 4,
     "metadata": {},
     "output_type": "execute_result"
    }
   ],
   "source": [
    "%%plantuml\n",
    "@startuml\n",
    "class ChocolateBoiler{\n",
    "    -static instantce:ChocolateBoiler\n",
    "    -ChocolateBoiler():void\n",
    "    +getInstance():ChocolateBoiler\n",
    "    +fill()\n",
    "    +boil()\n",
    "    +drain()\n",
    "}\n",
    "\n",
    "@enduml\n"
   ]
  },
  {
   "cell_type": "code",
   "execution_count": 5,
   "metadata": {
    "collapsed": false
   },
   "outputs": [
    {
     "data": {
      "image/svg+xml": [
       "<svg height=\"229px\" style=\"width:245px;height:229px;\" version=\"1.1\" viewBox=\"0 0 245 229\" width=\"245px\" xmlns=\"http://www.w3.org/2000/svg\" xmlns:xlink=\"http://www.w3.org/1999/xlink\"><defs><filter height=\"300%\" id=\"f1\" width=\"300%\" x=\"-1\" y=\"-1\"><feGaussianBlur result=\"blurOut\" stdDeviation=\"2.0\"/><feColorMatrix in=\"blurOut\" result=\"blurOut2\" type=\"matrix\" values=\"0 0 0 0 0 0 0 0 0 0 0 0 0 0 0 0 0 0 .4 0\"/><feOffset dx=\"4.0\" dy=\"4.0\" in=\"blurOut2\" result=\"blurOut3\"/><feBlend in=\"SourceGraphic\" in2=\"blurOut3\" mode=\"normal\"/></filter></defs><g><line style=\"stroke: #A80036; stroke-width: 1.0; stroke-dasharray: 5.0,5.0;\" x1=\"35\" x2=\"35\" y1=\"41.2295\" y2=\"188.6533\"/><line style=\"stroke: #A80036; stroke-width: 1.0; stroke-dasharray: 5.0,5.0;\" x1=\"181\" x2=\"181\" y1=\"41.2295\" y2=\"188.6533\"/><rect fill=\"#FEFECE\" filter=\"url(#f1)\" height=\"33.2295\" style=\"stroke: #A80036; stroke-width: 1.5;\" width=\"50\" x=\"8\" y=\"3\"/><text fill=\"#000000\" font-family=\"sans-serif\" font-size=\"14\" lengthAdjust=\"spacingAndGlyphs\" textLength=\"36\" x=\"15\" y=\"26.1533\">Client</text><rect fill=\"#FEFECE\" filter=\"url(#f1)\" height=\"33.2295\" style=\"stroke: #A80036; stroke-width: 1.5;\" width=\"50\" x=\"8\" y=\"187.6533\"/><text fill=\"#000000\" font-family=\"sans-serif\" font-size=\"14\" lengthAdjust=\"spacingAndGlyphs\" textLength=\"36\" x=\"15\" y=\"210.8066\">Client</text><rect fill=\"#FEFECE\" filter=\"url(#f1)\" height=\"33.2295\" style=\"stroke: #A80036; stroke-width: 1.5;\" width=\"114\" x=\"122\" y=\"3\"/><text fill=\"#000000\" font-family=\"sans-serif\" font-size=\"14\" lengthAdjust=\"spacingAndGlyphs\" textLength=\"100\" x=\"129\" y=\"26.1533\">ChocolateBoiler</text><rect fill=\"#FEFECE\" filter=\"url(#f1)\" height=\"33.2295\" style=\"stroke: #A80036; stroke-width: 1.5;\" width=\"114\" x=\"122\" y=\"187.6533\"/><text fill=\"#000000\" font-family=\"sans-serif\" font-size=\"14\" lengthAdjust=\"spacingAndGlyphs\" textLength=\"100\" x=\"129\" y=\"210.8066\">ChocolateBoiler</text><polygon fill=\"#A80036\" points=\"169,70.2295,179,74.2295,169,78.2295,173,74.2295\" style=\"stroke: #A80036; stroke-width: 1.0;\"/><line style=\"stroke: #A80036; stroke-width: 1.0;\" x1=\"35\" x2=\"175\" y1=\"74.2295\" y2=\"74.2295\"/><text fill=\"#000000\" font-family=\"sans-serif\" font-size=\"13\" lengthAdjust=\"spacingAndGlyphs\" textLength=\"122\" x=\"42\" y=\"70.229\">boiler = getInstance()</text><polygon fill=\"#A80036\" points=\"169,102.0854,179,106.0854,169,110.0854,173,106.0854\" style=\"stroke: #A80036; stroke-width: 1.0;\"/><line style=\"stroke: #A80036; stroke-width: 1.0;\" x1=\"35\" x2=\"175\" y1=\"106.0854\" y2=\"106.0854\"/><text fill=\"#000000\" font-family=\"sans-serif\" font-size=\"13\" lengthAdjust=\"spacingAndGlyphs\" textLength=\"20\" x=\"42\" y=\"102.085\">fill()</text><polygon fill=\"#A80036\" points=\"169,133.9414,179,137.9414,169,141.9414,173,137.9414\" style=\"stroke: #A80036; stroke-width: 1.0;\"/><line style=\"stroke: #A80036; stroke-width: 1.0;\" x1=\"35\" x2=\"175\" y1=\"137.9414\" y2=\"137.9414\"/><text fill=\"#000000\" font-family=\"sans-serif\" font-size=\"13\" lengthAdjust=\"spacingAndGlyphs\" textLength=\"28\" x=\"42\" y=\"133.9409\">boil()</text><polygon fill=\"#A80036\" points=\"169,165.7974,179,169.7974,169,173.7974,173,169.7974\" style=\"stroke: #A80036; stroke-width: 1.0;\"/><line style=\"stroke: #A80036; stroke-width: 1.0;\" x1=\"35\" x2=\"175\" y1=\"169.7974\" y2=\"169.7974\"/><text fill=\"#000000\" font-family=\"sans-serif\" font-size=\"13\" lengthAdjust=\"spacingAndGlyphs\" textLength=\"36\" x=\"42\" y=\"165.7969\">drain()</text></g></svg>"
      ],
      "text/plain": [
       "<IPython.core.display.SVG object>"
      ]
     },
     "execution_count": 5,
     "metadata": {},
     "output_type": "execute_result"
    }
   ],
   "source": [
    "%%plantuml\n",
    "@startuml\n",
    "Client -> ChocolateBoiler:boiler = getInstance()\n",
    "Client -> ChocolateBoiler: fill()\n",
    "Client -> ChocolateBoiler: boil()\n",
    "Client -> ChocolateBoiler: drain()\n",
    "@enduml"
   ]
  },
  {
   "cell_type": "code",
   "execution_count": 7,
   "metadata": {
    "collapsed": false
   },
   "outputs": [
    {
     "data": {
      "image/svg+xml": [
       "<svg height=\"110px\" style=\"width:181px;height:110px;\" version=\"1.1\" viewBox=\"0 0 181 110\" width=\"181px\" xmlns=\"http://www.w3.org/2000/svg\" xmlns:xlink=\"http://www.w3.org/1999/xlink\"><defs><filter height=\"300%\" id=\"f1\" width=\"300%\" x=\"-1\" y=\"-1\"><feGaussianBlur result=\"blurOut\" stdDeviation=\"2.0\"/><feColorMatrix in=\"blurOut\" result=\"blurOut2\" type=\"matrix\" values=\"0 0 0 0 0 0 0 0 0 0 0 0 0 0 0 0 0 0 .4 0\"/><feOffset dx=\"4.0\" dy=\"4.0\" in=\"blurOut2\" result=\"blurOut3\"/><feBlend in=\"SourceGraphic\" in2=\"blurOut3\" mode=\"normal\"/></filter></defs><g><rect fill=\"#FEFECE\" filter=\"url(#f1)\" height=\"93.3267\" style=\"stroke: #A80036; stroke-width: 1.5;\" width=\"166\" x=\"6\" y=\"8\"/><ellipse cx=\"58.75\" cy=\"24\" fill=\"#ADD1B2\" rx=\"11\" ry=\"11\" style=\"stroke: #A80036; stroke-width: 1.0;\"/><path d=\"M58.3125,17.5156 Q55.5781,17.5156 54.5,19.1406 Q53.3594,20.8594 53.3594,23.7813 Q53.3594,27.0781 54.5156,28.7813 Q55.5,30.2813 58.1094,30.2813 Q59.6875,30.2813 60.5625,29.4531 Q61.5469,28.5 61.6875,26.375 Q61.6875,26.0781 61.5156,25.9063 Q61.3906,25.75 61.1719,25.7344 Q59.9531,25.7344 59.7969,25.8594 Q59.625,26.0156 59.625,26.2813 Q59.5938,27.7656 58.9375,28.5781 Q58.3281,29.375 58.25,29.375 Q56.9219,29.375 56.1406,27.7813 Q55.3906,26.2344 55.3906,23.75 Q55.3906,21.125 56.3281,19.6719 Q57.1563,18.4219 58.4375,18.4219 Q58.4375,18.4219 58.7813,19.0469 Q59.4063,19.7188 59.5469,20.875 Q59.6563,21.4531 61.125,21.2344 Q61.6563,21.1563 61.625,20.7344 Q61.4531,19.2969 60.7344,18.4844 Q59.875,17.5156 58.3125,17.5156 Z \"/><text fill=\"#000000\" font-family=\"sans-serif\" font-size=\"12\" lengthAdjust=\"spacingAndGlyphs\" textLength=\"52\" x=\"79.25\" y=\"29.6045\">Singleton</text><line style=\"stroke: #A80036; stroke-width: 1.5;\" x1=\"7\" x2=\"171\" y1=\"40\" y2=\"40\"/><rect fill=\"none\" height=\"6\" style=\"stroke: #C82930; stroke-width: 1.0;\" width=\"6\" x=\"14\" y=\"50.0544\"/><text fill=\"#000000\" font-family=\"sans-serif\" font-size=\"11\" lengthAdjust=\"spacingAndGlyphs\" textLength=\"117\" x=\"26\" y=\"56.6919\">static instance:Singleton</text><line style=\"stroke: #A80036; stroke-width: 1.5;\" x1=\"7\" x2=\"171\" y1=\"63.1089\" y2=\"63.1089\"/><rect fill=\"#F24D5C\" height=\"6\" style=\"stroke: #C82930; stroke-width: 1.0;\" width=\"6\" x=\"14\" y=\"73.1633\"/><text fill=\"#000000\" font-family=\"sans-serif\" font-size=\"11\" lengthAdjust=\"spacingAndGlyphs\" textLength=\"75\" x=\"26\" y=\"79.8008\">Singleton():void</text><ellipse cx=\"17\" cy=\"91.2722\" fill=\"#84BE84\" rx=\"3\" ry=\"3\" style=\"stroke: #038048; stroke-width: 1.0;\"/><text fill=\"#000000\" font-family=\"sans-serif\" font-size=\"11\" lengthAdjust=\"spacingAndGlyphs\" textLength=\"140\" x=\"26\" y=\"94.9097\">static getInstance():Singleton</text></g></svg>"
      ],
      "text/plain": [
       "<IPython.core.display.SVG object>"
      ]
     },
     "execution_count": 7,
     "metadata": {},
     "output_type": "execute_result"
    }
   ],
   "source": [
    "%%plantuml\n",
    "@startuml\n",
    "\n",
    "class Singleton{\n",
    "    -static instance:Singleton\n",
    "    -Singleton():void\n",
    "    +static getInstance():Singleton\n",
    "}\n",
    "@enduml\n"
   ]
  },
  {
   "cell_type": "code",
   "execution_count": 9,
   "metadata": {
    "collapsed": false
   },
   "outputs": [
    {
     "data": {
      "image/svg+xml": [
       "<svg height=\"218px\" style=\"width:288px;height:218px;\" version=\"1.1\" viewBox=\"0 0 288 218\" width=\"288px\" xmlns=\"http://www.w3.org/2000/svg\" xmlns:xlink=\"http://www.w3.org/1999/xlink\"><defs><filter height=\"300%\" id=\"f1\" width=\"300%\" x=\"-1\" y=\"-1\"><feGaussianBlur result=\"blurOut\" stdDeviation=\"2.0\"/><feColorMatrix in=\"blurOut\" result=\"blurOut2\" type=\"matrix\" values=\"0 0 0 0 0 0 0 0 0 0 0 0 0 0 0 0 0 0 .4 0\"/><feOffset dx=\"4.0\" dy=\"4.0\" in=\"blurOut2\" result=\"blurOut3\"/><feBlend in=\"SourceGraphic\" in2=\"blurOut3\" mode=\"normal\"/></filter></defs><g><rect fill=\"#FEFECE\" filter=\"url(#f1)\" height=\"93.3267\" style=\"stroke: #A80036; stroke-width: 1.5;\" width=\"166\" x=\"60.5\" y=\"8\"/><ellipse cx=\"113.25\" cy=\"24\" fill=\"#ADD1B2\" rx=\"11\" ry=\"11\" style=\"stroke: #A80036; stroke-width: 1.0;\"/><path d=\"M112.8125,17.5156 Q110.0781,17.5156 109,19.1406 Q107.8594,20.8594 107.8594,23.7813 Q107.8594,27.0781 109.0156,28.7813 Q110,30.2813 112.6094,30.2813 Q114.1875,30.2813 115.0625,29.4531 Q116.0469,28.5 116.1875,26.375 Q116.1875,26.0781 116.0156,25.9063 Q115.8906,25.75 115.6719,25.7344 Q114.4531,25.7344 114.2969,25.8594 Q114.125,26.0156 114.125,26.2813 Q114.0938,27.7656 113.4375,28.5781 Q112.8281,29.375 112.75,29.375 Q111.4219,29.375 110.6406,27.7813 Q109.8906,26.2344 109.8906,23.75 Q109.8906,21.125 110.8281,19.6719 Q111.6563,18.4219 112.9375,18.4219 Q112.9375,18.4219 113.2813,19.0469 Q113.9063,19.7188 114.0469,20.875 Q114.1563,21.4531 115.625,21.2344 Q116.1563,21.1563 116.125,20.7344 Q115.9531,19.2969 115.2344,18.4844 Q114.375,17.5156 112.8125,17.5156 Z \"/><text fill=\"#000000\" font-family=\"sans-serif\" font-size=\"12\" lengthAdjust=\"spacingAndGlyphs\" textLength=\"52\" x=\"133.75\" y=\"29.6045\">Singleton</text><line style=\"stroke: #A80036; stroke-width: 1.5;\" x1=\"61.5\" x2=\"225.5\" y1=\"40\" y2=\"40\"/><polygon fill=\"none\" points=\"71.5,48.0544,75.5,52.0544,71.5,56.0544,67.5,52.0544\" style=\"stroke: #B38D22; stroke-width: 1.0;\"/><text fill=\"#000000\" font-family=\"sans-serif\" font-size=\"11\" lengthAdjust=\"spacingAndGlyphs\" textLength=\"117\" x=\"80.5\" y=\"56.6919\">static instance:Singleton</text><line style=\"stroke: #A80036; stroke-width: 1.5;\" x1=\"61.5\" x2=\"225.5\" y1=\"63.1089\" y2=\"63.1089\"/><polygon fill=\"#FFFF44\" points=\"71.5,71.1633,75.5,75.1633,71.5,79.1633,67.5,75.1633\" style=\"stroke: #B38D22; stroke-width: 1.0;\"/><text fill=\"#000000\" font-family=\"sans-serif\" font-size=\"11\" lengthAdjust=\"spacingAndGlyphs\" textLength=\"75\" x=\"80.5\" y=\"79.8008\">Singleton():void</text><ellipse cx=\"71.5\" cy=\"91.2722\" fill=\"#84BE84\" rx=\"3\" ry=\"3\" style=\"stroke: #038048; stroke-width: 1.0;\"/><text fill=\"#000000\" font-family=\"sans-serif\" font-size=\"11\" lengthAdjust=\"spacingAndGlyphs\" textLength=\"140\" x=\"80.5\" y=\"94.9097\">static getInstance():Singleton</text><rect fill=\"#FEFECE\" filter=\"url(#f1)\" height=\"48\" style=\"stroke: #A80036; stroke-width: 1.5;\" width=\"121\" x=\"6\" y=\"161\"/><ellipse cx=\"21\" cy=\"177\" fill=\"#ADD1B2\" rx=\"11\" ry=\"11\" style=\"stroke: #A80036; stroke-width: 1.0;\"/><path d=\"M20.5625,170.5156 Q17.8281,170.5156 16.75,172.1406 Q15.6094,173.8594 15.6094,176.7813 Q15.6094,180.0781 16.7656,181.7813 Q17.75,183.2813 20.3594,183.2813 Q21.9375,183.2813 22.8125,182.4531 Q23.7969,181.5 23.9375,179.375 Q23.9375,179.0781 23.7656,178.9063 Q23.6406,178.75 23.4219,178.7344 Q22.2031,178.7344 22.0469,178.8594 Q21.875,179.0156 21.875,179.2813 Q21.8438,180.7656 21.1875,181.5781 Q20.5781,182.375 20.5,182.375 Q19.1719,182.375 18.3906,180.7813 Q17.6406,179.2344 17.6406,176.75 Q17.6406,174.125 18.5781,172.6719 Q19.4063,171.4219 20.6875,171.4219 Q20.6875,171.4219 21.0313,172.0469 Q21.6563,172.7188 21.7969,173.875 Q21.9063,174.4531 23.375,174.2344 Q23.9063,174.1563 23.875,173.7344 Q23.7031,172.2969 22.9844,171.4844 Q22.125,170.5156 20.5625,170.5156 Z \"/><text fill=\"#000000\" font-family=\"sans-serif\" font-size=\"12\" lengthAdjust=\"spacingAndGlyphs\" textLength=\"89\" x=\"35\" y=\"182.6045\">CoolerSingleton</text><line style=\"stroke: #A80036; stroke-width: 1.5;\" x1=\"7\" x2=\"126\" y1=\"193\" y2=\"193\"/><line style=\"stroke: #A80036; stroke-width: 1.5;\" x1=\"7\" x2=\"126\" y1=\"201\" y2=\"201\"/><rect fill=\"#FEFECE\" filter=\"url(#f1)\" height=\"48\" style=\"stroke: #A80036; stroke-width: 1.5;\" width=\"117\" x=\"162\" y=\"161\"/><ellipse cx=\"177\" cy=\"177\" fill=\"#ADD1B2\" rx=\"11\" ry=\"11\" style=\"stroke: #A80036; stroke-width: 1.0;\"/><path d=\"M176.5625,170.5156 Q173.8281,170.5156 172.75,172.1406 Q171.6094,173.8594 171.6094,176.7813 Q171.6094,180.0781 172.7656,181.7813 Q173.75,183.2813 176.3594,183.2813 Q177.9375,183.2813 178.8125,182.4531 Q179.7969,181.5 179.9375,179.375 Q179.9375,179.0781 179.7656,178.9063 Q179.6406,178.75 179.4219,178.7344 Q178.2031,178.7344 178.0469,178.8594 Q177.875,179.0156 177.875,179.2813 Q177.8438,180.7656 177.1875,181.5781 Q176.5781,182.375 176.5,182.375 Q175.1719,182.375 174.3906,180.7813 Q173.6406,179.2344 173.6406,176.75 Q173.6406,174.125 174.5781,172.6719 Q175.4063,171.4219 176.6875,171.4219 Q176.6875,171.4219 177.0313,172.0469 Q177.6563,172.7188 177.7969,173.875 Q177.9063,174.4531 179.375,174.2344 Q179.9063,174.1563 179.875,173.7344 Q179.7031,172.2969 178.9844,171.4844 Q178.125,170.5156 176.5625,170.5156 Z \"/><text fill=\"#000000\" font-family=\"sans-serif\" font-size=\"12\" lengthAdjust=\"spacingAndGlyphs\" textLength=\"85\" x=\"191\" y=\"182.6045\">HotterSingleton</text><line style=\"stroke: #A80036; stroke-width: 1.5;\" x1=\"163\" x2=\"278\" y1=\"193\" y2=\"193\"/><line style=\"stroke: #A80036; stroke-width: 1.5;\" x1=\"163\" x2=\"278\" y1=\"201\" y2=\"201\"/><path d=\"M105.662,118.6453 C96.6188,133.7368 87.5269,148.9096 80.3828,160.8319 \" fill=\"none\" style=\"stroke: #A80036; stroke-width: 1.0;\"/><polygon fill=\"none\" points=\"99.8512,114.7238,116.136,101.166,111.86,121.9199,99.8512,114.7238\" style=\"stroke: #A80036; stroke-width: 1.0;\"/><path d=\"M181.338,118.6453 C190.381,133.7368 199.473,148.9096 206.617,160.8319 \" fill=\"none\" style=\"stroke: #A80036; stroke-width: 1.0;\"/><polygon fill=\"none\" points=\"175.14,121.9199,170.864,101.166,187.149,114.7238,175.14,121.9199\" style=\"stroke: #A80036; stroke-width: 1.0;\"/></g></svg>"
      ],
      "text/plain": [
       "<IPython.core.display.SVG object>"
      ]
     },
     "execution_count": 9,
     "metadata": {},
     "output_type": "execute_result"
    }
   ],
   "source": [
    "%%plantuml\n",
    "@startuml\n",
    "\n",
    "class Singleton{\n",
    "    #static instance:Singleton\n",
    "    #Singleton():void\n",
    "    +static getInstance():Singleton\n",
    "}\n",
    "class CoolerSingleton\n",
    "class HotterSingleton\n",
    "\n",
    "Singleton <|-- CoolerSingleton\n",
    "Singleton <|-- HotterSingleton\n",
    "@enduml"
   ]
  }
 ],
 "metadata": {
  "kernelspec": {
   "display_name": "Python 2",
   "language": "python",
   "name": "python2"
  },
  "language_info": {
   "codemirror_mode": {
    "name": "ipython",
    "version": 2
   },
   "file_extension": ".py",
   "mimetype": "text/x-python",
   "name": "python",
   "nbconvert_exporter": "python",
   "pygments_lexer": "ipython2",
   "version": "2.7.10"
  }
 },
 "nbformat": 4,
 "nbformat_minor": 0
}
